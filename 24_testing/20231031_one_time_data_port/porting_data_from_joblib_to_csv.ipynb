{
 "cells": [
  {
   "cell_type": "markdown",
   "id": "e85f559d-f2a9-4811-8fbc-ca9a50b8d678",
   "metadata": {},
   "source": [
    "Goal: Convert data from pickle to csv files\n",
    "Andrew Yew, 2023-10-31"
   ]
  },
  {
   "cell_type": "code",
   "execution_count": 1,
   "id": "485aaac0-d318-4637-9e9f-1525730014f9",
   "metadata": {},
   "outputs": [],
   "source": [
    "import numpy as np\n",
    "import pandas as pd\n",
    "import joblib"
   ]
  },
  {
   "cell_type": "code",
   "execution_count": 2,
   "id": "5c6d9e32-90c7-4674-80a5-945cf7fe0464",
   "metadata": {},
   "outputs": [],
   "source": [
    "data_file = \"../11_raw_data/final_processed_df.pkl\""
   ]
  },
  {
   "cell_type": "code",
   "execution_count": 3,
   "id": "5a1506fc-0d1e-4490-8a0c-db34457df349",
   "metadata": {
    "scrolled": true
   },
   "outputs": [
    {
     "ename": "ModuleNotFoundError",
     "evalue": "No module named 'pandas.core.indexes.numeric'",
     "output_type": "error",
     "traceback": [
      "\u001b[0;31m---------------------------------------------------------------------------\u001b[0m",
      "\u001b[0;31mModuleNotFoundError\u001b[0m                       Traceback (most recent call last)",
      "Cell \u001b[0;32mIn[3], line 2\u001b[0m\n\u001b[1;32m      1\u001b[0m \u001b[38;5;66;03m# try 1 use joblib\u001b[39;00m\n\u001b[0;32m----> 2\u001b[0m df \u001b[38;5;241m=\u001b[39m \u001b[43mjoblib\u001b[49m\u001b[38;5;241;43m.\u001b[39;49m\u001b[43mload\u001b[49m\u001b[43m(\u001b[49m\u001b[43mdata_file\u001b[49m\u001b[43m)\u001b[49m\n",
      "File \u001b[0;32m/opt/conda/lib/python3.11/site-packages/joblib/numpy_pickle.py:658\u001b[0m, in \u001b[0;36mload\u001b[0;34m(filename, mmap_mode)\u001b[0m\n\u001b[1;32m    652\u001b[0m             \u001b[38;5;28;01mif\u001b[39;00m \u001b[38;5;28misinstance\u001b[39m(fobj, \u001b[38;5;28mstr\u001b[39m):\n\u001b[1;32m    653\u001b[0m                 \u001b[38;5;66;03m# if the returned file object is a string, this means we\u001b[39;00m\n\u001b[1;32m    654\u001b[0m                 \u001b[38;5;66;03m# try to load a pickle file generated with an version of\u001b[39;00m\n\u001b[1;32m    655\u001b[0m                 \u001b[38;5;66;03m# Joblib so we load it with joblib compatibility function.\u001b[39;00m\n\u001b[1;32m    656\u001b[0m                 \u001b[38;5;28;01mreturn\u001b[39;00m load_compatibility(fobj)\n\u001b[0;32m--> 658\u001b[0m             obj \u001b[38;5;241m=\u001b[39m \u001b[43m_unpickle\u001b[49m\u001b[43m(\u001b[49m\u001b[43mfobj\u001b[49m\u001b[43m,\u001b[49m\u001b[43m \u001b[49m\u001b[43mfilename\u001b[49m\u001b[43m,\u001b[49m\u001b[43m \u001b[49m\u001b[43mmmap_mode\u001b[49m\u001b[43m)\u001b[49m\n\u001b[1;32m    659\u001b[0m \u001b[38;5;28;01mreturn\u001b[39;00m obj\n",
      "File \u001b[0;32m/opt/conda/lib/python3.11/site-packages/joblib/numpy_pickle.py:577\u001b[0m, in \u001b[0;36m_unpickle\u001b[0;34m(fobj, filename, mmap_mode)\u001b[0m\n\u001b[1;32m    575\u001b[0m obj \u001b[38;5;241m=\u001b[39m \u001b[38;5;28;01mNone\u001b[39;00m\n\u001b[1;32m    576\u001b[0m \u001b[38;5;28;01mtry\u001b[39;00m:\n\u001b[0;32m--> 577\u001b[0m     obj \u001b[38;5;241m=\u001b[39m \u001b[43munpickler\u001b[49m\u001b[38;5;241;43m.\u001b[39;49m\u001b[43mload\u001b[49m\u001b[43m(\u001b[49m\u001b[43m)\u001b[49m\n\u001b[1;32m    578\u001b[0m     \u001b[38;5;28;01mif\u001b[39;00m unpickler\u001b[38;5;241m.\u001b[39mcompat_mode:\n\u001b[1;32m    579\u001b[0m         warnings\u001b[38;5;241m.\u001b[39mwarn(\u001b[38;5;124m\"\u001b[39m\u001b[38;5;124mThe file \u001b[39m\u001b[38;5;124m'\u001b[39m\u001b[38;5;132;01m%s\u001b[39;00m\u001b[38;5;124m'\u001b[39m\u001b[38;5;124m has been generated with a \u001b[39m\u001b[38;5;124m\"\u001b[39m\n\u001b[1;32m    580\u001b[0m                       \u001b[38;5;124m\"\u001b[39m\u001b[38;5;124mjoblib version less than 0.10. \u001b[39m\u001b[38;5;124m\"\u001b[39m\n\u001b[1;32m    581\u001b[0m                       \u001b[38;5;124m\"\u001b[39m\u001b[38;5;124mPlease regenerate this pickle file.\u001b[39m\u001b[38;5;124m\"\u001b[39m\n\u001b[1;32m    582\u001b[0m                       \u001b[38;5;241m%\u001b[39m filename,\n\u001b[1;32m    583\u001b[0m                       \u001b[38;5;167;01mDeprecationWarning\u001b[39;00m, stacklevel\u001b[38;5;241m=\u001b[39m\u001b[38;5;241m3\u001b[39m)\n",
      "File \u001b[0;32m/opt/conda/lib/python3.11/pickle.py:1213\u001b[0m, in \u001b[0;36m_Unpickler.load\u001b[0;34m(self)\u001b[0m\n\u001b[1;32m   1211\u001b[0m             \u001b[38;5;28;01mraise\u001b[39;00m \u001b[38;5;167;01mEOFError\u001b[39;00m\n\u001b[1;32m   1212\u001b[0m         \u001b[38;5;28;01massert\u001b[39;00m \u001b[38;5;28misinstance\u001b[39m(key, bytes_types)\n\u001b[0;32m-> 1213\u001b[0m         \u001b[43mdispatch\u001b[49m\u001b[43m[\u001b[49m\u001b[43mkey\u001b[49m\u001b[43m[\u001b[49m\u001b[38;5;241;43m0\u001b[39;49m\u001b[43m]\u001b[49m\u001b[43m]\u001b[49m\u001b[43m(\u001b[49m\u001b[38;5;28;43mself\u001b[39;49m\u001b[43m)\u001b[49m\n\u001b[1;32m   1214\u001b[0m \u001b[38;5;28;01mexcept\u001b[39;00m _Stop \u001b[38;5;28;01mas\u001b[39;00m stopinst:\n\u001b[1;32m   1215\u001b[0m     \u001b[38;5;28;01mreturn\u001b[39;00m stopinst\u001b[38;5;241m.\u001b[39mvalue\n",
      "File \u001b[0;32m/opt/conda/lib/python3.11/pickle.py:1529\u001b[0m, in \u001b[0;36m_Unpickler.load_global\u001b[0;34m(self)\u001b[0m\n\u001b[1;32m   1527\u001b[0m module \u001b[38;5;241m=\u001b[39m \u001b[38;5;28mself\u001b[39m\u001b[38;5;241m.\u001b[39mreadline()[:\u001b[38;5;241m-\u001b[39m\u001b[38;5;241m1\u001b[39m]\u001b[38;5;241m.\u001b[39mdecode(\u001b[38;5;124m\"\u001b[39m\u001b[38;5;124mutf-8\u001b[39m\u001b[38;5;124m\"\u001b[39m)\n\u001b[1;32m   1528\u001b[0m name \u001b[38;5;241m=\u001b[39m \u001b[38;5;28mself\u001b[39m\u001b[38;5;241m.\u001b[39mreadline()[:\u001b[38;5;241m-\u001b[39m\u001b[38;5;241m1\u001b[39m]\u001b[38;5;241m.\u001b[39mdecode(\u001b[38;5;124m\"\u001b[39m\u001b[38;5;124mutf-8\u001b[39m\u001b[38;5;124m\"\u001b[39m)\n\u001b[0;32m-> 1529\u001b[0m klass \u001b[38;5;241m=\u001b[39m \u001b[38;5;28;43mself\u001b[39;49m\u001b[38;5;241;43m.\u001b[39;49m\u001b[43mfind_class\u001b[49m\u001b[43m(\u001b[49m\u001b[43mmodule\u001b[49m\u001b[43m,\u001b[49m\u001b[43m \u001b[49m\u001b[43mname\u001b[49m\u001b[43m)\u001b[49m\n\u001b[1;32m   1530\u001b[0m \u001b[38;5;28mself\u001b[39m\u001b[38;5;241m.\u001b[39mappend(klass)\n",
      "File \u001b[0;32m/opt/conda/lib/python3.11/pickle.py:1580\u001b[0m, in \u001b[0;36m_Unpickler.find_class\u001b[0;34m(self, module, name)\u001b[0m\n\u001b[1;32m   1578\u001b[0m     \u001b[38;5;28;01melif\u001b[39;00m module \u001b[38;5;129;01min\u001b[39;00m _compat_pickle\u001b[38;5;241m.\u001b[39mIMPORT_MAPPING:\n\u001b[1;32m   1579\u001b[0m         module \u001b[38;5;241m=\u001b[39m _compat_pickle\u001b[38;5;241m.\u001b[39mIMPORT_MAPPING[module]\n\u001b[0;32m-> 1580\u001b[0m \u001b[38;5;28m__import__\u001b[39m(module, level\u001b[38;5;241m=\u001b[39m\u001b[38;5;241m0\u001b[39m)\n\u001b[1;32m   1581\u001b[0m \u001b[38;5;28;01mif\u001b[39;00m \u001b[38;5;28mself\u001b[39m\u001b[38;5;241m.\u001b[39mproto \u001b[38;5;241m>\u001b[39m\u001b[38;5;241m=\u001b[39m \u001b[38;5;241m4\u001b[39m:\n\u001b[1;32m   1582\u001b[0m     \u001b[38;5;28;01mreturn\u001b[39;00m _getattribute(sys\u001b[38;5;241m.\u001b[39mmodules[module], name)[\u001b[38;5;241m0\u001b[39m]\n",
      "\u001b[0;31mModuleNotFoundError\u001b[0m: No module named 'pandas.core.indexes.numeric'"
     ]
    }
   ],
   "source": [
    "# try 1 use joblib\n",
    "df = joblib.load(data_file)"
   ]
  },
  {
   "cell_type": "markdown",
   "id": "88fb6cd8-da0e-403b-8750-fff9f21fcacf",
   "metadata": {},
   "source": [
    "Module not found error, most likely due to different versions of pandas being used. [StackOverflow reference](https://stackoverflow.com/questions/75953279/modulenotfounderror-no-module-named-pandas-core-indexes-numeric-using-metaflo)"
   ]
  },
  {
   "cell_type": "code",
   "execution_count": 5,
   "id": "ba2bdd13-9ca4-47ce-b507-d7a4c6e08ab4",
   "metadata": {},
   "outputs": [
    {
     "name": "stdout",
     "output_type": "stream",
     "text": [
      "2.0.2\n"
     ]
    }
   ],
   "source": [
    "print(pd.__version__)"
   ]
  },
  {
   "cell_type": "markdown",
   "id": "552fb14c-b0f3-4305-a1c3-5a00e1dc20bc",
   "metadata": {},
   "source": [
    "Rather than create a new environment with a version of pandas that is less than 2, try using the `read_pickle` method."
   ]
  },
  {
   "cell_type": "code",
   "execution_count": 6,
   "id": "3a1958b8-287d-4f10-9a92-cbf520100c0e",
   "metadata": {},
   "outputs": [],
   "source": [
    "# try 2 using read_pickle\n",
    "df = pd.read_pickle(data_file)"
   ]
  },
  {
   "cell_type": "code",
   "execution_count": 7,
   "id": "ecf40072-ac3b-4c3f-adee-4ee21619647f",
   "metadata": {},
   "outputs": [
    {
     "name": "stdout",
     "output_type": "stream",
     "text": [
      "<class 'numpy.ndarray'>\n"
     ]
    }
   ],
   "source": [
    "print(type(df))"
   ]
  },
  {
   "cell_type": "code",
   "execution_count": 9,
   "id": "d266351a-f5fb-4c4d-9160-4913abacfc04",
   "metadata": {},
   "outputs": [
    {
     "data": {
      "text/plain": [
       "array(['Corned Beef Roast', 'Stout-Braised Lamb Shanks',\n",
       "       'Mississippi Chicken', 'Lasagna Flatbread',\n",
       "       'Prosciutto-Wrapped Pork Tenderloin with Crispy Sage'],\n",
       "      dtype=object)"
      ]
     },
     "execution_count": 9,
     "metadata": {},
     "output_type": "execute_result"
    }
   ],
   "source": [
    "df[0][0:5]"
   ]
  },
  {
   "cell_type": "markdown",
   "id": "1f676620-7fdc-4772-9298-e2d043c76b1a",
   "metadata": {},
   "source": [
    "The `read_pickle` method was able to read the pickled data file. However, the returned object was not the original DataFrame but a numpy array. Next, try to recreate DataFrame from numpy array, referencing column names from notebook 030."
   ]
  },
  {
   "cell_type": "code",
   "execution_count": 11,
   "id": "a7a72288-13fc-4bdc-83a4-a19b3847681d",
   "metadata": {},
   "outputs": [],
   "source": [
    "# Feed the transpose of the data into the DataFrame method\n",
    "df = pd.DataFrame(df.T)"
   ]
  },
  {
   "cell_type": "code",
   "execution_count": 13,
   "id": "a55a8b97-1773-4739-9cda-9e7600b5b1df",
   "metadata": {},
   "outputs": [
    {
     "name": "stdout",
     "output_type": "stream",
     "text": [
      "(33691, 9)\n",
      "\n",
      "\n"
     ]
    },
    {
     "data": {
      "text/html": [
       "<div>\n",
       "<style scoped>\n",
       "    .dataframe tbody tr th:only-of-type {\n",
       "        vertical-align: middle;\n",
       "    }\n",
       "\n",
       "    .dataframe tbody tr th {\n",
       "        vertical-align: top;\n",
       "    }\n",
       "\n",
       "    .dataframe thead th {\n",
       "        text-align: right;\n",
       "    }\n",
       "</style>\n",
       "<table border=\"1\" class=\"dataframe\">\n",
       "  <thead>\n",
       "    <tr style=\"text-align: right;\">\n",
       "      <th></th>\n",
       "      <th>0</th>\n",
       "      <th>1</th>\n",
       "      <th>2</th>\n",
       "      <th>3</th>\n",
       "      <th>4</th>\n",
       "      <th>5</th>\n",
       "      <th>6</th>\n",
       "      <th>7</th>\n",
       "      <th>8</th>\n",
       "    </tr>\n",
       "  </thead>\n",
       "  <tbody>\n",
       "    <tr>\n",
       "      <th>0</th>\n",
       "      <td>Corned Beef Roast</td>\n",
       "      <td>This corned beef roast is easy to prepare and ...</td>\n",
       "      <td>['Preheat the oven to 300 degrees F (150 degre...</td>\n",
       "      <td>Corned beef roast cooked in the oven for five ...</td>\n",
       "      <td>Preheat the oven to 300 degrees F (150 degrees...</td>\n",
       "      <td>1 (5 1/2 pound) corned beef brisket with spice...</td>\n",
       "      <td>8</td>\n",
       "      <td>corned-beef main-dish beef</td>\n",
       "      <td>Big corned beef fan, Great alternative to boil...</td>\n",
       "    </tr>\n",
       "    <tr>\n",
       "      <th>1</th>\n",
       "      <td>Stout-Braised Lamb Shanks</td>\n",
       "      <td>This hearty Irish lamb shank stew is perfect i...</td>\n",
       "      <td>['Heat oil in a Dutch oven or large, wide pot ...</td>\n",
       "      <td>This hearty Irish lamb shank stew is perfect i...</td>\n",
       "      <td>Heat oil in a Dutch oven or large, wide pot ov...</td>\n",
       "      <td>1 tablespoon vegetable oil 4 lamb shanks 1 oni...</td>\n",
       "      <td>4</td>\n",
       "      <td>european uk-and-ireland world-cuisine irish</td>\n",
       "      <td>Awesome. Though I thought it could use a bit (...</td>\n",
       "    </tr>\n",
       "    <tr>\n",
       "      <th>2</th>\n",
       "      <td>Mississippi Chicken</td>\n",
       "      <td>This is such a fun and simple recipe with only...</td>\n",
       "      <td>['Gather ingredients, and preheat the oven to ...</td>\n",
       "      <td>Mississippi chicken recipe uses only 4 ingredi...</td>\n",
       "      <td>Gather ingredients, and preheat the oven to 35...</td>\n",
       "      <td>2 pounds skinless, boneless chicken breasts 1 ...</td>\n",
       "      <td>4</td>\n",
       "      <td>meat-and-poultry chicken</td>\n",
       "      <td>Very different. Since my hubby loves peperonci...</td>\n",
       "    </tr>\n",
       "    <tr>\n",
       "      <th>3</th>\n",
       "      <td>Lasagna Flatbread</td>\n",
       "      <td>A simple lasagna pizza.</td>\n",
       "      <td>['Preheat oven to 375 degrees F (190 degrees C...</td>\n",
       "      <td>Give lasagna a quick and easy pizza makeover b...</td>\n",
       "      <td>Preheat oven to 375 degrees F (190 degrees C)....</td>\n",
       "      <td>1 (15 ounce) container ricotta cheese 1 (8 oun...</td>\n",
       "      <td>6</td>\n",
       "      <td>bread quick-bread</td>\n",
       "      <td>Delicious as pan Lasagna but so much easier on...</td>\n",
       "    </tr>\n",
       "    <tr>\n",
       "      <th>4</th>\n",
       "      <td>Prosciutto-Wrapped Pork Tenderloin with Crispy...</td>\n",
       "      <td>Turn your weeknight dinner into a fancy affair...</td>\n",
       "      <td>['Preheat oven to 350 degrees F (175 degrees C...</td>\n",
       "      <td>Prosciutto-wrapped pork tenderloin with crispy...</td>\n",
       "      <td>Preheat oven to 350 degrees F (175 degrees C)....</td>\n",
       "      <td>1 pound pork tenderloin salt and ground black ...</td>\n",
       "      <td>4</td>\n",
       "      <td>tenderloin meat-and-poultry pork</td>\n",
       "      <td>Not sure where the 20 mins came in, it’s been ...</td>\n",
       "    </tr>\n",
       "  </tbody>\n",
       "</table>\n",
       "</div>"
      ],
      "text/plain": [
       "                                                   0  \\\n",
       "0                                  Corned Beef Roast   \n",
       "1                          Stout-Braised Lamb Shanks   \n",
       "2                                Mississippi Chicken   \n",
       "3                                  Lasagna Flatbread   \n",
       "4  Prosciutto-Wrapped Pork Tenderloin with Crispy...   \n",
       "\n",
       "                                                   1  \\\n",
       "0  This corned beef roast is easy to prepare and ...   \n",
       "1  This hearty Irish lamb shank stew is perfect i...   \n",
       "2  This is such a fun and simple recipe with only...   \n",
       "3                            A simple lasagna pizza.   \n",
       "4  Turn your weeknight dinner into a fancy affair...   \n",
       "\n",
       "                                                   2  \\\n",
       "0  ['Preheat the oven to 300 degrees F (150 degre...   \n",
       "1  ['Heat oil in a Dutch oven or large, wide pot ...   \n",
       "2  ['Gather ingredients, and preheat the oven to ...   \n",
       "3  ['Preheat oven to 375 degrees F (190 degrees C...   \n",
       "4  ['Preheat oven to 350 degrees F (175 degrees C...   \n",
       "\n",
       "                                                   3  \\\n",
       "0  Corned beef roast cooked in the oven for five ...   \n",
       "1  This hearty Irish lamb shank stew is perfect i...   \n",
       "2  Mississippi chicken recipe uses only 4 ingredi...   \n",
       "3  Give lasagna a quick and easy pizza makeover b...   \n",
       "4  Prosciutto-wrapped pork tenderloin with crispy...   \n",
       "\n",
       "                                                   4  \\\n",
       "0  Preheat the oven to 300 degrees F (150 degrees...   \n",
       "1  Heat oil in a Dutch oven or large, wide pot ov...   \n",
       "2  Gather ingredients, and preheat the oven to 35...   \n",
       "3  Preheat oven to 375 degrees F (190 degrees C)....   \n",
       "4  Preheat oven to 350 degrees F (175 degrees C)....   \n",
       "\n",
       "                                                   5  6  \\\n",
       "0  1 (5 1/2 pound) corned beef brisket with spice...  8   \n",
       "1  1 tablespoon vegetable oil 4 lamb shanks 1 oni...  4   \n",
       "2  2 pounds skinless, boneless chicken breasts 1 ...  4   \n",
       "3  1 (15 ounce) container ricotta cheese 1 (8 oun...  6   \n",
       "4  1 pound pork tenderloin salt and ground black ...  4   \n",
       "\n",
       "                                              7  \\\n",
       "0                   corned-beef main-dish beef    \n",
       "1  european uk-and-ireland world-cuisine irish    \n",
       "2                     meat-and-poultry chicken    \n",
       "3                            bread quick-bread    \n",
       "4             tenderloin meat-and-poultry pork    \n",
       "\n",
       "                                                   8  \n",
       "0  Big corned beef fan, Great alternative to boil...  \n",
       "1  Awesome. Though I thought it could use a bit (...  \n",
       "2  Very different. Since my hubby loves peperonci...  \n",
       "3  Delicious as pan Lasagna but so much easier on...  \n",
       "4  Not sure where the 20 mins came in, it’s been ...  "
      ]
     },
     "metadata": {},
     "output_type": "display_data"
    }
   ],
   "source": [
    "# Examine the resulting dataframe\n",
    "print(df.shape)\n",
    "print(\"\")\n",
    "print(\"\")\n",
    "\n",
    "display(df.head())"
   ]
  },
  {
   "cell_type": "markdown",
   "id": "aaae332a-509d-4be9-a1f4-ca656521f61f",
   "metadata": {},
   "source": [
    "The resulting DataFrame does not have column names. Furthermore, the resulting DataFrame has only 9 columns versus the 31 columns as recorded in the original 030 notebook."
   ]
  },
  {
   "cell_type": "markdown",
   "id": "c60a2382-001b-47bc-bf17-5d05ad5f54e5",
   "metadata": {},
   "source": [
    "Conclusion: better to create an old enviroment with pandas version < 2."
   ]
  },
  {
   "cell_type": "markdown",
   "id": "3d79f127-fef0-455d-abe1-f035e6bbc5e9",
   "metadata": {},
   "source": [
    "# Downgraded pandas to below version 2.0"
   ]
  },
  {
   "cell_type": "code",
   "execution_count": 1,
   "id": "f202d8fc-5bef-4a70-af18-888135fc8d5d",
   "metadata": {},
   "outputs": [],
   "source": [
    "import pandas as pd\n",
    "import numpy as np\n",
    "import joblib"
   ]
  },
  {
   "cell_type": "code",
   "execution_count": 2,
   "id": "bd12c373-4a61-4843-96c4-89bf49edad9d",
   "metadata": {},
   "outputs": [],
   "source": [
    "data_file = \"../11_raw_data/final_processed_df.pkl\""
   ]
  },
  {
   "cell_type": "code",
   "execution_count": 3,
   "id": "b154dbce-d49f-43cc-b2d3-94219915ff78",
   "metadata": {},
   "outputs": [
    {
     "data": {
      "text/plain": [
       "'1.5.3'"
      ]
     },
     "execution_count": 3,
     "metadata": {},
     "output_type": "execute_result"
    }
   ],
   "source": [
    "pd.__version__"
   ]
  },
  {
   "cell_type": "code",
   "execution_count": 4,
   "id": "df6f4f2b-1174-4e73-8ee1-f8c5b39c938f",
   "metadata": {},
   "outputs": [],
   "source": [
    "# try loading the same file again\n",
    "df = joblib.load(data_file)"
   ]
  },
  {
   "cell_type": "code",
   "execution_count": 5,
   "id": "bb388c6b-f22a-4a39-b90d-52ab3a1341c2",
   "metadata": {},
   "outputs": [
    {
     "data": {
      "text/html": [
       "<div>\n",
       "<style scoped>\n",
       "    .dataframe tbody tr th:only-of-type {\n",
       "        vertical-align: middle;\n",
       "    }\n",
       "\n",
       "    .dataframe tbody tr th {\n",
       "        vertical-align: top;\n",
       "    }\n",
       "\n",
       "    .dataframe thead th {\n",
       "        text-align: right;\n",
       "    }\n",
       "</style>\n",
       "<table border=\"1\" class=\"dataframe\">\n",
       "  <thead>\n",
       "    <tr style=\"text-align: right;\">\n",
       "      <th></th>\n",
       "      <th>recipe_title</th>\n",
       "      <th>recipe_title_wc</th>\n",
       "      <th>average_rating</th>\n",
       "      <th>number_of_ratings</th>\n",
       "      <th>description</th>\n",
       "      <th>description_wc</th>\n",
       "      <th>additional_description</th>\n",
       "      <th>additional_description_wc</th>\n",
       "      <th>description_flavour_text</th>\n",
       "      <th>description_flavour_text_wc</th>\n",
       "      <th>...</th>\n",
       "      <th>sugarContent_g</th>\n",
       "      <th>number_of_servings</th>\n",
       "      <th>cook_time</th>\n",
       "      <th>prep_time</th>\n",
       "      <th>total_time</th>\n",
       "      <th>tags</th>\n",
       "      <th>published_quarter</th>\n",
       "      <th>review</th>\n",
       "      <th>recipe_worth_it</th>\n",
       "      <th>wc_per_instruction</th>\n",
       "    </tr>\n",
       "  </thead>\n",
       "  <tbody>\n",
       "    <tr>\n",
       "      <th>0</th>\n",
       "      <td>Corned Beef Roast</td>\n",
       "      <td>3</td>\n",
       "      <td>4.4</td>\n",
       "      <td>68.0</td>\n",
       "      <td>This corned beef roast is easy to prepare and ...</td>\n",
       "      <td>21</td>\n",
       "      <td>['Preheat the oven to 300 degrees F (150 degre...</td>\n",
       "      <td>81</td>\n",
       "      <td>Corned beef roast cooked in the oven for five ...</td>\n",
       "      <td>26</td>\n",
       "      <td>...</td>\n",
       "      <td>2.0</td>\n",
       "      <td>8</td>\n",
       "      <td>300.0</td>\n",
       "      <td>15.0</td>\n",
       "      <td>315.0</td>\n",
       "      <td>corned-beef main-dish beef</td>\n",
       "      <td>2.0</td>\n",
       "      <td>Big corned beef fan, Great alternative to boil...</td>\n",
       "      <td>0</td>\n",
       "      <td>27.000000</td>\n",
       "    </tr>\n",
       "    <tr>\n",
       "      <th>1</th>\n",
       "      <td>Stout-Braised Lamb Shanks</td>\n",
       "      <td>3</td>\n",
       "      <td>4.5</td>\n",
       "      <td>45.0</td>\n",
       "      <td>This hearty Irish lamb shank stew is perfect i...</td>\n",
       "      <td>21</td>\n",
       "      <td>['Heat oil in a Dutch oven or large, wide pot ...</td>\n",
       "      <td>191</td>\n",
       "      <td>This hearty Irish lamb shank stew is perfect i...</td>\n",
       "      <td>21</td>\n",
       "      <td>...</td>\n",
       "      <td>5.0</td>\n",
       "      <td>4</td>\n",
       "      <td>145.0</td>\n",
       "      <td>25.0</td>\n",
       "      <td>170.0</td>\n",
       "      <td>european uk-and-ireland world-cuisine irish</td>\n",
       "      <td>2.0</td>\n",
       "      <td>Awesome. Though I thought it could use a bit (...</td>\n",
       "      <td>1</td>\n",
       "      <td>40.250000</td>\n",
       "    </tr>\n",
       "    <tr>\n",
       "      <th>3</th>\n",
       "      <td>Mississippi Chicken</td>\n",
       "      <td>2</td>\n",
       "      <td>4.8</td>\n",
       "      <td>4.0</td>\n",
       "      <td>This is such a fun and simple recipe with only...</td>\n",
       "      <td>33</td>\n",
       "      <td>['Gather ingredients, and preheat the oven to ...</td>\n",
       "      <td>157</td>\n",
       "      <td>Mississippi chicken recipe uses only 4 ingredi...</td>\n",
       "      <td>19</td>\n",
       "      <td>...</td>\n",
       "      <td>NaN</td>\n",
       "      <td>4</td>\n",
       "      <td>95.0</td>\n",
       "      <td>5.0</td>\n",
       "      <td>100.0</td>\n",
       "      <td>meat-and-poultry chicken</td>\n",
       "      <td>4.0</td>\n",
       "      <td>Very different. Since my hubby loves peperonci...</td>\n",
       "      <td>1</td>\n",
       "      <td>19.500000</td>\n",
       "    </tr>\n",
       "    <tr>\n",
       "      <th>4</th>\n",
       "      <td>Lasagna Flatbread</td>\n",
       "      <td>2</td>\n",
       "      <td>4.5</td>\n",
       "      <td>42.0</td>\n",
       "      <td>A simple lasagna pizza.</td>\n",
       "      <td>4</td>\n",
       "      <td>['Preheat oven to 375 degrees F (190 degrees C...</td>\n",
       "      <td>99</td>\n",
       "      <td>Give lasagna a quick and easy pizza makeover b...</td>\n",
       "      <td>18</td>\n",
       "      <td>...</td>\n",
       "      <td>6.0</td>\n",
       "      <td>6</td>\n",
       "      <td>15.0</td>\n",
       "      <td>25.0</td>\n",
       "      <td>40.0</td>\n",
       "      <td>bread quick-bread</td>\n",
       "      <td>4.0</td>\n",
       "      <td>Delicious as pan Lasagna but so much easier on...</td>\n",
       "      <td>1</td>\n",
       "      <td>16.200000</td>\n",
       "    </tr>\n",
       "    <tr>\n",
       "      <th>5</th>\n",
       "      <td>Prosciutto-Wrapped Pork Tenderloin with Crispy...</td>\n",
       "      <td>6</td>\n",
       "      <td>4.8</td>\n",
       "      <td>12.0</td>\n",
       "      <td>Turn your weeknight dinner into a fancy affair...</td>\n",
       "      <td>14</td>\n",
       "      <td>['Preheat oven to 350 degrees F (175 degrees C...</td>\n",
       "      <td>158</td>\n",
       "      <td>Prosciutto-wrapped pork tenderloin with crispy...</td>\n",
       "      <td>26</td>\n",
       "      <td>...</td>\n",
       "      <td>NaN</td>\n",
       "      <td>4</td>\n",
       "      <td>35.0</td>\n",
       "      <td>10.0</td>\n",
       "      <td>50.0</td>\n",
       "      <td>tenderloin meat-and-poultry pork</td>\n",
       "      <td>2.0</td>\n",
       "      <td>Not sure where the 20 mins came in, it’s been ...</td>\n",
       "      <td>1</td>\n",
       "      <td>26.333333</td>\n",
       "    </tr>\n",
       "  </tbody>\n",
       "</table>\n",
       "<p>5 rows × 31 columns</p>\n",
       "</div>"
      ],
      "text/plain": [
       "                                        recipe_title  recipe_title_wc  \\\n",
       "0                                  Corned Beef Roast                3   \n",
       "1                          Stout-Braised Lamb Shanks                3   \n",
       "3                                Mississippi Chicken                2   \n",
       "4                                  Lasagna Flatbread                2   \n",
       "5  Prosciutto-Wrapped Pork Tenderloin with Crispy...                6   \n",
       "\n",
       "   average_rating  number_of_ratings  \\\n",
       "0             4.4               68.0   \n",
       "1             4.5               45.0   \n",
       "3             4.8                4.0   \n",
       "4             4.5               42.0   \n",
       "5             4.8               12.0   \n",
       "\n",
       "                                         description  description_wc  \\\n",
       "0  This corned beef roast is easy to prepare and ...              21   \n",
       "1  This hearty Irish lamb shank stew is perfect i...              21   \n",
       "3  This is such a fun and simple recipe with only...              33   \n",
       "4                            A simple lasagna pizza.               4   \n",
       "5  Turn your weeknight dinner into a fancy affair...              14   \n",
       "\n",
       "                              additional_description  \\\n",
       "0  ['Preheat the oven to 300 degrees F (150 degre...   \n",
       "1  ['Heat oil in a Dutch oven or large, wide pot ...   \n",
       "3  ['Gather ingredients, and preheat the oven to ...   \n",
       "4  ['Preheat oven to 375 degrees F (190 degrees C...   \n",
       "5  ['Preheat oven to 350 degrees F (175 degrees C...   \n",
       "\n",
       "   additional_description_wc  \\\n",
       "0                         81   \n",
       "1                        191   \n",
       "3                        157   \n",
       "4                         99   \n",
       "5                        158   \n",
       "\n",
       "                            description_flavour_text  \\\n",
       "0  Corned beef roast cooked in the oven for five ...   \n",
       "1  This hearty Irish lamb shank stew is perfect i...   \n",
       "3  Mississippi chicken recipe uses only 4 ingredi...   \n",
       "4  Give lasagna a quick and easy pizza makeover b...   \n",
       "5  Prosciutto-wrapped pork tenderloin with crispy...   \n",
       "\n",
       "   description_flavour_text_wc  ... sugarContent_g  number_of_servings  \\\n",
       "0                           26  ...            2.0                   8   \n",
       "1                           21  ...            5.0                   4   \n",
       "3                           19  ...            NaN                   4   \n",
       "4                           18  ...            6.0                   6   \n",
       "5                           26  ...            NaN                   4   \n",
       "\n",
       "  cook_time  prep_time  total_time  \\\n",
       "0     300.0       15.0       315.0   \n",
       "1     145.0       25.0       170.0   \n",
       "3      95.0        5.0       100.0   \n",
       "4      15.0       25.0        40.0   \n",
       "5      35.0       10.0        50.0   \n",
       "\n",
       "                                           tags  published_quarter  \\\n",
       "0                   corned-beef main-dish beef                 2.0   \n",
       "1  european uk-and-ireland world-cuisine irish                 2.0   \n",
       "3                     meat-and-poultry chicken                 4.0   \n",
       "4                            bread quick-bread                 4.0   \n",
       "5             tenderloin meat-and-poultry pork                 2.0   \n",
       "\n",
       "                                              review  recipe_worth_it  \\\n",
       "0  Big corned beef fan, Great alternative to boil...                0   \n",
       "1  Awesome. Though I thought it could use a bit (...                1   \n",
       "3  Very different. Since my hubby loves peperonci...                1   \n",
       "4  Delicious as pan Lasagna but so much easier on...                1   \n",
       "5  Not sure where the 20 mins came in, it’s been ...                1   \n",
       "\n",
       "   wc_per_instruction  \n",
       "0           27.000000  \n",
       "1           40.250000  \n",
       "3           19.500000  \n",
       "4           16.200000  \n",
       "5           26.333333  \n",
       "\n",
       "[5 rows x 31 columns]"
      ]
     },
     "execution_count": 5,
     "metadata": {},
     "output_type": "execute_result"
    }
   ],
   "source": [
    "df.head()"
   ]
  },
  {
   "cell_type": "markdown",
   "id": "1def5410-0fe4-4c7b-9d39-f9f6633ca53b",
   "metadata": {},
   "source": [
    "Success, all 31 columns were loaded correctly. Now, a short loop to convert all data files into CSV."
   ]
  },
  {
   "cell_type": "code",
   "execution_count": 6,
   "id": "11d6b8c9-8e46-49f7-b3be-3d7089abb122",
   "metadata": {},
   "outputs": [],
   "source": [
    "import os"
   ]
  },
  {
   "cell_type": "code",
   "execution_count": 9,
   "id": "ac2e672f-3f08-4cf1-b658-37309b8ac31f",
   "metadata": {},
   "outputs": [
    {
     "name": "stdout",
     "output_type": "stream",
     "text": [
      "['recipes_lacking_rating_df.pkl', 'recipe_url_df.pkl', 'processed_df.pkl', 'recipe_label_df.pkl', 'json_data_df.pkl', 'final_processed_df.pkl', 'raw_data_df.pkl']\n"
     ]
    }
   ],
   "source": [
    "file_list = os.listdir(\"../11_raw_data/\")\n",
    "print(file_list)"
   ]
  },
  {
   "cell_type": "code",
   "execution_count": 12,
   "id": "de887d0e-730c-4941-8d26-87d7858f664d",
   "metadata": {},
   "outputs": [],
   "source": [
    "for file in file_list:\n",
    "    df = joblib.load(\"../11_raw_data/\" + file)\n",
    "    df.to_csv(\"../11_raw_data/\" + file[:-4] + \".csv\", index = False)"
   ]
  },
  {
   "cell_type": "markdown",
   "id": "351e57a8-16b2-459e-a654-c4e04d048ad2",
   "metadata": {},
   "source": [
    "All pickle files were converted to CSV. The pickle files were deleted."
   ]
  }
 ],
 "metadata": {
  "kernelspec": {
   "display_name": "Python 3 (ipykernel)",
   "language": "python",
   "name": "python3"
  },
  "language_info": {
   "codemirror_mode": {
    "name": "ipython",
    "version": 3
   },
   "file_extension": ".py",
   "mimetype": "text/x-python",
   "name": "python",
   "nbconvert_exporter": "python",
   "pygments_lexer": "ipython3",
   "version": "3.11.4"
  }
 },
 "nbformat": 4,
 "nbformat_minor": 5
}
