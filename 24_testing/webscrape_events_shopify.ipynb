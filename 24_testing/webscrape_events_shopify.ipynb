{
 "cells": [
  {
   "cell_type": "markdown",
   "id": "8c47ed10-5d83-4962-b4c9-956cd036e543",
   "metadata": {},
   "source": [
    "# Import Packages"
   ]
  },
  {
   "cell_type": "code",
   "execution_count": 1,
   "id": "dcb86015-f7db-4051-8fa0-4118d9fd4eb7",
   "metadata": {},
   "outputs": [],
   "source": [
    "# Packages for part 1 (for sending requests)\n",
    "import pandas as pd # for general data processing\n",
    "import requests # for scraping data from websites\n",
    "from bs4 import BeautifulSoup # for converting scraped data into structured html\n",
    "\n",
    "# Packages for part 2 (for data storage, not needed here)\n",
    "# import shutil # High level operation on files (example copying and removing)\n",
    "# import time # For timing and measuring progress of download\n",
    "# import numpy as np # For rounding digits\n",
    "# import datetime #For measuring time\n",
    "# import pytz #For defining timezone\n",
    "# import os # to examine local directory\n",
    "# import zipfile # for unzipping files"
   ]
  },
  {
   "cell_type": "markdown",
   "id": "b2ca087f-1090-480b-b248-35fec9fb02f9",
   "metadata": {},
   "source": [
    "# Finding Events URL from Main Page URL"
   ]
  },
  {
   "cell_type": "code",
   "execution_count": 100,
   "id": "2e22954f-7317-49e8-865d-f19ffa0f2edf",
   "metadata": {},
   "outputs": [],
   "source": [
    "# define main page url\n",
    "url = \"https://typebooks.ca\""
   ]
  },
  {
   "cell_type": "code",
   "execution_count": 101,
   "id": "c1a93237-b534-4e64-a60c-cc31462b9c7d",
   "metadata": {},
   "outputs": [],
   "source": [
    "# Send a GET request to gather a response\n",
    "response = requests.get(\n",
    "    url = url,\n",
    "    auth = None,\n",
    "    params = None\n",
    ")"
   ]
  },
  {
   "cell_type": "code",
   "execution_count": 102,
   "id": "3dc73f3e-3f64-4109-bae2-fffcc7f33985",
   "metadata": {},
   "outputs": [
    {
     "name": "stdout",
     "output_type": "stream",
     "text": [
      "Response status code: 200, status: OK\n",
      "True\n"
     ]
    }
   ],
   "source": [
    "#Examine response, 2XX is OK, 4XX is error\n",
    "print(f\"Response status code: {response.status_code}, status: {response.reason}\")\n",
    "\n",
    "# Alternative\n",
    "print(response.ok)"
   ]
  },
  {
   "cell_type": "code",
   "execution_count": 104,
   "id": "096943b8-3ab0-4bf1-84d5-291696656910",
   "metadata": {},
   "outputs": [
    {
     "data": {
      "text/plain": [
       "requests.models.Response"
      ]
     },
     "execution_count": 104,
     "metadata": {},
     "output_type": "execute_result"
    }
   ],
   "source": [
    "type(response)"
   ]
  },
  {
   "cell_type": "code",
   "execution_count": 103,
   "id": "887407fa-9483-41f0-8057-d91571bc34c5",
   "metadata": {},
   "outputs": [
    {
     "data": {
      "text/plain": [
       "'<!doctype html>\\n<html class=\"supports-no-js\" lang=\"en\">\\n<head>\\n  <meta charset=\"utf-8\">\\n  <meta http-equiv=\"X-UA-Compatible\" content=\"IE=edge,chrome=1\">\\n  <meta name=\"viewport\" content=\"width=device-width,initial-scale=1\">\\n  <meta name=\"theme-color\" content=\"\">\\n  <link rel=\"canonical\" href=\"https://'"
      ]
     },
     "execution_count": 103,
     "metadata": {},
     "output_type": "execute_result"
    }
   ],
   "source": [
    "# Examine text\n",
    "response.text[0:300]"
   ]
  },
  {
   "cell_type": "code",
   "execution_count": 105,
   "id": "2680e662-a0a2-4d91-8882-4710c4c76f9f",
   "metadata": {},
   "outputs": [],
   "source": [
    "# Convert response text blob into structured HTML format\n",
    "# response.text is the unorganized text of the response\n",
    "# `html.parser` is method which BeautifulSoup uses to organize text\n",
    "soup = BeautifulSoup(response.text, 'html.parser')"
   ]
  },
  {
   "cell_type": "code",
   "execution_count": 106,
   "id": "f5637da7-403a-4133-bd81-399673823eca",
   "metadata": {},
   "outputs": [
    {
     "data": {
      "text/plain": [
       "bs4.BeautifulSoup"
      ]
     },
     "execution_count": 106,
     "metadata": {},
     "output_type": "execute_result"
    }
   ],
   "source": [
    "type(soup)"
   ]
  },
  {
   "cell_type": "code",
   "execution_count": 107,
   "id": "00063dc3-0184-45df-bbad-33219fd57a48",
   "metadata": {},
   "outputs": [],
   "source": [
    "# Find all `a` tags, which contain the `href` tag, which contains other URLs\n",
    "url_tags = soup.find_all('a')"
   ]
  },
  {
   "cell_type": "code",
   "execution_count": 110,
   "id": "3cd039bd-b3bf-4117-8187-e6a0309bcaf6",
   "metadata": {
    "scrolled": true
   },
   "outputs": [
    {
     "name": "stdout",
     "output_type": "stream",
     "text": [
      "Number of URL tags:185\n",
      "\n",
      "\n",
      "[<a class=\"in-page-link visually-hidden skip-link\" href=\"#MainContent\">Skip to content</a>, <a class=\"medium-up--hide\" href=\"/search\">\n",
      "<svg aria-hidden=\"true\" class=\"icon icon-search\" focusable=\"false\" role=\"presentation\" viewbox=\"0 0 20 20\"><path d=\"M18.64 17.02l-5.31-5.31c.81-1.08 1.26-2.43 1.26-3.87C14.5 4.06 11.44 1 7.75 1S1 4.06 1 7.75s3.06 6.75 6.75 6.75c1.44 0 2.79-.45 3.87-1.26l5.31 5.31c.45.45 1.26.54 1.71.09.45-.36.45-1.17 0-1.62zM3.25 7.75c0-2.52 1.98-4.5 4.5-4.5s4.5 1.98 4.5 4.5-1.98 4.5-4.5 4.5-4.5-1.98-4.5-4.5z\" fill=\"#444\"></path></svg>\n",
      "</a>, <a href=\"/account/login\" id=\"customer_login_link\">Log in</a>, <a href=\"/account/register\" id=\"customer_register_link\">Sign up</a>, <a class=\"site-header__cart\" href=\"/cart\">\n",
      "<svg aria-hidden=\"true\" class=\"icon icon-cart\" focusable=\"false\" role=\"presentation\" viewbox=\"0 0 20 20\"><path d=\"M18.936 5.564c-.144-.175-.35-.207-.55-.207h-.003L6.774 4.286c-.272 0-.417.089-.491.18-.079.096-.16.263-.094.585l2.016 5.705c.163.407.642.673 1.068.673h8.401c.433 0 .854-.285.941-.725l.484-4.571c.045-.221-.015-.388-.163-.567z\" fill=\"#444\"></path><path d=\"M17.107 12.5H7.659L4.98 4.117l-.362-1.059c-.138-.401-.292-.559-.695-.559H.924c-.411 0-.748.303-.748.714s.337.714.748.714h2.413l3.002 9.48c.126.38.295.52.942.52h9.825c.411 0 .748-.303.748-.714s-.336-.714-.748-.714zM10.424 16.23a1.498 1.498 0 1 1-2.997 0 1.498 1.498 0 0 1 2.997 0zM16.853 16.23a1.498 1.498 0 1 1-2.997 0 1.498 1.498 0 0 1 2.997 0z\" fill=\"#444\"></path></svg>\n",
      "<span class=\"small--hide\">\n",
      "          Cart\n",
      "          (<span id=\"CartCount\">0</span>)\n",
      "        </span>\n",
      "</a>]\n"
     ]
    }
   ],
   "source": [
    "# Examine tags\n",
    "print(f\"Number of URL tags:{len(url_tags)}\")\n",
    "print(\"\")\n",
    "print(\"\")\n",
    "print(url_tags[0:5])"
   ]
  },
  {
   "cell_type": "code",
   "execution_count": 111,
   "id": "b19fff88-7e33-4afb-bda4-31e8b3c829d4",
   "metadata": {},
   "outputs": [],
   "source": [
    "# Initiate a blank list to store extracted url\n",
    "url_list = list()\n",
    "\n",
    "# Loop through each tag to extract urls using get method\n",
    "for tag in url_tags:\n",
    "    url_list.append(tag.get('href'))"
   ]
  },
  {
   "cell_type": "code",
   "execution_count": 112,
   "id": "ba60288a-8022-4061-b5f6-0bd651bd2888",
   "metadata": {},
   "outputs": [
    {
     "name": "stdout",
     "output_type": "stream",
     "text": [
      "Extracted urls from tags:\n",
      "URL 1 / 185 : #MainContent\n",
      "URL 2 / 185 : /search\n",
      "URL 3 / 185 : /account/login\n",
      "URL 4 / 185 : /account/register\n",
      "URL 5 / 185 : /cart\n"
     ]
    }
   ],
   "source": [
    "# Visual examination of the urls extracted from tags\n",
    "print(f\"Extracted urls from tags:\")\n",
    "\n",
    "# Visually examine first 5 urls extracted from tags\n",
    "for index, url in enumerate(url_list[0:5]):\n",
    "    print(f\"URL {index+1} / {len(url_list)} : {url}\")"
   ]
  },
  {
   "cell_type": "code",
   "execution_count": 114,
   "id": "5359d760-1048-493f-928e-4fc3711204d4",
   "metadata": {},
   "outputs": [
    {
     "data": {
      "text/html": [
       "<div>\n",
       "<style scoped>\n",
       "    .dataframe tbody tr th:only-of-type {\n",
       "        vertical-align: middle;\n",
       "    }\n",
       "\n",
       "    .dataframe tbody tr th {\n",
       "        vertical-align: top;\n",
       "    }\n",
       "\n",
       "    .dataframe thead th {\n",
       "        text-align: right;\n",
       "    }\n",
       "</style>\n",
       "<table border=\"1\" class=\"dataframe\">\n",
       "  <thead>\n",
       "    <tr style=\"text-align: right;\">\n",
       "      <th></th>\n",
       "      <th>extracted_url</th>\n",
       "    </tr>\n",
       "  </thead>\n",
       "  <tbody>\n",
       "    <tr>\n",
       "      <th>0</th>\n",
       "      <td>#MainContent</td>\n",
       "    </tr>\n",
       "    <tr>\n",
       "      <th>1</th>\n",
       "      <td>/search</td>\n",
       "    </tr>\n",
       "    <tr>\n",
       "      <th>2</th>\n",
       "      <td>/account/login</td>\n",
       "    </tr>\n",
       "    <tr>\n",
       "      <th>3</th>\n",
       "      <td>/account/register</td>\n",
       "    </tr>\n",
       "    <tr>\n",
       "      <th>4</th>\n",
       "      <td>/cart</td>\n",
       "    </tr>\n",
       "  </tbody>\n",
       "</table>\n",
       "</div>"
      ],
      "text/plain": [
       "       extracted_url\n",
       "0       #MainContent\n",
       "1            /search\n",
       "2     /account/login\n",
       "3  /account/register\n",
       "4              /cart"
      ]
     },
     "metadata": {},
     "output_type": "display_data"
    }
   ],
   "source": [
    "# To use pandas str.contains() method, the list of extracted urls was first converted into a DataFrame\n",
    "url_df = pd.DataFrame(\n",
    "    url_list, \n",
    "    columns = ['extracted_url']\n",
    ")\n",
    "\n",
    "# Examine the extracted urls\n",
    "display(url_df.head())"
   ]
  },
  {
   "cell_type": "code",
   "execution_count": 125,
   "id": "2d471123-9e28-4797-884a-b391b531fdd0",
   "metadata": {},
   "outputs": [
    {
     "data": {
      "text/plain": [
       "'event|calendar|program|series|upcoming'"
      ]
     },
     "execution_count": 125,
     "metadata": {},
     "output_type": "execute_result"
    }
   ],
   "source": [
    "# To find urls that lead to events, define keywords to identify said urls\n",
    "keywords = [\"event\",\"calendar\", \"program\", \"series\", \"upcoming\"]\n",
    "\n",
    "# Define regex search term for list of keywords\n",
    "search_term = '|'.join(keywords)\n",
    "search_term"
   ]
  },
  {
   "cell_type": "code",
   "execution_count": 126,
   "id": "62db684f-5f41-47f9-9cd1-6d99c0ae9e13",
   "metadata": {},
   "outputs": [],
   "source": [
    "# Filter the URLs DataFrame for urls that contains the keywords\n",
    "cond1 = url_df['extracted_url'].str.lower()\\\n",
    "        .str.contains(search_term)"
   ]
  },
  {
   "cell_type": "code",
   "execution_count": 127,
   "id": "f9edea9c-986b-4c0f-8fe6-a6ed3015d85d",
   "metadata": {},
   "outputs": [
    {
     "data": {
      "text/html": [
       "<div>\n",
       "<style scoped>\n",
       "    .dataframe tbody tr th:only-of-type {\n",
       "        vertical-align: middle;\n",
       "    }\n",
       "\n",
       "    .dataframe tbody tr th {\n",
       "        vertical-align: top;\n",
       "    }\n",
       "\n",
       "    .dataframe thead th {\n",
       "        text-align: right;\n",
       "    }\n",
       "</style>\n",
       "<table border=\"1\" class=\"dataframe\">\n",
       "  <thead>\n",
       "    <tr style=\"text-align: right;\">\n",
       "      <th></th>\n",
       "      <th>extracted_url</th>\n",
       "    </tr>\n",
       "  </thead>\n",
       "  <tbody>\n",
       "    <tr>\n",
       "      <th>25</th>\n",
       "      <td>/pages/%F0%9F%92%8C-events</td>\n",
       "    </tr>\n",
       "  </tbody>\n",
       "</table>\n",
       "</div>"
      ],
      "text/plain": [
       "                 extracted_url\n",
       "25  /pages/%F0%9F%92%8C-events"
      ]
     },
     "execution_count": 127,
     "metadata": {},
     "output_type": "execute_result"
    }
   ],
   "source": [
    "# Apply filter condition\n",
    "url_df.loc[cond1]"
   ]
  },
  {
   "cell_type": "markdown",
   "id": "0c71523c-c997-4f09-ae51-f2d3518cfcb1",
   "metadata": {},
   "source": [
    "## Scraping from Events Page (Shopify)"
   ]
  },
  {
   "cell_type": "code",
   "execution_count": 43,
   "id": "66cd03e1-9b5e-4720-b1d6-7a8b909eadf5",
   "metadata": {},
   "outputs": [
    {
     "name": "stdout",
     "output_type": "stream",
     "text": [
      "https://typebooks.ca/pages/%F0%9F%92%8C-events\n"
     ]
    }
   ],
   "source": [
    "# Define base URL\n",
    "base_url = \"https://typebooks.ca\"\n",
    "\n",
    "# Define events URL\n",
    "events_url = base_url + url_df.loc[cond1,\"extracted_url\"].values[0]\n",
    "print(events_url)w"
   ]
  },
  {
   "cell_type": "code",
   "execution_count": 44,
   "id": "62f130c8-00e3-4911-98c9-3b5eebcc0fcd",
   "metadata": {},
   "outputs": [],
   "source": [
    "# Send a new response for events_url\n",
    "with requests.get(url = events_url) as response:\n",
    "    soup = BeautifulSoup(response.text, \"html.parser\")"
   ]
  },
  {
   "cell_type": "markdown",
   "id": "65616433-c551-412e-9bf3-1675423b5e60",
   "metadata": {},
   "source": [
    "Element inspector in Google Chrome was used to find common terms that contain calender information for the shopify style."
   ]
  },
  {
   "cell_type": "code",
   "execution_count": 52,
   "id": "642bee50-7685-41f8-a8c9-656075aba875",
   "metadata": {},
   "outputs": [
    {
     "name": "stdout",
     "output_type": "stream",
     "text": [
      "<p data-mce-fragment=\"1\" data-mce-style=\"text-align: center;\" style=\"text-align: center;\"><span data-mce-fragment=\"1\" data-mce-style=\"font-weight: 400;\" style=\"font-weight: 400;\">📚Tuesday, October 10 <a href=\"https://www.instagram.com/p/Cxf52cSLoW-/\" target=\"_blank\">BOOK LAUNCH</a>: <em>Mudflowers</em> by Aley Waterman // 7 PM at Type Queen</span><span data-mce-fragment=\"1\" data-mce-style=\"font-weight: 400;\" style=\"font-weight: 400;\"><br data-mce-fragment=\"1\"/></span></p>\n"
     ]
    }
   ],
   "source": [
    "# Extract shopify tags from soup\n",
    "tags = soup.find(\"section\", id = \"shopify-section-tapita-main-page\").find_all(\"p\")\n",
    "\n",
    "# Examine tags\n",
    "print(tags[1])"
   ]
  },
  {
   "cell_type": "code",
   "execution_count": 128,
   "id": "8a84f678-6eae-4677-a837-daa6b5458f62",
   "metadata": {},
   "outputs": [],
   "source": [
    "# Define information to collect from scraping\n",
    "dict = {\n",
    "    \"date\":[],\n",
    "    \"link\":[],\n",
    "    \"title\":[],\n",
    "    \"text\":[]\n",
    "}\n",
    "\n",
    "# Iterate through each tag to gather the data\n",
    "for item in [\"date\",\"link\",\"title\",\"text\"]:\n",
    "    for tag in tags:\n",
    "        if item == \"link\":\n",
    "                try:\n",
    "                    #Extract link\n",
    "                    dict[item].append(tag.find(\"a\").get(\"href\"))\n",
    "                except:\n",
    "                    # Append blank\n",
    "                    dict[item].append(np.NaN)\n",
    "                    continue\n",
    "        elif item == \"date\":\n",
    "            try:\n",
    "                #Extract date\n",
    "                dict[item].append(tag.find(\"a\").previous_sibling)\n",
    "            except:\n",
    "                # Append blank\n",
    "                dict[item].append(np.NaN)\n",
    "                continue\n",
    "        elif item == \"title\":\n",
    "            try:\n",
    "                #Extract date\n",
    "                dict[item].append(tag.find(\"em\").text)\n",
    "            except:\n",
    "                # Append blank\n",
    "                dict[item].append(np.NaN)\n",
    "                continue\n",
    "        elif item == \"text\":\n",
    "            try:\n",
    "                #Extract date\n",
    "                dict[item].append(tag.find(\"em\").next_sibling)\n",
    "            except:\n",
    "                # Append blank\n",
    "                dict[item].append(np.NaN)\n",
    "                continue\n",
    "        else:\n",
    "            pass"
   ]
  },
  {
   "cell_type": "code",
   "execution_count": 131,
   "id": "ab72d99b-a5c8-4a4b-818d-78eb548fedba",
   "metadata": {},
   "outputs": [
    {
     "data": {
      "text/html": [
       "<div>\n",
       "<style scoped>\n",
       "    .dataframe tbody tr th:only-of-type {\n",
       "        vertical-align: middle;\n",
       "    }\n",
       "\n",
       "    .dataframe tbody tr th {\n",
       "        vertical-align: top;\n",
       "    }\n",
       "\n",
       "    .dataframe thead th {\n",
       "        text-align: right;\n",
       "    }\n",
       "</style>\n",
       "<table border=\"1\" class=\"dataframe\">\n",
       "  <thead>\n",
       "    <tr style=\"text-align: right;\">\n",
       "      <th></th>\n",
       "      <th>date</th>\n",
       "      <th>link</th>\n",
       "      <th>title</th>\n",
       "      <th>text</th>\n",
       "    </tr>\n",
       "  </thead>\n",
       "  <tbody>\n",
       "    <tr>\n",
       "      <th>1</th>\n",
       "      <td>📚Tuesday, October 10</td>\n",
       "      <td>https://www.instagram.com/p/Cxf52cSLoW-/</td>\n",
       "      <td>Mudflowers</td>\n",
       "      <td>by Aley Waterman // 7 PM at Type Queen</td>\n",
       "    </tr>\n",
       "    <tr>\n",
       "      <th>2</th>\n",
       "      <td>📚Wednesday, October 11</td>\n",
       "      <td>https://www.instagram.com/p/CxnoqeXuhD2/</td>\n",
       "      <td>Furniture Music</td>\n",
       "      <td>by Gail Scott // 7 PM at Type Queen</td>\n",
       "    </tr>\n",
       "    <tr>\n",
       "      <th>3</th>\n",
       "      <td>📚Wednesday, October 18</td>\n",
       "      <td>https://www.instagram.com/p/CxvSFh-uqQM/</td>\n",
       "      <td>Burn Diary</td>\n",
       "      <td>by Joshua Chris Bouchard // 7 PM at Type Queen</td>\n",
       "    </tr>\n",
       "    <tr>\n",
       "      <th>6</th>\n",
       "      <td>📚Tuesday, October 24</td>\n",
       "      <td>https://www.instagram.com/p/CxYGrLwOChF/</td>\n",
       "      <td>Waiting for Tomorrow</td>\n",
       "      <td>by with Susan Yoon // 7 PM at Type Queen</td>\n",
       "    </tr>\n",
       "    <tr>\n",
       "      <th>7</th>\n",
       "      <td>📚Wednesday, October 25</td>\n",
       "      <td>https://www.instagram.com/typebooks/?img_index=1</td>\n",
       "      <td>There is No Blue</td>\n",
       "      <td>by Martha Baillie // 7 PM at Type Queen</td>\n",
       "    </tr>\n",
       "  </tbody>\n",
       "</table>\n",
       "</div>"
      ],
      "text/plain": [
       "                      date                                              link  \\\n",
       "1    📚Tuesday, October 10           https://www.instagram.com/p/Cxf52cSLoW-/   \n",
       "2   📚Wednesday, October 11          https://www.instagram.com/p/CxnoqeXuhD2/   \n",
       "3  📚Wednesday, October 18           https://www.instagram.com/p/CxvSFh-uqQM/   \n",
       "6    📚Tuesday, October 24           https://www.instagram.com/p/CxYGrLwOChF/   \n",
       "7  📚Wednesday, October 25   https://www.instagram.com/typebooks/?img_index=1   \n",
       "\n",
       "                  title                                              text  \n",
       "1            Mudflowers            by Aley Waterman // 7 PM at Type Queen  \n",
       "2       Furniture Music               by Gail Scott // 7 PM at Type Queen  \n",
       "3            Burn Diary   by Joshua Chris Bouchard // 7 PM at Type Queen   \n",
       "6  Waiting for Tomorrow          by with Susan Yoon // 7 PM at Type Queen  \n",
       "7      There is No Blue          by Martha Baillie // 7 PM at Type Queen   "
      ]
     },
     "execution_count": 131,
     "metadata": {},
     "output_type": "execute_result"
    }
   ],
   "source": [
    "pd.DataFrame(dict).dropna()"
   ]
  }
 ],
 "metadata": {
  "kernelspec": {
   "display_name": "Python 3 (ipykernel)",
   "language": "python",
   "name": "python3"
  },
  "language_info": {
   "codemirror_mode": {
    "name": "ipython",
    "version": 3
   },
   "file_extension": ".py",
   "mimetype": "text/x-python",
   "name": "python",
   "nbconvert_exporter": "python",
   "pygments_lexer": "ipython3",
   "version": "3.11.4"
  }
 },
 "nbformat": 4,
 "nbformat_minor": 5
}
