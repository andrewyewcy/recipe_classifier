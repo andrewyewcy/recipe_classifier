{
 "cells": [
  {
   "cell_type": "markdown",
   "id": "d180f4b4-9d9c-459a-a46c-86dff01253d6",
   "metadata": {},
   "source": [
    "![014_003.png](../22_assets/images/014_003.png)"
   ]
  },
  {
   "cell_type": "markdown",
   "id": "ba9e2049-6a5b-47ca-bc56-2a305429e993",
   "metadata": {},
   "source": [
    "# Motivation and Introduction"
   ]
  },
  {
   "cell_type": "markdown",
   "id": "9fef5f6b-0bb3-4e91-9d32-689fe1636a09",
   "metadata": {},
   "source": [
    "As an avid spreadsheet user myself, textual or non-numeric data always felt beyond reach within the tiny rectangular cells that together form a second home for the analyst. Today, we address this shortcoming by exploring how Natural Language Processing (NLP) can be used to quantify the text recipe labels(tags) of 40,000 food recipes scraped from [Allrecipes](www.allrecipes.com). Although a simple and crude application of machine learning data preprocessing, this exercise revealed that the most popular recipe label was \"dessert\" along with other relationships, such as how labels representing liquids tend to have higher ratings compared to labels representing solid foods such as meats.\n",
    "\n",
    "NLP and text analysis are useful for analyzing the large amounts of non-numeric data posted on the web by creators and publishers on a daily basis to answer business questions such as:\n",
    "- what are the latest trends in recipe labels?\n",
    "- do some recipe labels attract more user engagement and better ratings than others?\n",
    "- are there areas of improvement for label consolidation to create a more focused content universe for recipe consumers?\n",
    "- how do the recipes on allrecipes.com compare to other recipe websites?\n",
    "\n",
    "In this article, the data was loaded from AWS S3, cleaned, then preprocessed into tokens before being fed into a CountVectorizer, which counts the frequency of each token appearing within each recipe. The output of the vectorizer was used for numerical and visual analysis. A visual overview of the process is available below:"
   ]
  },
  {
   "cell_type": "markdown",
   "id": "70348c9e-d935-4ae1-9029-60792cefd7bb",
   "metadata": {},
   "source": [
    "![014_002.png](../22_assets/images/014_002.png)"
   ]
  },
  {
   "cell_type": "markdown",
   "id": "34586564-1036-4147-8fed-de07eacbcb8f",
   "metadata": {},
   "source": [
    "# Overview of Setup"
   ]
  },
  {
   "cell_type": "markdown",
   "id": "94bb9f44-87ca-4a10-a090-368df8731bda",
   "metadata": {},
   "source": [
    "## Docker Environments"
   ]
  },
  {
   "cell_type": "markdown",
   "id": "89523afd-2505-4d06-80c8-1c1a5cf57898",
   "metadata": {},
   "source": [
    "To replicate the environment used to perform this analysis:\n",
    "1. fork the Github [repository](https://github.com/andrewyewcy/recipe_classifier) locally on a Docker and Docker-compose installed machine\n",
    "2. run below line in Terminal within the file directory of the repository"
   ]
  },
  {
   "cell_type": "code",
   "execution_count": 1,
   "id": "67fad0b8-aec8-4240-a5a2-c7a82702391d",
   "metadata": {},
   "outputs": [],
   "source": [
    "# Run below line in terminal within the folder that contains the forked repo\n",
    "# docker-compose -f dev_setup.yaml up"
   ]
  },
  {
   "cell_type": "markdown",
   "id": "3b799282-dba4-49d7-81ae-36dd1a64449c",
   "metadata": {},
   "source": [
    "Instructions on how to access Jupyter will be generated in the Terminal. Detailed installation documentation can be found within the README of the repository. "
   ]
  },
  {
   "cell_type": "markdown",
   "id": "a9b98667-669a-42c0-840e-2f582c646fd0",
   "metadata": {},
   "source": [
    "## Import Packages and Define Functions"
   ]
  },
  {
   "cell_type": "markdown",
   "id": "91a9d11d-f5b7-4f5c-9929-b2900392229e",
   "metadata": {},
   "source": [
    "The [`natural language toolkit(NLTK)`](https://www.nltk.org/) and the [`CountVectorizer`](https://scikit-learn.org/stable/modules/generated/sklearn.feature_extraction.text.CountVectorizer.html) within `scikit-learn` were used to process and transform the recipe label text into tokens."
   ]
  },
  {
   "cell_type": "code",
   "execution_count": 2,
   "id": "5091083e-b929-46b1-8ce6-fdbea47ef864",
   "metadata": {},
   "outputs": [
    {
     "name": "stderr",
     "output_type": "stream",
     "text": [
      "[nltk_data] Downloading package stopwords to /home/jovyan/nltk_data...\n",
      "[nltk_data]   Package stopwords is already up-to-date!\n"
     ]
    }
   ],
   "source": [
    "# Packages for general data processing\n",
    "import numpy as np\n",
    "import pandas as pd\n",
    "import joblib       # Loading data\n",
    "import time         # Measuring time\n",
    "import ast          # Reading lists within pandas DataFrame\n",
    "\n",
    "# Packages for loading data from AWS S3 bucket\n",
    "import boto3\n",
    "import pickle\n",
    "from io import BytesIO                          # Read file without writing to disk\n",
    "from dotenv import load_dotenv                  # Import hidden access credentials into OS\n",
    "import os                                       # Access loaded credential in OS\n",
    "from notebook_functions.timer import print_time # Custom function for printing time\n",
    "\n",
    "# Packages for data visualization\n",
    "import matplotlib.pyplot as plt\n",
    "import seaborn as sns\n",
    "from notebook_functions.plot import plot_histogram # Custom function to plot distribution\n",
    "from notebook_functions.print import print_list    # Custom function for list printing\n",
    "from adjustText import adjust_text                 # Function for optimizing text label display on scatter plot https://github.com/Phlya/adjustText\n",
    "\n",
    "# Packages for pre-processing text\n",
    "import nltk                       # Natural Language Tool Kit\n",
    "nltk.download('stopwords')        # For processing stop words (words too common to hold significant meaning)\n",
    "from nltk.corpus import stopwords # Import above downloaded stopwords\n",
    "import re                         # Regular Expression\n",
    "import string                     # For identifying punctuation\n",
    "\n",
    "# Packages for processing text\n",
    "from sklearn.feature_extraction.text import CountVectorizer"
   ]
  },
  {
   "cell_type": "markdown",
   "id": "3effeca4-0710-4064-9c2e-2743c6cec0af",
   "metadata": {},
   "source": [
    "# Import Data From AWS S3"
   ]
  },
  {
   "cell_type": "markdown",
   "id": "98479268-b93d-4208-95a3-69be6eed7e60",
   "metadata": {},
   "source": [
    "The data was stored in an AWS Simple, Storage, Service (S3) bucket, which is a cloud storage service that integrates well with other AWS applications like EC2 and EMR. To access AWS S3 with python, the [`boto3`](https://boto3.amazonaws.com/v1/documentation/api/latest/index.html) module by AWS was used.\n",
    "\n",
    "The data contains the various numerical and textual elements of 40,000 recipes web-scraped off Allrecipes.com between the months of February and March 2023. For access to the complete data, please contact the author of the article."
   ]
  },
  {
   "cell_type": "markdown",
   "id": "5e3c75a5-9542-4f98-b1a8-7c8dd2877a2c",
   "metadata": {},
   "source": [
    "## Data Dictionary"
   ]
  },
  {
   "cell_type": "markdown",
   "id": "906f90df-773e-4c1c-9c31-13843cad0690",
   "metadata": {},
   "source": [
    "![014_001.jpg](../22_assets/images/014_001.jpg)"
   ]
  },
  {
   "cell_type": "markdown",
   "id": "5f562fff-d226-45a3-9d68-8999e1d40f27",
   "metadata": {},
   "source": [
    "The above image illustrates where the recipe labels are located in any recipe found on allrecipes.com. The below data dictionary explains the 5 columns which will be used for analysis in this article."
   ]
  },
  {
   "cell_type": "markdown",
   "id": "309279a6-7b83-4d7c-a7c8-17fdb8af5a23",
   "metadata": {},
   "source": [
    "| Column | Type | Description |\n",
    "|---|---|---|\n",
    "| `recipe_url` | hyperlink | The uniform resource locator(URL) that leads to the recipe hosted on Allrecipes.com |\n",
    "| `title` | text | The title of each recipe |\n",
    "| `label` | text | The labels (tags) for each recipe. Used by Allrecipes.com as a method of organizing recipes |\n",
    "| `rating_average` | float | The rounded average as found on each recipe on Allrecipes.com |\n",
    "| `rating_count` | integer | The number of ratings for each recipe |"
   ]
  },
  {
   "cell_type": "markdown",
   "id": "9afbb5a6-15e7-4766-a9b2-b4e43ea62476",
   "metadata": {},
   "source": [
    "## Instantiate AWS S3 Client and Resource Interfaces"
   ]
  },
  {
   "cell_type": "code",
   "execution_count": 3,
   "id": "8dd82d23-901b-44c4-927a-56ae7e03fd6e",
   "metadata": {},
   "outputs": [
    {
     "data": {
      "text/plain": [
       "True"
      ]
     },
     "execution_count": 3,
     "metadata": {},
     "output_type": "execute_result"
    }
   ],
   "source": [
    "# Load hidden credentials from .env file\n",
    "load_dotenv()"
   ]
  },
  {
   "cell_type": "code",
   "execution_count": 4,
   "id": "b8c6fad5-e489-45f7-adcb-b1fc98105e6f",
   "metadata": {},
   "outputs": [
    {
     "name": "stdout",
     "output_type": "stream",
     "text": [
      "<class 'botocore.client.S3'>\n"
     ]
    }
   ],
   "source": [
    "# Instantiate AWS S3 Client interface for examining S3 bucket details\n",
    "s3_client = boto3.client(\n",
    "    \"s3\",\n",
    "    aws_access_key_id     = os.environ.get(\"aws_access_key_id\"),\n",
    "    aws_secret_access_key = os.environ.get(\"aws_secret_access_key\")\n",
    ")\n",
    "\n",
    "# Examine the client object\n",
    "print(type(s3_client))"
   ]
  },
  {
   "cell_type": "code",
   "execution_count": 5,
   "id": "3facb709-f1e5-4091-a778-730dfe519919",
   "metadata": {},
   "outputs": [
    {
     "name": "stdout",
     "output_type": "stream",
     "text": [
      "<class 'boto3.resources.factory.s3.ServiceResource'>\n"
     ]
    }
   ],
   "source": [
    "s3_resource = boto3.resource(\n",
    "    \"s3\",\n",
    "    aws_access_key_id     = os.environ.get(\"aws_access_key_id\"),\n",
    "    aws_secret_access_key = os.environ.get(\"aws_secret_access_key\")    \n",
    ")\n",
    "\n",
    "# Examine the resource object\n",
    "print(type(s3_resource))"
   ]
  },
  {
   "cell_type": "markdown",
   "id": "9fbee106-f6b0-4e5d-a90b-8d51c14caa2a",
   "metadata": {},
   "source": [
    "## Check File Size and Import Data"
   ]
  },
  {
   "cell_type": "code",
   "execution_count": 6,
   "id": "c7ff28fa-1e97-440e-a198-806ffa1144a1",
   "metadata": {},
   "outputs": [
    {
     "name": "stdout",
     "output_type": "stream",
     "text": [
      "# 0: recipe_label_df.pkl, 5_539_560 bytes\n",
      "# 1: recipe_url_df.pkl, 3_089_204 bytes\n"
     ]
    }
   ],
   "source": [
    "# Define bucket and file names to be read from AWS S3 Bucket\n",
    "bucket_name = \"aycy-recipe-classifier\"\n",
    "file_name = \"recipe_label_df.pkl\"\n",
    "\n",
    "# Gather a response of objects within specified AWS S3 bucket\n",
    "response = s3_client.list_objects_v2(Bucket = bucket_name)\n",
    "\n",
    "# Examine size of objects within bucket\n",
    "for index, object in enumerate(response[\"Contents\"]):\n",
    "    print(f\"# {index}: {object['Key']}, {object['Size']:_} bytes\")"
   ]
  },
  {
   "cell_type": "markdown",
   "id": "254b3fbe-8bbf-4175-b749-90fcb8ad6f8e",
   "metadata": {},
   "source": [
    "The target file `recipe_label_df.pkl` was observed to have a size of 5.5 megabytes. To avoid saving the file on local system, the BytesIO() class from the [io module](https://docs.python.org/3/library/io.html#io.BytesIO) was used to stream the data from the AWS S3 bucket directly to this Python session."
   ]
  },
  {
   "cell_type": "code",
   "execution_count": 7,
   "id": "59b19b13-14e2-4097-bdd2-fc306d920bf4",
   "metadata": {},
   "outputs": [
    {
     "name": "stdout",
     "output_type": "stream",
     "text": [
      "Time taken: 1.4465 seconds.\n"
     ]
    }
   ],
   "source": [
    "# Stream the data file from AWS S3 bucket into environment without saving locally.\n",
    "with print_time():\n",
    "    with BytesIO() as data:\n",
    "        s3_resource.Bucket(bucket_name).download_fileobj(file_name, data)\n",
    "        data.seek(0) # move back to the beginning after writing\n",
    "        df = joblib.load(data)"
   ]
  },
  {
   "cell_type": "markdown",
   "id": "ab28f434-897b-4ce2-870c-e3df7a7c66fb",
   "metadata": {},
   "source": [
    "The time taken to import data can be further shortened if this analysis was performed on an AWS EC2 or Sagemaker instance. Next, the data was examined to identify any data cleaning requirements."
   ]
  },
  {
   "cell_type": "code",
   "execution_count": 8,
   "id": "854e7017-27fe-43aa-9899-6f4a0fe6d70f",
   "metadata": {},
   "outputs": [
    {
     "name": "stdout",
     "output_type": "stream",
     "text": [
      "There are 40001 recipes with 5 columns.\n"
     ]
    }
   ],
   "source": [
    "print(f\"There are {df.shape[0]} recipes with {df.shape[1]} columns.\")"
   ]
  },
  {
   "cell_type": "code",
   "execution_count": 9,
   "id": "e9f5dd74-8aeb-444c-ad08-83e968952a8e",
   "metadata": {},
   "outputs": [
    {
     "data": {
      "text/html": [
       "<div>\n",
       "<style scoped>\n",
       "    .dataframe tbody tr th:only-of-type {\n",
       "        vertical-align: middle;\n",
       "    }\n",
       "\n",
       "    .dataframe tbody tr th {\n",
       "        vertical-align: top;\n",
       "    }\n",
       "\n",
       "    .dataframe thead th {\n",
       "        text-align: right;\n",
       "    }\n",
       "</style>\n",
       "<table border=\"1\" class=\"dataframe\">\n",
       "  <thead>\n",
       "    <tr style=\"text-align: right;\">\n",
       "      <th></th>\n",
       "      <th>0</th>\n",
       "      <th>1</th>\n",
       "    </tr>\n",
       "  </thead>\n",
       "  <tbody>\n",
       "    <tr>\n",
       "      <th>recipe_url</th>\n",
       "      <td>https://www.allrecipes.com/recipe/83646/corned...</td>\n",
       "      <td>https://www.allrecipes.com/recipe/158799/stout...</td>\n",
       "    </tr>\n",
       "    <tr>\n",
       "      <th>title</th>\n",
       "      <td>Corned Beef Roast</td>\n",
       "      <td>Stout-Braised Lamb Shanks</td>\n",
       "    </tr>\n",
       "    <tr>\n",
       "      <th>label</th>\n",
       "      <td>['Recipes', 'Main Dishes', 'Beef', 'Corned Bee...</td>\n",
       "      <td>['Cuisine', 'European', 'UK and Ireland', 'Iri...</td>\n",
       "    </tr>\n",
       "    <tr>\n",
       "      <th>rating_average</th>\n",
       "      <td>4.4</td>\n",
       "      <td>4.5</td>\n",
       "    </tr>\n",
       "    <tr>\n",
       "      <th>rating_count</th>\n",
       "      <td>68</td>\n",
       "      <td>45</td>\n",
       "    </tr>\n",
       "  </tbody>\n",
       "</table>\n",
       "</div>"
      ],
      "text/plain": [
       "                                                                0  \\\n",
       "recipe_url      https://www.allrecipes.com/recipe/83646/corned...   \n",
       "title                                           Corned Beef Roast   \n",
       "label           ['Recipes', 'Main Dishes', 'Beef', 'Corned Bee...   \n",
       "rating_average                                                4.4   \n",
       "rating_count                                                   68   \n",
       "\n",
       "                                                                1  \n",
       "recipe_url      https://www.allrecipes.com/recipe/158799/stout...  \n",
       "title                                   Stout-Braised Lamb Shanks  \n",
       "label           ['Cuisine', 'European', 'UK and Ireland', 'Iri...  \n",
       "rating_average                                                4.5  \n",
       "rating_count                                                   45  "
      ]
     },
     "metadata": {},
     "output_type": "display_data"
    }
   ],
   "source": [
    "# Visually examine loaded data\n",
    "display(df.head(2).T)"
   ]
  },
  {
   "cell_type": "code",
   "execution_count": 10,
   "id": "bf205002-f7e6-4817-a090-a65aec09a220",
   "metadata": {},
   "outputs": [
    {
     "name": "stdout",
     "output_type": "stream",
     "text": [
      "<class 'pandas.core.frame.DataFrame'>\n",
      "RangeIndex: 40001 entries, 0 to 40000\n",
      "Data columns (total 5 columns):\n",
      " #   Column          Non-Null Count  Dtype  \n",
      "---  ------          --------------  -----  \n",
      " 0   recipe_url      40001 non-null  object \n",
      " 1   title           39994 non-null  object \n",
      " 2   label           39994 non-null  object \n",
      " 3   rating_average  36420 non-null  float64\n",
      " 4   rating_count    36420 non-null  object \n",
      "dtypes: float64(1), object(4)\n",
      "memory usage: 1.5+ MB\n"
     ]
    }
   ],
   "source": [
    "df.info()"
   ]
  },
  {
   "cell_type": "markdown",
   "id": "c6db0bfc-5989-4487-be6b-27aed9370605",
   "metadata": {},
   "source": [
    "Issues with the loaded data:\n",
    "1. The `rating_count` column was found to be of `object` type instead of `int`.\n",
    "2. Null values observed for `title`, `label`, `rating_average`,and `rating_count`."
   ]
  },
  {
   "cell_type": "markdown",
   "id": "95fc9cca-fa2c-47ac-8b94-f39b7cc771b0",
   "metadata": {},
   "source": [
    "# Data Cleaning and EDA"
   ]
  },
  {
   "cell_type": "markdown",
   "id": "54968fdd-4b27-4581-b397-69620f32a3e8",
   "metadata": {},
   "source": [
    "Before preprocessing the recipe label text for analysis, data cleaning and exploratory data analysis (EDA) was performed for the other columns to address the issues identified during data import."
   ]
  },
  {
   "cell_type": "markdown",
   "id": "9404d420-6a5b-4f1f-b715-22cc89cfa48e",
   "metadata": {},
   "source": [
    "## Null `titles`"
   ]
  },
  {
   "cell_type": "markdown",
   "id": "42f5bb77-b058-4291-b8da-e6aa7c6cbdd6",
   "metadata": {},
   "source": [
    "Out of 40,001 recipes, 7 recipes were found to have null titles."
   ]
  },
  {
   "cell_type": "code",
   "execution_count": 11,
   "id": "ccdd5f2f-4d3d-48bf-aaa8-16fb075cbd93",
   "metadata": {},
   "outputs": [
    {
     "name": "stdout",
     "output_type": "stream",
     "text": [
      "Number of null titles: 7, 0.02% of recipes\n"
     ]
    },
    {
     "data": {
      "text/html": [
       "<div>\n",
       "<style scoped>\n",
       "    .dataframe tbody tr th:only-of-type {\n",
       "        vertical-align: middle;\n",
       "    }\n",
       "\n",
       "    .dataframe tbody tr th {\n",
       "        vertical-align: top;\n",
       "    }\n",
       "\n",
       "    .dataframe thead th {\n",
       "        text-align: right;\n",
       "    }\n",
       "</style>\n",
       "<table border=\"1\" class=\"dataframe\">\n",
       "  <thead>\n",
       "    <tr style=\"text-align: right;\">\n",
       "      <th></th>\n",
       "      <th>recipe_url</th>\n",
       "      <th>title</th>\n",
       "      <th>label</th>\n",
       "      <th>rating_average</th>\n",
       "      <th>rating_count</th>\n",
       "    </tr>\n",
       "  </thead>\n",
       "  <tbody>\n",
       "    <tr>\n",
       "      <th>22785</th>\n",
       "      <td>https://www.allrecipes.com/cook/thedailygourme...</td>\n",
       "      <td>NaN</td>\n",
       "      <td>NaN</td>\n",
       "      <td>NaN</td>\n",
       "      <td>NaN</td>\n",
       "    </tr>\n",
       "    <tr>\n",
       "      <th>23968</th>\n",
       "      <td>https://www.allrecipes.com/recipe/14759/pork-d...</td>\n",
       "      <td>NaN</td>\n",
       "      <td>NaN</td>\n",
       "      <td>NaN</td>\n",
       "      <td>NaN</td>\n",
       "    </tr>\n",
       "    <tr>\n",
       "      <th>26010</th>\n",
       "      <td>https://www.allrecipes.com/recipe/218445/lenge...</td>\n",
       "      <td>NaN</td>\n",
       "      <td>NaN</td>\n",
       "      <td>NaN</td>\n",
       "      <td>NaN</td>\n",
       "    </tr>\n",
       "    <tr>\n",
       "      <th>26389</th>\n",
       "      <td>https://www.allrecipes.com/recipe/cajun-spice-...</td>\n",
       "      <td>NaN</td>\n",
       "      <td>NaN</td>\n",
       "      <td>NaN</td>\n",
       "      <td>NaN</td>\n",
       "    </tr>\n",
       "    <tr>\n",
       "      <th>26848</th>\n",
       "      <td>https://www.allrecipes.com/recipe/herman-sourd...</td>\n",
       "      <td>NaN</td>\n",
       "      <td>NaN</td>\n",
       "      <td>NaN</td>\n",
       "      <td>NaN</td>\n",
       "    </tr>\n",
       "    <tr>\n",
       "      <th>27388</th>\n",
       "      <td>https://www.allrecipes.com/recipe/mustard-pork...</td>\n",
       "      <td>NaN</td>\n",
       "      <td>NaN</td>\n",
       "      <td>NaN</td>\n",
       "      <td>NaN</td>\n",
       "    </tr>\n",
       "    <tr>\n",
       "      <th>33171</th>\n",
       "      <td>https://www.allrecipes.com/recipe/biga/detail....</td>\n",
       "      <td>NaN</td>\n",
       "      <td>NaN</td>\n",
       "      <td>NaN</td>\n",
       "      <td>NaN</td>\n",
       "    </tr>\n",
       "  </tbody>\n",
       "</table>\n",
       "</div>"
      ],
      "text/plain": [
       "                                              recipe_url title label  \\\n",
       "22785  https://www.allrecipes.com/cook/thedailygourme...   NaN   NaN   \n",
       "23968  https://www.allrecipes.com/recipe/14759/pork-d...   NaN   NaN   \n",
       "26010  https://www.allrecipes.com/recipe/218445/lenge...   NaN   NaN   \n",
       "26389  https://www.allrecipes.com/recipe/cajun-spice-...   NaN   NaN   \n",
       "26848  https://www.allrecipes.com/recipe/herman-sourd...   NaN   NaN   \n",
       "27388  https://www.allrecipes.com/recipe/mustard-pork...   NaN   NaN   \n",
       "33171  https://www.allrecipes.com/recipe/biga/detail....   NaN   NaN   \n",
       "\n",
       "       rating_average rating_count  \n",
       "22785             NaN          NaN  \n",
       "23968             NaN          NaN  \n",
       "26010             NaN          NaN  \n",
       "26389             NaN          NaN  \n",
       "26848             NaN          NaN  \n",
       "27388             NaN          NaN  \n",
       "33171             NaN          NaN  "
      ]
     },
     "execution_count": 11,
     "metadata": {},
     "output_type": "execute_result"
    }
   ],
   "source": [
    "# Examine null titles\n",
    "cond = df['title'].isnull()\n",
    "\n",
    "print(f\"Number of null titles: {cond.sum()}, {np.round(cond.sum()/df.shape[0]*100,2)}% of recipes\")\n",
    "\n",
    "# Visually examine null titles\n",
    "df.loc[cond]"
   ]
  },
  {
   "cell_type": "markdown",
   "id": "16e074ef-ed73-428b-854c-12387e2c5b56",
   "metadata": {},
   "source": [
    "As the adherence of each recipe to a standard structure within Allrecipes.com was not well understood, it was assumed that these recipes may be published with some error and thus excluded from analysis."
   ]
  },
  {
   "cell_type": "code",
   "execution_count": 12,
   "id": "b6d774d1-805b-4d78-9006-e4b888066f89",
   "metadata": {},
   "outputs": [],
   "source": [
    "# Drop rows with null titles\n",
    "df = df.loc[~cond]"
   ]
  },
  {
   "cell_type": "code",
   "execution_count": 13,
   "id": "e3cc0778-e5a4-4284-aeea-7e37e392ab6b",
   "metadata": {},
   "outputs": [
    {
     "name": "stdout",
     "output_type": "stream",
     "text": [
      "<class 'pandas.core.frame.DataFrame'>\n",
      "Index: 39994 entries, 0 to 40000\n",
      "Data columns (total 5 columns):\n",
      " #   Column          Non-Null Count  Dtype  \n",
      "---  ------          --------------  -----  \n",
      " 0   recipe_url      39994 non-null  object \n",
      " 1   title           39994 non-null  object \n",
      " 2   label           39994 non-null  object \n",
      " 3   rating_average  36420 non-null  float64\n",
      " 4   rating_count    36420 non-null  object \n",
      "dtypes: float64(1), object(4)\n",
      "memory usage: 1.8+ MB\n"
     ]
    }
   ],
   "source": [
    "# Examine null values again\n",
    "df.info()"
   ]
  },
  {
   "cell_type": "markdown",
   "id": "50b0d26b-a9ff-4e1a-8886-355eabfc75c9",
   "metadata": {},
   "source": [
    "## Null `rating_average` and `rating_count`"
   ]
  },
  {
   "cell_type": "markdown",
   "id": "b0629a77-da71-4732-982f-13745bccf67a",
   "metadata": {},
   "source": [
    "Before dealing with null values in these two columns, the `rating_count` column was found to be stored as `object` data type rather than `int`."
   ]
  },
  {
   "cell_type": "code",
   "execution_count": 14,
   "id": "ba2f1711-1a96-40cd-8417-ef9e4cbcb40f",
   "metadata": {},
   "outputs": [
    {
     "name": "stdout",
     "output_type": "stream",
     "text": [
      "invalid literal for int() with base 10: '2,630'\n"
     ]
    }
   ],
   "source": [
    "# Try to convert the `rating_count` column to integer\n",
    "try:\n",
    "    df['rating_count'].astype('int')\n",
    "except ValueError as e:\n",
    "    print(f\"{str(e)}\")"
   ]
  },
  {
   "cell_type": "markdown",
   "id": "4f02fde3-dd4f-4e04-911f-54e5facb8618",
   "metadata": {},
   "source": [
    "It would appear that thousands are separated with a comma, leading to the error in type conversion."
   ]
  },
  {
   "cell_type": "code",
   "execution_count": 15,
   "id": "13d19d00-9e0e-4d94-93cb-1567c05740ab",
   "metadata": {},
   "outputs": [],
   "source": [
    "# Remove comma from `rating_count`, then fill NaN with 0 for conversion to integer\n",
    "try:\n",
    "    df['rating_count'] = df['rating_count'].str.replace(\",\",\"\").fillna(0).astype('int')\n",
    "except ValueError as e:\n",
    "    print(f\"{str(e)}\")"
   ]
  },
  {
   "cell_type": "code",
   "execution_count": 16,
   "id": "a1dedd1b-f69f-4e70-b6a3-971d5636004a",
   "metadata": {},
   "outputs": [
    {
     "name": "stdout",
     "output_type": "stream",
     "text": [
      "<class 'pandas.core.frame.DataFrame'>\n",
      "Index: 39994 entries, 0 to 40000\n",
      "Data columns (total 5 columns):\n",
      " #   Column          Non-Null Count  Dtype  \n",
      "---  ------          --------------  -----  \n",
      " 0   recipe_url      39994 non-null  object \n",
      " 1   title           39994 non-null  object \n",
      " 2   label           39994 non-null  object \n",
      " 3   rating_average  36420 non-null  float64\n",
      " 4   rating_count    39994 non-null  int64  \n",
      "dtypes: float64(1), int64(1), object(3)\n",
      "memory usage: 1.8+ MB\n"
     ]
    }
   ],
   "source": [
    "# Examine the converted rating_count\n",
    "df.info()"
   ]
  },
  {
   "cell_type": "markdown",
   "id": "c133a148-ab14-4b32-a409-4bc85a4e4415",
   "metadata": {},
   "source": [
    "Note the recipes with previously null rating counts were now filled with 0, which makes sense since having no ratings was assume to equal 0 ratings. Now, the null values for `rating_average` were examined in greater detail."
   ]
  },
  {
   "cell_type": "code",
   "execution_count": 18,
   "id": "92930fad-e48d-47d9-bd69-2b9515c943ad",
   "metadata": {},
   "outputs": [
    {
     "name": "stdout",
     "output_type": "stream",
     "text": [
      "Number of null titles: 3574, 8.94% of remaining recipes\n"
     ]
    },
    {
     "data": {
      "text/html": [
       "<div>\n",
       "<style scoped>\n",
       "    .dataframe tbody tr th:only-of-type {\n",
       "        vertical-align: middle;\n",
       "    }\n",
       "\n",
       "    .dataframe tbody tr th {\n",
       "        vertical-align: top;\n",
       "    }\n",
       "\n",
       "    .dataframe thead th {\n",
       "        text-align: right;\n",
       "    }\n",
       "</style>\n",
       "<table border=\"1\" class=\"dataframe\">\n",
       "  <thead>\n",
       "    <tr style=\"text-align: right;\">\n",
       "      <th></th>\n",
       "      <th>recipe_url</th>\n",
       "      <th>title</th>\n",
       "      <th>label</th>\n",
       "      <th>rating_average</th>\n",
       "      <th>rating_count</th>\n",
       "    </tr>\n",
       "  </thead>\n",
       "  <tbody>\n",
       "    <tr>\n",
       "      <th>123</th>\n",
       "      <td>https://www.allrecipes.com/recipe/8538705/tate...</td>\n",
       "      <td>Tater Tot Hotdish</td>\n",
       "      <td>['Main Dishes', 'Casserole Recipes', 'Vegetabl...</td>\n",
       "      <td>NaN</td>\n",
       "      <td>0</td>\n",
       "    </tr>\n",
       "    <tr>\n",
       "      <th>188</th>\n",
       "      <td>https://www.allrecipes.com/recipe/8493351/grai...</td>\n",
       "      <td>Grain-Free Broccoli Fritters</td>\n",
       "      <td>['Recipes', 'Fruits and Vegetables', 'Vegetabl...</td>\n",
       "      <td>NaN</td>\n",
       "      <td>0</td>\n",
       "    </tr>\n",
       "    <tr>\n",
       "      <th>260</th>\n",
       "      <td>https://www.allrecipes.com/recipe/8499644/chic...</td>\n",
       "      <td>Chicken Minestrone Soup</td>\n",
       "      <td>['Soups, Stews and Chili Recipes', 'Soup Recip...</td>\n",
       "      <td>NaN</td>\n",
       "      <td>0</td>\n",
       "    </tr>\n",
       "    <tr>\n",
       "      <th>261</th>\n",
       "      <td>https://www.allrecipes.com/recipe/8532495/roas...</td>\n",
       "      <td>Roasted Broccoli Soup</td>\n",
       "      <td>['Soups, Stews and Chili Recipes', 'Soup Recip...</td>\n",
       "      <td>NaN</td>\n",
       "      <td>0</td>\n",
       "    </tr>\n",
       "    <tr>\n",
       "      <th>263</th>\n",
       "      <td>https://www.allrecipes.com/recipe/8448142/wate...</td>\n",
       "      <td>Watermelon Tomato Gazpacho with a Cool Cucumbe...</td>\n",
       "      <td>['Soups, Stews and Chili Recipes', 'Soup Recip...</td>\n",
       "      <td>NaN</td>\n",
       "      <td>0</td>\n",
       "    </tr>\n",
       "  </tbody>\n",
       "</table>\n",
       "</div>"
      ],
      "text/plain": [
       "                                            recipe_url  \\\n",
       "123  https://www.allrecipes.com/recipe/8538705/tate...   \n",
       "188  https://www.allrecipes.com/recipe/8493351/grai...   \n",
       "260  https://www.allrecipes.com/recipe/8499644/chic...   \n",
       "261  https://www.allrecipes.com/recipe/8532495/roas...   \n",
       "263  https://www.allrecipes.com/recipe/8448142/wate...   \n",
       "\n",
       "                                                 title  \\\n",
       "123                                  Tater Tot Hotdish   \n",
       "188                       Grain-Free Broccoli Fritters   \n",
       "260                            Chicken Minestrone Soup   \n",
       "261                              Roasted Broccoli Soup   \n",
       "263  Watermelon Tomato Gazpacho with a Cool Cucumbe...   \n",
       "\n",
       "                                                 label  rating_average  \\\n",
       "123  ['Main Dishes', 'Casserole Recipes', 'Vegetabl...             NaN   \n",
       "188  ['Recipes', 'Fruits and Vegetables', 'Vegetabl...             NaN   \n",
       "260  ['Soups, Stews and Chili Recipes', 'Soup Recip...             NaN   \n",
       "261  ['Soups, Stews and Chili Recipes', 'Soup Recip...             NaN   \n",
       "263  ['Soups, Stews and Chili Recipes', 'Soup Recip...             NaN   \n",
       "\n",
       "     rating_count  \n",
       "123             0  \n",
       "188             0  \n",
       "260             0  \n",
       "261             0  \n",
       "263             0  "
      ]
     },
     "execution_count": 18,
     "metadata": {},
     "output_type": "execute_result"
    }
   ],
   "source": [
    "# Drop the recipes with null rating_average\n",
    "cond = df['rating_average'].isnull()\n",
    "\n",
    "print(f\"Number of null titles: {cond.sum()}, {np.round(cond.sum()/df.shape[0]*100,2)}% of remaining recipes\")\n",
    "\n",
    "# Visually examine null titles\n",
    "df.loc[cond].head()"
   ]
  },
  {
   "cell_type": "markdown",
   "id": "08131cde-252b-46fc-8bc8-a64621b61cd4",
   "metadata": {},
   "source": [
    "Although a significant 8.94% of remaining recipes were found to have null ratings, these recipes were dropped from analysis as the focus of this exercise was to analyze the labels of recipes and any relationships it might have with other metrics."
   ]
  },
  {
   "cell_type": "code",
   "execution_count": 19,
   "id": "64c2f999-0fd9-4077-9905-345ac017e3ed",
   "metadata": {},
   "outputs": [],
   "source": [
    "# Drop ropws where the rating_average is null\n",
    "df = df.loc[~cond]"
   ]
  },
  {
   "cell_type": "code",
   "execution_count": 20,
   "id": "1a0de647-0d32-4c36-8d97-fcdd9d5f82c4",
   "metadata": {
    "scrolled": true
   },
   "outputs": [
    {
     "name": "stdout",
     "output_type": "stream",
     "text": [
      "<class 'pandas.core.frame.DataFrame'>\n",
      "Index: 36420 entries, 0 to 40000\n",
      "Data columns (total 5 columns):\n",
      " #   Column          Non-Null Count  Dtype  \n",
      "---  ------          --------------  -----  \n",
      " 0   recipe_url      36420 non-null  object \n",
      " 1   title           36420 non-null  object \n",
      " 2   label           36420 non-null  object \n",
      " 3   rating_average  36420 non-null  float64\n",
      " 4   rating_count    36420 non-null  int64  \n",
      "dtypes: float64(1), int64(1), object(3)\n",
      "memory usage: 1.7+ MB\n"
     ]
    }
   ],
   "source": [
    "# Check for any null values\n",
    "df.info()"
   ]
  },
  {
   "cell_type": "code",
   "execution_count": 21,
   "id": "4502c2a2-2c1d-47ff-b0f2-665320271f87",
   "metadata": {},
   "outputs": [
    {
     "data": {
      "text/plain": [
       "0"
      ]
     },
     "execution_count": 21,
     "metadata": {},
     "output_type": "execute_result"
    }
   ],
   "source": [
    "# Double check for null values\n",
    "df.isna().sum().sum()"
   ]
  },
  {
   "cell_type": "markdown",
   "id": "9d5ecf09-cd8f-4f05-9f74-1d9eb68671fe",
   "metadata": {},
   "source": [
    "All null values have been removed."
   ]
  },
  {
   "cell_type": "markdown",
   "id": "3d07ed44-5479-43b0-a05d-846402df7129",
   "metadata": {},
   "source": [
    "## Distribution of `rating_average` and `rating_count`"
   ]
  },
  {
   "cell_type": "code",
   "execution_count": 22,
   "id": "b582f1fd-e505-4f0c-b364-78950e630db9",
   "metadata": {},
   "outputs": [
    {
     "name": "stdout",
     "output_type": "stream",
     "text": [
      "===== Distribution Plots for rating_average =====\n"
     ]
    },
    {
     "data": {
      "image/png": "[encoded data removed]",
      "text/plain": [
       "<Figure size 1500x500 with 2 Axes>"
      ]
     },
     "metadata": {},
     "output_type": "display_data"
    },
    {
     "name": "stdout",
     "output_type": "stream",
     "text": [
      "===============================================\n",
      "\n",
      "\n",
      "===== Distribution Plots for rating_count =====\n"
     ]
    },
    {
     "data": {
      "text/plain": [
       "<Figure size 640x480 with 0 Axes>"
      ]
     },
     "metadata": {},
     "output_type": "display_data"
    },
    {
     "data": {
      "image/png": "[encoded data removed]",
      "text/plain": [
       "<Figure size 1500x500 with 2 Axes>"
      ]
     },
     "metadata": {},
     "output_type": "display_data"
    },
    {
     "name": "stdout",
     "output_type": "stream",
     "text": [
      "===============================================\n",
      "\n",
      "\n"
     ]
    },
    {
     "data": {
      "text/plain": [
       "<Figure size 640x480 with 0 Axes>"
      ]
     },
     "metadata": {},
     "output_type": "display_data"
    }
   ],
   "source": [
    "# For specified columns, call the custom plotting function to examine distribution\n",
    "# Details on the plotting function can be found in the Github repo under the folder notebook_functions\n",
    "for col in [\"rating_average\",\"rating_count\"]:\n",
    "    plot_histogram(df, col, col,\"../22_assets/images\")"
   ]
  },
  {
   "cell_type": "markdown",
   "id": "fb52782b-6ac1-4e06-bbab-d08eb761d3be",
   "metadata": {},
   "source": [
    "A left skew was observed for `rating_average` with a mean average rating of 4.5 out of 5. Although the close mean and median suggest a distribution with a single peak, visual observation suggests multiple peaks centered around 4.0, 4.5 and 5.0 respectively. These observations suggest that users who do provide ratings tend to provide high ratings of 4 to 5 stars, and, that the `rating_average` may be an over-positive representation of recipes posted on allrecipes.\n",
    "\n",
    "`Rating_count` was observed to have an extremely right skew, with the mean of 142 ratings per recipe being 5 times greater than the median of 26 ratings per recipe. The skew is mostly caused by outlier recipes with over 10,000 user ratings, as confirmed by the mellowed LOG distribution. This may suggest that the promotion or recommendation of recipes on allrecipes.com highly favours recipes already popular, or that some recipes are so common that many people search for it. Further detailed exploration by recipe is required to verify this. The LOG of the `rating_count` reduces the effect of outliers and reveals a bimodal distirbution. The taller peak of the left suggests most recipes tend to have low rating counts, with the smaller peak on the right representing the next majority of recipes centered around 1,000 ratings per recipe."
   ]
  },
  {
   "cell_type": "markdown",
   "id": "a0d73c96-e77b-498e-b24c-7bbae28a02fe",
   "metadata": {},
   "source": [
    "## Recipes with Less than 2 ratings"
   ]
  },
  {
   "cell_type": "markdown",
   "id": "6822ea4d-136f-4f77-bc4e-17b2a1e23002",
   "metadata": {},
   "source": [
    "The significance of recipe ratings are dependent on the number of ratings. Thus, to ensure some standard of quality for recipes, recipes with less than 2 ratings were excluded from analysis. The number of 2 was chosen based on the assumption that a second independent rating sufficiently raises the validity of the recipe rating."
   ]
  },
  {
   "cell_type": "code",
   "execution_count": 25,
   "id": "2b42d3c4-1cba-47f0-bb85-af9be2e5b328",
   "metadata": {},
   "outputs": [
    {
     "name": "stdout",
     "output_type": "stream",
     "text": [
      "Number of recipes with less than 2 ratings: 2729, 7.49% of remaining recipes\n"
     ]
    },
    {
     "data": {
      "text/html": [
       "<div>\n",
       "<style scoped>\n",
       "    .dataframe tbody tr th:only-of-type {\n",
       "        vertical-align: middle;\n",
       "    }\n",
       "\n",
       "    .dataframe tbody tr th {\n",
       "        vertical-align: top;\n",
       "    }\n",
       "\n",
       "    .dataframe thead th {\n",
       "        text-align: right;\n",
       "    }\n",
       "</style>\n",
       "<table border=\"1\" class=\"dataframe\">\n",
       "  <thead>\n",
       "    <tr style=\"text-align: right;\">\n",
       "      <th></th>\n",
       "      <th>recipe_url</th>\n",
       "      <th>title</th>\n",
       "      <th>label</th>\n",
       "      <th>rating_average</th>\n",
       "      <th>rating_count</th>\n",
       "    </tr>\n",
       "  </thead>\n",
       "  <tbody>\n",
       "    <tr>\n",
       "      <th>2</th>\n",
       "      <td>https://www.allrecipes.com/recipe/8509102/chic...</td>\n",
       "      <td>Chicken Al Pastor</td>\n",
       "      <td>['Mexican', 'Main Dishes', 'Tacos', 'Chicken']</td>\n",
       "      <td>5.0</td>\n",
       "      <td>1</td>\n",
       "    </tr>\n",
       "    <tr>\n",
       "      <th>186</th>\n",
       "      <td>https://www.allrecipes.com/recipe/8532964/air-...</td>\n",
       "      <td>Air Fryer Tilapia</td>\n",
       "      <td>['Recipes', 'Seafood', 'Fish', 'Tilapia']</td>\n",
       "      <td>5.0</td>\n",
       "      <td>1</td>\n",
       "    </tr>\n",
       "    <tr>\n",
       "      <th>189</th>\n",
       "      <td>https://www.allrecipes.com/recipe/8441918/skil...</td>\n",
       "      <td>Skillet Zucchini and Squash</td>\n",
       "      <td>['Vegetables', 'Squash', 'Summer Squash', 'Yel...</td>\n",
       "      <td>5.0</td>\n",
       "      <td>1</td>\n",
       "    </tr>\n",
       "    <tr>\n",
       "      <th>190</th>\n",
       "      <td>https://www.allrecipes.com/recipe/8499615/air-...</td>\n",
       "      <td>Air Fryer Scrambled Eggs On The Go</td>\n",
       "      <td>['Recipes', 'Breakfast and Brunch', 'Eggs', 'S...</td>\n",
       "      <td>4.0</td>\n",
       "      <td>1</td>\n",
       "    </tr>\n",
       "    <tr>\n",
       "      <th>262</th>\n",
       "      <td>https://www.allrecipes.com/recipe/8532956/dump...</td>\n",
       "      <td>Dump-and-Go Instant Pot Tortilla Soup</td>\n",
       "      <td>['Recipes', 'Soups, Stews and Chili Recipes', ...</td>\n",
       "      <td>4.0</td>\n",
       "      <td>1</td>\n",
       "    </tr>\n",
       "  </tbody>\n",
       "</table>\n",
       "</div>"
      ],
      "text/plain": [
       "                                            recipe_url  \\\n",
       "2    https://www.allrecipes.com/recipe/8509102/chic...   \n",
       "186  https://www.allrecipes.com/recipe/8532964/air-...   \n",
       "189  https://www.allrecipes.com/recipe/8441918/skil...   \n",
       "190  https://www.allrecipes.com/recipe/8499615/air-...   \n",
       "262  https://www.allrecipes.com/recipe/8532956/dump...   \n",
       "\n",
       "                                     title  \\\n",
       "2                        Chicken Al Pastor   \n",
       "186                      Air Fryer Tilapia   \n",
       "189            Skillet Zucchini and Squash   \n",
       "190     Air Fryer Scrambled Eggs On The Go   \n",
       "262  Dump-and-Go Instant Pot Tortilla Soup   \n",
       "\n",
       "                                                 label  rating_average  \\\n",
       "2       ['Mexican', 'Main Dishes', 'Tacos', 'Chicken']             5.0   \n",
       "186          ['Recipes', 'Seafood', 'Fish', 'Tilapia']             5.0   \n",
       "189  ['Vegetables', 'Squash', 'Summer Squash', 'Yel...             5.0   \n",
       "190  ['Recipes', 'Breakfast and Brunch', 'Eggs', 'S...             4.0   \n",
       "262  ['Recipes', 'Soups, Stews and Chili Recipes', ...             4.0   \n",
       "\n",
       "     rating_count  \n",
       "2               1  \n",
       "186             1  \n",
       "189             1  \n",
       "190             1  \n",
       "262             1  "
      ]
     },
     "execution_count": 25,
     "metadata": {},
     "output_type": "execute_result"
    }
   ],
   "source": [
    "# Identify the number of recipes with less than 2 ratings\n",
    "cond = df[\"rating_count\"] < 2\n",
    "\n",
    "print(f\"Number of recipes with less than 2 ratings: {cond.sum()}, {np.round(cond.sum()/df.shape[0]*100,2)}% of remaining recipes\")\n",
    "\n",
    "# Visual examination of these recipes\n",
    "df.loc[cond].head()"
   ]
  },
  {
   "cell_type": "code",
   "execution_count": 24,
   "id": "abcddafb-7c4a-48b2-a00a-2081c4b12419",
   "metadata": {},
   "outputs": [
    {
     "name": "stdout",
     "output_type": "stream",
     "text": [
      "===== Distribution Plots for rating_average =====\n"
     ]
    },
    {
     "data": {
      "image/png": "[encoded data removed]",
      "text/plain": [
       "<Figure size 1500x500 with 2 Axes>"
      ]
     },
     "metadata": {},
     "output_type": "display_data"
    },
    {
     "name": "stdout",
     "output_type": "stream",
     "text": [
      "===============================================\n",
      "\n",
      "\n",
      "===== Distribution Plots for rating_count =====\n"
     ]
    },
    {
     "data": {
      "text/plain": [
       "<Figure size 640x480 with 0 Axes>"
      ]
     },
     "metadata": {},
     "output_type": "display_data"
    },
    {
     "data": {
      "image/png": "[encoded data removed]",
      "text/plain": [
       "<Figure size 1500x500 with 2 Axes>"
      ]
     },
     "metadata": {},
     "output_type": "display_data"
    },
    {
     "name": "stdout",
     "output_type": "stream",
     "text": [
      "===============================================\n",
      "\n",
      "\n"
     ]
    },
    {
     "data": {
      "text/plain": [
       "<Figure size 640x480 with 0 Axes>"
      ]
     },
     "metadata": {},
     "output_type": "display_data"
    }
   ],
   "source": [
    "# Re-examine the distribution after excluding the recipes with less than 2 ratings\n",
    "for col in [\"rating_average\",\"rating_count\"]:\n",
    "    plot_histogram(df.loc[~cond], col, col,\"../22_assets/images\")"
   ]
  },
  {
   "cell_type": "markdown",
   "id": "bd45db68-830f-4653-87bb-8cd7e7c14763",
   "metadata": {},
   "source": [
    "Although 7.49% of the remaining recipes contain less than 2 ratings, the validity of the quality of the recipes being analyzed is deemed more important than the number of recipes analyzed, and thus these 2,729 recipes were dropped from analysis. Further backing up this decision, the distribution of `rating_count` and `rating_average` were observed to be unchanged after removing recipes with less than 2 ratings."
   ]
  },
  {
   "cell_type": "code",
   "execution_count": 26,
   "id": "8ca39797-588e-4635-ae40-a7e80607315f",
   "metadata": {},
   "outputs": [],
   "source": [
    "# Drop ropws where the recipe has less than 2 ratings\n",
    "df = df.loc[~cond]"
   ]
  },
  {
   "cell_type": "code",
   "execution_count": 27,
   "id": "bc3aef4c-e2f6-42a7-a4b0-7f14f15123f6",
   "metadata": {},
   "outputs": [
    {
     "name": "stdout",
     "output_type": "stream",
     "text": [
      "<class 'pandas.core.frame.DataFrame'>\n",
      "Index: 33691 entries, 0 to 40000\n",
      "Data columns (total 5 columns):\n",
      " #   Column          Non-Null Count  Dtype  \n",
      "---  ------          --------------  -----  \n",
      " 0   recipe_url      33691 non-null  object \n",
      " 1   title           33691 non-null  object \n",
      " 2   label           33691 non-null  object \n",
      " 3   rating_average  33691 non-null  float64\n",
      " 4   rating_count    33691 non-null  int64  \n",
      "dtypes: float64(1), int64(1), object(3)\n",
      "memory usage: 1.5+ MB\n"
     ]
    }
   ],
   "source": [
    "# Examine remaining recipes\n",
    "df.info()"
   ]
  },
  {
   "cell_type": "code",
   "execution_count": 28,
   "id": "de7832b9-6cdd-453a-a7da-227b42efe18d",
   "metadata": {},
   "outputs": [
    {
     "data": {
      "text/html": [
       "<div>\n",
       "<style scoped>\n",
       "    .dataframe tbody tr th:only-of-type {\n",
       "        vertical-align: middle;\n",
       "    }\n",
       "\n",
       "    .dataframe tbody tr th {\n",
       "        vertical-align: top;\n",
       "    }\n",
       "\n",
       "    .dataframe thead th {\n",
       "        text-align: right;\n",
       "    }\n",
       "</style>\n",
       "<table border=\"1\" class=\"dataframe\">\n",
       "  <thead>\n",
       "    <tr style=\"text-align: right;\">\n",
       "      <th></th>\n",
       "      <th>rating_average</th>\n",
       "      <th>rating_count</th>\n",
       "    </tr>\n",
       "  </thead>\n",
       "  <tbody>\n",
       "    <tr>\n",
       "      <th>count</th>\n",
       "      <td>33691.000000</td>\n",
       "      <td>33691.000000</td>\n",
       "    </tr>\n",
       "    <tr>\n",
       "      <th>mean</th>\n",
       "      <td>4.451895</td>\n",
       "      <td>152.973316</td>\n",
       "    </tr>\n",
       "    <tr>\n",
       "      <th>std</th>\n",
       "      <td>0.381909</td>\n",
       "      <td>538.782772</td>\n",
       "    </tr>\n",
       "    <tr>\n",
       "      <th>min</th>\n",
       "      <td>1.000000</td>\n",
       "      <td>2.000000</td>\n",
       "    </tr>\n",
       "    <tr>\n",
       "      <th>25%</th>\n",
       "      <td>4.300000</td>\n",
       "      <td>9.000000</td>\n",
       "    </tr>\n",
       "    <tr>\n",
       "      <th>50%</th>\n",
       "      <td>4.500000</td>\n",
       "      <td>32.000000</td>\n",
       "    </tr>\n",
       "    <tr>\n",
       "      <th>75%</th>\n",
       "      <td>4.700000</td>\n",
       "      <td>108.000000</td>\n",
       "    </tr>\n",
       "    <tr>\n",
       "      <th>max</th>\n",
       "      <td>5.000000</td>\n",
       "      <td>19961.000000</td>\n",
       "    </tr>\n",
       "  </tbody>\n",
       "</table>\n",
       "</div>"
      ],
      "text/plain": [
       "       rating_average  rating_count\n",
       "count    33691.000000  33691.000000\n",
       "mean         4.451895    152.973316\n",
       "std          0.381909    538.782772\n",
       "min          1.000000      2.000000\n",
       "25%          4.300000      9.000000\n",
       "50%          4.500000     32.000000\n",
       "75%          4.700000    108.000000\n",
       "max          5.000000  19961.000000"
      ]
     },
     "execution_count": 28,
     "metadata": {},
     "output_type": "execute_result"
    }
   ],
   "source": [
    "# Numerical examination of cleaned distribution\n",
    "df.describe()"
   ]
  },
  {
   "cell_type": "code",
   "execution_count": 29,
   "id": "03ec96f6-3459-488f-a26c-f5bb86369fb0",
   "metadata": {},
   "outputs": [],
   "source": [
    "# Reset index for easier table joining later\n",
    "df.reset_index(drop = True, inplace = True)"
   ]
  },
  {
   "cell_type": "markdown",
   "id": "62656dc8-cc8c-49ff-ba9f-044a261a760d",
   "metadata": {},
   "source": [
    "## Data Cleaning Summary"
   ]
  },
  {
   "cell_type": "markdown",
   "id": "f6268a45-9104-4a7c-aa37-01835e1550ec",
   "metadata": {},
   "source": [
    "| Data Cleaning | Recipes Affected | Decision | Recipes Remaining | Justification |\n",
    "|---|---|---|---|---|\n",
    "| Original | - | - | 40,001 | - |\n",
    "| Null `titles` | 7 | Drop rows | 39,994 | Likely error in recipe publication. |\n",
    "| Null `rating_average` | 3,574 | Drop rows | 36,420 | Need rating to perform multivariate analysis. |\n",
    "| Recipes less than 2 ratings | 2,729 | Drop rows | 33,691 | Need recipes that have significant ratings. |"
   ]
  },
  {
   "cell_type": "markdown",
   "id": "0b511f9e-bca9-446f-81b6-688146344500",
   "metadata": {},
   "source": [
    "# Text Preprocessing"
   ]
  },
  {
   "cell_type": "markdown",
   "id": "5016ba91-c2c6-4887-801a-86dd8c1710da",
   "metadata": {},
   "source": [
    "Now, the `labels` column containing recipe label texts can be pre-processed for vectorization. This step is essential to maximize the meaning of generated tokens."
   ]
  },
  {
   "cell_type": "code",
   "execution_count": 30,
   "id": "4d0388db-b758-40a0-8c67-bae63e0f2946",
   "metadata": {},
   "outputs": [
    {
     "name": "stdout",
     "output_type": "stream",
     "text": [
      "Corned Beef Roast has labels:    ['Recipes', 'Main Dishes', 'Beef', 'Corned Beef Recipes']\n",
      "Stout-Braised Lamb Shanks has labels:    ['Cuisine', 'European', 'UK and Ireland', 'Irish']\n",
      "Mississippi Chicken has labels:    ['Recipes', 'Meat and Poultry', 'Chicken']\n",
      "Lasagna Flatbread has labels:    ['Recipes', 'Bread', 'Quick Bread Recipes']\n",
      "Prosciutto-Wrapped Pork Tenderloin with Crispy Sage has labels:    ['Recipes', 'Meat and Poultry', 'Pork', 'Pork Tenderloin Recipes']\n"
     ]
    }
   ],
   "source": [
    "# As only 5 rows were examined, the slower iterrows method was used for code simplicity\n",
    "for index, row in df.loc[:,[\"title\", \"label\"]].head().iterrows():\n",
    "    print(f\"{row[0]} has labels:    {row[1]}\")"
   ]
  },
  {
   "cell_type": "markdown",
   "id": "61a05eeb-1454-43f7-a493-f906f07211b4",
   "metadata": {},
   "source": [
    "The labels for each recipe were observed to be a list of terms separated by commas. Furthermore, the number of labels and the labels themselves are not consistent across recipes. Common words such as \"Recipes\" were observed to bring no analysis value as each row represents a recipe by default. \n",
    "\n",
    "As such, before vectorizing the recipe labels into a sparse table containing a count for each token, preprocessing of text shold be performed to ensure that only meaningful labels are included. In other words, the text column containing recipe labels must be cleaned.\n",
    "\n",
    "To facilitate systematic cleaning of each recipe's text, a `tokenizer` was built, with the recipe `Corned Beef Roast` being the recipe evaluated as the tokenizer is built."
   ]
  },
  {
   "cell_type": "code",
   "execution_count": 31,
   "id": "a2550bde-4415-4a23-b2a8-f4584087978c",
   "metadata": {},
   "outputs": [
    {
     "name": "stdout",
     "output_type": "stream",
     "text": [
      "['Recipes', 'Main Dishes', 'Beef', 'Corned Beef Recipes']\n"
     ]
    }
   ],
   "source": [
    "# Visually examine the labels of Corned Beef Roast, which is index 0\n",
    "sentence = df.loc[0,\"label\"]\n",
    "print(sentence)"
   ]
  },
  {
   "cell_type": "markdown",
   "id": "900786cd-64ec-4176-bc51-fc901ab1fb7c",
   "metadata": {},
   "source": [
    "## Remove Punctuation"
   ]
  },
  {
   "cell_type": "markdown",
   "id": "3eb22586-247f-4fd6-bdc2-11988ce57647",
   "metadata": {},
   "source": [
    "To get a list of punctuation to remove, the punctuation attribute of the `string` module was accessed."
   ]
  },
  {
   "cell_type": "code",
   "execution_count": 32,
   "id": "1d993de8-990b-4020-8756-1d1f04283a57",
   "metadata": {},
   "outputs": [
    {
     "name": "stdout",
     "output_type": "stream",
     "text": [
      "!\"#$%&'()*+,-./:;<=>?@[\\]^_`{|}~\n"
     ]
    }
   ],
   "source": [
    "# punctuation to remove\n",
    "print(string.punctuation)"
   ]
  },
  {
   "cell_type": "markdown",
   "id": "d01342d8-ffff-424f-a25d-2399f664eeb9",
   "metadata": {},
   "source": [
    "Removing the punctuation from the labels of Corned Beef Roast leads to each word being separated by space. Although cleaner, this is not ideal as the words `main` and `dishes` make more sense together than when evaluated separately. "
   ]
  },
  {
   "cell_type": "code",
   "execution_count": 33,
   "id": "f0d2a1b2-0fd3-486f-82d0-c71cab45ac1a",
   "metadata": {},
   "outputs": [
    {
     "name": "stdout",
     "output_type": "stream",
     "text": [
      "recipes main dishes beef corned beef recipes\n"
     ]
    }
   ],
   "source": [
    "# Remove punctuation and change to lower case\n",
    "for punctuation_mark in string.punctuation:\n",
    "    sentence = sentence.replace(punctuation_mark, \"\").lower()\n",
    "\n",
    "print(sentence)"
   ]
  },
  {
   "cell_type": "markdown",
   "id": "115e7c9d-c4bf-41a8-a32d-809a4bf6df36",
   "metadata": {},
   "source": [
    "One option is to use the `n-grams` option in the `CountVectorizer` later. However, since the inclusion of n-grams significantly increases the number of tokens formed, combined with the simplicity of the text, a custom word-combiner was used instead to remove punctuation to generate more meaning. Regular Expression ([regex](https://docs.python.org/3/library/re.html)) was used to specify which punctuation to remove."
   ]
  },
  {
   "cell_type": "code",
   "execution_count": 34,
   "id": "cae12b46-d7b6-4e95-82c0-53c75c85914a",
   "metadata": {},
   "outputs": [
    {
     "name": "stdout",
     "output_type": "stream",
     "text": [
      "STEP1: ['Recipes'+'Main Dishes'+'Beef'+'Corned Beef Recipes']\n",
      "STEP2: ['Recipes'+'Main_Dishes'+'Beef'+'Corned_Beef_Recipes']\n",
      "STEP3: ['Recipes', 'Main_Dishes', 'Beef', 'Corned_Beef_Recipes']\n",
      "STEP4: recipes main_dishes beef corned_beef_recipes\n"
     ]
    }
   ],
   "source": [
    "# Regenerate Corned Beef Roast labels\n",
    "sentence = df.loc[0,\"label\"]\n",
    "\n",
    "# STEP 1: Replace all spaces after commas with placeholder \"+\"\n",
    "sentence = re.sub(\",\\s\",\"+\",sentence)\n",
    "print(f\"STEP1: {sentence}\")\n",
    "\n",
    "# STEP 2: Replace all other spaces within quotation marks with \"_\"\n",
    "sentence = re.sub(\"\\s\",\"_\",sentence)\n",
    "print(f\"STEP2: {sentence}\")\n",
    "\n",
    "# STEP 3: Revert the placeholder to back to original space to separate labels\n",
    "sentence = sentence.replace(\"+\",\", \")\n",
    "print(f\"STEP3: {sentence}\")\n",
    "\n",
    "# STEP 4: Finally, remove all punctuation except \"_\"\n",
    "for punctuation_mark in [punctuation for punctuation in string.punctuation if punctuation != \"_\"]:\n",
    "    sentence = sentence.replace(punctuation_mark,\"\").lower()\n",
    "\n",
    "print(f\"STEP4: {sentence}\")"
   ]
  },
  {
   "cell_type": "markdown",
   "id": "1b572b9b-e653-4995-9161-58545504f45a",
   "metadata": {},
   "source": [
    "Now, as seen in step 4 above, all other punctuation marks have been removed while preserving meaningful word combinations for recipe labels."
   ]
  },
  {
   "cell_type": "markdown",
   "id": "b2cd9fb7-18eb-4215-bced-8f416533f65e",
   "metadata": {},
   "source": [
    "## Remove Numbers"
   ]
  },
  {
   "cell_type": "markdown",
   "id": "21d00974-f571-45f7-910a-b3cb2da86b59",
   "metadata": {},
   "source": [
    "Similar to punctuation, the `digits` attribute of the `string` module can be used to remove digits. In this specific context of recipe labels, numerical digits do not hold much meaning and were thus removed."
   ]
  },
  {
   "cell_type": "code",
   "execution_count": 35,
   "id": "cc1b363d-d7f0-496f-bf08-d897a41b21fa",
   "metadata": {},
   "outputs": [
    {
     "name": "stdout",
     "output_type": "stream",
     "text": [
      "0123456789\n"
     ]
    }
   ],
   "source": [
    "# Examing numerical digits to be removed\n",
    "print(string.digits)"
   ]
  },
  {
   "cell_type": "markdown",
   "id": "79316dd7-6c8d-4a4d-95dd-59634c394e1f",
   "metadata": {},
   "source": [
    "The `maketrans()` method was used as a faster alternative to looping through each character."
   ]
  },
  {
   "cell_type": "code",
   "execution_count": 36,
   "id": "dbd453c1-a823-4164-a2fb-2b4b42ebb9d3",
   "metadata": {},
   "outputs": [
    {
     "name": "stdout",
     "output_type": "stream",
     "text": [
      "recipes main_dishes beef corned_beef_recipes\n"
     ]
    }
   ],
   "source": [
    "# Each digit within string.digits is mapped to None\n",
    "remove_digits = str.maketrans('','', string.digits)\n",
    "\n",
    "# Apply mapping to sentence\n",
    "sentence = sentence.translate(remove_digits)\n",
    "\n",
    "print(sentence)"
   ]
  },
  {
   "cell_type": "markdown",
   "id": "378b6f7b-b08d-4890-b93a-b8b48a8e09bb",
   "metadata": {},
   "source": [
    "As expected, no changes were observed since no numerical digits were present in the example. To prove that numerical digits are being removed, the below simple test case was created:"
   ]
  },
  {
   "cell_type": "code",
   "execution_count": 37,
   "id": "269dd729-8ccd-499e-8d1e-c2efa73f8d27",
   "metadata": {},
   "outputs": [
    {
     "name": "stdout",
     "output_type": "stream",
     "text": [
      "Test with numbers: recipes main_dishes11111 beef2222 corned_beef_recipes\n",
      "recipes main_dishes beef corned_beef_recipes\n"
     ]
    }
   ],
   "source": [
    "# Example with numbers inside\n",
    "test_sentence = \"recipes main_dishes11111 beef2222 corned_beef_recipes\"\n",
    "print(f\"Test with numbers: {test_sentence}\")\n",
    "\n",
    "# Apply mapping to remove digits to test sentence\n",
    "test_sentence = test_sentence.translate(remove_digits)\n",
    "\n",
    "print(test_sentence)"
   ]
  },
  {
   "cell_type": "markdown",
   "id": "74422b44-03e9-47f9-a825-46f9f466462c",
   "metadata": {},
   "source": [
    "## Remove Stop Words + Stemming"
   ]
  },
  {
   "cell_type": "markdown",
   "id": "73c46fd6-2f86-4dc1-b974-285d165420f4",
   "metadata": {},
   "source": [
    "Stop Words refer to words that appear so commonly that they hold no significant meaning. A list of English stop words was accessed through the Natural Language ToolKit ([NLTK](https://www.nltk.org/)) corpus, and further extended to include words specific to this use case."
   ]
  },
  {
   "cell_type": "code",
   "execution_count": 38,
   "id": "b209290f-8a7a-4e88-bc16-f38a85ddc2f8",
   "metadata": {
    "scrolled": true
   },
   "outputs": [
    {
     "name": "stdout",
     "output_type": "stream",
     "text": [
      "['i', 'me', 'my', 'myself', 'we', 'our', 'ours', 'ourselves', 'you', \"you're\"]\n"
     ]
    }
   ],
   "source": [
    "# Examine first 10 stopwords in enlish\n",
    "eng_stopwords = stopwords.words('english')\n",
    "print(eng_stopwords[0:10])"
   ]
  },
  {
   "cell_type": "code",
   "execution_count": 39,
   "id": "5f1a5c5d-9ac4-4a98-aede-46ff189efc07",
   "metadata": {},
   "outputs": [],
   "source": [
    "# Include some stop words in food recipes\n",
    "eng_stopwords.extend(['degree','degrees','c','f', 'recipe', 'recipes', 'minute', 'minutes', 'cuisine', 'cuisines'])"
   ]
  },
  {
   "cell_type": "markdown",
   "id": "87c3061a-8493-4700-af68-f20e4056c5c8",
   "metadata": {},
   "source": [
    "After defining stop words to exclude from analysis, the variant of each word can be standardized using stemming. Stemming is an imperfect solution to standardizing variants of words, such as the \"s\" at the end of plural forms.\n",
    "\n",
    "Note that each sentence was broken up into words based on whitespaces as meaningful combinations of words were already accounted for when removing punctuation."
   ]
  },
  {
   "cell_type": "code",
   "execution_count": 40,
   "id": "e74a979d-66e9-4ee8-9dd9-42724ad1b2b2",
   "metadata": {},
   "outputs": [],
   "source": [
    "# Define a stemmer\n",
    "stemmer = nltk.stem.PorterStemmer()"
   ]
  },
  {
   "cell_type": "code",
   "execution_count": 41,
   "id": "8f6a32ba-d21d-48cc-b5e7-b9d5b2ff5fb5",
   "metadata": {},
   "outputs": [
    {
     "name": "stdout",
     "output_type": "stream",
     "text": [
      "Before stemming and stop word removal:    recipes main_dishes beef corned_beef_recipes\n",
      "After stemming and stop word removal:    ['main_dish', 'beef', 'corned_beef_recip']\n"
     ]
    }
   ],
   "source": [
    "print(f\"Before stemming and stop word removal:    {sentence}\")\n",
    "\n",
    "# Split sentence into words based on spaces\n",
    "list_of_words = sentence.split(' ')\n",
    "\n",
    "# Define blank list to store stemmed words\n",
    "list_of_stemmed_words = []\n",
    "\n",
    "for word in list_of_words:\n",
    "    \n",
    "    # Remove stop words and and any tokens that are just empty strings\n",
    "    if (not word in eng_stopwords) and word != \"\":\n",
    "\n",
    "        # Stem each word\n",
    "        list_of_stemmed_words.append(stemmer.stem(word))\n",
    "\n",
    "# Examine sentence after stemming and stop word removal\n",
    "print(f\"After stemming and stop word removal:    {list_of_stemmed_words}\")"
   ]
  },
  {
   "cell_type": "markdown",
   "id": "ccb693ef-241c-4a56-8bbb-5927cdd6cc8d",
   "metadata": {},
   "source": [
    "As expected, the word `recipes` was removed since it was defined as a stop word. The stemming worked as expected as the plurality of `main_dishes` was removed, leaving `main_dish`. Stemming is not a perfect process as `corned_beef_recipes` was stemmed to `corned_beef_recip`. "
   ]
  },
  {
   "cell_type": "markdown",
   "id": "cf53bbbd-0980-4646-ad01-c373db4ad924",
   "metadata": {},
   "source": [
    "## Compilation into a Tokenizer function"
   ]
  },
  {
   "cell_type": "markdown",
   "id": "c59fdd2f-f9e6-4d12-8e92-e1972df8a53a",
   "metadata": {},
   "source": [
    "The above text preprocessing steps were combined into a function to be applied to each recipe. "
   ]
  },
  {
   "cell_type": "code",
   "execution_count": 42,
   "id": "bdc92793-74d8-491b-9932-7f67b0092c4a",
   "metadata": {},
   "outputs": [],
   "source": [
    "def tokenizer(sentence):\n",
    "    \"\"\"\n",
    "    This function performs the tokenization of text with below steps:\n",
    "    1) removes punctuation and combines meaningful labels with underscore\n",
    "    2) removes numerical digits\n",
    "    3) splits a sentence into words based on white space\n",
    "    4) removes stop words\n",
    "    5) apply PorterStemmer to each word\n",
    "\n",
    "    ======\n",
    "    INPUTS\n",
    "    ======\n",
    "    sentence: a string object to be tokenized\n",
    "\n",
    "    =======\n",
    "    OUTPUTS\n",
    "    =======\n",
    "    stemmed_tokens: a list of stemmed tokens\n",
    "\n",
    "    =======\n",
    "    EXAMPLE\n",
    "    =======\n",
    "    Given:\n",
    "    sentence = \"['Recipes', 'Main Dishes', 'Beef', 'Corned Beef Recipes']\"\n",
    "    print(type(sentence))\n",
    "    >>> str\n",
    "    \n",
    "    tokens = tokenizer(sentence)\n",
    "    print(tokens)\n",
    "    >>> ['main_dish', 'beef', 'corned_beef_recip']\n",
    "    \n",
    "    print(type(tokens))\n",
    "    >>> list\n",
    "    \"\"\"\n",
    "\n",
    "    assert isinstance(sentence,str), \"Passed object is not string\"\n",
    "    \n",
    "    # Define variables\n",
    "    punctuation_to_remove = [punctuation for punctuation in string.punctuation if punctuation != \"_\"]\n",
    "    digits_to_remove      = string.digits\n",
    "    stemmer               = nltk.stem.PorterStemmer()\n",
    "    stemmed_tokens        = [] # Initiate blank link for storing tokens\n",
    "    eng_stopwords         = stopwords.words('english')\n",
    "    eng_stopwords.extend(['degree','degrees','c','f', 'recipe', 'recipes', 'minute', 'minutes', 'cuisine','cuisines'])\n",
    "    \n",
    "    # Remove punctuation and combine meaningful words\n",
    "    sentence = re.sub(\",\\s\",\"+\",sentence) # STEP 1: Replace all spaces after commas with placeholder \"+\"\n",
    "    sentence = re.sub(\"\\s\",\"_\",sentence)  # STEP 2: Replace all other spaces within quotation marks with \"_\"\n",
    "    sentence = sentence.replace(\"+\",\", \") # STEP 3: Revert the placeholder to back to original space to separate labels\n",
    "    for punctuation_mark in punctuation_to_remove:\n",
    "        sentence = sentence.replace(punctuation_mark,\"\").lower()\n",
    "\n",
    "    # Remove numerical digits using mapper\n",
    "    remove_digits_mapper = str.maketrans('','', digits_to_remove)\n",
    "    sentence = sentence.translate(remove_digits_mapper)\n",
    "\n",
    "    # Split sentence into individual tokens\n",
    "    tokens = sentence.split(' ')\n",
    "\n",
    "    for token in tokens:\n",
    "        # Remove stop words and and any tokens that are just empty strings\n",
    "        if (not token in eng_stopwords) and token != \"\":\n",
    "            # Stem each token\n",
    "            stemmed_tokens.append(stemmer.stem(token))\n",
    "\n",
    "    return stemmed_tokens"
   ]
  },
  {
   "cell_type": "code",
   "execution_count": 43,
   "id": "059d1c1a-7add-4b9f-85a8-f82429300ad0",
   "metadata": {},
   "outputs": [
    {
     "name": "stdout",
     "output_type": "stream",
     "text": [
      "Recipe labels before tokenization:    ['Recipes', 'Main Dishes', 'Beef', 'Corned Beef Recipes']\n",
      "Recipe labels after tokenization:    ['main_dish', 'beef', 'corned_beef_recip']\n"
     ]
    }
   ],
   "source": [
    "# Testing the function\n",
    "sentence = df.loc[0,\"label\"]\n",
    "print(f\"Recipe labels before tokenization:    {sentence}\")\n",
    "\n",
    "# Apply the tokenizer\n",
    "tokens = tokenizer(sentence)\n",
    "print(f\"Recipe labels after tokenization:    {tokens}\")"
   ]
  },
  {
   "cell_type": "markdown",
   "id": "b9d2e720-979e-46de-be42-8c8d89874954",
   "metadata": {},
   "source": [
    "The tokenizer works as expected based on the test case of Corned Beef Roast."
   ]
  },
  {
   "cell_type": "markdown",
   "id": "65a0e0e0-0354-4df4-adea-f9de816394f8",
   "metadata": {},
   "source": [
    "# CountVectorizor"
   ]
  },
  {
   "cell_type": "markdown",
   "id": "fae197ce-c754-4f81-ac0a-fee6ce3d2072",
   "metadata": {},
   "source": [
    "## Testing with Smaller Sample"
   ]
  },
  {
   "cell_type": "markdown",
   "id": "fa861646-92b9-4950-a09d-1aba96d6f9b8",
   "metadata": {},
   "source": [
    "As the main purpose was the analysis of recipe label texts, the recipe labels were quantified by simply counting the frequency of tokens(recipe labels) in each recipe, otherwise known as count-vectorizing. A test on a smaller sample of data was performed to understand the performance of vectorization as it can be a time consuming process. Each token becomes a column, and, given a large corpus (many recipes), a large sparse table could be generated. \n",
    "\n",
    "This approach is commonly known as \"bagofwords\" approach as grammar and the order of words were ignored. Counting the frequency of tokens is akin to counting how many different objects of each type are inside a bag. Usually this process would be part of a machine learning pipeline, but is useful in and of itself for analysis such as these."
   ]
  },
  {
   "cell_type": "code",
   "execution_count": 44,
   "id": "b45e82e1-8b4d-4731-8fc1-9f391f6ef2fe",
   "metadata": {
    "scrolled": true
   },
   "outputs": [
    {
     "name": "stdout",
     "output_type": "stream",
     "text": [
      "Time taken: 0.0065 seconds.\n"
     ]
    },
    {
     "name": "stderr",
     "output_type": "stream",
     "text": [
      "/opt/conda/lib/python3.11/site-packages/sklearn/feature_extraction/text.py:528: UserWarning: The parameter 'token_pattern' will not be used since 'tokenizer' is not None'\n",
      "  warnings.warn(\n"
     ]
    }
   ],
   "source": [
    "# Define a CountVectorizer model that uses the tokenizer previously defined\n",
    "bagofwords = CountVectorizer(\n",
    "    tokenizer = tokenizer\n",
    ")\n",
    "\n",
    "# Tell the Vectorizer what tokens there are by fitting it to the first two recipes for testing\n",
    "with print_time():\n",
    "    bagofwords.fit(df[\"label\"].head(2))"
   ]
  },
  {
   "cell_type": "code",
   "execution_count": 45,
   "id": "8e84b381-227b-4c6b-b32b-7d970dfa3591",
   "metadata": {},
   "outputs": [
    {
     "name": "stdout",
     "output_type": "stream",
     "text": [
      "Time taken: 0.0035 seconds.\n",
      "<class 'scipy.sparse._csr.csr_matrix'>\n"
     ]
    }
   ],
   "source": [
    "# Use the fitted vectorizer to transform labels into tokens\n",
    "with print_time():\n",
    "    labels_transformed = bagofwords.transform(df[\"label\"].head(2))\n",
    "\n",
    "# Examine the data type\n",
    "print(type(labels_transformed))"
   ]
  },
  {
   "cell_type": "markdown",
   "id": "94001d69-e1ce-49e8-a779-8373b55e473e",
   "metadata": {},
   "source": [
    "For 2 recipes, the entire fit and transform process took less than 0.01 seconds. The output of the vectorizer is a sparse matrix, which is a compressed form of data storage used for optimizing file size when the data contains many zero values. To examine the output, the sparse matrix(table) must first be converted back to a DataFrame."
   ]
  },
  {
   "cell_type": "code",
   "execution_count": 46,
   "id": "0f776bf7-a219-4eda-8af6-1c4cbc8ceb36",
   "metadata": {},
   "outputs": [
    {
     "data": {
      "text/html": [
       "<div>\n",
       "<style scoped>\n",
       "    .dataframe tbody tr th:only-of-type {\n",
       "        vertical-align: middle;\n",
       "    }\n",
       "\n",
       "    .dataframe tbody tr th {\n",
       "        vertical-align: top;\n",
       "    }\n",
       "\n",
       "    .dataframe thead th {\n",
       "        text-align: right;\n",
       "    }\n",
       "</style>\n",
       "<table border=\"1\" class=\"dataframe\">\n",
       "  <thead>\n",
       "    <tr style=\"text-align: right;\">\n",
       "      <th></th>\n",
       "      <th>title</th>\n",
       "      <th>label</th>\n",
       "      <th>beef</th>\n",
       "      <th>corned_beef_recip</th>\n",
       "      <th>european</th>\n",
       "      <th>irish</th>\n",
       "      <th>main_dish</th>\n",
       "      <th>uk_and_ireland</th>\n",
       "    </tr>\n",
       "  </thead>\n",
       "  <tbody>\n",
       "    <tr>\n",
       "      <th>0</th>\n",
       "      <td>Corned Beef Roast</td>\n",
       "      <td>['Recipes', 'Main Dishes', 'Beef', 'Corned Bee...</td>\n",
       "      <td>1</td>\n",
       "      <td>1</td>\n",
       "      <td>0</td>\n",
       "      <td>0</td>\n",
       "      <td>1</td>\n",
       "      <td>0</td>\n",
       "    </tr>\n",
       "    <tr>\n",
       "      <th>1</th>\n",
       "      <td>Stout-Braised Lamb Shanks</td>\n",
       "      <td>['Cuisine', 'European', 'UK and Ireland', 'Iri...</td>\n",
       "      <td>0</td>\n",
       "      <td>0</td>\n",
       "      <td>1</td>\n",
       "      <td>1</td>\n",
       "      <td>0</td>\n",
       "      <td>1</td>\n",
       "    </tr>\n",
       "  </tbody>\n",
       "</table>\n",
       "</div>"
      ],
      "text/plain": [
       "                       title  \\\n",
       "0          Corned Beef Roast   \n",
       "1  Stout-Braised Lamb Shanks   \n",
       "\n",
       "                                               label  beef  corned_beef_recip  \\\n",
       "0  ['Recipes', 'Main Dishes', 'Beef', 'Corned Bee...     1                  1   \n",
       "1  ['Cuisine', 'European', 'UK and Ireland', 'Iri...     0                  0   \n",
       "\n",
       "   european  irish  main_dish  uk_and_ireland  \n",
       "0         0      0          1               0  \n",
       "1         1      1          0               1  "
      ]
     },
     "metadata": {},
     "output_type": "display_data"
    }
   ],
   "source": [
    "# Convert the vectorized labels from a sparse matrix object into a DataFrame\n",
    "vectorized_labels = pd.DataFrame(\n",
    "    labels_transformed.toarray(),\n",
    "    columns = bagofwords.get_feature_names_out()\n",
    ")\n",
    "\n",
    "# Combine the vectors with the original DataFrame for examination\n",
    "test_vectors = pd.concat(\n",
    "    [\n",
    "        df[[\"title\", \"label\"]].head(2),\n",
    "        vectorized_labels\n",
    "    ],\n",
    "    axis = 1\n",
    ")\n",
    "\n",
    "display(test_vectors)"
   ]
  },
  {
   "cell_type": "markdown",
   "id": "0371f99d-085e-43e3-bd3c-077787d1bcc4",
   "metadata": {},
   "source": [
    "The CountVectorizer vectorized the recipe labels into counts of tokens. Note that the number of tokens is dependent on the recipes used to fit the vectorizer. If a new recipe containing entirely new tokens were fed to the same pre-trained vectorizer, an entire row of zeros would be observed and no new tokens will be added. Thus, a new CountVectorizer will need to be built each time new data is added."
   ]
  },
  {
   "cell_type": "markdown",
   "id": "44258869-bf26-42b6-8fae-7da1ed06ede3",
   "metadata": {},
   "source": [
    "## All Recipes Vectorized"
   ]
  },
  {
   "cell_type": "markdown",
   "id": "844d3dd8-134b-46bb-81ac-ec633b671fe3",
   "metadata": {},
   "source": [
    "Since testing with the smaller sample was successful, all 33,691 recipes were now vectorized using the same method."
   ]
  },
  {
   "cell_type": "code",
   "execution_count": 47,
   "id": "925a3816-07c1-4a33-b99c-82a203a7e04b",
   "metadata": {},
   "outputs": [
    {
     "name": "stderr",
     "output_type": "stream",
     "text": [
      "/opt/conda/lib/python3.11/site-packages/sklearn/feature_extraction/text.py:528: UserWarning: The parameter 'token_pattern' will not be used since 'tokenizer' is not None'\n",
      "  warnings.warn(\n"
     ]
    },
    {
     "name": "stdout",
     "output_type": "stream",
     "text": [
      "Time taken: 5.6178 seconds.\n"
     ]
    }
   ],
   "source": [
    "# Define a CountVectorizer model with previously built tokenizer\n",
    "label_vectorizer_001 = CountVectorizer(\n",
    "    tokenizer = tokenizer\n",
    ")\n",
    "\n",
    "# Fit and Transform the recipe labels using the CountVectorizer\n",
    "with print_time():\n",
    "    sparse_labels = label_vectorizer_001.fit_transform(df[\"label\"])"
   ]
  },
  {
   "cell_type": "code",
   "execution_count": 48,
   "id": "9fb96d92-00a6-4608-8d5b-c6a20938142e",
   "metadata": {},
   "outputs": [],
   "source": [
    "# Convert sparse matrix back to DataFrame for inspection\n",
    "vectorized_labels = pd.DataFrame(\n",
    "    sparse_labels.toarray(),\n",
    "    columns = label_vectorizer_001.get_feature_names_out()\n",
    ")"
   ]
  },
  {
   "cell_type": "code",
   "execution_count": 49,
   "id": "7652ac9b-55b1-4876-826c-f20773fa8070",
   "metadata": {},
   "outputs": [
    {
     "name": "stdout",
     "output_type": "stream",
     "text": [
      "There are 1196 tokens for 33691 recipes.\n"
     ]
    }
   ],
   "source": [
    "print(f\"There are {vectorized_labels.shape[1]} tokens for {vectorized_labels.shape[0]} recipes.\")"
   ]
  },
  {
   "cell_type": "code",
   "execution_count": 50,
   "id": "f1d194f3-bec6-4748-8f6e-e16bf8a54074",
   "metadata": {},
   "outputs": [
    {
     "data": {
      "text/html": [
       "<div>\n",
       "<style scoped>\n",
       "    .dataframe tbody tr th:only-of-type {\n",
       "        vertical-align: middle;\n",
       "    }\n",
       "\n",
       "    .dataframe tbody tr th {\n",
       "        vertical-align: top;\n",
       "    }\n",
       "\n",
       "    .dataframe thead th {\n",
       "        text-align: right;\n",
       "    }\n",
       "</style>\n",
       "<table border=\"1\" class=\"dataframe\">\n",
       "  <thead>\n",
       "    <tr style=\"text-align: right;\">\n",
       "      <th></th>\n",
       "      <th>_layer_dip_recip</th>\n",
       "      <th>acorn_squash</th>\n",
       "      <th>acorn_squash_side_dish_recip</th>\n",
       "      <th>adult_punch_recip</th>\n",
       "      <th>african</th>\n",
       "    </tr>\n",
       "  </thead>\n",
       "  <tbody>\n",
       "    <tr>\n",
       "      <th>0</th>\n",
       "      <td>0</td>\n",
       "      <td>0</td>\n",
       "      <td>0</td>\n",
       "      <td>0</td>\n",
       "      <td>0</td>\n",
       "    </tr>\n",
       "    <tr>\n",
       "      <th>1</th>\n",
       "      <td>0</td>\n",
       "      <td>0</td>\n",
       "      <td>0</td>\n",
       "      <td>0</td>\n",
       "      <td>0</td>\n",
       "    </tr>\n",
       "    <tr>\n",
       "      <th>2</th>\n",
       "      <td>0</td>\n",
       "      <td>0</td>\n",
       "      <td>0</td>\n",
       "      <td>0</td>\n",
       "      <td>0</td>\n",
       "    </tr>\n",
       "    <tr>\n",
       "      <th>3</th>\n",
       "      <td>0</td>\n",
       "      <td>0</td>\n",
       "      <td>0</td>\n",
       "      <td>0</td>\n",
       "      <td>0</td>\n",
       "    </tr>\n",
       "    <tr>\n",
       "      <th>4</th>\n",
       "      <td>0</td>\n",
       "      <td>0</td>\n",
       "      <td>0</td>\n",
       "      <td>0</td>\n",
       "      <td>0</td>\n",
       "    </tr>\n",
       "  </tbody>\n",
       "</table>\n",
       "</div>"
      ],
      "text/plain": [
       "   _layer_dip_recip  acorn_squash  acorn_squash_side_dish_recip  \\\n",
       "0                 0             0                             0   \n",
       "1                 0             0                             0   \n",
       "2                 0             0                             0   \n",
       "3                 0             0                             0   \n",
       "4                 0             0                             0   \n",
       "\n",
       "   adult_punch_recip  african  \n",
       "0                  0        0  \n",
       "1                  0        0  \n",
       "2                  0        0  \n",
       "3                  0        0  \n",
       "4                  0        0  "
      ]
     },
     "execution_count": 50,
     "metadata": {},
     "output_type": "execute_result"
    }
   ],
   "source": [
    "# Visually inspect the first 5 recipes and the first 5 labels\n",
    "vectorized_labels.iloc[0:5, 0:5]"
   ]
  },
  {
   "cell_type": "markdown",
   "id": "ea3f3bd0-72fc-4ecc-a985-3580f0c26423",
   "metadata": {},
   "source": [
    "The vectorizer worked as expected with each token becoming a column and the value for each row representing the count of a token within each recipe label. Visual inspection of the first 5 tokens revealed areas of further improvement: \n",
    "- `_layer_dip_recip`: Tokens beginning with '_' were due to numerical digits being removed after punctuation was removed.\n",
    "- `acorn_squash`: the 2nd and 3rd tokens were observed to both contain acorn_squash. One argument is to combine them into a single token, with `side_dish` being its own token. However, the label `acorn_squash_side_dish_recip` specifies that a recipe is definitely a side dish whereas the label `acorn_sqaush` just indicates its presence as an ingredient in the recipe.\n",
    "\n",
    "In the future, others method of quantifying text will be explored to further improve the meaning carried by each token. For now, the above vectorization is enough for a simple analysis on popular recipe labels."
   ]
  },
  {
   "cell_type": "markdown",
   "id": "c53176c8-9509-4822-857c-4e42fa0fabd9",
   "metadata": {},
   "source": [
    "# Visual Analysis of Recipe Labels"
   ]
  },
  {
   "cell_type": "markdown",
   "id": "dc68604c-ccfe-467e-8187-e0af8c6fe2ac",
   "metadata": {},
   "source": [
    "## Top 20 Recipe Labels"
   ]
  },
  {
   "cell_type": "markdown",
   "id": "cfcafaa2-ad0a-4cb8-8d01-d066007b6cd5",
   "metadata": {},
   "source": [
    "The popularity of recipe labels may be represented by its frequency within the corpus of recipes."
   ]
  },
  {
   "cell_type": "code",
   "execution_count": 51,
   "id": "2f0d1ef5-b50e-4850-b70c-9d82046ad5a7",
   "metadata": {},
   "outputs": [
    {
     "data": {
      "text/plain": [
       "dessert                  6527\n",
       "side_dish                4200\n",
       "main_dish                3661\n",
       "meat_and_poultri         2476\n",
       "soup                     2473\n",
       "stews_and_chili_recip    2471\n",
       "appetizers_and_snack     2463\n",
       "salad                    1814\n",
       "chicken                  1800\n",
       "bread                    1791\n",
       "veget                    1760\n",
       "sauces_and_condi         1716\n",
       "soup_recip               1712\n",
       "breakfast_and_brunch     1619\n",
       "cooki                    1557\n",
       "european                 1231\n",
       "cake                     1226\n",
       "drinks_recip             1164\n",
       "pork                     1106\n",
       "quick_bread_recip        1070\n",
       "dtype: int64"
      ]
     },
     "execution_count": 51,
     "metadata": {},
     "output_type": "execute_result"
    }
   ],
   "source": [
    "# Find the most popular recipe labels based on how frequently they appear among recipes\n",
    "# Sum each column to count frequency of each token, sort in descending order and take the first 20\n",
    "vectorized_labels.sum().\\\n",
    "    sort_values(ascending = False).\\\n",
    "    head(20)"
   ]
  },
  {
   "cell_type": "markdown",
   "id": "88f7eacb-6319-4bde-bae0-20ebca07f7af",
   "metadata": {},
   "source": [
    "Now, the above table can be represented visually for a better understanding of differences in popularity between labels."
   ]
  },
  {
   "cell_type": "code",
   "execution_count": 52,
   "id": "ffd08825-7086-4869-b698-92b6ff2a2ccf",
   "metadata": {},
   "outputs": [
    {
     "data": {
      "image/png": "[encoded data removed]",
      "text/plain": [
       "<Figure size 1000x500 with 1 Axes>"
      ]
     },
     "metadata": {},
     "output_type": "display_data"
    }
   ],
   "source": [
    "# Initiate figure object\n",
    "fig, ax = plt.subplots(\n",
    "    nrows = 1,\n",
    "    ncols = 1,\n",
    "    figsize = (10,5)\n",
    ")\n",
    "\n",
    "# Divide the sum by thousand to display in units of thousands.\n",
    "plot_series = vectorized_labels.sum().\\\n",
    "    sort_values(ascending = False).\\\n",
    "    head(20)/1_000\n",
    "\n",
    "# Plot series in a bar chart\n",
    "plot_series.plot(\n",
    "        ax = ax,\n",
    "        kind = \"bar\",\n",
    "        legend = None,\n",
    "        color = \"cornflowerblue\"\n",
    "    )\n",
    "\n",
    "# Define space above each bar to display value\n",
    "vertical_offset = plot_series.mean() * 0.05\n",
    "\n",
    "# Define value to place on top of each bar\n",
    "for xtick in ax.get_xticks():\n",
    "    ax.text(\n",
    "        x = xtick,\n",
    "        y = plot_series[xtick] + vertical_offset,\n",
    "        s = \"{:.1f}\".format(round(plot_series[xtick],2)),\n",
    "        horizontalalignment = \"center\",\n",
    "        size = \"small\",\n",
    "        color = \"black\"\n",
    "    )\n",
    "\n",
    "# Settings to keep axis tidy\n",
    "plt.xticks(rotation = 45, ha = \"right\")\n",
    "plt.xlabel(\"Recipe Labels\")\n",
    "plt.ylabel(\"Recipe Label Frequency ('000)\")\n",
    "sns.despine()\n",
    "\n",
    "# Add title\n",
    "title = \"Figure 1: Top 20 Recipe Labels by Frequency\"\n",
    "plt.title(f\"{title}\", y = -0.5, size = 12, fontweight = \"bold\")\n",
    "\n",
    "# Save the figure in assets folder\n",
    "image_file_name = f\"../22_assets/images/{time.strftime('%Y%m%d-%H%M')}_{title}.png\"\n",
    "fig.savefig(\n",
    "    fname = image_file_name,\n",
    "    dpi = 300,\n",
    "    format = \"png\",\n",
    "    bbox_inches = \"tight\")\n",
    "\n",
    "plt.show()"
   ]
  },
  {
   "cell_type": "markdown",
   "id": "9a986611-791f-4e62-a0a2-373f6f4d0a9f",
   "metadata": {},
   "source": [
    "From the bar chart, it was observed that `dessert` was the most popular recipe label in allrecipes.com appearing 6.5K times out of 33.7K recipes analyzed. Next were `side_dish` and `main_dish`, which still keep in theme of the type of food presented at the table. However, in 4th to 7th places, a deviation from this theme was observed as `meat_and_poultry` recipes could be either a side dish or a main dish. \n",
    "\n",
    "Note the values presented could be an underestimate of \"actual\" values. For example, the token `side_dish` is also a part of `acorsn_squash_side_dish_recip` since both tokens refer to side dishes. This can be addressed in future iterations of text pre-processing."
   ]
  },
  {
   "cell_type": "markdown",
   "id": "107c686c-1864-4529-8b6a-e87a94ecb880",
   "metadata": {},
   "source": [
    "## Bivariate Analysis with Average Rating"
   ]
  },
  {
   "cell_type": "markdown",
   "id": "c55b689c-532d-4017-8859-ac2c3b7c61cd",
   "metadata": {},
   "source": [
    "Aside from the univariate analysis of recipe label counts, the frequency of labels can also be analyzed with respect to other metrics such as the average rating of recipes. To calculate the average rating for each recipe label using harmonic means, the data must be further unpivoted and aggregated again by recipe labels.\n",
    "\n",
    "As there were a total of 1,196 unique tokens generated and 33,691 recipes, unpivoting all the tokens would lead to a total of 40.3M rows. This may pose a memory problem for the local machine. As we are only interested in the top 20 recipe labels, the other tokens were excluded from the unpivoting process, leading instead to a smaller table of 0.7M rows. "
   ]
  },
  {
   "cell_type": "code",
   "execution_count": 53,
   "id": "740f5880-dcb1-48ee-8ad6-e5326d8f05fb",
   "metadata": {},
   "outputs": [
    {
     "data": {
      "text/html": [
       "<div>\n",
       "<style scoped>\n",
       "    .dataframe tbody tr th:only-of-type {\n",
       "        vertical-align: middle;\n",
       "    }\n",
       "\n",
       "    .dataframe tbody tr th {\n",
       "        vertical-align: top;\n",
       "    }\n",
       "\n",
       "    .dataframe thead th {\n",
       "        text-align: right;\n",
       "    }\n",
       "</style>\n",
       "<table border=\"1\" class=\"dataframe\">\n",
       "  <thead>\n",
       "    <tr style=\"text-align: right;\">\n",
       "      <th></th>\n",
       "      <th>0</th>\n",
       "      <th>1</th>\n",
       "      <th>2</th>\n",
       "    </tr>\n",
       "  </thead>\n",
       "  <tbody>\n",
       "    <tr>\n",
       "      <th>recipe_url</th>\n",
       "      <td>https://www.allrecipes.com/recipe/83646/corned...</td>\n",
       "      <td>https://www.allrecipes.com/recipe/158799/stout...</td>\n",
       "      <td>https://www.allrecipes.com/recipe/8508920/miss...</td>\n",
       "    </tr>\n",
       "    <tr>\n",
       "      <th>title</th>\n",
       "      <td>Corned Beef Roast</td>\n",
       "      <td>Stout-Braised Lamb Shanks</td>\n",
       "      <td>Mississippi Chicken</td>\n",
       "    </tr>\n",
       "    <tr>\n",
       "      <th>label</th>\n",
       "      <td>['Recipes', 'Main Dishes', 'Beef', 'Corned Bee...</td>\n",
       "      <td>['Cuisine', 'European', 'UK and Ireland', 'Iri...</td>\n",
       "      <td>['Recipes', 'Meat and Poultry', 'Chicken']</td>\n",
       "    </tr>\n",
       "    <tr>\n",
       "      <th>rating_average</th>\n",
       "      <td>4.4</td>\n",
       "      <td>4.5</td>\n",
       "      <td>4.8</td>\n",
       "    </tr>\n",
       "    <tr>\n",
       "      <th>rating_count</th>\n",
       "      <td>68</td>\n",
       "      <td>45</td>\n",
       "      <td>4</td>\n",
       "    </tr>\n",
       "    <tr>\n",
       "      <th>dessert</th>\n",
       "      <td>0</td>\n",
       "      <td>0</td>\n",
       "      <td>0</td>\n",
       "    </tr>\n",
       "    <tr>\n",
       "      <th>side_dish</th>\n",
       "      <td>0</td>\n",
       "      <td>0</td>\n",
       "      <td>0</td>\n",
       "    </tr>\n",
       "    <tr>\n",
       "      <th>main_dish</th>\n",
       "      <td>1</td>\n",
       "      <td>0</td>\n",
       "      <td>0</td>\n",
       "    </tr>\n",
       "    <tr>\n",
       "      <th>meat_and_poultri</th>\n",
       "      <td>0</td>\n",
       "      <td>0</td>\n",
       "      <td>1</td>\n",
       "    </tr>\n",
       "    <tr>\n",
       "      <th>soup</th>\n",
       "      <td>0</td>\n",
       "      <td>0</td>\n",
       "      <td>0</td>\n",
       "    </tr>\n",
       "    <tr>\n",
       "      <th>stews_and_chili_recip</th>\n",
       "      <td>0</td>\n",
       "      <td>0</td>\n",
       "      <td>0</td>\n",
       "    </tr>\n",
       "    <tr>\n",
       "      <th>appetizers_and_snack</th>\n",
       "      <td>0</td>\n",
       "      <td>0</td>\n",
       "      <td>0</td>\n",
       "    </tr>\n",
       "    <tr>\n",
       "      <th>salad</th>\n",
       "      <td>0</td>\n",
       "      <td>0</td>\n",
       "      <td>0</td>\n",
       "    </tr>\n",
       "    <tr>\n",
       "      <th>chicken</th>\n",
       "      <td>0</td>\n",
       "      <td>0</td>\n",
       "      <td>1</td>\n",
       "    </tr>\n",
       "    <tr>\n",
       "      <th>bread</th>\n",
       "      <td>0</td>\n",
       "      <td>0</td>\n",
       "      <td>0</td>\n",
       "    </tr>\n",
       "    <tr>\n",
       "      <th>veget</th>\n",
       "      <td>0</td>\n",
       "      <td>0</td>\n",
       "      <td>0</td>\n",
       "    </tr>\n",
       "    <tr>\n",
       "      <th>sauces_and_condi</th>\n",
       "      <td>0</td>\n",
       "      <td>0</td>\n",
       "      <td>0</td>\n",
       "    </tr>\n",
       "    <tr>\n",
       "      <th>soup_recip</th>\n",
       "      <td>0</td>\n",
       "      <td>0</td>\n",
       "      <td>0</td>\n",
       "    </tr>\n",
       "    <tr>\n",
       "      <th>breakfast_and_brunch</th>\n",
       "      <td>0</td>\n",
       "      <td>0</td>\n",
       "      <td>0</td>\n",
       "    </tr>\n",
       "    <tr>\n",
       "      <th>cooki</th>\n",
       "      <td>0</td>\n",
       "      <td>0</td>\n",
       "      <td>0</td>\n",
       "    </tr>\n",
       "    <tr>\n",
       "      <th>european</th>\n",
       "      <td>0</td>\n",
       "      <td>1</td>\n",
       "      <td>0</td>\n",
       "    </tr>\n",
       "    <tr>\n",
       "      <th>cake</th>\n",
       "      <td>0</td>\n",
       "      <td>0</td>\n",
       "      <td>0</td>\n",
       "    </tr>\n",
       "    <tr>\n",
       "      <th>drinks_recip</th>\n",
       "      <td>0</td>\n",
       "      <td>0</td>\n",
       "      <td>0</td>\n",
       "    </tr>\n",
       "    <tr>\n",
       "      <th>pork</th>\n",
       "      <td>0</td>\n",
       "      <td>0</td>\n",
       "      <td>0</td>\n",
       "    </tr>\n",
       "    <tr>\n",
       "      <th>quick_bread_recip</th>\n",
       "      <td>0</td>\n",
       "      <td>0</td>\n",
       "      <td>0</td>\n",
       "    </tr>\n",
       "  </tbody>\n",
       "</table>\n",
       "</div>"
      ],
      "text/plain": [
       "                                                                       0  \\\n",
       "recipe_url             https://www.allrecipes.com/recipe/83646/corned...   \n",
       "title                                                  Corned Beef Roast   \n",
       "label                  ['Recipes', 'Main Dishes', 'Beef', 'Corned Bee...   \n",
       "rating_average                                                       4.4   \n",
       "rating_count                                                          68   \n",
       "dessert                                                                0   \n",
       "side_dish                                                              0   \n",
       "main_dish                                                              1   \n",
       "meat_and_poultri                                                       0   \n",
       "soup                                                                   0   \n",
       "stews_and_chili_recip                                                  0   \n",
       "appetizers_and_snack                                                   0   \n",
       "salad                                                                  0   \n",
       "chicken                                                                0   \n",
       "bread                                                                  0   \n",
       "veget                                                                  0   \n",
       "sauces_and_condi                                                       0   \n",
       "soup_recip                                                             0   \n",
       "breakfast_and_brunch                                                   0   \n",
       "cooki                                                                  0   \n",
       "european                                                               0   \n",
       "cake                                                                   0   \n",
       "drinks_recip                                                           0   \n",
       "pork                                                                   0   \n",
       "quick_bread_recip                                                      0   \n",
       "\n",
       "                                                                       1  \\\n",
       "recipe_url             https://www.allrecipes.com/recipe/158799/stout...   \n",
       "title                                          Stout-Braised Lamb Shanks   \n",
       "label                  ['Cuisine', 'European', 'UK and Ireland', 'Iri...   \n",
       "rating_average                                                       4.5   \n",
       "rating_count                                                          45   \n",
       "dessert                                                                0   \n",
       "side_dish                                                              0   \n",
       "main_dish                                                              0   \n",
       "meat_and_poultri                                                       0   \n",
       "soup                                                                   0   \n",
       "stews_and_chili_recip                                                  0   \n",
       "appetizers_and_snack                                                   0   \n",
       "salad                                                                  0   \n",
       "chicken                                                                0   \n",
       "bread                                                                  0   \n",
       "veget                                                                  0   \n",
       "sauces_and_condi                                                       0   \n",
       "soup_recip                                                             0   \n",
       "breakfast_and_brunch                                                   0   \n",
       "cooki                                                                  0   \n",
       "european                                                               1   \n",
       "cake                                                                   0   \n",
       "drinks_recip                                                           0   \n",
       "pork                                                                   0   \n",
       "quick_bread_recip                                                      0   \n",
       "\n",
       "                                                                       2  \n",
       "recipe_url             https://www.allrecipes.com/recipe/8508920/miss...  \n",
       "title                                                Mississippi Chicken  \n",
       "label                         ['Recipes', 'Meat and Poultry', 'Chicken']  \n",
       "rating_average                                                       4.8  \n",
       "rating_count                                                           4  \n",
       "dessert                                                                0  \n",
       "side_dish                                                              0  \n",
       "main_dish                                                              0  \n",
       "meat_and_poultri                                                       1  \n",
       "soup                                                                   0  \n",
       "stews_and_chili_recip                                                  0  \n",
       "appetizers_and_snack                                                   0  \n",
       "salad                                                                  0  \n",
       "chicken                                                                1  \n",
       "bread                                                                  0  \n",
       "veget                                                                  0  \n",
       "sauces_and_condi                                                       0  \n",
       "soup_recip                                                             0  \n",
       "breakfast_and_brunch                                                   0  \n",
       "cooki                                                                  0  \n",
       "european                                                               0  \n",
       "cake                                                                   0  \n",
       "drinks_recip                                                           0  \n",
       "pork                                                                   0  \n",
       "quick_bread_recip                                                      0  "
      ]
     },
     "execution_count": 53,
     "metadata": {},
     "output_type": "execute_result"
    }
   ],
   "source": [
    "# Select only the top 20 recipe labels\n",
    "top_20_labels = vectorized_labels.sum().sort_values(ascending = False).head(20).keys()\n",
    "\n",
    "# Combine DataFrame of recipes with the top 20 labels\n",
    "df = pd.concat(\n",
    "    [\n",
    "        df, # Original DataFrame with recipe titles and unprocessed labels\n",
    "        vectorized_labels.loc[:, top_20_labels] # Top 20 tokens only\n",
    "    ],\n",
    "    axis = 1\n",
    ")\n",
    "\n",
    "# Visually examine the combined DataFrame\n",
    "df.head(3).T"
   ]
  },
  {
   "cell_type": "markdown",
   "id": "40b571f0-10ef-43be-b853-16c709815631",
   "metadata": {},
   "source": [
    "As expected, only the columns representing the top 20 most popular recipe labels were preserved."
   ]
  },
  {
   "cell_type": "code",
   "execution_count": 54,
   "id": "d7ffd3e7-9207-42fc-9388-6e4557016d3b",
   "metadata": {},
   "outputs": [
    {
     "data": {
      "text/html": [
       "<div>\n",
       "<style scoped>\n",
       "    .dataframe tbody tr th:only-of-type {\n",
       "        vertical-align: middle;\n",
       "    }\n",
       "\n",
       "    .dataframe tbody tr th {\n",
       "        vertical-align: top;\n",
       "    }\n",
       "\n",
       "    .dataframe thead th {\n",
       "        text-align: right;\n",
       "    }\n",
       "</style>\n",
       "<table border=\"1\" class=\"dataframe\">\n",
       "  <thead>\n",
       "    <tr style=\"text-align: right;\">\n",
       "      <th></th>\n",
       "      <th>title</th>\n",
       "      <th>rating_average</th>\n",
       "      <th>rating_count</th>\n",
       "      <th>variable</th>\n",
       "      <th>value</th>\n",
       "    </tr>\n",
       "  </thead>\n",
       "  <tbody>\n",
       "    <tr>\n",
       "      <th>0</th>\n",
       "      <td>Corned Beef Roast</td>\n",
       "      <td>4.4</td>\n",
       "      <td>68</td>\n",
       "      <td>dessert</td>\n",
       "      <td>0</td>\n",
       "    </tr>\n",
       "    <tr>\n",
       "      <th>1</th>\n",
       "      <td>Stout-Braised Lamb Shanks</td>\n",
       "      <td>4.5</td>\n",
       "      <td>45</td>\n",
       "      <td>dessert</td>\n",
       "      <td>0</td>\n",
       "    </tr>\n",
       "    <tr>\n",
       "      <th>2</th>\n",
       "      <td>Mississippi Chicken</td>\n",
       "      <td>4.8</td>\n",
       "      <td>4</td>\n",
       "      <td>dessert</td>\n",
       "      <td>0</td>\n",
       "    </tr>\n",
       "    <tr>\n",
       "      <th>3</th>\n",
       "      <td>Lasagna Flatbread</td>\n",
       "      <td>4.5</td>\n",
       "      <td>42</td>\n",
       "      <td>dessert</td>\n",
       "      <td>0</td>\n",
       "    </tr>\n",
       "    <tr>\n",
       "      <th>4</th>\n",
       "      <td>Prosciutto-Wrapped Pork Tenderloin with Crispy...</td>\n",
       "      <td>4.8</td>\n",
       "      <td>12</td>\n",
       "      <td>dessert</td>\n",
       "      <td>0</td>\n",
       "    </tr>\n",
       "  </tbody>\n",
       "</table>\n",
       "</div>"
      ],
      "text/plain": [
       "                                               title  rating_average  \\\n",
       "0                                  Corned Beef Roast             4.4   \n",
       "1                          Stout-Braised Lamb Shanks             4.5   \n",
       "2                                Mississippi Chicken             4.8   \n",
       "3                                  Lasagna Flatbread             4.5   \n",
       "4  Prosciutto-Wrapped Pork Tenderloin with Crispy...             4.8   \n",
       "\n",
       "   rating_count variable  value  \n",
       "0            68  dessert      0  \n",
       "1            45  dessert      0  \n",
       "2             4  dessert      0  \n",
       "3            42  dessert      0  \n",
       "4            12  dessert      0  "
      ]
     },
     "metadata": {},
     "output_type": "display_data"
    }
   ],
   "source": [
    "# Unpivot the DataFrame for harmonic mean calculation\n",
    "df_1 = pd.melt(\n",
    "    df.drop(columns = [\"recipe_url\", \"label\"]),\n",
    "    id_vars = [\"title\", \"rating_average\", \"rating_count\"])\n",
    "\n",
    "# Examine the unpivotted DataFrame\n",
    "display(df_1.head())"
   ]
  },
  {
   "cell_type": "markdown",
   "id": "457db846-9476-4785-93a4-2c5bcd03b87a",
   "metadata": {},
   "source": [
    "In the table above, the recipe labels and their frequency counts were repeated for all 33,691 recipes along with each recipes average rating and rating count. The average of averages, or the harmonic mean, can be calculated by using rating counts as weights when taking the average of `rating_average` for each recipe label."
   ]
  },
  {
   "cell_type": "code",
   "execution_count": 55,
   "id": "ef70449c-7492-4f61-9038-213ed50b9eec",
   "metadata": {},
   "outputs": [
    {
     "data": {
      "text/html": [
       "<div>\n",
       "<style scoped>\n",
       "    .dataframe tbody tr th:only-of-type {\n",
       "        vertical-align: middle;\n",
       "    }\n",
       "\n",
       "    .dataframe tbody tr th {\n",
       "        vertical-align: top;\n",
       "    }\n",
       "\n",
       "    .dataframe thead th {\n",
       "        text-align: right;\n",
       "    }\n",
       "</style>\n",
       "<table border=\"1\" class=\"dataframe\">\n",
       "  <thead>\n",
       "    <tr style=\"text-align: right;\">\n",
       "      <th></th>\n",
       "      <th>label_frequency</th>\n",
       "    </tr>\n",
       "    <tr>\n",
       "      <th>variable</th>\n",
       "      <th></th>\n",
       "    </tr>\n",
       "  </thead>\n",
       "  <tbody>\n",
       "    <tr>\n",
       "      <th>dessert</th>\n",
       "      <td>6527</td>\n",
       "    </tr>\n",
       "    <tr>\n",
       "      <th>side_dish</th>\n",
       "      <td>4200</td>\n",
       "    </tr>\n",
       "    <tr>\n",
       "      <th>main_dish</th>\n",
       "      <td>3661</td>\n",
       "    </tr>\n",
       "    <tr>\n",
       "      <th>meat_and_poultri</th>\n",
       "      <td>2476</td>\n",
       "    </tr>\n",
       "    <tr>\n",
       "      <th>soup</th>\n",
       "      <td>2473</td>\n",
       "    </tr>\n",
       "  </tbody>\n",
       "</table>\n",
       "</div>"
      ],
      "text/plain": [
       "                  label_frequency\n",
       "variable                         \n",
       "dessert                      6527\n",
       "side_dish                    4200\n",
       "main_dish                    3661\n",
       "meat_and_poultri             2476\n",
       "soup                         2473"
      ]
     },
     "metadata": {},
     "output_type": "display_data"
    }
   ],
   "source": [
    "# Re-aggregate the DataFrame to calculate the ratings for each recipe label\n",
    "plot_df = df_1.groupby(\n",
    "    by = \"variable\"\n",
    ").agg(\n",
    "    label_frequency = (\"value\",\"sum\") # Number of ratings for each label across all recipes\n",
    ")\n",
    "\n",
    "# Examine re-aggregated DataFrame for plotting\n",
    "display(plot_df.sort_values(by = \"label_frequency\", ascending = False).head())"
   ]
  },
  {
   "cell_type": "markdown",
   "id": "684d28cf-8f10-4be6-8afc-479e0d3da29a",
   "metadata": {},
   "source": [
    "As expected, the frequency of each label should tally with the previous univariate analysis."
   ]
  },
  {
   "cell_type": "code",
   "execution_count": 56,
   "id": "b7c2657a-fd1a-4031-a138-64e8ea4f13a5",
   "metadata": {},
   "outputs": [
    {
     "data": {
      "text/html": [
       "<div>\n",
       "<style scoped>\n",
       "    .dataframe tbody tr th:only-of-type {\n",
       "        vertical-align: middle;\n",
       "    }\n",
       "\n",
       "    .dataframe tbody tr th {\n",
       "        vertical-align: top;\n",
       "    }\n",
       "\n",
       "    .dataframe thead th {\n",
       "        text-align: right;\n",
       "    }\n",
       "</style>\n",
       "<table border=\"1\" class=\"dataframe\">\n",
       "  <thead>\n",
       "    <tr style=\"text-align: right;\">\n",
       "      <th></th>\n",
       "      <th>label_frequency</th>\n",
       "      <th>label_rating_average</th>\n",
       "    </tr>\n",
       "    <tr>\n",
       "      <th>variable</th>\n",
       "      <th></th>\n",
       "      <th></th>\n",
       "    </tr>\n",
       "  </thead>\n",
       "  <tbody>\n",
       "    <tr>\n",
       "      <th>dessert</th>\n",
       "      <td>6527</td>\n",
       "      <td>4.569788</td>\n",
       "    </tr>\n",
       "    <tr>\n",
       "      <th>side_dish</th>\n",
       "      <td>4200</td>\n",
       "      <td>4.547861</td>\n",
       "    </tr>\n",
       "    <tr>\n",
       "      <th>main_dish</th>\n",
       "      <td>3661</td>\n",
       "      <td>4.523881</td>\n",
       "    </tr>\n",
       "    <tr>\n",
       "      <th>meat_and_poultri</th>\n",
       "      <td>2476</td>\n",
       "      <td>4.497480</td>\n",
       "    </tr>\n",
       "    <tr>\n",
       "      <th>soup</th>\n",
       "      <td>2473</td>\n",
       "      <td>4.600751</td>\n",
       "    </tr>\n",
       "  </tbody>\n",
       "</table>\n",
       "</div>"
      ],
      "text/plain": [
       "                  label_frequency  label_rating_average\n",
       "variable                                               \n",
       "dessert                      6527              4.569788\n",
       "side_dish                    4200              4.547861\n",
       "main_dish                    3661              4.523881\n",
       "meat_and_poultri             2476              4.497480\n",
       "soup                         2473              4.600751"
      ]
     },
     "metadata": {},
     "output_type": "display_data"
    }
   ],
   "source": [
    "# Calculate harmonic mean, using the number of ratings for each recipe as weights\n",
    "# For each label, filter for only recipes which contain the label\n",
    "plot_df[\"label_rating_average\"] = df_1.loc[df_1[\"value\"] != 0].\\\n",
    "    groupby(by = \"variable\").\\\n",
    "    apply(lambda x : np.average(x.rating_average, weights = x.rating_count))\n",
    "\n",
    "# Sort and examine the resulting DataFrame for plotting\n",
    "plot_df = plot_df.sort_values(\n",
    "    by = [\"label_frequency\"],\n",
    "    ascending = [False]\n",
    ")\n",
    "\n",
    "display(plot_df.head())"
   ]
  },
  {
   "cell_type": "markdown",
   "id": "d94651de-e48e-4a66-a444-4e158c38fec7",
   "metadata": {},
   "source": [
    "Now that the average rating for each label has been calculated, a scatter plot can be used to visualize the relationship between label frequency and average rating."
   ]
  },
  {
   "cell_type": "code",
   "execution_count": 57,
   "id": "f762f7c8-2453-431e-8212-1b236d29b5cd",
   "metadata": {},
   "outputs": [
    {
     "data": {
      "image/png": "[encoded data removed]",
      "text/plain": [
       "<Figure size 1000x500 with 1 Axes>"
      ]
     },
     "metadata": {},
     "output_type": "display_data"
    }
   ],
   "source": [
    "# Initiate figure object\n",
    "fig, ax = plt.subplots(\n",
    "    nrows = 1,\n",
    "    ncols = 1,\n",
    "    figsize = (10,5)\n",
    ")\n",
    "\n",
    "# For code simplicity, define x and y for plotting along with the recipe labels for each point\n",
    "x = plot_df[\"label_rating_average\"]\n",
    "y = plot_df[\"label_frequency\"]/1_000\n",
    "labels = plot_df.index\n",
    "\n",
    "# Generate scatterplot\n",
    "plt.scatter(x,y)\n",
    "\n",
    "# Generate annotations to place around each point\n",
    "annotations = [plt.annotate(label, (x[i], y[i])) for i, label in enumerate(labels)]\n",
    "\n",
    "# Apply adjust text function to optimize text annotation around points\n",
    "adjust_text(annotations)\n",
    "\n",
    "# Settings to keep axis tidy\n",
    "plt.xlabel(\"Recipe Label Average Rating\")\n",
    "plt.ylabel(\"Recipe Label Frequency ('000)\")\n",
    "sns.despine()\n",
    "\n",
    "# Add title\n",
    "title = \"Figure 2: Top 20 Recipe Labels: Average Rating vs Frequency\"\n",
    "plt.title(f\"{title}\", y = -0.2, size = 12, fontweight = \"bold\")\n",
    "\n",
    "# Save the figure in assets folder\n",
    "image_file_name = f\"../22_assets/images/{time.strftime('%Y%m%d-%H%M')}_{title}.png\"\n",
    "fig.savefig(\n",
    "    fname = image_file_name,\n",
    "    dpi = 300,\n",
    "    format = \"png\",\n",
    "    bbox_inches = \"tight\")\n",
    "\n",
    "plt.show()"
   ]
  },
  {
   "cell_type": "markdown",
   "id": "bc1726ac-0eee-4cfc-b16f-0d3702719bbf",
   "metadata": {},
   "source": [
    "Given two numerical features, further correlation and statistical analysis can be performed to further quantify any relationships observed. However, for the sake of article brevity, a simple visual analysis reveals the `dessert` label to be an outlier. Interestingly, labels pertaining to liquid recipes such as `soup_recip` and `drink_recip` were observed to have a higher average rating compared to labels about meat, such as `chicken` and `pork`."
   ]
  },
  {
   "cell_type": "markdown",
   "id": "fe1e6a80-0d05-4d17-9758-521afbcdc45b",
   "metadata": {},
   "source": [
    "# Conclusion"
   ]
  },
  {
   "cell_type": "markdown",
   "id": "0afde1a0-7682-4522-bd75-3966bca6d67e",
   "metadata": {},
   "source": [
    "To summarize, the text recipe labels of 40,000 recipes from allrecipes.com were were preprocessed using NLP methods then analyzed to reveal that the most popular recipe label was `dessert`, and that among the top 20 labels, labels pertaining to liquids had higher average ratings compared to labels pertaining to solid foods such as meat. Deeper statistical analysis and further improvements in the formation of meaningful tokens were noted for future iterations. Finally, the vectorization of textual data also allows for applications in recipe similarity search and recommender systems in future endeavors. \n",
    "\n",
    "The Github notebook for this article can be found [here]()."
   ]
  },
  {
   "cell_type": "markdown",
   "id": "ea5d346d-1fd0-4ef8-bac8-82fd3926f1ce",
   "metadata": {},
   "source": [
    "# References and Acknowledgement"
   ]
  },
  {
   "cell_type": "markdown",
   "id": "575b6526-a40f-4d2e-9961-4049eca039d6",
   "metadata": {},
   "source": [
    "- [AdjustText](https://github.com/Phlya/adjustText) Documentation\n",
    "- [How to Improve Label Placement for Matplotlib Scatter Chart](https://saturncloud.io/blog/how-to-improve-label-placement-for-matplotlib-scatter-chart/#:~:text=Matplotlib%20provides%20a%20feature%20called,the%20labels%20to%20minimize%20overlap.) by Saturn Cloud, 2023-07-18\n",
    "- [Error in joblib.load when reading file from s3](https://stackoverflow.com/questions/59903471/error-in-joblib-load-when-reading-file-from-s3) by Mark_Anderson, 2020-01-24"
   ]
  }
 ],
 "metadata": {
  "kernelspec": {
   "display_name": "Python 3 (ipykernel)",
   "language": "python",
   "name": "python3"
  },
  "language_info": {
   "codemirror_mode": {
    "name": "ipython",
    "version": 3
   },
   "file_extension": ".py",
   "mimetype": "text/x-python",
   "name": "python",
   "nbconvert_exporter": "python",
   "pygments_lexer": "ipython3",
   "version": "3.11.4"
  }
 },
 "nbformat": 4,
 "nbformat_minor": 5
}
