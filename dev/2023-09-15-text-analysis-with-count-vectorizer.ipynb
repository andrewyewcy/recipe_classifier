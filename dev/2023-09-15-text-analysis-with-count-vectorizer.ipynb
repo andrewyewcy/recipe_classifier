{
 "cells": [
  {
   "cell_type": "markdown",
   "id": "f7bc851c-c0e8-408d-bf0d-adbbcfd9299c",
   "metadata": {},
   "source": [
    "# Goal: visualize text data"
   ]
  },
  {
   "cell_type": "markdown",
   "id": "5766df9a-d0c8-4b71-98c8-8a2d4f4c8cb7",
   "metadata": {},
   "source": [
    "As an Excel user myself, textual or non-numeric data always felt beyond my reach in the tiny rectangular cells within a spreadsheet. Today, we explore how tokenization of text can be executed in Python to generate numerical insights from the text elements within 40,000 food recipes scraped from [Allrecipes](www.allrecipes.com). "
   ]
  },
  {
   "cell_type": "markdown",
   "id": "f4689bff-a0c6-4606-bc35-bf7691c2313c",
   "metadata": {},
   "source": [
    "# Goal"
   ]
  },
  {
   "cell_type": "markdown",
   "id": "34586564-1036-4147-8fed-de07eacbcb8f",
   "metadata": {},
   "source": [
    "# Overview of Setup"
   ]
  },
  {
   "cell_type": "markdown",
   "id": "94bb9f44-87ca-4a10-a090-368df8731bda",
   "metadata": {},
   "source": [
    "## Docker Environments"
   ]
  },
  {
   "cell_type": "markdown",
   "id": "89523afd-2505-4d06-80c8-1c1a5cf57898",
   "metadata": {},
   "source": [
    "To replicate the environment used to perform this analysis:\n",
    "1. fork the Github [repository](https://github.com/andrewyewcy/recipe_classifier) locally on a Docker and Docker-compose installed machine\n",
    "2. run below line in Terminal within the file directory of the repository"
   ]
  },
  {
   "cell_type": "code",
   "execution_count": null,
   "id": "67fad0b8-aec8-4240-a5a2-c7a82702391d",
   "metadata": {},
   "outputs": [],
   "source": [
    "# Run below line in terminal within the folder that contains the forked repo\n",
    "docker-compose -f dev_setup.yaml up"
   ]
  },
  {
   "cell_type": "markdown",
   "id": "3b799282-dba4-49d7-81ae-36dd1a64449c",
   "metadata": {},
   "source": [
    "Instructions on how to access Jupyter will be generated in the Terminal. Detailed installation documentation can be found within the README of the repository. "
   ]
  },
  {
   "cell_type": "markdown",
   "id": "a9b98667-669a-42c0-840e-2f582c646fd0",
   "metadata": {},
   "source": [
    "## Import Packages and Define Functions"
   ]
  },
  {
   "cell_type": "markdown",
   "id": "91a9d11d-f5b7-4f5c-9929-b2900392229e",
   "metadata": {},
   "source": [
    "The [`natural language toolkit(NLTK)`](https://www.nltk.org/) and the [`CountVectorizer`](https://scikit-learn.org/stable/modules/generated/sklearn.feature_extraction.text.CountVectorizer.html) within `scikit-learn` were used to process and transform the recipe text into tokens which can be quantified numerically for analysis."
   ]
  },
  {
   "cell_type": "code",
   "execution_count": 160,
   "id": "5091083e-b929-46b1-8ce6-fdbea47ef864",
   "metadata": {},
   "outputs": [
    {
     "name": "stderr",
     "output_type": "stream",
     "text": [
      "[nltk_data] Downloading package stopwords to /home/jovyan/nltk_data...\n",
      "[nltk_data]   Package stopwords is already up-to-date!\n"
     ]
    }
   ],
   "source": [
    "# Packages for general data processing\n",
    "import numpy as np\n",
    "import pandas as pd\n",
    "import joblib       # Loading data\n",
    "import time         # Measuring time\n",
    "import ast          # Reading lists within pandas DataFrame\n",
    "\n",
    "# Packages for data visualization\n",
    "import matplotlib.pyplot as plt\n",
    "import seaborn as sns\n",
    "from notebook_functions.plot import plot_histogram # Custom function to plot distribution\n",
    "\n",
    "# Packages for pre-processing text\n",
    "import nltk                       # Natural Language Tool Kit\n",
    "nltk.download('stopwords')        # For processing stop words (words too common to hold significant meaning)\n",
    "from nltk.corpus import stopwords # Import above downloaded stopwords\n",
    "import re                         # Regular Expression\n",
    "import string                     # For identifying punctuation\n",
    "\n",
    "# Packages for processing text\n",
    "from sklearn.feature_extraction.text import CountVectorizer"
   ]
  },
  {
   "cell_type": "markdown",
   "id": "3effeca4-0710-4064-9c2e-2743c6cec0af",
   "metadata": {},
   "source": [
    "# Import Data From AWS S3"
   ]
  },
  {
   "cell_type": "markdown",
   "id": "98479268-b93d-4208-95a3-69be6eed7e60",
   "metadata": {},
   "source": [
    "The data was stored in an AWS Simple, Storage, Service (S3) bucket, which is a cloud storage service that integrates well with other AWS applications like EC2 and EMR. \n",
    "\n",
    "The data contains the various numerical and textual elements of 40,000 recipes web-scraped of Allrecipes between the months of February and March 2023."
   ]
  },
  {
   "cell_type": "markdown",
   "id": "5e3c75a5-9542-4f98-b1a8-7c8dd2877a2c",
   "metadata": {},
   "source": [
    "### Insert image of data here"
   ]
  },
  {
   "cell_type": "code",
   "execution_count": 128,
   "id": "e184b95d-9cd9-448f-97b4-3acf1a75d0be",
   "metadata": {},
   "outputs": [],
   "source": [
    "df = joblib.load(\n",
    "    \"../data/raw_data_df.pkl\"\n",
    ")"
   ]
  },
  {
   "cell_type": "code",
   "execution_count": 129,
   "id": "854e7017-27fe-43aa-9899-6f4a0fe6d70f",
   "metadata": {},
   "outputs": [
    {
     "name": "stdout",
     "output_type": "stream",
     "text": [
      "There are 40001 recipes with 18 columns.\n"
     ]
    }
   ],
   "source": [
    "print(f\"There are {df.shape[0]} recipes with {df.shape[1]} columns.\")"
   ]
  },
  {
   "cell_type": "markdown",
   "id": "31d1b68d-845c-4314-9aff-0785cb1aaa2d",
   "metadata": {},
   "source": [
    "The main columns of interest are the recipe `labels`, `titles`, `ratings` (1.0-5.0), and `number of ratings`."
   ]
  },
  {
   "cell_type": "code",
   "execution_count": 132,
   "id": "09072e10-4dac-4f82-ae80-62421666e09a",
   "metadata": {},
   "outputs": [
    {
     "data": {
      "text/html": [
       "<div>\n",
       "<style scoped>\n",
       "    .dataframe tbody tr th:only-of-type {\n",
       "        vertical-align: middle;\n",
       "    }\n",
       "\n",
       "    .dataframe tbody tr th {\n",
       "        vertical-align: top;\n",
       "    }\n",
       "\n",
       "    .dataframe thead th {\n",
       "        text-align: right;\n",
       "    }\n",
       "</style>\n",
       "<table border=\"1\" class=\"dataframe\">\n",
       "  <thead>\n",
       "    <tr style=\"text-align: right;\">\n",
       "      <th></th>\n",
       "      <th>0</th>\n",
       "    </tr>\n",
       "  </thead>\n",
       "  <tbody>\n",
       "    <tr>\n",
       "      <th>recipe_url</th>\n",
       "      <td>https://www.allrecipes.com/recipe/83646/corned...</td>\n",
       "    </tr>\n",
       "    <tr>\n",
       "      <th>title</th>\n",
       "      <td>Corned Beef Roast</td>\n",
       "    </tr>\n",
       "    <tr>\n",
       "      <th>label</th>\n",
       "      <td>['Recipes', 'Main Dishes', 'Beef', 'Corned Bee...</td>\n",
       "    </tr>\n",
       "    <tr>\n",
       "      <th>rating_average</th>\n",
       "      <td>4.4</td>\n",
       "    </tr>\n",
       "    <tr>\n",
       "      <th>rating_count</th>\n",
       "      <td>68</td>\n",
       "    </tr>\n",
       "  </tbody>\n",
       "</table>\n",
       "</div>"
      ],
      "text/plain": [
       "                                                                0\n",
       "recipe_url      https://www.allrecipes.com/recipe/83646/corned...\n",
       "title                                           Corned Beef Roast\n",
       "label           ['Recipes', 'Main Dishes', 'Beef', 'Corned Bee...\n",
       "rating_average                                                4.4\n",
       "rating_count                                                   68"
      ]
     },
     "execution_count": 132,
     "metadata": {},
     "output_type": "execute_result"
    }
   ],
   "source": [
    "columns_of_interest = [\n",
    "    \"recipe_url\",\n",
    "    \"title\",\n",
    "    \"label\",\n",
    "    \"rating_average\",\n",
    "    \"rating_count\"\n",
    "]\n",
    "\n",
    "# Filter for columns of interest \n",
    "df = df.loc[:,columns_of_interest]\n",
    "\n",
    "# Visually examine the filtered data\n",
    "df.head(1).T"
   ]
  },
  {
   "cell_type": "code",
   "execution_count": 141,
   "id": "bf205002-f7e6-4817-a090-a65aec09a220",
   "metadata": {},
   "outputs": [
    {
     "name": "stdout",
     "output_type": "stream",
     "text": [
      "<class 'pandas.core.frame.DataFrame'>\n",
      "RangeIndex: 40001 entries, 0 to 40000\n",
      "Data columns (total 5 columns):\n",
      " #   Column          Non-Null Count  Dtype  \n",
      "---  ------          --------------  -----  \n",
      " 0   recipe_url      40001 non-null  object \n",
      " 1   title           39994 non-null  object \n",
      " 2   label           39994 non-null  object \n",
      " 3   rating_average  36420 non-null  float64\n",
      " 4   rating_count    36420 non-null  object \n",
      "dtypes: float64(1), object(4)\n",
      "memory usage: 1.5+ MB\n"
     ]
    }
   ],
   "source": [
    "df.info()"
   ]
  },
  {
   "cell_type": "markdown",
   "id": "309279a6-7b83-4d7c-a7c8-17fdb8af5a23",
   "metadata": {},
   "source": [
    "| Column | Type | Description |\n",
    "|---|---|---|\n",
    "| `recipe_url` | hyperlink | The uniform resource locator(URL) that leads to the recipe hosted on Allrecipes.com |\n",
    "| `title` | text | The title of each recipe |\n",
    "| `label` | text | The labels (tags) for each recipe. Used by Allrecipes.com as a method of organizing recipes |\n",
    "| `rating_average` | float | The rounded average as found on each recipe on Allrecipes.com |\n",
    "| `rating_count` | integer | The number of ratings for each recipe |"
   ]
  },
  {
   "cell_type": "markdown",
   "id": "c6db0bfc-5989-4487-be6b-27aed9370605",
   "metadata": {},
   "source": [
    "Issues with the loaded data:\n",
    "1. The `rating_count` column was found to be of `object` type instead of `int`.\n",
    "2. Null values observed for `title`, `label`, `rating_average`,and `rating_count`."
   ]
  },
  {
   "cell_type": "markdown",
   "id": "95fc9cca-fa2c-47ac-8b94-f39b7cc771b0",
   "metadata": {},
   "source": [
    "# Data Cleaning"
   ]
  },
  {
   "cell_type": "markdown",
   "id": "9404d420-6a5b-4f1f-b715-22cc89cfa48e",
   "metadata": {},
   "source": [
    "## Null `titles`"
   ]
  },
  {
   "cell_type": "code",
   "execution_count": 145,
   "id": "ccdd5f2f-4d3d-48bf-aaa8-16fb075cbd93",
   "metadata": {},
   "outputs": [
    {
     "name": "stdout",
     "output_type": "stream",
     "text": [
      "Number of null titles: 7, 0.02% of recipes\n"
     ]
    },
    {
     "data": {
      "text/html": [
       "<div>\n",
       "<style scoped>\n",
       "    .dataframe tbody tr th:only-of-type {\n",
       "        vertical-align: middle;\n",
       "    }\n",
       "\n",
       "    .dataframe tbody tr th {\n",
       "        vertical-align: top;\n",
       "    }\n",
       "\n",
       "    .dataframe thead th {\n",
       "        text-align: right;\n",
       "    }\n",
       "</style>\n",
       "<table border=\"1\" class=\"dataframe\">\n",
       "  <thead>\n",
       "    <tr style=\"text-align: right;\">\n",
       "      <th></th>\n",
       "      <th>recipe_url</th>\n",
       "      <th>title</th>\n",
       "      <th>label</th>\n",
       "      <th>rating_average</th>\n",
       "      <th>rating_count</th>\n",
       "    </tr>\n",
       "  </thead>\n",
       "  <tbody>\n",
       "    <tr>\n",
       "      <th>22785</th>\n",
       "      <td>https://www.allrecipes.com/cook/thedailygourme...</td>\n",
       "      <td>NaN</td>\n",
       "      <td>NaN</td>\n",
       "      <td>NaN</td>\n",
       "      <td>NaN</td>\n",
       "    </tr>\n",
       "    <tr>\n",
       "      <th>23968</th>\n",
       "      <td>https://www.allrecipes.com/recipe/14759/pork-d...</td>\n",
       "      <td>NaN</td>\n",
       "      <td>NaN</td>\n",
       "      <td>NaN</td>\n",
       "      <td>NaN</td>\n",
       "    </tr>\n",
       "    <tr>\n",
       "      <th>26010</th>\n",
       "      <td>https://www.allrecipes.com/recipe/218445/lenge...</td>\n",
       "      <td>NaN</td>\n",
       "      <td>NaN</td>\n",
       "      <td>NaN</td>\n",
       "      <td>NaN</td>\n",
       "    </tr>\n",
       "    <tr>\n",
       "      <th>26389</th>\n",
       "      <td>https://www.allrecipes.com/recipe/cajun-spice-...</td>\n",
       "      <td>NaN</td>\n",
       "      <td>NaN</td>\n",
       "      <td>NaN</td>\n",
       "      <td>NaN</td>\n",
       "    </tr>\n",
       "    <tr>\n",
       "      <th>26848</th>\n",
       "      <td>https://www.allrecipes.com/recipe/herman-sourd...</td>\n",
       "      <td>NaN</td>\n",
       "      <td>NaN</td>\n",
       "      <td>NaN</td>\n",
       "      <td>NaN</td>\n",
       "    </tr>\n",
       "    <tr>\n",
       "      <th>27388</th>\n",
       "      <td>https://www.allrecipes.com/recipe/mustard-pork...</td>\n",
       "      <td>NaN</td>\n",
       "      <td>NaN</td>\n",
       "      <td>NaN</td>\n",
       "      <td>NaN</td>\n",
       "    </tr>\n",
       "    <tr>\n",
       "      <th>33171</th>\n",
       "      <td>https://www.allrecipes.com/recipe/biga/detail....</td>\n",
       "      <td>NaN</td>\n",
       "      <td>NaN</td>\n",
       "      <td>NaN</td>\n",
       "      <td>NaN</td>\n",
       "    </tr>\n",
       "  </tbody>\n",
       "</table>\n",
       "</div>"
      ],
      "text/plain": [
       "                                              recipe_url title label  \\\n",
       "22785  https://www.allrecipes.com/cook/thedailygourme...   NaN   NaN   \n",
       "23968  https://www.allrecipes.com/recipe/14759/pork-d...   NaN   NaN   \n",
       "26010  https://www.allrecipes.com/recipe/218445/lenge...   NaN   NaN   \n",
       "26389  https://www.allrecipes.com/recipe/cajun-spice-...   NaN   NaN   \n",
       "26848  https://www.allrecipes.com/recipe/herman-sourd...   NaN   NaN   \n",
       "27388  https://www.allrecipes.com/recipe/mustard-pork...   NaN   NaN   \n",
       "33171  https://www.allrecipes.com/recipe/biga/detail....   NaN   NaN   \n",
       "\n",
       "       rating_average rating_count  \n",
       "22785             NaN          NaN  \n",
       "23968             NaN          NaN  \n",
       "26010             NaN          NaN  \n",
       "26389             NaN          NaN  \n",
       "26848             NaN          NaN  \n",
       "27388             NaN          NaN  \n",
       "33171             NaN          NaN  "
      ]
     },
     "execution_count": 145,
     "metadata": {},
     "output_type": "execute_result"
    }
   ],
   "source": [
    "# Examine null titles\n",
    "cond = df['title'].isnull()\n",
    "\n",
    "print(f\"Number of null titles: {cond.sum()}, {np.round(cond.sum()/df.shape[0]*100,2)}% of recipes\")\n",
    "\n",
    "# Visually examine null titles\n",
    "df.loc[cond]"
   ]
  },
  {
   "cell_type": "markdown",
   "id": "16e074ef-ed73-428b-854c-12387e2c5b56",
   "metadata": {},
   "source": [
    "As the adherence of each recipe to a standard structure was not well understood, it was assumed that these recipes maybe published with some error and thus excluded from analysis."
   ]
  },
  {
   "cell_type": "code",
   "execution_count": null,
   "id": "b6d774d1-805b-4d78-9006-e4b888066f89",
   "metadata": {},
   "outputs": [],
   "source": [
    "# Drop rows with null titles\n",
    "df = df.loc[~cond]"
   ]
  },
  {
   "cell_type": "code",
   "execution_count": 147,
   "id": "e3cc0778-e5a4-4284-aeea-7e37e392ab6b",
   "metadata": {},
   "outputs": [
    {
     "name": "stdout",
     "output_type": "stream",
     "text": [
      "<class 'pandas.core.frame.DataFrame'>\n",
      "Index: 39994 entries, 0 to 40000\n",
      "Data columns (total 5 columns):\n",
      " #   Column          Non-Null Count  Dtype  \n",
      "---  ------          --------------  -----  \n",
      " 0   recipe_url      39994 non-null  object \n",
      " 1   title           39994 non-null  object \n",
      " 2   label           39994 non-null  object \n",
      " 3   rating_average  36420 non-null  float64\n",
      " 4   rating_count    36420 non-null  object \n",
      "dtypes: float64(1), object(4)\n",
      "memory usage: 1.8+ MB\n"
     ]
    }
   ],
   "source": [
    "# Examine null values again\n",
    "df.info()"
   ]
  },
  {
   "cell_type": "markdown",
   "id": "50b0d26b-a9ff-4e1a-8886-355eabfc75c9",
   "metadata": {},
   "source": [
    "## Null `rating_count`"
   ]
  },
  {
   "cell_type": "code",
   "execution_count": 152,
   "id": "ba2f1711-1a96-40cd-8417-ef9e4cbcb40f",
   "metadata": {},
   "outputs": [
    {
     "name": "stdout",
     "output_type": "stream",
     "text": [
      "invalid literal for int() with base 10: '2,630'\n"
     ]
    }
   ],
   "source": [
    "# Try to convert the `rating_count` column to integer\n",
    "try:\n",
    "    df['rating_count'].astype('int')\n",
    "except ValueError as e:\n",
    "    print(f\"{str(e)}\")"
   ]
  },
  {
   "cell_type": "markdown",
   "id": "4f02fde3-dd4f-4e04-911f-54e5facb8618",
   "metadata": {},
   "source": [
    "It would appear that thousands are separated with a comma, leading to the error in type conversion."
   ]
  },
  {
   "cell_type": "code",
   "execution_count": 154,
   "id": "13d19d00-9e0e-4d94-93cb-1567c05740ab",
   "metadata": {},
   "outputs": [],
   "source": [
    "# Remove comma from `rating_count`, then fill NaN with 0 for conversion to integer\n",
    "try:\n",
    "    df['rating_count'] = df['rating_count'].str.replace(\",\",\"\").fillna(0).astype('int')\n",
    "except ValueError as e:\n",
    "    print(f\"{str(e)}\")"
   ]
  },
  {
   "cell_type": "code",
   "execution_count": 155,
   "id": "a1dedd1b-f69f-4e70-b6a3-971d5636004a",
   "metadata": {},
   "outputs": [
    {
     "name": "stdout",
     "output_type": "stream",
     "text": [
      "<class 'pandas.core.frame.DataFrame'>\n",
      "Index: 39994 entries, 0 to 40000\n",
      "Data columns (total 5 columns):\n",
      " #   Column          Non-Null Count  Dtype  \n",
      "---  ------          --------------  -----  \n",
      " 0   recipe_url      39994 non-null  object \n",
      " 1   title           39994 non-null  object \n",
      " 2   label           39994 non-null  object \n",
      " 3   rating_average  36420 non-null  float64\n",
      " 4   rating_count    39994 non-null  int64  \n",
      "dtypes: float64(1), int64(1), object(3)\n",
      "memory usage: 1.8+ MB\n"
     ]
    }
   ],
   "source": [
    "# Examine the converted rating_count\n",
    "df.info()"
   ]
  },
  {
   "cell_type": "markdown",
   "id": "c133a148-ab14-4b32-a409-4bc85a4e4415",
   "metadata": {},
   "source": [
    "Note the recipes with previously null rating counts were now filled with 0, which makes sense since no rating is equal to 0 ratings.\n",
    "\n",
    "The significance of recipe ratings are dependent on the number of ratings. Thus, to ensure some standard of quality for recipes, recipes with less than 2 ratings were excluded from analysis. The number of 2 was chosen based on the assumption that a second independent rating raises the validity of the recipe rating.\n",
    "\n",
    "Before removing the recipes with less than 2 rating, the distributions were analyzed visually to understand the changes if any."
   ]
  },
  {
   "cell_type": "code",
   "execution_count": 161,
   "id": "b582f1fd-e505-4f0c-b364-78950e630db9",
   "metadata": {},
   "outputs": [
    {
     "ename": "NameError",
     "evalue": "name 'pd' is not defined",
     "output_type": "error",
     "traceback": [
      "\u001b[0;31m---------------------------------------------------------------------------\u001b[0m",
      "\u001b[0;31mNameError\u001b[0m                                 Traceback (most recent call last)",
      "Cell \u001b[0;32mIn[161], line 2\u001b[0m\n\u001b[1;32m      1\u001b[0m \u001b[38;5;28;01mfor\u001b[39;00m col \u001b[38;5;129;01min\u001b[39;00m [\u001b[38;5;124m\"\u001b[39m\u001b[38;5;124mrating_average\u001b[39m\u001b[38;5;124m\"\u001b[39m,\u001b[38;5;124m\"\u001b[39m\u001b[38;5;124mrating_count\u001b[39m\u001b[38;5;124m\"\u001b[39m]:\n\u001b[0;32m----> 2\u001b[0m     \u001b[43mplot_histogram\u001b[49m\u001b[43m(\u001b[49m\u001b[43mdf\u001b[49m\u001b[43m,\u001b[49m\u001b[43m \u001b[49m\u001b[43mcol\u001b[49m\u001b[43m,\u001b[49m\u001b[43m \u001b[49m\u001b[43mcol\u001b[49m\u001b[43m)\u001b[49m\n",
      "File \u001b[0;32m~/work/dev/notebook_functions/plot.py:40\u001b[0m, in \u001b[0;36mplot_histogram\u001b[0;34m(df, col, df_name)\u001b[0m\n\u001b[1;32m      1\u001b[0m \u001b[38;5;28;01mdef\u001b[39;00m \u001b[38;5;21mplot_histogram\u001b[39m(df, col, df_name):\n\u001b[1;32m      2\u001b[0m \u001b[38;5;250m    \u001b[39m\u001b[38;5;124;03m\"\"\"\u001b[39;00m\n\u001b[1;32m      3\u001b[0m \u001b[38;5;124;03m    =======\u001b[39;00m\n\u001b[1;32m      4\u001b[0m \u001b[38;5;124;03m    PURPOSE\u001b[39;00m\n\u001b[0;32m   (...)\u001b[0m\n\u001b[1;32m     37\u001b[0m \u001b[38;5;124;03m    >>>Subplot 2\u001b[39;00m\n\u001b[1;32m     38\u001b[0m \u001b[38;5;124;03m    \"\"\"\u001b[39;00m\n\u001b[0;32m---> 40\u001b[0m     \u001b[38;5;28;01massert\u001b[39;00m \u001b[38;5;28misinstance\u001b[39m(df, \u001b[43mpd\u001b[49m\u001b[38;5;241m.\u001b[39mDataFrame), \u001b[38;5;124m\"\u001b[39m\u001b[38;5;124mPassed object is not a DataFrame\u001b[39m\u001b[38;5;124m\"\u001b[39m\n\u001b[1;32m     41\u001b[0m     \u001b[38;5;28;01massert\u001b[39;00m \u001b[38;5;28misinstance\u001b[39m(col, \u001b[38;5;28mstr\u001b[39m),\u001b[38;5;124m\"\u001b[39m\u001b[38;5;124mPassed object is not a string\u001b[39m\u001b[38;5;124m\"\u001b[39m\n\u001b[1;32m     44\u001b[0m     \u001b[38;5;28mprint\u001b[39m(\u001b[38;5;124mf\u001b[39m\u001b[38;5;124m\"\u001b[39m\u001b[38;5;124m===== Distribution Plots for \u001b[39m\u001b[38;5;132;01m{\u001b[39;00mcol\u001b[38;5;132;01m}\u001b[39;00m\u001b[38;5;124m =====\u001b[39m\u001b[38;5;124m\"\u001b[39m)\n",
      "\u001b[0;31mNameError\u001b[0m: name 'pd' is not defined"
     ]
    }
   ],
   "source": [
    "for col in [\"rating_average\",\"rating_count\"]:\n",
    "    plot_histogram(df, col, col)"
   ]
  },
  {
   "cell_type": "markdown",
   "id": "0b511f9e-bca9-446f-81b6-688146344500",
   "metadata": {},
   "source": [
    "# Breaking down text columns"
   ]
  },
  {
   "cell_type": "code",
   "execution_count": 33,
   "id": "4d0388db-b758-40a0-8c67-bae63e0f2946",
   "metadata": {},
   "outputs": [
    {
     "data": {
      "text/html": [
       "<div>\n",
       "<style scoped>\n",
       "    .dataframe tbody tr th:only-of-type {\n",
       "        vertical-align: middle;\n",
       "    }\n",
       "\n",
       "    .dataframe tbody tr th {\n",
       "        vertical-align: top;\n",
       "    }\n",
       "\n",
       "    .dataframe thead th {\n",
       "        text-align: right;\n",
       "    }\n",
       "</style>\n",
       "<table border=\"1\" class=\"dataframe\">\n",
       "  <thead>\n",
       "    <tr style=\"text-align: right;\">\n",
       "      <th></th>\n",
       "      <th>title</th>\n",
       "      <th>label</th>\n",
       "    </tr>\n",
       "  </thead>\n",
       "  <tbody>\n",
       "    <tr>\n",
       "      <th>0</th>\n",
       "      <td>Corned Beef Roast</td>\n",
       "      <td>['Recipes', 'Main Dishes', 'Beef', 'Corned Bee...</td>\n",
       "    </tr>\n",
       "    <tr>\n",
       "      <th>1</th>\n",
       "      <td>Stout-Braised Lamb Shanks</td>\n",
       "      <td>['Cuisine', 'European', 'UK and Ireland', 'Iri...</td>\n",
       "    </tr>\n",
       "    <tr>\n",
       "      <th>2</th>\n",
       "      <td>Chicken Al Pastor</td>\n",
       "      <td>['Mexican', 'Main Dishes', 'Tacos', 'Chicken']</td>\n",
       "    </tr>\n",
       "    <tr>\n",
       "      <th>3</th>\n",
       "      <td>Mississippi Chicken</td>\n",
       "      <td>['Recipes', 'Meat and Poultry', 'Chicken']</td>\n",
       "    </tr>\n",
       "    <tr>\n",
       "      <th>4</th>\n",
       "      <td>Lasagna Flatbread</td>\n",
       "      <td>['Recipes', 'Bread', 'Quick Bread Recipes']</td>\n",
       "    </tr>\n",
       "  </tbody>\n",
       "</table>\n",
       "</div>"
      ],
      "text/plain": [
       "                       title  \\\n",
       "0          Corned Beef Roast   \n",
       "1  Stout-Braised Lamb Shanks   \n",
       "2          Chicken Al Pastor   \n",
       "3        Mississippi Chicken   \n",
       "4          Lasagna Flatbread   \n",
       "\n",
       "                                               label  \n",
       "0  ['Recipes', 'Main Dishes', 'Beef', 'Corned Bee...  \n",
       "1  ['Cuisine', 'European', 'UK and Ireland', 'Iri...  \n",
       "2     ['Mexican', 'Main Dishes', 'Tacos', 'Chicken']  \n",
       "3         ['Recipes', 'Meat and Poultry', 'Chicken']  \n",
       "4        ['Recipes', 'Bread', 'Quick Bread Recipes']  "
      ]
     },
     "execution_count": 33,
     "metadata": {},
     "output_type": "execute_result"
    }
   ],
   "source": [
    "df.loc[:,[\"title\", \"label\"]].head()"
   ]
  },
  {
   "cell_type": "code",
   "execution_count": 38,
   "id": "a2550bde-4415-4a23-b2a8-f4584087978c",
   "metadata": {},
   "outputs": [
    {
     "data": {
      "text/plain": [
       "['Recipes', 'Main Dishes', 'Beef', 'Corned Beef Recipes']"
      ]
     },
     "execution_count": 38,
     "metadata": {},
     "output_type": "execute_result"
    }
   ],
   "source": [
    "ast.literal_eval(df.loc[0,\"label\"])"
   ]
  },
  {
   "cell_type": "code",
   "execution_count": 73,
   "id": "6953ba29-f007-488f-ad13-55826f8bad11",
   "metadata": {},
   "outputs": [
    {
     "name": "stderr",
     "output_type": "stream",
     "text": [
      "[nltk_data] Downloading package stopwords to /home/jovyan/nltk_data...\n",
      "[nltk_data]   Unzipping corpora/stopwords.zip.\n"
     ]
    }
   ],
   "source": [
    "from sklearn.feature_extraction.text import CountVectorizer\n",
    "import nltk # Natural Language Tool Kit\n",
    "nltk.download('stopwords')\n",
    "from nltk.corpus import stopwords\n",
    "import string"
   ]
  },
  {
   "cell_type": "code",
   "execution_count": null,
   "id": "bdc92793-74d8-491b-9932-7f67b0092c4a",
   "metadata": {},
   "outputs": [],
   "source": [
    "def tokenizer(sentence):\n",
    "\n",
    "    # Remove punctuation and set to lower case\n",
    "    for punctuation_mark in string.punctuation:\n",
    "        sentence = sentence.replace(punctuation_mark, \"\").lower()\n",
    "\n",
    "    # Remove numerical digits in tect\n"
   ]
  },
  {
   "cell_type": "code",
   "execution_count": 41,
   "id": "6f0af8c7-1a1b-4745-850d-9e8fdb81ab96",
   "metadata": {},
   "outputs": [
    {
     "data": {
      "text/plain": [
       "'!\"#$%&\\'()*+,-./:;<=>?@[\\\\]^_`{|}~'"
      ]
     },
     "execution_count": 41,
     "metadata": {},
     "output_type": "execute_result"
    }
   ],
   "source": [
    "string.punctuation"
   ]
  },
  {
   "cell_type": "code",
   "execution_count": 68,
   "id": "dbb5e5bf-7261-4ae0-8bf3-82cd29b39305",
   "metadata": {},
   "outputs": [
    {
     "data": {
      "text/plain": [
       "\"['Recipes', 'Main Dishes', 'Beef', 'Corned Beef Recipes']\""
      ]
     },
     "execution_count": 68,
     "metadata": {},
     "output_type": "execute_result"
    }
   ],
   "source": [
    "sentence = df.loc[0,\"label\"]\n",
    "\n",
    "# Print sentence\n",
    "sentence"
   ]
  },
  {
   "cell_type": "code",
   "execution_count": 69,
   "id": "65028c0d-2af4-49d0-af6e-d30b6a7ccfde",
   "metadata": {},
   "outputs": [],
   "source": [
    "for punctuation_mark in string.punctuation:\n",
    "    sentence = sentence.replace(punctuation_mark, \"\").lower()"
   ]
  },
  {
   "cell_type": "code",
   "execution_count": 70,
   "id": "6c4b01d5-40ee-47eb-a0a0-670d63a482eb",
   "metadata": {},
   "outputs": [
    {
     "data": {
      "text/plain": [
       "'recipes main dishes beef corned beef recipes'"
      ]
     },
     "execution_count": 70,
     "metadata": {},
     "output_type": "execute_result"
    }
   ],
   "source": [
    "sentence"
   ]
  },
  {
   "cell_type": "code",
   "execution_count": 71,
   "id": "80a699d6-5880-4c92-b173-8757f7bae434",
   "metadata": {},
   "outputs": [],
   "source": [
    "def my_tokenizer(sentence):\n",
    "    \"\"\"\n",
    "    Custom tokenizer for preprocessing of text columns.\n",
    "    \n",
    "    Usage\n",
    "    -----\n",
    "    Used as the tokenizer hyperparameter for vectorizers such as CountVectorizer() and TfIdf\n",
    "    \n",
    "    Input\n",
    "    -----\n",
    "    string, raw document.\n",
    "    \n",
    "    Output\n",
    "    ------\n",
    "    list of strings, cleaned & stemmed tokens\n",
    "    \"\"\"\n",
    "    # remove punctuation and set to lower case\n",
    "    for punctuation_mark in string.punctuation:\n",
    "        sentence = sentence.replace(punctuation_mark,'').lower()\n",
    "    \n",
    "    # remove all numerical digits in the text\n",
    "    # https://stackoverflow.com/questions/12851791/removing-numbers-from-string\n",
    "    remove_digits = str.maketrans('','', string.digits)\n",
    "    sentence = sentence.translate(remove_digits)\n",
    "\n",
    "    # split sentence into words\n",
    "    listofwords = sentence.split(' ')\n",
    "    listofstemmed_words = []\n",
    "    \n",
    "    # define English stop words\n",
    "    ENGLISH_STOP_WORDS = stopwords.words('english')\n",
    "    # add in additional stop words that are specific to cooking\n",
    "    ENGLISH_STOP_WORDS.extend(['degree','degrees','c','f', 'recipe', 'recipes', 'minute', 'minutes'])\n",
    "    \n",
    "    # define stemmer\n",
    "    stemmer = nltk.stem.PorterStemmer()\n",
    "    \n",
    "    # remove stopwords and any tokens that are just empty strings\n",
    "    for word in listofwords:\n",
    "        if (not word in ENGLISH_STOP_WORDS) and (word!=''):\n",
    "            # Stem words\n",
    "            stemmed_word = stemmer.stem(word)\n",
    "            listofstemmed_words.append(stemmed_word)\n",
    "\n",
    "    return listofstemmed_words"
   ]
  },
  {
   "cell_type": "code",
   "execution_count": 79,
   "id": "ec6cad40-3114-4702-8e92-23b5d2766bfe",
   "metadata": {},
   "outputs": [
    {
     "name": "stdout",
     "output_type": "stream",
     "text": [
      "['Recipes', 'Main Dishes', 'Beef', 'Corned Beef Recipes']\n",
      "['main', 'dish', 'beef', 'corn', 'beef']\n"
     ]
    }
   ],
   "source": [
    "sentence = df.loc[0,\"label\"]\n",
    "\n",
    "# Print sentence\n",
    "print(f\"{sentence}\")\n",
    "\n",
    "print(f\"{my_tokenizer(sentence)}\")"
   ]
  },
  {
   "cell_type": "code",
   "execution_count": 77,
   "id": "cfe94e9a-f1e7-41a4-8f6a-8b6c81afc88b",
   "metadata": {},
   "outputs": [
    {
     "name": "stdout",
     "output_type": "stream",
     "text": [
      "recipes main dishes beef corned beef recipes\n"
     ]
    }
   ],
   "source": [
    "for punctuation_mark in string.punctuation:\n",
    "    sentence = sentence.replace(punctuation_mark, \"\").lower()\n",
    "\n",
    "print(f\"{sentence}\")"
   ]
  },
  {
   "cell_type": "code",
   "execution_count": 91,
   "id": "92666345-3b12-43b8-a0c6-e54a3533606a",
   "metadata": {},
   "outputs": [
    {
     "data": {
      "text/plain": [
       "\"['Recipes', 'Main_Dishes', 'Beef', 'Corned_Beef Recipes']\""
      ]
     },
     "execution_count": 91,
     "metadata": {},
     "output_type": "execute_result"
    }
   ],
   "source": [
    ">>> import re\n",
    ">>> re.sub(\"([a-zA-Z]+)\\s+([a-zA-Z]+)\", r\"\\1_\\2\", sentence,count = 0)"
   ]
  },
  {
   "cell_type": "code",
   "execution_count": null,
   "id": "bae7dbca-1fe4-4d5b-8331-9eb61e65f431",
   "metadata": {},
   "outputs": [],
   "source": [
    ">>> import re\n",
    ">>> re.sub(\"(\\d+)\\s+(\\d+)\", r\"\\1,\\2\", s)"
   ]
  },
  {
   "cell_type": "code",
   "execution_count": 89,
   "id": "0c317f16-b330-40fe-9c64-bcc2ba93fd62",
   "metadata": {},
   "outputs": [
    {
     "data": {
      "text/plain": [
       "\"['Recipes',_'Main_Dishes',_'Beef',_'Corned_Beef_Recipes']\""
      ]
     },
     "execution_count": 89,
     "metadata": {},
     "output_type": "execute_result"
    }
   ],
   "source": [
    "re.sub(\"\\s+\",\"_\",sentence)"
   ]
  },
  {
   "cell_type": "code",
   "execution_count": 92,
   "id": "dbad67c9-5e2b-4e4a-8b90-d0a51347859b",
   "metadata": {},
   "outputs": [],
   "source": [
    "test_sentence = \"123 234 235\""
   ]
  },
  {
   "cell_type": "code",
   "execution_count": 97,
   "id": "ee07df8e-b8ba-4524-9182-73adeff2f01a",
   "metadata": {},
   "outputs": [
    {
     "data": {
      "text/plain": [
       "'123,234,235'"
      ]
     },
     "execution_count": 97,
     "metadata": {},
     "output_type": "execute_result"
    }
   ],
   "source": [
    "re.sub(\"\\s\", r\",\", test_sentence)"
   ]
  },
  {
   "cell_type": "code",
   "execution_count": 100,
   "id": "9709f66c-70e2-4a5a-92d9-04374e590563",
   "metadata": {},
   "outputs": [
    {
     "name": "stdout",
     "output_type": "stream",
     "text": [
      "['Recipes', 'Main Dishes', 'Beef', 'Corned Beef Recipes']\n"
     ]
    }
   ],
   "source": [
    "sentence = df.loc[0,\"label\"]\n",
    "# Print sentence\n",
    "print(f\"{sentence}\")"
   ]
  },
  {
   "cell_type": "code",
   "execution_count": 118,
   "id": "1d40ee0b-75a5-4ce6-b170-541c7d3df25f",
   "metadata": {},
   "outputs": [
    {
     "name": "stdout",
     "output_type": "stream",
     "text": [
      "['Recipes'+'Main Dishes'+'Beef'+'Corned Beef Recipes']\n",
      "['Recipes'+'Main_Dishes'+'Beef'+'Corned_Beef_Recipes']\n",
      "['Recipes', 'Main_Dishes', 'Beef', 'Corned_Beef_Recipes']\n"
     ]
    }
   ],
   "source": [
    "s1 = re.sub(\",\\s\",\"+\",sentence)\n",
    "print(s1)\n",
    "\n",
    "s2 = re.sub(\"\\s\",\"_\",s1)\n",
    "print(s2)\n",
    "\n",
    "s3 = s2.replace(\"+\",\", \")\n",
    "print(s3)"
   ]
  },
  {
   "cell_type": "code",
   "execution_count": 123,
   "id": "44a5debc-fed1-42f6-bf8a-4c99fdf503a2",
   "metadata": {},
   "outputs": [
    {
     "data": {
      "text/plain": [
       "'recipes main_dishes beef corned_beef_recipes'"
      ]
     },
     "execution_count": 123,
     "metadata": {},
     "output_type": "execute_result"
    }
   ],
   "source": [
    "for punctuation_mark in [punctuation for punctuation in string.punctuation if punctuation != \"_\"]:\n",
    "    s3 = s3.replace(punctuation_mark,\"\").lower()\n",
    "\n",
    "s3"
   ]
  },
  {
   "cell_type": "code",
   "execution_count": 124,
   "id": "3b7d2604-6d7d-43e1-a779-ec15bbe8b9f6",
   "metadata": {},
   "outputs": [],
   "source": [
    "remove_digits = str.maketrans('','', string.digits)\n",
    "s3 = s3.translate(remove_digits)"
   ]
  },
  {
   "cell_type": "code",
   "execution_count": 125,
   "id": "5cab931e-7560-4844-9123-75ca3711643d",
   "metadata": {},
   "outputs": [
    {
     "data": {
      "text/plain": [
       "'recipes main_dishes beef corned_beef_recipes'"
      ]
     },
     "execution_count": 125,
     "metadata": {},
     "output_type": "execute_result"
    }
   ],
   "source": [
    "s3"
   ]
  },
  {
   "cell_type": "code",
   "execution_count": 126,
   "id": "485f913a-84f0-4379-a8ab-8c9c45c01af3",
   "metadata": {},
   "outputs": [],
   "source": [
    "# split sentence into words\n",
    "listofwords = s3.split(' ')\n",
    "listofstemmed_words = []\n",
    "\n",
    "# define English stop words\n",
    "ENGLISH_STOP_WORDS = stopwords.words('english')\n",
    "# add in additional stop words that are specific to cooking\n",
    "ENGLISH_STOP_WORDS.extend(['degree','degrees','c','f', 'recipe', 'recipes', 'minute', 'minutes'])\n",
    "\n",
    "# define stemmer\n",
    "stemmer = nltk.stem.PorterStemmer()\n",
    "\n",
    "# remove stopwords and any tokens that are just empty strings\n",
    "for word in listofwords:\n",
    "    if (not word in ENGLISH_STOP_WORDS) and (word!=''):\n",
    "        # Stem words\n",
    "        stemmed_word = stemmer.stem(word)\n",
    "        listofstemmed_words.append(stemmed_word)"
   ]
  },
  {
   "cell_type": "code",
   "execution_count": 127,
   "id": "785a9c34-23ea-465c-978a-eaa89345bdb9",
   "metadata": {},
   "outputs": [
    {
     "data": {
      "text/plain": [
       "['main_dish', 'beef', 'corned_beef_recip']"
      ]
     },
     "execution_count": 127,
     "metadata": {},
     "output_type": "execute_result"
    }
   ],
   "source": [
    "listofstemmed_words"
   ]
  },
  {
   "cell_type": "code",
   "execution_count": null,
   "id": "ede5da08-af05-44ac-b833-84af1da7e15a",
   "metadata": {},
   "outputs": [],
   "source": []
  }
 ],
 "metadata": {
  "kernelspec": {
   "display_name": "Python 3 (ipykernel)",
   "language": "python",
   "name": "python3"
  },
  "language_info": {
   "codemirror_mode": {
    "name": "ipython",
    "version": 3
   },
   "file_extension": ".py",
   "mimetype": "text/x-python",
   "name": "python",
   "nbconvert_exporter": "python",
   "pygments_lexer": "ipython3",
   "version": "3.11.4"
  }
 },
 "nbformat": 4,
 "nbformat_minor": 5
}
