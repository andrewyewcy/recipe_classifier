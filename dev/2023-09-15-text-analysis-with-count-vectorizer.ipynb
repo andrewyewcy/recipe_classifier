{
 "cells": [
  {
   "cell_type": "markdown",
   "id": "f7bc851c-c0e8-408d-bf0d-adbbcfd9299c",
   "metadata": {},
   "source": [
    "---\n",
    "title: Visualizing Text with NLTK and CountVectorizer\n",
    "tags: [ Data Visualization, Natural Language Processing (NLP), AWS S3 ]\n",
    "---"
   ]
  },
  {
   "cell_type": "markdown",
   "id": "5766df9a-d0c8-4b71-98c8-8a2d4f4c8cb7",
   "metadata": {},
   "source": [
    "As an Excel user myself, textual or non-numeric data always felt beyond my reach in the tiny rectangular cells within a spreadsheet. Today, we explore how tokenization of text can be executed in Python to generate numerical insights from the text elements within 40,000 food recipes scraped from [Allrecipes](www.allrecipes.com). "
   ]
  },
  {
   "cell_type": "markdown",
   "id": "f4689bff-a0c6-4606-bc35-bf7691c2313c",
   "metadata": {},
   "source": [
    "# Goal"
   ]
  },
  {
   "cell_type": "markdown",
   "id": "34586564-1036-4147-8fed-de07eacbcb8f",
   "metadata": {},
   "source": [
    "# Overview of Setup"
   ]
  },
  {
   "cell_type": "markdown",
   "id": "94bb9f44-87ca-4a10-a090-368df8731bda",
   "metadata": {},
   "source": [
    "## Docker Environments"
   ]
  },
  {
   "cell_type": "markdown",
   "id": "89523afd-2505-4d06-80c8-1c1a5cf57898",
   "metadata": {},
   "source": [
    "To replicate the environment used to perform this analysis:\n",
    "1. fork the Github [repository](https://github.com/andrewyewcy/recipe_classifier) locally on a Docker and Docker-compose installed machine\n",
    "2. run below line in Terminal within the file directory of the repository"
   ]
  },
  {
   "cell_type": "code",
   "execution_count": 1,
   "id": "67fad0b8-aec8-4240-a5a2-c7a82702391d",
   "metadata": {},
   "outputs": [],
   "source": [
    "# Run below line in terminal within the folder that contains the forked repo\n",
    "# docker-compose -f dev_setup.yaml up"
   ]
  },
  {
   "cell_type": "markdown",
   "id": "3b799282-dba4-49d7-81ae-36dd1a64449c",
   "metadata": {},
   "source": [
    "Instructions on how to access Jupyter will be generated in the Terminal. Detailed installation documentation can be found within the README of the repository. "
   ]
  },
  {
   "cell_type": "markdown",
   "id": "a9b98667-669a-42c0-840e-2f582c646fd0",
   "metadata": {},
   "source": [
    "## Import Packages and Define Functions"
   ]
  },
  {
   "cell_type": "markdown",
   "id": "91a9d11d-f5b7-4f5c-9929-b2900392229e",
   "metadata": {},
   "source": [
    "The [`natural language toolkit(NLTK)`](https://www.nltk.org/) and the [`CountVectorizer`](https://scikit-learn.org/stable/modules/generated/sklearn.feature_extraction.text.CountVectorizer.html) within `scikit-learn` were used to process and transform the recipe text into tokens which can be quantified numerically for analysis."
   ]
  },
  {
   "cell_type": "code",
   "execution_count": 2,
   "id": "5091083e-b929-46b1-8ce6-fdbea47ef864",
   "metadata": {},
   "outputs": [
    {
     "name": "stderr",
     "output_type": "stream",
     "text": [
      "[nltk_data] Downloading package stopwords to /home/jovyan/nltk_data...\n",
      "[nltk_data]   Unzipping corpora/stopwords.zip.\n"
     ]
    }
   ],
   "source": [
    "# Packages for general data processing\n",
    "import numpy as np\n",
    "import pandas as pd\n",
    "import joblib       # Loading data\n",
    "import time         # Measuring time\n",
    "import ast          # Reading lists within pandas DataFrame\n",
    "\n",
    "# Packages for data visualization\n",
    "import matplotlib.pyplot as plt\n",
    "import seaborn as sns\n",
    "from notebook_functions.plot import plot_histogram # Custom function to plot distribution\n",
    "\n",
    "# Packages for pre-processing text\n",
    "import nltk                       # Natural Language Tool Kit\n",
    "nltk.download('stopwords')        # For processing stop words (words too common to hold significant meaning)\n",
    "from nltk.corpus import stopwords # Import above downloaded stopwords\n",
    "import re                         # Regular Expression\n",
    "import string                     # For identifying punctuation\n",
    "\n",
    "# Packages for processing text\n",
    "from sklearn.feature_extraction.text import CountVectorizer"
   ]
  },
  {
   "cell_type": "markdown",
   "id": "3effeca4-0710-4064-9c2e-2743c6cec0af",
   "metadata": {},
   "source": [
    "# Import Data From AWS S3"
   ]
  },
  {
   "cell_type": "markdown",
   "id": "98479268-b93d-4208-95a3-69be6eed7e60",
   "metadata": {},
   "source": [
    "The data was stored in an AWS Simple, Storage, Service (S3) bucket, which is a cloud storage service that integrates well with other AWS applications like EC2 and EMR. \n",
    "\n",
    "The data contains the various numerical and textual elements of 40,000 recipes web-scraped of Allrecipes between the months of February and March 2023."
   ]
  },
  {
   "cell_type": "markdown",
   "id": "5e3c75a5-9542-4f98-b1a8-7c8dd2877a2c",
   "metadata": {},
   "source": [
    "### Insert image of data here"
   ]
  },
  {
   "cell_type": "code",
   "execution_count": 3,
   "id": "e184b95d-9cd9-448f-97b4-3acf1a75d0be",
   "metadata": {},
   "outputs": [],
   "source": [
    "df = joblib.load(\n",
    "    \"../data/raw_data_df.pkl\"\n",
    ")"
   ]
  },
  {
   "cell_type": "code",
   "execution_count": 4,
   "id": "854e7017-27fe-43aa-9899-6f4a0fe6d70f",
   "metadata": {},
   "outputs": [
    {
     "name": "stdout",
     "output_type": "stream",
     "text": [
      "There are 40001 recipes with 18 columns.\n"
     ]
    }
   ],
   "source": [
    "print(f\"There are {df.shape[0]} recipes with {df.shape[1]} columns.\")"
   ]
  },
  {
   "cell_type": "markdown",
   "id": "31d1b68d-845c-4314-9aff-0785cb1aaa2d",
   "metadata": {},
   "source": [
    "The main columns of interest are the `recipe_url`, `titles`, `label`, `rating_average`, and `rating_count`."
   ]
  },
  {
   "cell_type": "code",
   "execution_count": 5,
   "id": "09072e10-4dac-4f82-ae80-62421666e09a",
   "metadata": {},
   "outputs": [
    {
     "data": {
      "text/html": [
       "<div>\n",
       "<style scoped>\n",
       "    .dataframe tbody tr th:only-of-type {\n",
       "        vertical-align: middle;\n",
       "    }\n",
       "\n",
       "    .dataframe tbody tr th {\n",
       "        vertical-align: top;\n",
       "    }\n",
       "\n",
       "    .dataframe thead th {\n",
       "        text-align: right;\n",
       "    }\n",
       "</style>\n",
       "<table border=\"1\" class=\"dataframe\">\n",
       "  <thead>\n",
       "    <tr style=\"text-align: right;\">\n",
       "      <th></th>\n",
       "      <th>0</th>\n",
       "    </tr>\n",
       "  </thead>\n",
       "  <tbody>\n",
       "    <tr>\n",
       "      <th>recipe_url</th>\n",
       "      <td>https://www.allrecipes.com/recipe/83646/corned...</td>\n",
       "    </tr>\n",
       "    <tr>\n",
       "      <th>title</th>\n",
       "      <td>Corned Beef Roast</td>\n",
       "    </tr>\n",
       "    <tr>\n",
       "      <th>label</th>\n",
       "      <td>['Recipes', 'Main Dishes', 'Beef', 'Corned Bee...</td>\n",
       "    </tr>\n",
       "    <tr>\n",
       "      <th>rating_average</th>\n",
       "      <td>4.4</td>\n",
       "    </tr>\n",
       "    <tr>\n",
       "      <th>rating_count</th>\n",
       "      <td>68</td>\n",
       "    </tr>\n",
       "  </tbody>\n",
       "</table>\n",
       "</div>"
      ],
      "text/plain": [
       "                                                                0\n",
       "recipe_url      https://www.allrecipes.com/recipe/83646/corned...\n",
       "title                                           Corned Beef Roast\n",
       "label           ['Recipes', 'Main Dishes', 'Beef', 'Corned Bee...\n",
       "rating_average                                                4.4\n",
       "rating_count                                                   68"
      ]
     },
     "execution_count": 5,
     "metadata": {},
     "output_type": "execute_result"
    }
   ],
   "source": [
    "columns_of_interest = [\n",
    "    \"recipe_url\",\n",
    "    \"title\",\n",
    "    \"label\",\n",
    "    \"rating_average\",\n",
    "    \"rating_count\"\n",
    "]\n",
    "\n",
    "# Filter for columns of interest \n",
    "df = df.loc[:,columns_of_interest]\n",
    "\n",
    "# Visually examine the filtered data\n",
    "df.head(1).T"
   ]
  },
  {
   "cell_type": "code",
   "execution_count": 6,
   "id": "bf205002-f7e6-4817-a090-a65aec09a220",
   "metadata": {},
   "outputs": [
    {
     "name": "stdout",
     "output_type": "stream",
     "text": [
      "<class 'pandas.core.frame.DataFrame'>\n",
      "RangeIndex: 40001 entries, 0 to 40000\n",
      "Data columns (total 5 columns):\n",
      " #   Column          Non-Null Count  Dtype  \n",
      "---  ------          --------------  -----  \n",
      " 0   recipe_url      40001 non-null  object \n",
      " 1   title           39994 non-null  object \n",
      " 2   label           39994 non-null  object \n",
      " 3   rating_average  36420 non-null  float64\n",
      " 4   rating_count    36420 non-null  object \n",
      "dtypes: float64(1), object(4)\n",
      "memory usage: 1.5+ MB\n"
     ]
    }
   ],
   "source": [
    "df.info()"
   ]
  },
  {
   "cell_type": "markdown",
   "id": "64ebba48-8393-43f5-8fa8-3c6975c09a74",
   "metadata": {},
   "source": [
    "Data Dictionary:"
   ]
  },
  {
   "cell_type": "markdown",
   "id": "309279a6-7b83-4d7c-a7c8-17fdb8af5a23",
   "metadata": {},
   "source": [
    "| Column | Type | Description |\n",
    "|---|---|---|\n",
    "| `recipe_url` | hyperlink | The uniform resource locator(URL) that leads to the recipe hosted on Allrecipes.com |\n",
    "| `title` | text | The title of each recipe |\n",
    "| `label` | text | The labels (tags) for each recipe. Used by Allrecipes.com as a method of organizing recipes |\n",
    "| `rating_average` | float | The rounded average as found on each recipe on Allrecipes.com |\n",
    "| `rating_count` | integer | The number of ratings for each recipe |"
   ]
  },
  {
   "cell_type": "markdown",
   "id": "c6db0bfc-5989-4487-be6b-27aed9370605",
   "metadata": {},
   "source": [
    "Issues with the loaded data:\n",
    "1. The `rating_count` column was found to be of `object` type instead of `int`.\n",
    "2. Null values observed for `title`, `label`, `rating_average`,and `rating_count`."
   ]
  },
  {
   "cell_type": "markdown",
   "id": "95fc9cca-fa2c-47ac-8b94-f39b7cc771b0",
   "metadata": {},
   "source": [
    "# Data Cleaning and EDA"
   ]
  },
  {
   "cell_type": "markdown",
   "id": "9404d420-6a5b-4f1f-b715-22cc89cfa48e",
   "metadata": {},
   "source": [
    "## Null `titles`"
   ]
  },
  {
   "cell_type": "code",
   "execution_count": 7,
   "id": "ccdd5f2f-4d3d-48bf-aaa8-16fb075cbd93",
   "metadata": {},
   "outputs": [
    {
     "name": "stdout",
     "output_type": "stream",
     "text": [
      "Number of null titles: 7, 0.02% of recipes\n"
     ]
    },
    {
     "data": {
      "text/html": [
       "<div>\n",
       "<style scoped>\n",
       "    .dataframe tbody tr th:only-of-type {\n",
       "        vertical-align: middle;\n",
       "    }\n",
       "\n",
       "    .dataframe tbody tr th {\n",
       "        vertical-align: top;\n",
       "    }\n",
       "\n",
       "    .dataframe thead th {\n",
       "        text-align: right;\n",
       "    }\n",
       "</style>\n",
       "<table border=\"1\" class=\"dataframe\">\n",
       "  <thead>\n",
       "    <tr style=\"text-align: right;\">\n",
       "      <th></th>\n",
       "      <th>recipe_url</th>\n",
       "      <th>title</th>\n",
       "      <th>label</th>\n",
       "      <th>rating_average</th>\n",
       "      <th>rating_count</th>\n",
       "    </tr>\n",
       "  </thead>\n",
       "  <tbody>\n",
       "    <tr>\n",
       "      <th>22785</th>\n",
       "      <td>https://www.allrecipes.com/cook/thedailygourme...</td>\n",
       "      <td>NaN</td>\n",
       "      <td>NaN</td>\n",
       "      <td>NaN</td>\n",
       "      <td>NaN</td>\n",
       "    </tr>\n",
       "    <tr>\n",
       "      <th>23968</th>\n",
       "      <td>https://www.allrecipes.com/recipe/14759/pork-d...</td>\n",
       "      <td>NaN</td>\n",
       "      <td>NaN</td>\n",
       "      <td>NaN</td>\n",
       "      <td>NaN</td>\n",
       "    </tr>\n",
       "    <tr>\n",
       "      <th>26010</th>\n",
       "      <td>https://www.allrecipes.com/recipe/218445/lenge...</td>\n",
       "      <td>NaN</td>\n",
       "      <td>NaN</td>\n",
       "      <td>NaN</td>\n",
       "      <td>NaN</td>\n",
       "    </tr>\n",
       "    <tr>\n",
       "      <th>26389</th>\n",
       "      <td>https://www.allrecipes.com/recipe/cajun-spice-...</td>\n",
       "      <td>NaN</td>\n",
       "      <td>NaN</td>\n",
       "      <td>NaN</td>\n",
       "      <td>NaN</td>\n",
       "    </tr>\n",
       "    <tr>\n",
       "      <th>26848</th>\n",
       "      <td>https://www.allrecipes.com/recipe/herman-sourd...</td>\n",
       "      <td>NaN</td>\n",
       "      <td>NaN</td>\n",
       "      <td>NaN</td>\n",
       "      <td>NaN</td>\n",
       "    </tr>\n",
       "    <tr>\n",
       "      <th>27388</th>\n",
       "      <td>https://www.allrecipes.com/recipe/mustard-pork...</td>\n",
       "      <td>NaN</td>\n",
       "      <td>NaN</td>\n",
       "      <td>NaN</td>\n",
       "      <td>NaN</td>\n",
       "    </tr>\n",
       "    <tr>\n",
       "      <th>33171</th>\n",
       "      <td>https://www.allrecipes.com/recipe/biga/detail....</td>\n",
       "      <td>NaN</td>\n",
       "      <td>NaN</td>\n",
       "      <td>NaN</td>\n",
       "      <td>NaN</td>\n",
       "    </tr>\n",
       "  </tbody>\n",
       "</table>\n",
       "</div>"
      ],
      "text/plain": [
       "                                              recipe_url title label  \\\n",
       "22785  https://www.allrecipes.com/cook/thedailygourme...   NaN   NaN   \n",
       "23968  https://www.allrecipes.com/recipe/14759/pork-d...   NaN   NaN   \n",
       "26010  https://www.allrecipes.com/recipe/218445/lenge...   NaN   NaN   \n",
       "26389  https://www.allrecipes.com/recipe/cajun-spice-...   NaN   NaN   \n",
       "26848  https://www.allrecipes.com/recipe/herman-sourd...   NaN   NaN   \n",
       "27388  https://www.allrecipes.com/recipe/mustard-pork...   NaN   NaN   \n",
       "33171  https://www.allrecipes.com/recipe/biga/detail....   NaN   NaN   \n",
       "\n",
       "       rating_average rating_count  \n",
       "22785             NaN          NaN  \n",
       "23968             NaN          NaN  \n",
       "26010             NaN          NaN  \n",
       "26389             NaN          NaN  \n",
       "26848             NaN          NaN  \n",
       "27388             NaN          NaN  \n",
       "33171             NaN          NaN  "
      ]
     },
     "execution_count": 7,
     "metadata": {},
     "output_type": "execute_result"
    }
   ],
   "source": [
    "# Examine null titles\n",
    "cond = df['title'].isnull()\n",
    "\n",
    "print(f\"Number of null titles: {cond.sum()}, {np.round(cond.sum()/df.shape[0]*100,2)}% of recipes\")\n",
    "\n",
    "# Visually examine null titles\n",
    "df.loc[cond]"
   ]
  },
  {
   "cell_type": "markdown",
   "id": "16e074ef-ed73-428b-854c-12387e2c5b56",
   "metadata": {},
   "source": [
    "As the adherence of each recipe to a standard structure was not well understood, it was assumed that these recipes maybe published with some error and thus excluded from analysis."
   ]
  },
  {
   "cell_type": "code",
   "execution_count": 8,
   "id": "b6d774d1-805b-4d78-9006-e4b888066f89",
   "metadata": {},
   "outputs": [],
   "source": [
    "# Drop rows with null titles\n",
    "df = df.loc[~cond]"
   ]
  },
  {
   "cell_type": "code",
   "execution_count": 9,
   "id": "e3cc0778-e5a4-4284-aeea-7e37e392ab6b",
   "metadata": {},
   "outputs": [
    {
     "name": "stdout",
     "output_type": "stream",
     "text": [
      "<class 'pandas.core.frame.DataFrame'>\n",
      "Index: 39994 entries, 0 to 40000\n",
      "Data columns (total 5 columns):\n",
      " #   Column          Non-Null Count  Dtype  \n",
      "---  ------          --------------  -----  \n",
      " 0   recipe_url      39994 non-null  object \n",
      " 1   title           39994 non-null  object \n",
      " 2   label           39994 non-null  object \n",
      " 3   rating_average  36420 non-null  float64\n",
      " 4   rating_count    36420 non-null  object \n",
      "dtypes: float64(1), object(4)\n",
      "memory usage: 1.8+ MB\n"
     ]
    }
   ],
   "source": [
    "# Examine null values again\n",
    "df.info()"
   ]
  },
  {
   "cell_type": "markdown",
   "id": "50b0d26b-a9ff-4e1a-8886-355eabfc75c9",
   "metadata": {},
   "source": [
    "## Null `rating_average` and `rating_count`"
   ]
  },
  {
   "cell_type": "code",
   "execution_count": 10,
   "id": "ba2f1711-1a96-40cd-8417-ef9e4cbcb40f",
   "metadata": {},
   "outputs": [
    {
     "name": "stdout",
     "output_type": "stream",
     "text": [
      "invalid literal for int() with base 10: '2,630'\n"
     ]
    }
   ],
   "source": [
    "# Try to convert the `rating_count` column to integer\n",
    "try:\n",
    "    df['rating_count'].astype('int')\n",
    "except ValueError as e:\n",
    "    print(f\"{str(e)}\")"
   ]
  },
  {
   "cell_type": "markdown",
   "id": "4f02fde3-dd4f-4e04-911f-54e5facb8618",
   "metadata": {},
   "source": [
    "It would appear that thousands are separated with a comma, leading to the error in type conversion."
   ]
  },
  {
   "cell_type": "code",
   "execution_count": 11,
   "id": "13d19d00-9e0e-4d94-93cb-1567c05740ab",
   "metadata": {},
   "outputs": [],
   "source": [
    "# Remove comma from `rating_count`, then fill NaN with 0 for conversion to integer\n",
    "try:\n",
    "    df['rating_count'] = df['rating_count'].str.replace(\",\",\"\").fillna(0).astype('int')\n",
    "except ValueError as e:\n",
    "    print(f\"{str(e)}\")"
   ]
  },
  {
   "cell_type": "code",
   "execution_count": 12,
   "id": "a1dedd1b-f69f-4e70-b6a3-971d5636004a",
   "metadata": {},
   "outputs": [
    {
     "name": "stdout",
     "output_type": "stream",
     "text": [
      "<class 'pandas.core.frame.DataFrame'>\n",
      "Index: 39994 entries, 0 to 40000\n",
      "Data columns (total 5 columns):\n",
      " #   Column          Non-Null Count  Dtype  \n",
      "---  ------          --------------  -----  \n",
      " 0   recipe_url      39994 non-null  object \n",
      " 1   title           39994 non-null  object \n",
      " 2   label           39994 non-null  object \n",
      " 3   rating_average  36420 non-null  float64\n",
      " 4   rating_count    39994 non-null  int64  \n",
      "dtypes: float64(1), int64(1), object(3)\n",
      "memory usage: 1.8+ MB\n"
     ]
    }
   ],
   "source": [
    "# Examine the converted rating_count\n",
    "df.info()"
   ]
  },
  {
   "cell_type": "markdown",
   "id": "c133a148-ab14-4b32-a409-4bc85a4e4415",
   "metadata": {},
   "source": [
    "Note the recipes with previously null rating counts were now filled with 0, which makes sense since no rating is equal to 0 ratings."
   ]
  },
  {
   "cell_type": "code",
   "execution_count": 13,
   "id": "92930fad-e48d-47d9-bd69-2b9515c943ad",
   "metadata": {},
   "outputs": [
    {
     "name": "stdout",
     "output_type": "stream",
     "text": [
      "Number of null titles: 3574, 8.94% of recipes\n"
     ]
    },
    {
     "data": {
      "text/html": [
       "<div>\n",
       "<style scoped>\n",
       "    .dataframe tbody tr th:only-of-type {\n",
       "        vertical-align: middle;\n",
       "    }\n",
       "\n",
       "    .dataframe tbody tr th {\n",
       "        vertical-align: top;\n",
       "    }\n",
       "\n",
       "    .dataframe thead th {\n",
       "        text-align: right;\n",
       "    }\n",
       "</style>\n",
       "<table border=\"1\" class=\"dataframe\">\n",
       "  <thead>\n",
       "    <tr style=\"text-align: right;\">\n",
       "      <th></th>\n",
       "      <th>recipe_url</th>\n",
       "      <th>title</th>\n",
       "      <th>label</th>\n",
       "      <th>rating_average</th>\n",
       "      <th>rating_count</th>\n",
       "    </tr>\n",
       "  </thead>\n",
       "  <tbody>\n",
       "    <tr>\n",
       "      <th>123</th>\n",
       "      <td>https://www.allrecipes.com/recipe/8538705/tate...</td>\n",
       "      <td>Tater Tot Hotdish</td>\n",
       "      <td>['Main Dishes', 'Casserole Recipes', 'Vegetabl...</td>\n",
       "      <td>NaN</td>\n",
       "      <td>0</td>\n",
       "    </tr>\n",
       "    <tr>\n",
       "      <th>188</th>\n",
       "      <td>https://www.allrecipes.com/recipe/8493351/grai...</td>\n",
       "      <td>Grain-Free Broccoli Fritters</td>\n",
       "      <td>['Recipes', 'Fruits and Vegetables', 'Vegetabl...</td>\n",
       "      <td>NaN</td>\n",
       "      <td>0</td>\n",
       "    </tr>\n",
       "    <tr>\n",
       "      <th>260</th>\n",
       "      <td>https://www.allrecipes.com/recipe/8499644/chic...</td>\n",
       "      <td>Chicken Minestrone Soup</td>\n",
       "      <td>['Soups, Stews and Chili Recipes', 'Soup Recip...</td>\n",
       "      <td>NaN</td>\n",
       "      <td>0</td>\n",
       "    </tr>\n",
       "    <tr>\n",
       "      <th>261</th>\n",
       "      <td>https://www.allrecipes.com/recipe/8532495/roas...</td>\n",
       "      <td>Roasted Broccoli Soup</td>\n",
       "      <td>['Soups, Stews and Chili Recipes', 'Soup Recip...</td>\n",
       "      <td>NaN</td>\n",
       "      <td>0</td>\n",
       "    </tr>\n",
       "    <tr>\n",
       "      <th>263</th>\n",
       "      <td>https://www.allrecipes.com/recipe/8448142/wate...</td>\n",
       "      <td>Watermelon Tomato Gazpacho with a Cool Cucumbe...</td>\n",
       "      <td>['Soups, Stews and Chili Recipes', 'Soup Recip...</td>\n",
       "      <td>NaN</td>\n",
       "      <td>0</td>\n",
       "    </tr>\n",
       "  </tbody>\n",
       "</table>\n",
       "</div>"
      ],
      "text/plain": [
       "                                            recipe_url  \\\n",
       "123  https://www.allrecipes.com/recipe/8538705/tate...   \n",
       "188  https://www.allrecipes.com/recipe/8493351/grai...   \n",
       "260  https://www.allrecipes.com/recipe/8499644/chic...   \n",
       "261  https://www.allrecipes.com/recipe/8532495/roas...   \n",
       "263  https://www.allrecipes.com/recipe/8448142/wate...   \n",
       "\n",
       "                                                 title  \\\n",
       "123                                  Tater Tot Hotdish   \n",
       "188                       Grain-Free Broccoli Fritters   \n",
       "260                            Chicken Minestrone Soup   \n",
       "261                              Roasted Broccoli Soup   \n",
       "263  Watermelon Tomato Gazpacho with a Cool Cucumbe...   \n",
       "\n",
       "                                                 label  rating_average  \\\n",
       "123  ['Main Dishes', 'Casserole Recipes', 'Vegetabl...             NaN   \n",
       "188  ['Recipes', 'Fruits and Vegetables', 'Vegetabl...             NaN   \n",
       "260  ['Soups, Stews and Chili Recipes', 'Soup Recip...             NaN   \n",
       "261  ['Soups, Stews and Chili Recipes', 'Soup Recip...             NaN   \n",
       "263  ['Soups, Stews and Chili Recipes', 'Soup Recip...             NaN   \n",
       "\n",
       "     rating_count  \n",
       "123             0  \n",
       "188             0  \n",
       "260             0  \n",
       "261             0  \n",
       "263             0  "
      ]
     },
     "execution_count": 13,
     "metadata": {},
     "output_type": "execute_result"
    }
   ],
   "source": [
    "# Drop the recipes with null rating_average\n",
    "cond = df['rating_average'].isnull()\n",
    "\n",
    "print(f\"Number of null titles: {cond.sum()}, {np.round(cond.sum()/df.shape[0]*100,2)}% of recipes\")\n",
    "\n",
    "# Visually examine null titles\n",
    "df.loc[cond].head()"
   ]
  },
  {
   "cell_type": "code",
   "execution_count": 14,
   "id": "64c2f999-0fd9-4077-9905-345ac017e3ed",
   "metadata": {},
   "outputs": [],
   "source": [
    "# Drop ropws where the rating_average is null\n",
    "df = df.loc[~cond]"
   ]
  },
  {
   "cell_type": "code",
   "execution_count": 15,
   "id": "1a0de647-0d32-4c36-8d97-fcdd9d5f82c4",
   "metadata": {
    "scrolled": true
   },
   "outputs": [
    {
     "name": "stdout",
     "output_type": "stream",
     "text": [
      "<class 'pandas.core.frame.DataFrame'>\n",
      "Index: 36420 entries, 0 to 40000\n",
      "Data columns (total 5 columns):\n",
      " #   Column          Non-Null Count  Dtype  \n",
      "---  ------          --------------  -----  \n",
      " 0   recipe_url      36420 non-null  object \n",
      " 1   title           36420 non-null  object \n",
      " 2   label           36420 non-null  object \n",
      " 3   rating_average  36420 non-null  float64\n",
      " 4   rating_count    36420 non-null  int64  \n",
      "dtypes: float64(1), int64(1), object(3)\n",
      "memory usage: 1.7+ MB\n"
     ]
    }
   ],
   "source": [
    "# Check for any null values\n",
    "df.info()"
   ]
  },
  {
   "cell_type": "markdown",
   "id": "9d5ecf09-cd8f-4f05-9f74-1d9eb68671fe",
   "metadata": {},
   "source": [
    "All null values have been removed."
   ]
  },
  {
   "cell_type": "markdown",
   "id": "3d07ed44-5479-43b0-a05d-846402df7129",
   "metadata": {},
   "source": [
    "## Distribution of `rating_average` and `rating_count`"
   ]
  },
  {
   "cell_type": "code",
   "execution_count": 16,
   "id": "b582f1fd-e505-4f0c-b364-78950e630db9",
   "metadata": {},
   "outputs": [
    {
     "name": "stdout",
     "output_type": "stream",
     "text": [
      "===== Distribution Plots for rating_average =====\n"
     ]
    },
    {
     "data": {
      "image/png": "[encoded data removed]",
      "text/plain": [
       "<Figure size 1500x500 with 2 Axes>"
      ]
     },
     "metadata": {},
     "output_type": "display_data"
    },
    {
     "name": "stdout",
     "output_type": "stream",
     "text": [
      "===============================================\n",
      "\n",
      "\n",
      "===== Distribution Plots for rating_count =====\n"
     ]
    },
    {
     "data": {
      "text/plain": [
       "<Figure size 640x480 with 0 Axes>"
      ]
     },
     "metadata": {},
     "output_type": "display_data"
    },
    {
     "data": {
      "image/png": "[encoded data removed]",
      "text/plain": [
       "<Figure size 1500x500 with 2 Axes>"
      ]
     },
     "metadata": {},
     "output_type": "display_data"
    },
    {
     "name": "stdout",
     "output_type": "stream",
     "text": [
      "===============================================\n",
      "\n",
      "\n"
     ]
    },
    {
     "data": {
      "text/plain": [
       "<Figure size 640x480 with 0 Axes>"
      ]
     },
     "metadata": {},
     "output_type": "display_data"
    }
   ],
   "source": [
    "for col in [\"rating_avera ge\",\"rating_count\"]:\n",
    "    plot_histogram(df, col, col,\"../assets/images\")"
   ]
  },
  {
   "cell_type": "markdown",
   "id": "fb52782b-6ac1-4e06-bbab-d08eb761d3be",
   "metadata": {},
   "source": [
    "A left skew was observed for `rating_average`, with all 40,000 recipes having a mean average rating of 4.5 out of 5. Although the close mean and median suggest a distribution with a single peak, visual observation suggests multiple peaks centered around 4.0, 4.5 and 5.0 respectively. These observations suggest that users who provide ratings tend to provide high ratings of 4 to 5 stars, and, that the `rating_average` may be an over-positive representation of recipes posted on allrecipes.\n",
    "\n",
    "`Rating_count` was observed to have an extremely right skew, with the mean of 142 ratings per recipe being 5 times greater than the median of 26 ratings per recipe. The skew is mostly caused by outlier recipes with over 10,000 user ratings. This may suggest that the promotion or recommendation of recipes on allrecipes.com highly favours recipes already popular, or that some recipes are so common that many people search for it. Further detailed exploration by recipe is required to verify this. The LOG of the `rating_count` reduces the effect of outliers and reveals a bimodal distirbution. The taller peak of the left suggests most recipes tend to have low rating counts, with a smaller peak representing the next majority of recipes centered around 1,000 ratings per recipe."
   ]
  },
  {
   "cell_type": "markdown",
   "id": "34761c5b-9a6a-4a2b-aef1-aed5d8411a34",
   "metadata": {},
   "source": [
    "## Recipes with Less than 2 ratings\n",
    "\n",
    "The significance of recipe ratings are dependent on the number of ratings. Thus, to ensure some standard of quality for recipes, recipes with less than 2 ratings were excluded from analysis. The number of 2 was chosen based on the assumption that a second independent rating raises the validity of the recipe rating."
   ]
  },
  {
   "cell_type": "code",
   "execution_count": 19,
   "id": "2b42d3c4-1cba-47f0-bb85-af9be2e5b328",
   "metadata": {},
   "outputs": [
    {
     "name": "stdout",
     "output_type": "stream",
     "text": [
      "Number of recipes with less than 2 ratings: 2729, 7.49% of recipes\n"
     ]
    },
    {
     "data": {
      "text/html": [
       "<div>\n",
       "<style scoped>\n",
       "    .dataframe tbody tr th:only-of-type {\n",
       "        vertical-align: middle;\n",
       "    }\n",
       "\n",
       "    .dataframe tbody tr th {\n",
       "        vertical-align: top;\n",
       "    }\n",
       "\n",
       "    .dataframe thead th {\n",
       "        text-align: right;\n",
       "    }\n",
       "</style>\n",
       "<table border=\"1\" class=\"dataframe\">\n",
       "  <thead>\n",
       "    <tr style=\"text-align: right;\">\n",
       "      <th></th>\n",
       "      <th>recipe_url</th>\n",
       "      <th>title</th>\n",
       "      <th>label</th>\n",
       "      <th>rating_average</th>\n",
       "      <th>rating_count</th>\n",
       "    </tr>\n",
       "  </thead>\n",
       "  <tbody>\n",
       "    <tr>\n",
       "      <th>2</th>\n",
       "      <td>https://www.allrecipes.com/recipe/8509102/chic...</td>\n",
       "      <td>Chicken Al Pastor</td>\n",
       "      <td>['Mexican', 'Main Dishes', 'Tacos', 'Chicken']</td>\n",
       "      <td>5.0</td>\n",
       "      <td>1</td>\n",
       "    </tr>\n",
       "    <tr>\n",
       "      <th>186</th>\n",
       "      <td>https://www.allrecipes.com/recipe/8532964/air-...</td>\n",
       "      <td>Air Fryer Tilapia</td>\n",
       "      <td>['Recipes', 'Seafood', 'Fish', 'Tilapia']</td>\n",
       "      <td>5.0</td>\n",
       "      <td>1</td>\n",
       "    </tr>\n",
       "    <tr>\n",
       "      <th>189</th>\n",
       "      <td>https://www.allrecipes.com/recipe/8441918/skil...</td>\n",
       "      <td>Skillet Zucchini and Squash</td>\n",
       "      <td>['Vegetables', 'Squash', 'Summer Squash', 'Yel...</td>\n",
       "      <td>5.0</td>\n",
       "      <td>1</td>\n",
       "    </tr>\n",
       "    <tr>\n",
       "      <th>190</th>\n",
       "      <td>https://www.allrecipes.com/recipe/8499615/air-...</td>\n",
       "      <td>Air Fryer Scrambled Eggs On The Go</td>\n",
       "      <td>['Recipes', 'Breakfast and Brunch', 'Eggs', 'S...</td>\n",
       "      <td>4.0</td>\n",
       "      <td>1</td>\n",
       "    </tr>\n",
       "    <tr>\n",
       "      <th>262</th>\n",
       "      <td>https://www.allrecipes.com/recipe/8532956/dump...</td>\n",
       "      <td>Dump-and-Go Instant Pot Tortilla Soup</td>\n",
       "      <td>['Recipes', 'Soups, Stews and Chili Recipes', ...</td>\n",
       "      <td>4.0</td>\n",
       "      <td>1</td>\n",
       "    </tr>\n",
       "  </tbody>\n",
       "</table>\n",
       "</div>"
      ],
      "text/plain": [
       "                                            recipe_url  \\\n",
       "2    https://www.allrecipes.com/recipe/8509102/chic...   \n",
       "186  https://www.allrecipes.com/recipe/8532964/air-...   \n",
       "189  https://www.allrecipes.com/recipe/8441918/skil...   \n",
       "190  https://www.allrecipes.com/recipe/8499615/air-...   \n",
       "262  https://www.allrecipes.com/recipe/8532956/dump...   \n",
       "\n",
       "                                     title  \\\n",
       "2                        Chicken Al Pastor   \n",
       "186                      Air Fryer Tilapia   \n",
       "189            Skillet Zucchini and Squash   \n",
       "190     Air Fryer Scrambled Eggs On The Go   \n",
       "262  Dump-and-Go Instant Pot Tortilla Soup   \n",
       "\n",
       "                                                 label  rating_average  \\\n",
       "2       ['Mexican', 'Main Dishes', 'Tacos', 'Chicken']             5.0   \n",
       "186          ['Recipes', 'Seafood', 'Fish', 'Tilapia']             5.0   \n",
       "189  ['Vegetables', 'Squash', 'Summer Squash', 'Yel...             5.0   \n",
       "190  ['Recipes', 'Breakfast and Brunch', 'Eggs', 'S...             4.0   \n",
       "262  ['Recipes', 'Soups, Stews and Chili Recipes', ...             4.0   \n",
       "\n",
       "     rating_count  \n",
       "2               1  \n",
       "186             1  \n",
       "189             1  \n",
       "190             1  \n",
       "262             1  "
      ]
     },
     "execution_count": 19,
     "metadata": {},
     "output_type": "execute_result"
    }
   ],
   "source": [
    "# Identify the number of recipes with less than 2 ratings\n",
    "cond = df[\"rating_count\"] < 2\n",
    "\n",
    "print(f\"Number of recipes with less than 2 ratings: {cond.sum()}, {np.round(cond.sum()/df.shape[0]*100,2)}% of recipes\")\n",
    "\n",
    "# Visual examination of these recipes\n",
    "df.loc[cond].head()"
   ]
  },
  {
   "cell_type": "code",
   "execution_count": 21,
   "id": "abcddafb-7c4a-48b2-a00a-2081c4b12419",
   "metadata": {},
   "outputs": [
    {
     "name": "stdout",
     "output_type": "stream",
     "text": [
      "===== Distribution Plots for rating_average =====\n"
     ]
    },
    {
     "data": {
      "image/png": "[encoded data removed]",
      "text/plain": [
       "<Figure size 1500x500 with 2 Axes>"
      ]
     },
     "metadata": {},
     "output_type": "display_data"
    },
    {
     "name": "stdout",
     "output_type": "stream",
     "text": [
      "===============================================\n",
      "\n",
      "\n",
      "===== Distribution Plots for rating_count =====\n"
     ]
    },
    {
     "data": {
      "text/plain": [
       "<Figure size 640x480 with 0 Axes>"
      ]
     },
     "metadata": {},
     "output_type": "display_data"
    },
    {
     "data": {
      "image/png": "[encoded data removed]",
      "text/plain": [
       "<Figure size 1500x500 with 2 Axes>"
      ]
     },
     "metadata": {},
     "output_type": "display_data"
    },
    {
     "name": "stdout",
     "output_type": "stream",
     "text": [
      "===============================================\n",
      "\n",
      "\n"
     ]
    },
    {
     "data": {
      "text/plain": [
       "<Figure size 640x480 with 0 Axes>"
      ]
     },
     "metadata": {},
     "output_type": "display_data"
    }
   ],
   "source": [
    "for col in [\"rating_average\",\"rating_count\"]:\n",
    "    plot_histogram(df.loc[~cond], col, col,\"../assets/images\")"
   ]
  },
  {
   "cell_type": "markdown",
   "id": "bd45db68-830f-4653-87bb-8cd7e7c14763",
   "metadata": {},
   "source": [
    "Although 7.49% of the remaining recipes contain less than 2 ratings, the validity of the quality of the recipes being analyzed is deemed more important than the number of recipes analyzed, and thus these 2,729 recipes were dropped from analysis. Further backing up this decision, the distribution of `rating_count` and `rating_average` were observed to be unchanged after removing recipes with less than 2 ratings."
   ]
  },
  {
   "cell_type": "code",
   "execution_count": 22,
   "id": "8ca39797-588e-4635-ae40-a7e80607315f",
   "metadata": {},
   "outputs": [],
   "source": [
    "# Drop ropws where the recipe has less than 2 ratings\n",
    "df = df.loc[~cond]"
   ]
  },
  {
   "cell_type": "code",
   "execution_count": 23,
   "id": "bc3aef4c-e2f6-42a7-a4b0-7f14f15123f6",
   "metadata": {},
   "outputs": [
    {
     "name": "stdout",
     "output_type": "stream",
     "text": [
      "<class 'pandas.core.frame.DataFrame'>\n",
      "Index: 33691 entries, 0 to 40000\n",
      "Data columns (total 5 columns):\n",
      " #   Column          Non-Null Count  Dtype  \n",
      "---  ------          --------------  -----  \n",
      " 0   recipe_url      33691 non-null  object \n",
      " 1   title           33691 non-null  object \n",
      " 2   label           33691 non-null  object \n",
      " 3   rating_average  33691 non-null  float64\n",
      " 4   rating_count    33691 non-null  int64  \n",
      "dtypes: float64(1), int64(1), object(3)\n",
      "memory usage: 1.5+ MB\n"
     ]
    }
   ],
   "source": [
    "# Examine remaining recipes\n",
    "df.info()"
   ]
  },
  {
   "cell_type": "code",
   "execution_count": 24,
   "id": "de7832b9-6cdd-453a-a7da-227b42efe18d",
   "metadata": {},
   "outputs": [
    {
     "data": {
      "text/html": [
       "<div>\n",
       "<style scoped>\n",
       "    .dataframe tbody tr th:only-of-type {\n",
       "        vertical-align: middle;\n",
       "    }\n",
       "\n",
       "    .dataframe tbody tr th {\n",
       "        vertical-align: top;\n",
       "    }\n",
       "\n",
       "    .dataframe thead th {\n",
       "        text-align: right;\n",
       "    }\n",
       "</style>\n",
       "<table border=\"1\" class=\"dataframe\">\n",
       "  <thead>\n",
       "    <tr style=\"text-align: right;\">\n",
       "      <th></th>\n",
       "      <th>rating_average</th>\n",
       "      <th>rating_count</th>\n",
       "    </tr>\n",
       "  </thead>\n",
       "  <tbody>\n",
       "    <tr>\n",
       "      <th>count</th>\n",
       "      <td>33691.000000</td>\n",
       "      <td>33691.000000</td>\n",
       "    </tr>\n",
       "    <tr>\n",
       "      <th>mean</th>\n",
       "      <td>4.451895</td>\n",
       "      <td>152.973316</td>\n",
       "    </tr>\n",
       "    <tr>\n",
       "      <th>std</th>\n",
       "      <td>0.381909</td>\n",
       "      <td>538.782772</td>\n",
       "    </tr>\n",
       "    <tr>\n",
       "      <th>min</th>\n",
       "      <td>1.000000</td>\n",
       "      <td>2.000000</td>\n",
       "    </tr>\n",
       "    <tr>\n",
       "      <th>25%</th>\n",
       "      <td>4.300000</td>\n",
       "      <td>9.000000</td>\n",
       "    </tr>\n",
       "    <tr>\n",
       "      <th>50%</th>\n",
       "      <td>4.500000</td>\n",
       "      <td>32.000000</td>\n",
       "    </tr>\n",
       "    <tr>\n",
       "      <th>75%</th>\n",
       "      <td>4.700000</td>\n",
       "      <td>108.000000</td>\n",
       "    </tr>\n",
       "    <tr>\n",
       "      <th>max</th>\n",
       "      <td>5.000000</td>\n",
       "      <td>19961.000000</td>\n",
       "    </tr>\n",
       "  </tbody>\n",
       "</table>\n",
       "</div>"
      ],
      "text/plain": [
       "       rating_average  rating_count\n",
       "count    33691.000000  33691.000000\n",
       "mean         4.451895    152.973316\n",
       "std          0.381909    538.782772\n",
       "min          1.000000      2.000000\n",
       "25%          4.300000      9.000000\n",
       "50%          4.500000     32.000000\n",
       "75%          4.700000    108.000000\n",
       "max          5.000000  19961.000000"
      ]
     },
     "execution_count": 24,
     "metadata": {},
     "output_type": "execute_result"
    }
   ],
   "source": [
    "# Numerical examination of cleaned distribution\n",
    "df.describe()"
   ]
  },
  {
   "cell_type": "markdown",
   "id": "0b511f9e-bca9-446f-81b6-688146344500",
   "metadata": {},
   "source": [
    "# Text Preprocessing"
   ]
  },
  {
   "cell_type": "markdown",
   "id": "5016ba91-c2c6-4887-801a-86dd8c1710da",
   "metadata": {},
   "source": [
    "First, the column containg the labels of each recipe were examined."
   ]
  },
  {
   "cell_type": "code",
   "execution_count": 30,
   "id": "4d0388db-b758-40a0-8c67-bae63e0f2946",
   "metadata": {},
   "outputs": [
    {
     "name": "stdout",
     "output_type": "stream",
     "text": [
      "Corned Beef Roast has labels:    ['Recipes', 'Main Dishes', 'Beef', 'Corned Beef Recipes']\n",
      "Stout-Braised Lamb Shanks has labels:    ['Cuisine', 'European', 'UK and Ireland', 'Irish']\n",
      "Mississippi Chicken has labels:    ['Recipes', 'Meat and Poultry', 'Chicken']\n",
      "Lasagna Flatbread has labels:    ['Recipes', 'Bread', 'Quick Bread Recipes']\n",
      "Prosciutto-Wrapped Pork Tenderloin with Crispy Sage has labels:    ['Recipes', 'Meat and Poultry', 'Pork', 'Pork Tenderloin Recipes']\n"
     ]
    }
   ],
   "source": [
    "# As only 5 rows were examined, the slower iterrows method was used for code simplicity\n",
    "for index, row in df.loc[:,[\"title\", \"label\"]].head().iterrows():\n",
    "    print(f\"{row[0]} has labels:    {row[1]}\")"
   ]
  },
  {
   "cell_type": "markdown",
   "id": "61a05eeb-1454-43f7-a493-f906f07211b4",
   "metadata": {},
   "source": [
    "The labels for each recipe were observed to be a list of terms separated by commas. Furthermore, the number of labels and the labels themselves are not consistent across recipes. Common words such as \"Recipes\" were observed to bring no analysis value as each row represents a recipe by default. \n",
    "\n",
    "As such, before vectorizing the recipe labels into a sparse table containing a count for each vector, preprocessing of text shold be performed to ensure that only meaningful labels are included. In other words, the text column containing recipe labels must be cleaned.\n",
    "\n",
    "To facilitate systematic cleaning of each recipe's text, a `tokenizer` will be built, with the recipe `Corned Beef Roast` being the recipe evaluated as the tokenizer is built."
   ]
  },
  {
   "cell_type": "code",
   "execution_count": 43,
   "id": "a2550bde-4415-4a23-b2a8-f4584087978c",
   "metadata": {},
   "outputs": [
    {
     "name": "stdout",
     "output_type": "stream",
     "text": [
      "['Recipes', 'Main Dishes', 'Beef', 'Corned Beef Recipes']\n"
     ]
    }
   ],
   "source": [
    "# Visually examine the labels of Corned Beef Roast, which is index 0\n",
    "sentence = df.loc[0,\"label\"]\n",
    "print(sentence)"
   ]
  },
  {
   "cell_type": "markdown",
   "id": "900786cd-64ec-4176-bc51-fc901ab1fb7c",
   "metadata": {},
   "source": [
    "## Remove Punctuation"
   ]
  },
  {
   "cell_type": "markdown",
   "id": "3eb22586-247f-4fd6-bdc2-11988ce57647",
   "metadata": {},
   "source": [
    "To get a list of punctuation to remove, the punctuation attribute of the `string` module was accessed."
   ]
  },
  {
   "cell_type": "code",
   "execution_count": 44,
   "id": "1d993de8-990b-4020-8756-1d1f04283a57",
   "metadata": {},
   "outputs": [
    {
     "name": "stdout",
     "output_type": "stream",
     "text": [
      "!\"#$%&'()*+,-./:;<=>?@[\\]^_`{|}~\n"
     ]
    }
   ],
   "source": [
    "print(string.punctuation)"
   ]
  },
  {
   "cell_type": "markdown",
   "id": "d01342d8-ffff-424f-a25d-2399f664eeb9",
   "metadata": {},
   "source": [
    "Removing the punctuation from the labels of Corned Beef Roast leads to each word being separated by space. Although cleaner, this is not ideal the words `main` and `dishes` make more sense together than when evaluated separately. "
   ]
  },
  {
   "cell_type": "code",
   "execution_count": 45,
   "id": "f0d2a1b2-0fd3-486f-82d0-c71cab45ac1a",
   "metadata": {},
   "outputs": [
    {
     "name": "stdout",
     "output_type": "stream",
     "text": [
      "recipes main dishes beef corned beef recipes\n"
     ]
    }
   ],
   "source": [
    "# Remove punctuation and change to lower case\n",
    "for punctuation_mark in string.punctuation:\n",
    "    sentence = sentence.replace(punctuation_mark, \"\").lower()\n",
    "\n",
    "print(sentence)"
   ]
  },
  {
   "cell_type": "markdown",
   "id": "115e7c9d-c4bf-41a8-a32d-809a4bf6df36",
   "metadata": {},
   "source": [
    "One option is to use the `n-grams` option in the `CountVectorizer` later. However, since the inclusion of n-grams significantly increases the number of tokens formed, combined with the simplicity of the text, a custom word-combiner was used instead to remove punctuation to generate more meaning. Regular Expression ([regex](https://docs.python.org/3/library/re.html)) was used to specify which punctuation to remove."
   ]
  },
  {
   "cell_type": "code",
   "execution_count": 47,
   "id": "cae12b46-d7b6-4e95-82c0-53c75c85914a",
   "metadata": {},
   "outputs": [
    {
     "name": "stdout",
     "output_type": "stream",
     "text": [
      "STEP1: ['Recipes'+'Main Dishes'+'Beef'+'Corned Beef Recipes']\n",
      "STEP2: ['Recipes'+'Main_Dishes'+'Beef'+'Corned_Beef_Recipes']\n",
      "STEP3: ['Recipes', 'Main_Dishes', 'Beef', 'Corned_Beef_Recipes']\n",
      "STEP4: recipes main_dishes beef corned_beef_recipes\n"
     ]
    }
   ],
   "source": [
    "# Regenerate Corned Beef Roast labels\n",
    "sentence = df.loc[0,\"label\"]\n",
    "\n",
    "# STEP 1: Replace all spaces after commas with placeholder \"+\"\n",
    "sentence = re.sub(\",\\s\",\"+\",sentence)\n",
    "print(f\"STEP1: {sentence}\")\n",
    "\n",
    "# STEP 2: Replace all other spaces within quotation marks with \"_\"\n",
    "sentence = re.sub(\"\\s\",\"_\",sentence)\n",
    "print(f\"STEP2: {sentence}\")\n",
    "\n",
    "# STEP 3: Revert the placeholder to back to original space to separate labels\n",
    "sentence = sentence.replace(\"+\",\", \")\n",
    "print(f\"STEP3: {sentence}\")\n",
    "\n",
    "# STEP 4: Finally, remove all punctuation except \"_\"\n",
    "for punctuation_mark in [punctuation for punctuation in string.punctuation if punctuation != \"_\"]:\n",
    "    sentence = sentence.replace(punctuation_mark,\"\").lower()\n",
    "\n",
    "print(f\"STEP4: {sentence}\")"
   ]
  },
  {
   "cell_type": "markdown",
   "id": "1b572b9b-e653-4995-9161-58545504f45a",
   "metadata": {},
   "source": [
    "Now, as seen in step 4 above, all other punctuation marks have been removed while preserving meaningful word combinations for recipe labels."
   ]
  },
  {
   "cell_type": "markdown",
   "id": "b2cd9fb7-18eb-4215-bced-8f416533f65e",
   "metadata": {},
   "source": [
    "## Remove Numbers"
   ]
  },
  {
   "cell_type": "markdown",
   "id": "21d00974-f571-45f7-910a-b3cb2da86b59",
   "metadata": {},
   "source": [
    "Similar to punctuation, the `digits` attribute of the `string` module can be used to remove digits. In this specific context of recipe labels, numerical digits do not hold much meaning and were thus removed."
   ]
  },
  {
   "cell_type": "code",
   "execution_count": 48,
   "id": "cc1b363d-d7f0-496f-bf08-d897a41b21fa",
   "metadata": {},
   "outputs": [
    {
     "name": "stdout",
     "output_type": "stream",
     "text": [
      "0123456789\n"
     ]
    }
   ],
   "source": [
    "# Examing numerical digits to be removed\n",
    "print(string.digits)"
   ]
  },
  {
   "cell_type": "markdown",
   "id": "79316dd7-6c8d-4a4d-95dd-59634c394e1f",
   "metadata": {},
   "source": [
    "The `maketrans()` method was used as a faster alternative to looping through each character."
   ]
  },
  {
   "cell_type": "code",
   "execution_count": 49,
   "id": "dbd453c1-a823-4164-a2fb-2b4b42ebb9d3",
   "metadata": {},
   "outputs": [
    {
     "name": "stdout",
     "output_type": "stream",
     "text": [
      "recipes main_dishes beef corned_beef_recipes\n"
     ]
    }
   ],
   "source": [
    "# Each digit within string.digits is mapped to None\n",
    "remove_digits = str.maketrans('','', string.digits)\n",
    "\n",
    "# Apply mapping to sentence\n",
    "sentence = sentence.translate(remove_digits)\n",
    "\n",
    "print(sentence)"
   ]
  },
  {
   "cell_type": "markdown",
   "id": "378b6f7b-b08d-4890-b93a-b8b48a8e09bb",
   "metadata": {},
   "source": [
    "As expected, no changes were observed since no numerical digits were present in the example. To prove that numerical digits are being removed, the below simple test case was created:"
   ]
  },
  {
   "cell_type": "code",
   "execution_count": 50,
   "id": "269dd729-8ccd-499e-8d1e-c2efa73f8d27",
   "metadata": {},
   "outputs": [
    {
     "name": "stdout",
     "output_type": "stream",
     "text": [
      "Test with numbers: recipes main_dishes11111 beef2222 corned_beef_recipes\n",
      "recipes main_dishes beef corned_beef_recipes\n"
     ]
    }
   ],
   "source": [
    "# Example with numbers inside\n",
    "test_sentence = \"recipes main_dishes11111 beef2222 corned_beef_recipes\"\n",
    "print(f\"Test with numbers: {test_sentence}\")\n",
    "\n",
    "# Apply mapping to remove digits to test sentence\n",
    "test_sentence = test_sentence.translate(remove_digits)\n",
    "\n",
    "print(test_sentence)"
   ]
  },
  {
   "cell_type": "markdown",
   "id": "74422b44-03e9-47f9-a825-46f9f466462c",
   "metadata": {},
   "source": [
    "## Remove Stop Words + Stemming"
   ]
  },
  {
   "cell_type": "markdown",
   "id": "73c46fd6-2f86-4dc1-b974-285d165420f4",
   "metadata": {},
   "source": [
    "Stop Words refer to words that are so commonly used that they hold no significant meaning aside. To access a list of English stopwords was access through the NLTK corpus, and further extended to include words specific to this use case."
   ]
  },
  {
   "cell_type": "code",
   "execution_count": 55,
   "id": "b209290f-8a7a-4e88-bc16-f38a85ddc2f8",
   "metadata": {
    "scrolled": true
   },
   "outputs": [
    {
     "name": "stdout",
     "output_type": "stream",
     "text": [
      "['i', 'me', 'my', 'myself', 'we', 'our', 'ours', 'ourselves', 'you', \"you're\"]\n"
     ]
    }
   ],
   "source": [
    "# Examine first 10 stopwords in enlish\n",
    "eng_stopwords = stopwords.words('english')\n",
    "print(eng_stopwords[0:10])"
   ]
  },
  {
   "cell_type": "code",
   "execution_count": 56,
   "id": "5f1a5c5d-9ac4-4a98-aede-46ff189efc07",
   "metadata": {},
   "outputs": [
    {
     "name": "stdout",
     "output_type": "stream",
     "text": [
      "\n"
     ]
    }
   ],
   "source": [
    "# Extending the list of stopwords\n",
    "print(f\"\")\n",
    "\n",
    "# some stop words in food recipes\n",
    "eng_stopwords.extend(['degree','degrees','c','f', 'recipe', 'recipes', 'minute', 'minutes'])"
   ]
  },
  {
   "cell_type": "markdown",
   "id": "87c3061a-8493-4700-af68-f20e4056c5c8",
   "metadata": {},
   "source": [
    "After defining stop words to exclude from analysis, the variant of each word can be standardized using stemming. Note that each sentence was broken up into words based on whitespaces as meaningful combinations of words were already accounted for when removing punctuation."
   ]
  },
  {
   "cell_type": "code",
   "execution_count": 57,
   "id": "e74a979d-66e9-4ee8-9dd9-42724ad1b2b2",
   "metadata": {},
   "outputs": [],
   "source": [
    "# Define a stemmer\n",
    "stemmer = nltk.stem.PorterStemmer()"
   ]
  },
  {
   "cell_type": "code",
   "execution_count": 58,
   "id": "8f6a32ba-d21d-48cc-b5e7-b9d5b2ff5fb5",
   "metadata": {},
   "outputs": [
    {
     "name": "stdout",
     "output_type": "stream",
     "text": [
      "Before stemming and stop word removal:    recipes main_dishes beef corned_beef_recipes\n",
      "After stemming and stop word removal:    ['main_dish', 'beef', 'corned_beef_recip']\n"
     ]
    }
   ],
   "source": [
    "print(f\"Before stemming and stop word removal:    {sentence}\")\n",
    "\n",
    "# Split sentence into words based on spaces\n",
    "list_of_words = sentence.split(' ')\n",
    "\n",
    "# Define blank list to store stemmed words\n",
    "list_of_stemmed_words = []\n",
    "\n",
    "for word in list_of_words:\n",
    "    \n",
    "    # Remove stop words and and any tokens that are just empty strings\n",
    "    if (not word in eng_stopwords) and word != \"\":\n",
    "\n",
    "        # Stem each word\n",
    "        list_of_stemmed_words.append(stemmer.stem(word))\n",
    "\n",
    "# Examine sentence after stemming and stop word removal\n",
    "print(f\"After stemming and stop word removal:    {list_of_stemmed_words}\")"
   ]
  },
  {
   "cell_type": "markdown",
   "id": "ccb693ef-241c-4a56-8bbb-5927cdd6cc8d",
   "metadata": {},
   "source": [
    "As expected, the word `recipes` was removed since it was defined as a stop word. The stemming worked as expected as the plurality of `main_dishes` was removed, leaving `main_dish`. Stemming is not a perfect process as `corned_beef_recipes` was stemmed to `corned_beef_recip`. "
   ]
  },
  {
   "cell_type": "markdown",
   "id": "cf53bbbd-0980-4646-ad01-c373db4ad924",
   "metadata": {},
   "source": [
    "## Compiling into a tokenizer function"
   ]
  },
  {
   "cell_type": "markdown",
   "id": "c59fdd2f-f9e6-4d12-8e92-e1972df8a53a",
   "metadata": {},
   "source": [
    "The above text preprocessing steps were combined into a function to be applied to each recipe. "
   ]
  },
  {
   "cell_type": "code",
   "execution_count": 81,
   "id": "bdc92793-74d8-491b-9932-7f67b0092c4a",
   "metadata": {},
   "outputs": [],
   "source": [
    "def tokenizer(sentence):\n",
    "    \"\"\"\n",
    "    This function performs the tokenization of text with below steps:\n",
    "    1) removes punctuation and combines meaningful labels with underscore\n",
    "    2) removes numerical digits\n",
    "    3) splits a sentence into words based on white space\n",
    "    4) removes stop words\n",
    "    5) apply PorterStemmer to each word\n",
    "\n",
    "    ======\n",
    "    INPUTS\n",
    "    ======\n",
    "    sentence: a string object to be tokenized\n",
    "\n",
    "    =======\n",
    "    OUTPUTS\n",
    "    =======\n",
    "    stemmed_tokens: a list of stemmed tokens\n",
    "\n",
    "    =======\n",
    "    EXAMPLE\n",
    "    =======\n",
    "    Given:\n",
    "    sentence = \"['Recipes', 'Main Dishes', 'Beef', 'Corned Beef Recipes']\"\n",
    "    print(type(sentence))\n",
    "    >>> str\n",
    "    \n",
    "    tokens = tokenizer(sentence)\n",
    "    print(tokens)\n",
    "    >>> ['main_dish', 'beef', 'corned_beef_recip']\n",
    "    \n",
    "    print(type(tokens))\n",
    "    >>> list\n",
    "    \"\"\"\n",
    "\n",
    "    assert isinstance(sentence,str), \"Passed object is not string\"\n",
    "    \n",
    "    # Define variables\n",
    "    punctuation_to_remove = [punctuation for punctuation in string.punctuation if punctuation != \"_\"]\n",
    "    digits_to_remove      = string.digits\n",
    "    stemmer               = nltk.stem.PorterStemmer()\n",
    "    stemmed_tokens        = [] # Initiate blank link for storing tokens\n",
    "    eng_stopwords         = stopwords.words('english')\n",
    "    eng_stopwords.extend(['degree','degrees','c','f', 'recipe', 'recipes', 'minute', 'minutes', 'cuisine','cuisines'])\n",
    "    \n",
    "    # Remove punctuation and combine meaningful words\n",
    "    sentence = re.sub(\",\\s\",\"+\",sentence) # STEP 1: Replace all spaces after commas with placeholder \"+\"\n",
    "    sentence = re.sub(\"\\s\",\"_\",sentence)  # STEP 2: Replace all other spaces within quotation marks with \"_\"\n",
    "    sentence = sentence.replace(\"+\",\", \") # STEP 3: Revert the placeholder to back to original space to separate labels\n",
    "    for punctuation_mark in punctuation_to_remove:\n",
    "        sentence = sentence.replace(punctuation_mark,\"\").lower()\n",
    "\n",
    "    # Remove numerical digits using mapper\n",
    "    remove_digits_mapper = str.maketrans('','', digits_to_remove)\n",
    "    sentence = sentence.translate(remove_digits_mapper)\n",
    "\n",
    "    # Split sentence into individual tokens\n",
    "    tokens = sentence.split(' ')\n",
    "\n",
    "    for token in tokens:\n",
    "        # Remove stop words and and any tokens that are just empty strings\n",
    "        if (not token in eng_stopwords) and token != \"\":\n",
    "            # Stem each token\n",
    "            stemmed_tokens.append(stemmer.stem(token))\n",
    "\n",
    "    return stemmed_tokens"
   ]
  },
  {
   "cell_type": "code",
   "execution_count": 82,
   "id": "059d1c1a-7add-4b9f-85a8-f82429300ad0",
   "metadata": {},
   "outputs": [
    {
     "name": "stdout",
     "output_type": "stream",
     "text": [
      "Recipe labels before tokenization:    ['Recipes', 'Main Dishes', 'Beef', 'Corned Beef Recipes']\n",
      "Recipe labels after tokenization:    ['main_dish', 'beef', 'corned_beef_recip']\n"
     ]
    }
   ],
   "source": [
    "# Testing the function\n",
    "sentence = df.loc[0,\"label\"]\n",
    "print(f\"Recipe labels before tokenization:    {sentence}\")\n",
    "\n",
    "# Apply the tokenizer\n",
    "tokens = tokenizer(sentence)\n",
    "print(f\"Recipe labels after tokenization:    {tokens}\")"
   ]
  },
  {
   "cell_type": "markdown",
   "id": "b9d2e720-979e-46de-be42-8c8d89874954",
   "metadata": {},
   "source": [
    "The tokenizer works as expected."
   ]
  },
  {
   "cell_type": "markdown",
   "id": "65a0e0e0-0354-4df4-adea-f9de816394f8",
   "metadata": {},
   "source": [
    "# CountVectorizor"
   ]
  },
  {
   "cell_type": "markdown",
   "id": "fae197ce-c754-4f81-ac0a-fee6ce3d2072",
   "metadata": {},
   "source": [
    "## Testing with 2 recipes"
   ]
  },
  {
   "cell_type": "markdown",
   "id": "fa861646-92b9-4950-a09d-1aba96d6f9b8",
   "metadata": {},
   "source": [
    "Now that a consistent method of preprocessing text into tokens has been established, the tokens can be quantified by simply counting the frequency of tokens in each recipe."
   ]
  },
  {
   "cell_type": "code",
   "execution_count": 83,
   "id": "b45e82e1-8b4d-4731-8fc1-9f391f6ef2fe",
   "metadata": {
    "scrolled": true
   },
   "outputs": [
    {
     "name": "stderr",
     "output_type": "stream",
     "text": [
      "/opt/conda/lib/python3.11/site-packages/sklearn/feature_extraction/text.py:528: UserWarning: The parameter 'token_pattern' will not be used since 'tokenizer' is not None'\n",
      "  warnings.warn(\n"
     ]
    },
    {
     "data": {
      "text/html": [
       "<style>#sk-container-id-2 {color: black;background-color: white;}#sk-container-id-2 pre{padding: 0;}#sk-container-id-2 div.sk-toggleable {background-color: white;}#sk-container-id-2 label.sk-toggleable__label {cursor: pointer;display: block;width: 100%;margin-bottom: 0;padding: 0.3em;box-sizing: border-box;text-align: center;}#sk-container-id-2 label.sk-toggleable__label-arrow:before {content: \"▸\";float: left;margin-right: 0.25em;color: #696969;}#sk-container-id-2 label.sk-toggleable__label-arrow:hover:before {color: black;}#sk-container-id-2 div.sk-estimator:hover label.sk-toggleable__label-arrow:before {color: black;}#sk-container-id-2 div.sk-toggleable__content {max-height: 0;max-width: 0;overflow: hidden;text-align: left;background-color: #f0f8ff;}#sk-container-id-2 div.sk-toggleable__content pre {margin: 0.2em;color: black;border-radius: 0.25em;background-color: #f0f8ff;}#sk-container-id-2 input.sk-toggleable__control:checked~div.sk-toggleable__content {max-height: 200px;max-width: 100%;overflow: auto;}#sk-container-id-2 input.sk-toggleable__control:checked~label.sk-toggleable__label-arrow:before {content: \"▾\";}#sk-container-id-2 div.sk-estimator input.sk-toggleable__control:checked~label.sk-toggleable__label {background-color: #d4ebff;}#sk-container-id-2 div.sk-label input.sk-toggleable__control:checked~label.sk-toggleable__label {background-color: #d4ebff;}#sk-container-id-2 input.sk-hidden--visually {border: 0;clip: rect(1px 1px 1px 1px);clip: rect(1px, 1px, 1px, 1px);height: 1px;margin: -1px;overflow: hidden;padding: 0;position: absolute;width: 1px;}#sk-container-id-2 div.sk-estimator {font-family: monospace;background-color: #f0f8ff;border: 1px dotted black;border-radius: 0.25em;box-sizing: border-box;margin-bottom: 0.5em;}#sk-container-id-2 div.sk-estimator:hover {background-color: #d4ebff;}#sk-container-id-2 div.sk-parallel-item::after {content: \"\";width: 100%;border-bottom: 1px solid gray;flex-grow: 1;}#sk-container-id-2 div.sk-label:hover label.sk-toggleable__label {background-color: #d4ebff;}#sk-container-id-2 div.sk-serial::before {content: \"\";position: absolute;border-left: 1px solid gray;box-sizing: border-box;top: 0;bottom: 0;left: 50%;z-index: 0;}#sk-container-id-2 div.sk-serial {display: flex;flex-direction: column;align-items: center;background-color: white;padding-right: 0.2em;padding-left: 0.2em;position: relative;}#sk-container-id-2 div.sk-item {position: relative;z-index: 1;}#sk-container-id-2 div.sk-parallel {display: flex;align-items: stretch;justify-content: center;background-color: white;position: relative;}#sk-container-id-2 div.sk-item::before, #sk-container-id-2 div.sk-parallel-item::before {content: \"\";position: absolute;border-left: 1px solid gray;box-sizing: border-box;top: 0;bottom: 0;left: 50%;z-index: -1;}#sk-container-id-2 div.sk-parallel-item {display: flex;flex-direction: column;z-index: 1;position: relative;background-color: white;}#sk-container-id-2 div.sk-parallel-item:first-child::after {align-self: flex-end;width: 50%;}#sk-container-id-2 div.sk-parallel-item:last-child::after {align-self: flex-start;width: 50%;}#sk-container-id-2 div.sk-parallel-item:only-child::after {width: 0;}#sk-container-id-2 div.sk-dashed-wrapped {border: 1px dashed gray;margin: 0 0.4em 0.5em 0.4em;box-sizing: border-box;padding-bottom: 0.4em;background-color: white;}#sk-container-id-2 div.sk-label label {font-family: monospace;font-weight: bold;display: inline-block;line-height: 1.2em;}#sk-container-id-2 div.sk-label-container {text-align: center;}#sk-container-id-2 div.sk-container {/* jupyter's `normalize.less` sets `[hidden] { display: none; }` but bootstrap.min.css set `[hidden] { display: none !important; }` so we also need the `!important` here to be able to override the default hidden behavior on the sphinx rendered scikit-learn.org. See: https://github.com/scikit-learn/scikit-learn/issues/21755 */display: inline-block !important;position: relative;}#sk-container-id-2 div.sk-text-repr-fallback {display: none;}</style><div id=\"sk-container-id-2\" class=\"sk-top-container\"><div class=\"sk-text-repr-fallback\"><pre>CountVectorizer(tokenizer=&lt;function tokenizer at 0x7f0686810360&gt;)</pre><b>In a Jupyter environment, please rerun this cell to show the HTML representation or trust the notebook. <br />On GitHub, the HTML representation is unable to render, please try loading this page with nbviewer.org.</b></div><div class=\"sk-container\" hidden><div class=\"sk-item\"><div class=\"sk-estimator sk-toggleable\"><input class=\"sk-toggleable__control sk-hidden--visually\" id=\"sk-estimator-id-2\" type=\"checkbox\" checked><label for=\"sk-estimator-id-2\" class=\"sk-toggleable__label sk-toggleable__label-arrow\">CountVectorizer</label><div class=\"sk-toggleable__content\"><pre>CountVectorizer(tokenizer=&lt;function tokenizer at 0x7f0686810360&gt;)</pre></div></div></div></div></div>"
      ],
      "text/plain": [
       "CountVectorizer(tokenizer=<function tokenizer at 0x7f0686810360>)"
      ]
     },
     "execution_count": 83,
     "metadata": {},
     "output_type": "execute_result"
    }
   ],
   "source": [
    "# Define a CountVectorizer model\n",
    "bagofwords = CountVectorizer(\n",
    "    tokenizer = tokenizer\n",
    ")\n",
    "\n",
    "# Tell the Vectorizer what tokens there are by fitting it to the first two recipes for testing\n",
    "bagofwords.fit(df[\"label\"].head(2))"
   ]
  },
  {
   "cell_type": "code",
   "execution_count": 86,
   "id": "8e84b381-227b-4c6b-b32b-7d970dfa3591",
   "metadata": {},
   "outputs": [
    {
     "name": "stdout",
     "output_type": "stream",
     "text": [
      "<class 'scipy.sparse._csr.csr_matrix'>\n"
     ]
    }
   ],
   "source": [
    "# Use the fitted vectorizer to transform labels into tokens\n",
    "labels_transformed = bagofwords.transform(df[\"label\"].head(2))\n",
    "\n",
    "# Examine the data type\n",
    "print(type(labels_transformed))"
   ]
  },
  {
   "cell_type": "markdown",
   "id": "94001d69-e1ce-49e8-a779-8373b55e473e",
   "metadata": {},
   "source": [
    "The output of the vectorizer is a sparse matrix, which is a compressed form of data storage used for optimizing file size when the data contains many zero values. To examine the output, the sparse matrix must first be converted back to a DataFrame."
   ]
  },
  {
   "cell_type": "code",
   "execution_count": 87,
   "id": "0f776bf7-a219-4eda-8af6-1c4cbc8ceb36",
   "metadata": {},
   "outputs": [
    {
     "data": {
      "text/html": [
       "<div>\n",
       "<style scoped>\n",
       "    .dataframe tbody tr th:only-of-type {\n",
       "        vertical-align: middle;\n",
       "    }\n",
       "\n",
       "    .dataframe tbody tr th {\n",
       "        vertical-align: top;\n",
       "    }\n",
       "\n",
       "    .dataframe thead th {\n",
       "        text-align: right;\n",
       "    }\n",
       "</style>\n",
       "<table border=\"1\" class=\"dataframe\">\n",
       "  <thead>\n",
       "    <tr style=\"text-align: right;\">\n",
       "      <th></th>\n",
       "      <th>title</th>\n",
       "      <th>label</th>\n",
       "      <th>beef</th>\n",
       "      <th>corned_beef_recip</th>\n",
       "      <th>european</th>\n",
       "      <th>irish</th>\n",
       "      <th>main_dish</th>\n",
       "      <th>uk_and_ireland</th>\n",
       "    </tr>\n",
       "  </thead>\n",
       "  <tbody>\n",
       "    <tr>\n",
       "      <th>0</th>\n",
       "      <td>Corned Beef Roast</td>\n",
       "      <td>['Recipes', 'Main Dishes', 'Beef', 'Corned Bee...</td>\n",
       "      <td>1</td>\n",
       "      <td>1</td>\n",
       "      <td>0</td>\n",
       "      <td>0</td>\n",
       "      <td>1</td>\n",
       "      <td>0</td>\n",
       "    </tr>\n",
       "    <tr>\n",
       "      <th>1</th>\n",
       "      <td>Stout-Braised Lamb Shanks</td>\n",
       "      <td>['Cuisine', 'European', 'UK and Ireland', 'Iri...</td>\n",
       "      <td>0</td>\n",
       "      <td>0</td>\n",
       "      <td>1</td>\n",
       "      <td>1</td>\n",
       "      <td>0</td>\n",
       "      <td>1</td>\n",
       "    </tr>\n",
       "  </tbody>\n",
       "</table>\n",
       "</div>"
      ],
      "text/plain": [
       "                       title  \\\n",
       "0          Corned Beef Roast   \n",
       "1  Stout-Braised Lamb Shanks   \n",
       "\n",
       "                                               label  beef  corned_beef_recip  \\\n",
       "0  ['Recipes', 'Main Dishes', 'Beef', 'Corned Bee...     1                  1   \n",
       "1  ['Cuisine', 'European', 'UK and Ireland', 'Iri...     0                  0   \n",
       "\n",
       "   european  irish  main_dish  uk_and_ireland  \n",
       "0         0      0          1               0  \n",
       "1         1      1          0               1  "
      ]
     },
     "execution_count": 87,
     "metadata": {},
     "output_type": "execute_result"
    }
   ],
   "source": [
    "# Convert the vectorized labels from a sparse matrix object into a DataFrame\n",
    "vectorized_labels = pd.DataFrame(\n",
    "    labels_transformed.toarray(),\n",
    "    columns = bagofwords.get_feature_names_out()\n",
    ")\n",
    "\n",
    "# Combine the vectors with the original DataFrame for examination\n",
    "pd.concat(\n",
    "    [\n",
    "        df[[\"title\", \"label\"]].head(2),\n",
    "        vectorized_labels\n",
    "    ],\n",
    "    axis = 1\n",
    ")"
   ]
  },
  {
   "cell_type": "markdown",
   "id": "0371f99d-085e-43e3-bd3c-077787d1bcc4",
   "metadata": {},
   "source": [
    "The CountVectorizer vectorized the recipe labels into counts of tokens. Note that the number of tokens is dependent on the recipes used to fit the vectorizer. This means that if a new recipe that contains entirely new tokens were fed to the same pre-trained vectorizer, an entire row of zeros would be observed and no new tokens will be added."
   ]
  },
  {
   "cell_type": "markdown",
   "id": "44258869-bf26-42b6-8fae-7da1ed06ede3",
   "metadata": {},
   "source": [
    "## All Recipes Vectorized"
   ]
  },
  {
   "cell_type": "code",
   "execution_count": 90,
   "id": "925a3816-07c1-4a33-b99c-82a203a7e04b",
   "metadata": {},
   "outputs": [],
   "source": [
    "# Define a CountVectorizer model\n",
    "label_vectorizer_001 = CountVectorizer(\n",
    "    tokenizer = tokenizer\n",
    ")\n",
    "\n",
    "# Fit and Transform the recipe labels using the CountVectorizer\n",
    "sparse_labels = label_vectorizer_001.fit_transform(df[\"label\"])"
   ]
  },
  {
   "cell_type": "code",
   "execution_count": 91,
   "id": "9fb96d92-00a6-4608-8d5b-c6a20938142e",
   "metadata": {},
   "outputs": [],
   "source": [
    "vectorized_labels = pd.DataFrame(\n",
    "    sparse_labels.toarray(),\n",
    "    columns = label_vectorizer_001.get_feature_names_out()\n",
    ")"
   ]
  },
  {
   "cell_type": "code",
   "execution_count": 92,
   "id": "7652ac9b-55b1-4876-826c-f20773fa8070",
   "metadata": {},
   "outputs": [
    {
     "name": "stdout",
     "output_type": "stream",
     "text": [
      "There are 1196 tokens for 33691 recipes.\n"
     ]
    }
   ],
   "source": [
    "print(f\"There are {vectorized_labels.shape[1]} tokens for {vectorized_labels.shape[0]} recipes.\")"
   ]
  },
  {
   "cell_type": "code",
   "execution_count": 93,
   "id": "f1d194f3-bec6-4748-8f6e-e16bf8a54074",
   "metadata": {},
   "outputs": [
    {
     "data": {
      "text/html": [
       "<div>\n",
       "<style scoped>\n",
       "    .dataframe tbody tr th:only-of-type {\n",
       "        vertical-align: middle;\n",
       "    }\n",
       "\n",
       "    .dataframe tbody tr th {\n",
       "        vertical-align: top;\n",
       "    }\n",
       "\n",
       "    .dataframe thead th {\n",
       "        text-align: right;\n",
       "    }\n",
       "</style>\n",
       "<table border=\"1\" class=\"dataframe\">\n",
       "  <thead>\n",
       "    <tr style=\"text-align: right;\">\n",
       "      <th></th>\n",
       "      <th>_layer_dip_recip</th>\n",
       "      <th>acorn_squash</th>\n",
       "      <th>acorn_squash_side_dish_recip</th>\n",
       "      <th>adult_punch_recip</th>\n",
       "      <th>african</th>\n",
       "    </tr>\n",
       "  </thead>\n",
       "  <tbody>\n",
       "    <tr>\n",
       "      <th>0</th>\n",
       "      <td>0</td>\n",
       "      <td>0</td>\n",
       "      <td>0</td>\n",
       "      <td>0</td>\n",
       "      <td>0</td>\n",
       "    </tr>\n",
       "    <tr>\n",
       "      <th>1</th>\n",
       "      <td>0</td>\n",
       "      <td>0</td>\n",
       "      <td>0</td>\n",
       "      <td>0</td>\n",
       "      <td>0</td>\n",
       "    </tr>\n",
       "    <tr>\n",
       "      <th>2</th>\n",
       "      <td>0</td>\n",
       "      <td>0</td>\n",
       "      <td>0</td>\n",
       "      <td>0</td>\n",
       "      <td>0</td>\n",
       "    </tr>\n",
       "    <tr>\n",
       "      <th>3</th>\n",
       "      <td>0</td>\n",
       "      <td>0</td>\n",
       "      <td>0</td>\n",
       "      <td>0</td>\n",
       "      <td>0</td>\n",
       "    </tr>\n",
       "    <tr>\n",
       "      <th>4</th>\n",
       "      <td>0</td>\n",
       "      <td>0</td>\n",
       "      <td>0</td>\n",
       "      <td>0</td>\n",
       "      <td>0</td>\n",
       "    </tr>\n",
       "  </tbody>\n",
       "</table>\n",
       "</div>"
      ],
      "text/plain": [
       "   _layer_dip_recip  acorn_squash  acorn_squash_side_dish_recip  \\\n",
       "0                 0             0                             0   \n",
       "1                 0             0                             0   \n",
       "2                 0             0                             0   \n",
       "3                 0             0                             0   \n",
       "4                 0             0                             0   \n",
       "\n",
       "   adult_punch_recip  african  \n",
       "0                  0        0  \n",
       "1                  0        0  \n",
       "2                  0        0  \n",
       "3                  0        0  \n",
       "4                  0        0  "
      ]
     },
     "execution_count": 93,
     "metadata": {},
     "output_type": "execute_result"
    }
   ],
   "source": [
    "vectorized_labels.iloc[0:5, 0:5]"
   ]
  },
  {
   "cell_type": "markdown",
   "id": "c53176c8-9509-4822-857c-4e42fa0fabd9",
   "metadata": {},
   "source": [
    "# Visual Analysis"
   ]
  },
  {
   "cell_type": "markdown",
   "id": "dc68604c-ccfe-467e-8187-e0af8c6fe2ac",
   "metadata": {},
   "source": [
    "## Top 20 Recipe Labels"
   ]
  },
  {
   "cell_type": "code",
   "execution_count": 107,
   "id": "2f0d1ef5-b50e-4850-b70c-9d82046ad5a7",
   "metadata": {},
   "outputs": [
    {
     "data": {
      "text/plain": [
       "dessert                  6527\n",
       "side_dish                4200\n",
       "main_dish                3661\n",
       "meat_and_poultri         2476\n",
       "soup                     2473\n",
       "stews_and_chili_recip    2471\n",
       "appetizers_and_snack     2463\n",
       "salad                    1814\n",
       "chicken                  1800\n",
       "bread                    1791\n",
       "veget                    1760\n",
       "sauces_and_condi         1716\n",
       "soup_recip               1712\n",
       "breakfast_and_brunch     1619\n",
       "cooki                    1557\n",
       "european                 1231\n",
       "cake                     1226\n",
       "drinks_recip             1164\n",
       "pork                     1106\n",
       "quick_bread_recip        1070\n",
       "dtype: int64"
      ]
     },
     "execution_count": 107,
     "metadata": {},
     "output_type": "execute_result"
    }
   ],
   "source": [
    "vectorized_labels.sum().sort_values(ascending = False).head(20)"
   ]
  },
  {
   "cell_type": "code",
   "execution_count": 123,
   "id": "ffd08825-7086-4869-b698-92b6ff2a2ccf",
   "metadata": {},
   "outputs": [
    {
     "data": {
      "image/png": "[encoded data removed]",
      "text/plain": [
       "<Figure size 1000x500 with 1 Axes>"
      ]
     },
     "metadata": {},
     "output_type": "display_data"
    }
   ],
   "source": [
    "# Initiate figure object\n",
    "fig, ax = plt.subplots(\n",
    "    nrows = 1,\n",
    "    ncols = 1,\n",
    "    figsize = (10,5)\n",
    ")\n",
    "\n",
    "plot_series = vectorized_labels.sum()/1_000\n",
    "\n",
    "plot_series.\\\n",
    "    sort_values(ascending = False).\\\n",
    "    head(20).plot(\n",
    "        ax = ax,\n",
    "        kind = \"bar\",\n",
    "        legend = None,\n",
    "        color = \"cornflowerblue\"\n",
    "    )\n",
    "\n",
    "plt.xticks(rotation = 45, ha = \"right\")\n",
    "plt.xlabel(\"Recipe Labels\")\n",
    "plt.ylabel(\"Number of Recipes ('000)\")\n",
    "\n",
    "sns.despine()\n",
    "\n",
    "plt.show()"
   ]
  },
  {
   "cell_type": "markdown",
   "id": "107c686c-1864-4529-8b6a-e87a94ecb880",
   "metadata": {},
   "source": [
    "## Bivariate Analysis"
   ]
  },
  {
   "cell_type": "code",
   "execution_count": 124,
   "id": "bda00506-0c85-46f4-a5d0-e6b24f8ed2d0",
   "metadata": {},
   "outputs": [],
   "source": [
    "df = pd.concat(\n",
    "    [\n",
    "        df,\n",
    "        vectorized_labels.loc\n",
    "    ],\n",
    "    axis = 1\n",
    ")"
   ]
  },
  {
   "cell_type": "code",
   "execution_count": 125,
   "id": "740f5880-dcb1-48ee-8ad6-e5326d8f05fb",
   "metadata": {},
   "outputs": [
    {
     "data": {
      "text/html": [
       "<div>\n",
       "<style scoped>\n",
       "    .dataframe tbody tr th:only-of-type {\n",
       "        vertical-align: middle;\n",
       "    }\n",
       "\n",
       "    .dataframe tbody tr th {\n",
       "        vertical-align: top;\n",
       "    }\n",
       "\n",
       "    .dataframe thead th {\n",
       "        text-align: right;\n",
       "    }\n",
       "</style>\n",
       "<table border=\"1\" class=\"dataframe\">\n",
       "  <thead>\n",
       "    <tr style=\"text-align: right;\">\n",
       "      <th></th>\n",
       "      <th>recipe_url</th>\n",
       "      <th>title</th>\n",
       "      <th>label</th>\n",
       "      <th>rating_average</th>\n",
       "      <th>rating_count</th>\n",
       "      <th>_layer_dip_recip</th>\n",
       "      <th>acorn_squash</th>\n",
       "      <th>acorn_squash_side_dish_recip</th>\n",
       "      <th>adult_punch_recip</th>\n",
       "      <th>african</th>\n",
       "      <th>...</th>\n",
       "      <th>ziti_recip</th>\n",
       "      <th>zucchini</th>\n",
       "      <th>zucchini_appetizer_recip</th>\n",
       "      <th>zucchini_bread_recip</th>\n",
       "      <th>zucchini_cake_recip</th>\n",
       "      <th>zucchini_cookie_recip</th>\n",
       "      <th>zucchini_lasagna_recip</th>\n",
       "      <th>zucchini_muffin_recip</th>\n",
       "      <th>zucchini_salad_recip</th>\n",
       "      <th>zucchini_soup_recip</th>\n",
       "    </tr>\n",
       "  </thead>\n",
       "  <tbody>\n",
       "    <tr>\n",
       "      <th>0</th>\n",
       "      <td>https://www.allrecipes.com/recipe/83646/corned...</td>\n",
       "      <td>Corned Beef Roast</td>\n",
       "      <td>['Recipes', 'Main Dishes', 'Beef', 'Corned Bee...</td>\n",
       "      <td>4.4</td>\n",
       "      <td>68.0</td>\n",
       "      <td>0.0</td>\n",
       "      <td>0.0</td>\n",
       "      <td>0.0</td>\n",
       "      <td>0.0</td>\n",
       "      <td>0.0</td>\n",
       "      <td>...</td>\n",
       "      <td>0.0</td>\n",
       "      <td>0.0</td>\n",
       "      <td>0.0</td>\n",
       "      <td>0.0</td>\n",
       "      <td>0.0</td>\n",
       "      <td>0.0</td>\n",
       "      <td>0.0</td>\n",
       "      <td>0.0</td>\n",
       "      <td>0.0</td>\n",
       "      <td>0.0</td>\n",
       "    </tr>\n",
       "    <tr>\n",
       "      <th>1</th>\n",
       "      <td>https://www.allrecipes.com/recipe/158799/stout...</td>\n",
       "      <td>Stout-Braised Lamb Shanks</td>\n",
       "      <td>['Cuisine', 'European', 'UK and Ireland', 'Iri...</td>\n",
       "      <td>4.5</td>\n",
       "      <td>45.0</td>\n",
       "      <td>0.0</td>\n",
       "      <td>0.0</td>\n",
       "      <td>0.0</td>\n",
       "      <td>0.0</td>\n",
       "      <td>0.0</td>\n",
       "      <td>...</td>\n",
       "      <td>0.0</td>\n",
       "      <td>0.0</td>\n",
       "      <td>0.0</td>\n",
       "      <td>0.0</td>\n",
       "      <td>0.0</td>\n",
       "      <td>0.0</td>\n",
       "      <td>0.0</td>\n",
       "      <td>0.0</td>\n",
       "      <td>0.0</td>\n",
       "      <td>0.0</td>\n",
       "    </tr>\n",
       "    <tr>\n",
       "      <th>3</th>\n",
       "      <td>https://www.allrecipes.com/recipe/8508920/miss...</td>\n",
       "      <td>Mississippi Chicken</td>\n",
       "      <td>['Recipes', 'Meat and Poultry', 'Chicken']</td>\n",
       "      <td>4.8</td>\n",
       "      <td>4.0</td>\n",
       "      <td>0.0</td>\n",
       "      <td>0.0</td>\n",
       "      <td>0.0</td>\n",
       "      <td>0.0</td>\n",
       "      <td>0.0</td>\n",
       "      <td>...</td>\n",
       "      <td>0.0</td>\n",
       "      <td>0.0</td>\n",
       "      <td>0.0</td>\n",
       "      <td>0.0</td>\n",
       "      <td>0.0</td>\n",
       "      <td>0.0</td>\n",
       "      <td>0.0</td>\n",
       "      <td>0.0</td>\n",
       "      <td>0.0</td>\n",
       "      <td>0.0</td>\n",
       "    </tr>\n",
       "    <tr>\n",
       "      <th>4</th>\n",
       "      <td>https://www.allrecipes.com/recipe/255462/lasag...</td>\n",
       "      <td>Lasagna Flatbread</td>\n",
       "      <td>['Recipes', 'Bread', 'Quick Bread Recipes']</td>\n",
       "      <td>4.5</td>\n",
       "      <td>42.0</td>\n",
       "      <td>0.0</td>\n",
       "      <td>0.0</td>\n",
       "      <td>0.0</td>\n",
       "      <td>0.0</td>\n",
       "      <td>0.0</td>\n",
       "      <td>...</td>\n",
       "      <td>0.0</td>\n",
       "      <td>0.0</td>\n",
       "      <td>0.0</td>\n",
       "      <td>0.0</td>\n",
       "      <td>0.0</td>\n",
       "      <td>0.0</td>\n",
       "      <td>0.0</td>\n",
       "      <td>0.0</td>\n",
       "      <td>0.0</td>\n",
       "      <td>0.0</td>\n",
       "    </tr>\n",
       "    <tr>\n",
       "      <th>5</th>\n",
       "      <td>https://www.allrecipes.com/recipe/245210/prosc...</td>\n",
       "      <td>Prosciutto-Wrapped Pork Tenderloin with Crispy...</td>\n",
       "      <td>['Recipes', 'Meat and Poultry', 'Pork', 'Pork ...</td>\n",
       "      <td>4.8</td>\n",
       "      <td>12.0</td>\n",
       "      <td>0.0</td>\n",
       "      <td>0.0</td>\n",
       "      <td>0.0</td>\n",
       "      <td>0.0</td>\n",
       "      <td>0.0</td>\n",
       "      <td>...</td>\n",
       "      <td>0.0</td>\n",
       "      <td>0.0</td>\n",
       "      <td>0.0</td>\n",
       "      <td>0.0</td>\n",
       "      <td>0.0</td>\n",
       "      <td>0.0</td>\n",
       "      <td>0.0</td>\n",
       "      <td>0.0</td>\n",
       "      <td>0.0</td>\n",
       "      <td>0.0</td>\n",
       "    </tr>\n",
       "  </tbody>\n",
       "</table>\n",
       "<p>5 rows × 1201 columns</p>\n",
       "</div>"
      ],
      "text/plain": [
       "                                          recipe_url  \\\n",
       "0  https://www.allrecipes.com/recipe/83646/corned...   \n",
       "1  https://www.allrecipes.com/recipe/158799/stout...   \n",
       "3  https://www.allrecipes.com/recipe/8508920/miss...   \n",
       "4  https://www.allrecipes.com/recipe/255462/lasag...   \n",
       "5  https://www.allrecipes.com/recipe/245210/prosc...   \n",
       "\n",
       "                                               title  \\\n",
       "0                                  Corned Beef Roast   \n",
       "1                          Stout-Braised Lamb Shanks   \n",
       "3                                Mississippi Chicken   \n",
       "4                                  Lasagna Flatbread   \n",
       "5  Prosciutto-Wrapped Pork Tenderloin with Crispy...   \n",
       "\n",
       "                                               label  rating_average  \\\n",
       "0  ['Recipes', 'Main Dishes', 'Beef', 'Corned Bee...             4.4   \n",
       "1  ['Cuisine', 'European', 'UK and Ireland', 'Iri...             4.5   \n",
       "3         ['Recipes', 'Meat and Poultry', 'Chicken']             4.8   \n",
       "4        ['Recipes', 'Bread', 'Quick Bread Recipes']             4.5   \n",
       "5  ['Recipes', 'Meat and Poultry', 'Pork', 'Pork ...             4.8   \n",
       "\n",
       "   rating_count  _layer_dip_recip  acorn_squash  acorn_squash_side_dish_recip  \\\n",
       "0          68.0               0.0           0.0                           0.0   \n",
       "1          45.0               0.0           0.0                           0.0   \n",
       "3           4.0               0.0           0.0                           0.0   \n",
       "4          42.0               0.0           0.0                           0.0   \n",
       "5          12.0               0.0           0.0                           0.0   \n",
       "\n",
       "   adult_punch_recip  african  ...  ziti_recip  zucchini  \\\n",
       "0                0.0      0.0  ...         0.0       0.0   \n",
       "1                0.0      0.0  ...         0.0       0.0   \n",
       "3                0.0      0.0  ...         0.0       0.0   \n",
       "4                0.0      0.0  ...         0.0       0.0   \n",
       "5                0.0      0.0  ...         0.0       0.0   \n",
       "\n",
       "   zucchini_appetizer_recip  zucchini_bread_recip  zucchini_cake_recip  \\\n",
       "0                       0.0                   0.0                  0.0   \n",
       "1                       0.0                   0.0                  0.0   \n",
       "3                       0.0                   0.0                  0.0   \n",
       "4                       0.0                   0.0                  0.0   \n",
       "5                       0.0                   0.0                  0.0   \n",
       "\n",
       "   zucchini_cookie_recip  zucchini_lasagna_recip  zucchini_muffin_recip  \\\n",
       "0                    0.0                     0.0                    0.0   \n",
       "1                    0.0                     0.0                    0.0   \n",
       "3                    0.0                     0.0                    0.0   \n",
       "4                    0.0                     0.0                    0.0   \n",
       "5                    0.0                     0.0                    0.0   \n",
       "\n",
       "   zucchini_salad_recip  zucchini_soup_recip  \n",
       "0                   0.0                  0.0  \n",
       "1                   0.0                  0.0  \n",
       "3                   0.0                  0.0  \n",
       "4                   0.0                  0.0  \n",
       "5                   0.0                  0.0  \n",
       "\n",
       "[5 rows x 1201 columns]"
      ]
     },
     "execution_count": 125,
     "metadata": {},
     "output_type": "execute_result"
    }
   ],
   "source": [
    "df.head()"
   ]
  },
  {
   "cell_type": "code",
   "execution_count": 132,
   "id": "d7ffd3e7-9207-42fc-9388-6e4557016d3b",
   "metadata": {},
   "outputs": [
    {
     "ename": "KeyError",
     "evalue": "\"The following 'id_vars' are not present in the DataFrame: ['rating_average', 'rating_count', 'title']\"",
     "output_type": "error",
     "traceback": [
      "\u001b[0;31m---------------------------------------------------------------------------\u001b[0m",
      "\u001b[0;31mKeyError\u001b[0m                                  Traceback (most recent call last)",
      "Cell \u001b[0;32mIn[132], line 3\u001b[0m\n\u001b[1;32m      1\u001b[0m top_20_labels \u001b[38;5;241m=\u001b[39m vectorized_labels\u001b[38;5;241m.\u001b[39msum()\u001b[38;5;241m.\u001b[39msort_values(ascending \u001b[38;5;241m=\u001b[39m \u001b[38;5;28;01mFalse\u001b[39;00m)\u001b[38;5;241m.\u001b[39mhead(\u001b[38;5;241m20\u001b[39m)\u001b[38;5;241m.\u001b[39mkeys()\n\u001b[0;32m----> 3\u001b[0m \u001b[43mpd\u001b[49m\u001b[38;5;241;43m.\u001b[39;49m\u001b[43mmelt\u001b[49m\u001b[43m(\u001b[49m\n\u001b[1;32m      4\u001b[0m \u001b[43m    \u001b[49m\u001b[43mdf\u001b[49m\u001b[38;5;241;43m.\u001b[39;49m\u001b[43mdrop\u001b[49m\u001b[43m(\u001b[49m\u001b[43mcolumns\u001b[49m\u001b[43m \u001b[49m\u001b[38;5;241;43m=\u001b[39;49m\u001b[43m \u001b[49m\u001b[43m[\u001b[49m\u001b[38;5;124;43m\"\u001b[39;49m\u001b[38;5;124;43mrecipe_url\u001b[39;49m\u001b[38;5;124;43m\"\u001b[39;49m\u001b[43m,\u001b[49m\u001b[43m \u001b[49m\u001b[38;5;124;43m\"\u001b[39;49m\u001b[38;5;124;43mlabel\u001b[39;49m\u001b[38;5;124;43m\"\u001b[39;49m\u001b[43m]\u001b[49m\u001b[43m)\u001b[49m\u001b[38;5;241;43m.\u001b[39;49m\u001b[43mloc\u001b[49m\u001b[43m[\u001b[49m\u001b[43m:\u001b[49m\u001b[43m,\u001b[49m\u001b[43mtop_20_labels\u001b[49m\u001b[43m]\u001b[49m\u001b[43m,\u001b[49m\n\u001b[1;32m      5\u001b[0m \u001b[43m    \u001b[49m\u001b[43mid_vars\u001b[49m\u001b[43m \u001b[49m\u001b[38;5;241;43m=\u001b[39;49m\u001b[43m \u001b[49m\u001b[43m[\u001b[49m\u001b[38;5;124;43m\"\u001b[39;49m\u001b[38;5;124;43mtitle\u001b[39;49m\u001b[38;5;124;43m\"\u001b[39;49m\u001b[43m,\u001b[49m\u001b[43m \u001b[49m\u001b[38;5;124;43m\"\u001b[39;49m\u001b[38;5;124;43mrating_average\u001b[39;49m\u001b[38;5;124;43m\"\u001b[39;49m\u001b[43m,\u001b[49m\u001b[43m \u001b[49m\u001b[38;5;124;43m\"\u001b[39;49m\u001b[38;5;124;43mrating_count\u001b[39;49m\u001b[38;5;124;43m\"\u001b[39;49m\u001b[43m]\u001b[49m\u001b[43m)\u001b[49m\n",
      "File \u001b[0;32m/opt/conda/lib/python3.11/site-packages/pandas/core/reshape/melt.py:73\u001b[0m, in \u001b[0;36mmelt\u001b[0;34m(frame, id_vars, value_vars, var_name, value_name, col_level, ignore_index)\u001b[0m\n\u001b[1;32m     71\u001b[0m         missing \u001b[38;5;241m=\u001b[39m Index(com\u001b[38;5;241m.\u001b[39mflatten(id_vars))\u001b[38;5;241m.\u001b[39mdifference(cols)\n\u001b[1;32m     72\u001b[0m         \u001b[38;5;28;01mif\u001b[39;00m \u001b[38;5;129;01mnot\u001b[39;00m missing\u001b[38;5;241m.\u001b[39mempty:\n\u001b[0;32m---> 73\u001b[0m             \u001b[38;5;28;01mraise\u001b[39;00m \u001b[38;5;167;01mKeyError\u001b[39;00m(\n\u001b[1;32m     74\u001b[0m                 \u001b[38;5;124m\"\u001b[39m\u001b[38;5;124mThe following \u001b[39m\u001b[38;5;124m'\u001b[39m\u001b[38;5;124mid_vars\u001b[39m\u001b[38;5;124m'\u001b[39m\u001b[38;5;124m are not present \u001b[39m\u001b[38;5;124m\"\u001b[39m\n\u001b[1;32m     75\u001b[0m                 \u001b[38;5;124mf\u001b[39m\u001b[38;5;124m\"\u001b[39m\u001b[38;5;124min the DataFrame: \u001b[39m\u001b[38;5;132;01m{\u001b[39;00m\u001b[38;5;28mlist\u001b[39m(missing)\u001b[38;5;132;01m}\u001b[39;00m\u001b[38;5;124m\"\u001b[39m\n\u001b[1;32m     76\u001b[0m             )\n\u001b[1;32m     77\u001b[0m \u001b[38;5;28;01melse\u001b[39;00m:\n\u001b[1;32m     78\u001b[0m     id_vars \u001b[38;5;241m=\u001b[39m []\n",
      "\u001b[0;31mKeyError\u001b[0m: \"The following 'id_vars' are not present in the DataFrame: ['rating_average', 'rating_count', 'title']\""
     ]
    }
   ],
   "source": [
    "top_20_labels = vectorized_labels.sum().sort_values(ascending = False).head(20).keys()\n",
    "\n",
    "pd.melt(\n",
    "    df.drop(columns = [\"recipe_url\", \"label\"]).loc[:,top_20_labels],\n",
    "    id_vars = [\"title\", \"rating_average\", \"rating_count\"])"
   ]
  },
  {
   "cell_type": "code",
   "execution_count": 131,
   "id": "c3ae1bcf-c456-48d3-a03d-5780e5bab832",
   "metadata": {},
   "outputs": [
    {
     "data": {
      "text/plain": [
       "Index(['dessert', 'side_dish', 'main_dish', 'meat_and_poultri', 'soup',\n",
       "       'stews_and_chili_recip', 'appetizers_and_snack', 'salad', 'chicken',\n",
       "       'bread', 'veget', 'sauces_and_condi', 'soup_recip',\n",
       "       'breakfast_and_brunch', 'cooki', 'european', 'cake', 'drinks_recip',\n",
       "       'pork', 'quick_bread_recip'],\n",
       "      dtype='object')"
      ]
     },
     "execution_count": 131,
     "metadata": {},
     "output_type": "execute_result"
    }
   ],
   "source": [
    "vectorized_labels.sum().sort_values(ascending = False).head(20).keys()"
   ]
  },
  {
   "cell_type": "code",
   "execution_count": null,
   "id": "5fc2defb-bdf7-4a61-9a1e-4433443dec1f",
   "metadata": {},
   "outputs": [],
   "source": []
  }
 ],
 "metadata": {
  "kernelspec": {
   "display_name": "Python 3 (ipykernel)",
   "language": "python",
   "name": "python3"
  },
  "language_info": {
   "codemirror_mode": {
    "name": "ipython",
    "version": 3
   },
   "file_extension": ".py",
   "mimetype": "text/x-python",
   "name": "python",
   "nbconvert_exporter": "python",
   "pygments_lexer": "ipython3",
   "version": "3.11.4"
  }
 },
 "nbformat": 4,
 "nbformat_minor": 5
}
