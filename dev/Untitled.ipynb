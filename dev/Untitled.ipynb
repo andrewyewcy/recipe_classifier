{
 "cells": [
  {
   "cell_type": "code",
   "execution_count": 1,
   "id": "bf433752-7251-463e-b356-df833924f456",
   "metadata": {},
   "outputs": [],
   "source": [
    "import boto3"
   ]
  },
  {
   "cell_type": "markdown",
   "id": "6656c5ce-0433-4182-a4b6-0234a104c867",
   "metadata": {},
   "source": [
    "## AWS S3 `Client` Interface"
   ]
  },
  {
   "cell_type": "markdown",
   "id": "b4d30c7d-2ebe-49f6-a3e4-b1d58372168a",
   "metadata": {},
   "source": [
    "- The `Client` interface is a low-level library whose functions return mostly dictionaries that we need to manually parse. It gives you more granular control over AWS operations and can provide better performance but requires more programming work."
   ]
  },
  {
   "cell_type": "code",
   "execution_count": 2,
   "id": "3c68f1d7-802c-4e2d-96a4-f08d89028ff7",
   "metadata": {},
   "outputs": [
    {
     "data": {
      "text/plain": [
       "<botocore.client.S3 at 0x7f74e3eb7110>"
      ]
     },
     "execution_count": 2,
     "metadata": {},
     "output_type": "execute_result"
    }
   ],
   "source": [
    "# Instantiate an S3 client\n",
    "s3_client = boto3.client(\"s3\")\n",
    "\n",
    "# Check the client\n",
    "s3_client"
   ]
  },
  {
   "cell_type": "code",
   "execution_count": 3,
   "id": "26ab4d3f-b59f-45b5-80d0-eb33aef02a84",
   "metadata": {},
   "outputs": [
    {
     "data": {
      "text/plain": [
       "{'ResponseMetadata': {'RequestId': 'D1W78RY3FYSWJWQS',\n",
       "  'HostId': 'jAfNRFbLZ2PbkGXQg3GHErchBd0AyEaWbHZ+ct+QiVj5I2kG+s9zYipC/itSMffWv+JwjuS0FAI=',\n",
       "  'HTTPStatusCode': 200,\n",
       "  'HTTPHeaders': {'x-amz-id-2': 'jAfNRFbLZ2PbkGXQg3GHErchBd0AyEaWbHZ+ct+QiVj5I2kG+s9zYipC/itSMffWv+JwjuS0FAI=',\n",
       "   'x-amz-request-id': 'D1W78RY3FYSWJWQS',\n",
       "   'date': 'Tue, 12 Sep 2023 21:33:32 GMT',\n",
       "   'content-type': 'application/xml',\n",
       "   'transfer-encoding': 'chunked',\n",
       "   'server': 'AmazonS3'},\n",
       "  'RetryAttempts': 0},\n",
       " 'Buckets': [{'Name': 'aycy-recipe-classifier',\n",
       "   'CreationDate': datetime.datetime(2023, 9, 12, 21, 18, 43, tzinfo=tzlocal())},\n",
       "  {'Name': 'aycy-velocipede-481502',\n",
       "   'CreationDate': datetime.datetime(2023, 7, 18, 8, 38, 43, tzinfo=tzlocal())}],\n",
       " 'Owner': {'DisplayName': 'roonschmeight',\n",
       "  'ID': 'cbf718b577d52ecf2bfe907804ec072cdab387c715b97b9fe55c18187fa05541'}}"
      ]
     },
     "execution_count": 3,
     "metadata": {},
     "output_type": "execute_result"
    }
   ],
   "source": [
    "# Send request to list all buckets\n",
    "response = s3_client.list_buckets()\n",
    "\n",
    "# Check response\n",
    "response"
   ]
  },
  {
   "cell_type": "code",
   "execution_count": 4,
   "id": "2d6de903-5303-4b85-b197-5547a4e9d1fd",
   "metadata": {},
   "outputs": [
    {
     "data": {
      "text/plain": [
       "dict"
      ]
     },
     "execution_count": 4,
     "metadata": {},
     "output_type": "execute_result"
    }
   ],
   "source": [
    "type(response)"
   ]
  },
  {
   "cell_type": "code",
   "execution_count": 5,
   "id": "90c4419b-e314-4333-ab41-627208e70583",
   "metadata": {},
   "outputs": [
    {
     "data": {
      "text/plain": [
       "dict_keys(['ResponseMetadata', 'Buckets', 'Owner'])"
      ]
     },
     "execution_count": 5,
     "metadata": {},
     "output_type": "execute_result"
    }
   ],
   "source": [
    "response.keys()"
   ]
  },
  {
   "cell_type": "code",
   "execution_count": 6,
   "id": "da3e7806-6ead-46d0-8871-cc9f1f7484c3",
   "metadata": {},
   "outputs": [
    {
     "data": {
      "text/plain": [
       "dict_values([{'RequestId': 'D1W78RY3FYSWJWQS', 'HostId': 'jAfNRFbLZ2PbkGXQg3GHErchBd0AyEaWbHZ+ct+QiVj5I2kG+s9zYipC/itSMffWv+JwjuS0FAI=', 'HTTPStatusCode': 200, 'HTTPHeaders': {'x-amz-id-2': 'jAfNRFbLZ2PbkGXQg3GHErchBd0AyEaWbHZ+ct+QiVj5I2kG+s9zYipC/itSMffWv+JwjuS0FAI=', 'x-amz-request-id': 'D1W78RY3FYSWJWQS', 'date': 'Tue, 12 Sep 2023 21:33:32 GMT', 'content-type': 'application/xml', 'transfer-encoding': 'chunked', 'server': 'AmazonS3'}, 'RetryAttempts': 0}, [{'Name': 'aycy-recipe-classifier', 'CreationDate': datetime.datetime(2023, 9, 12, 21, 18, 43, tzinfo=tzlocal())}, {'Name': 'aycy-velocipede-481502', 'CreationDate': datetime.datetime(2023, 7, 18, 8, 38, 43, tzinfo=tzlocal())}], {'DisplayName': 'roonschmeight', 'ID': 'cbf718b577d52ecf2bfe907804ec072cdab387c715b97b9fe55c18187fa05541'}])"
      ]
     },
     "execution_count": 6,
     "metadata": {},
     "output_type": "execute_result"
    }
   ],
   "source": [
    "response.values()"
   ]
  },
  {
   "cell_type": "code",
   "execution_count": 7,
   "id": "c88c9336-4eb9-43c9-b8bd-2f44b5ae5962",
   "metadata": {},
   "outputs": [
    {
     "data": {
      "text/plain": [
       "[{'Name': 'aycy-recipe-classifier',\n",
       "  'CreationDate': datetime.datetime(2023, 9, 12, 21, 18, 43, tzinfo=tzlocal())},\n",
       " {'Name': 'aycy-velocipede-481502',\n",
       "  'CreationDate': datetime.datetime(2023, 7, 18, 8, 38, 43, tzinfo=tzlocal())}]"
      ]
     },
     "execution_count": 7,
     "metadata": {},
     "output_type": "execute_result"
    }
   ],
   "source": [
    "response[\"Buckets\"]"
   ]
  },
  {
   "cell_type": "markdown",
   "id": "dda7dbb9-5c03-4e1b-a8df-3a2b08d5ee4e",
   "metadata": {},
   "source": [
    "## AWS S3 Resource Interface"
   ]
  },
  {
   "cell_type": "markdown",
   "id": "d673bb87-2182-43ff-8958-bd333841502d",
   "metadata": {},
   "source": [
    "The `Resource` interface is a higher-level abstraction that deals with the dictionaries behind the scenes and often returns more readable outputs.\n",
    "- Code will be easier to read and understand with this method, but not every Client operation is available from the resource interface.\n",
    "- If you have written a lot of code in the Resource interface and realize you need a function only available through the Client, you can use `s3_resource.meta.client` to access Client functions without rewriting your other code.\n",
    "    - An example pf this is the `.generate_presigned_url()` Client method which can be used to give users access to an S3 bucket for a limited amount of time without AWS credentials."
   ]
  },
  {
   "cell_type": "code",
   "execution_count": 9,
   "id": "4b8bbee9-a1a9-4747-884d-11873127b368",
   "metadata": {},
   "outputs": [
    {
     "name": "stdout",
     "output_type": "stream",
     "text": [
      "aycy-recipe-classifier\n",
      "aycy-velocipede-481502\n"
     ]
    }
   ],
   "source": [
    "# Instantiate a resource service client\n",
    "s3_resource = boto3.resource(\"s3\")\n",
    "\n",
    "# Iterate over the buckets\n",
    "for bucket in s3_resource.buckets.all():\n",
    "\n",
    "    # Use the `name` method on each bucket to print its name\n",
    "    print(bucket.name)"
   ]
  },
  {
   "cell_type": "markdown",
   "id": "4b1aaab5-106a-4417-8837-fd09a9810e0d",
   "metadata": {},
   "source": [
    "# Creating a New Bucket"
   ]
  },
  {
   "cell_type": "code",
   "execution_count": 10,
   "id": "2282a8b6-314f-41e7-a47f-871b0d22565d",
   "metadata": {},
   "outputs": [
    {
     "data": {
      "text/plain": [
       "Session(region_name=None)"
      ]
     },
     "execution_count": 10,
     "metadata": {},
     "output_type": "execute_result"
    }
   ],
   "source": [
    "# Check region of bucket\n",
    "boto3.session.Session()"
   ]
  },
  {
   "cell_type": "markdown",
   "id": "c559b8be-b047-4668-ab5d-585ade63c891",
   "metadata": {},
   "source": [
    "Create a function for creating buckets"
   ]
  },
  {
   "cell_type": "code",
   "execution_count": null,
   "id": "5f7ffe98-d2b0-455b-be41-8f14282861bf",
   "metadata": {},
   "outputs": [],
   "source": [
    "def create_bucket(bucket_name, s3_connection):\n",
    "\n",
    "    # Identify current session "
   ]
  }
 ],
 "metadata": {
  "kernelspec": {
   "display_name": "Python 3 (ipykernel)",
   "language": "python",
   "name": "python3"
  },
  "language_info": {
   "codemirror_mode": {
    "name": "ipython",
    "version": 3
   },
   "file_extension": ".py",
   "mimetype": "text/x-python",
   "name": "python",
   "nbconvert_exporter": "python",
   "pygments_lexer": "ipython3",
   "version": "3.11.4"
  }
 },
 "nbformat": 4,
 "nbformat_minor": 5
}
