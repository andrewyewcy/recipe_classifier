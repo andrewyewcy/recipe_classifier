{
 "cells": [
  {
   "cell_type": "markdown",
   "id": "db363c30-3273-49da-b355-7bfd43b96d8f",
   "metadata": {},
   "source": [
    "This notebook documents the process of loading, subsetting, then uploading data to an AWS S3 bucket."
   ]
  },
  {
   "cell_type": "markdown",
   "id": "2d03fce0-b29f-4054-9e67-8e80fa690715",
   "metadata": {},
   "source": [
    "# Import Packages and Define Functions"
   ]
  },
  {
   "cell_type": "code",
   "execution_count": 26,
   "id": "a2f2c7b8-fd95-4b0f-85b3-9e834c481a0d",
   "metadata": {},
   "outputs": [],
   "source": [
    "import pandas as pd # For general data processing\n",
    "import joblib       # For loading data\n",
    "import boto3        # For AWS S3 processes\n",
    "\n",
    "# For getting AWS S3 credentials\n",
    "from dotenv import load_dotenv\n",
    "import os"
   ]
  },
  {
   "cell_type": "markdown",
   "id": "2b4d1690-0535-41bc-8a56-d23505a393d5",
   "metadata": {},
   "source": [
    "# Import and Subset Data"
   ]
  },
  {
   "cell_type": "code",
   "execution_count": 2,
   "id": "9d92f447-82b8-4814-918d-da637534f896",
   "metadata": {},
   "outputs": [],
   "source": [
    "# Import raw data file\n",
    "df = joblib.load(\n",
    "    \"../data/raw_data_df.pkl\"\n",
    ")"
   ]
  },
  {
   "cell_type": "code",
   "execution_count": 3,
   "id": "2fd41f78-e654-462a-9f27-502bcb645897",
   "metadata": {},
   "outputs": [
    {
     "name": "stdout",
     "output_type": "stream",
     "text": [
      "There are 40001 recipes with 18 columns.\n"
     ]
    }
   ],
   "source": [
    "# Print \n",
    "print(f\"There are {df.shape[0]} recipes with {df.shape[1]} columns.\")"
   ]
  },
  {
   "cell_type": "code",
   "execution_count": 4,
   "id": "0ae03fa8-3e80-4684-9a72-3782eca8602e",
   "metadata": {},
   "outputs": [
    {
     "data": {
      "text/html": [
       "<div>\n",
       "<style scoped>\n",
       "    .dataframe tbody tr th:only-of-type {\n",
       "        vertical-align: middle;\n",
       "    }\n",
       "\n",
       "    .dataframe tbody tr th {\n",
       "        vertical-align: top;\n",
       "    }\n",
       "\n",
       "    .dataframe thead th {\n",
       "        text-align: right;\n",
       "    }\n",
       "</style>\n",
       "<table border=\"1\" class=\"dataframe\">\n",
       "  <thead>\n",
       "    <tr style=\"text-align: right;\">\n",
       "      <th></th>\n",
       "      <th>0</th>\n",
       "    </tr>\n",
       "  </thead>\n",
       "  <tbody>\n",
       "    <tr>\n",
       "      <th>recipe_url</th>\n",
       "      <td>https://www.allrecipes.com/recipe/83646/corned...</td>\n",
       "    </tr>\n",
       "    <tr>\n",
       "      <th>title</th>\n",
       "      <td>Corned Beef Roast</td>\n",
       "    </tr>\n",
       "    <tr>\n",
       "      <th>label</th>\n",
       "      <td>['Recipes', 'Main Dishes', 'Beef', 'Corned Bee...</td>\n",
       "    </tr>\n",
       "    <tr>\n",
       "      <th>rating_average</th>\n",
       "      <td>4.4</td>\n",
       "    </tr>\n",
       "    <tr>\n",
       "      <th>rating_count</th>\n",
       "      <td>68</td>\n",
       "    </tr>\n",
       "  </tbody>\n",
       "</table>\n",
       "</div>"
      ],
      "text/plain": [
       "                                                                0\n",
       "recipe_url      https://www.allrecipes.com/recipe/83646/corned...\n",
       "title                                           Corned Beef Roast\n",
       "label           ['Recipes', 'Main Dishes', 'Beef', 'Corned Bee...\n",
       "rating_average                                                4.4\n",
       "rating_count                                                   68"
      ]
     },
     "execution_count": 4,
     "metadata": {},
     "output_type": "execute_result"
    }
   ],
   "source": [
    "target_columns = [\n",
    "    \"recipe_url\",\n",
    "    \"title\",\n",
    "    \"label\",\n",
    "    \"rating_average\",\n",
    "    \"rating_count\"\n",
    "]\n",
    "\n",
    "# Subset(filter) for columns of interest only\n",
    "df = df.loc[:, target_columns]\n",
    "\n",
    "# Visually examine the filtered data\n",
    "df.head(1).T"
   ]
  },
  {
   "cell_type": "code",
   "execution_count": 5,
   "id": "4cde03c0-9d85-4c93-8b34-a66cb91487dc",
   "metadata": {},
   "outputs": [
    {
     "name": "stdout",
     "output_type": "stream",
     "text": [
      "After subsetting the data, there are 40001 recipes with 5 columns.\n"
     ]
    }
   ],
   "source": [
    "# Examine shape of data after filtering\n",
    "print(f\"After subsetting the data, there are {df.shape[0]} recipes with {df.shape[1]} columns.\")"
   ]
  },
  {
   "cell_type": "code",
   "execution_count": 49,
   "id": "06655fe2-c489-40ed-8a13-b56f01b5c6b9",
   "metadata": {},
   "outputs": [
    {
     "data": {
      "text/plain": [
       "['../data/recipe_label_df.pkl']"
      ]
     },
     "execution_count": 49,
     "metadata": {},
     "output_type": "execute_result"
    }
   ],
   "source": [
    "# Save filtered DataFrame\n",
    "filename = \"../data/recipe_label_df.pkl\"\n",
    "joblib.dump(df, filename = filename)"
   ]
  },
  {
   "cell_type": "markdown",
   "id": "aa2832c9-6111-4474-bdc2-d3ab5250d275",
   "metadata": {},
   "source": [
    "# Uploading Data to AWS S3"
   ]
  },
  {
   "cell_type": "markdown",
   "id": "1da12eef-bd57-4d32-b5f4-34da0ce09430",
   "metadata": {},
   "source": [
    "## Instansiate Client, Resources and Session"
   ]
  },
  {
   "cell_type": "code",
   "execution_count": 36,
   "id": "517670fd-95a1-4aa8-8e99-240171655b54",
   "metadata": {},
   "outputs": [
    {
     "data": {
      "text/plain": [
       "<botocore.client.S3 at 0x7fd773bb6a50>"
      ]
     },
     "execution_count": 36,
     "metadata": {},
     "output_type": "execute_result"
    }
   ],
   "source": [
    "# Initialize s3 client interface\n",
    "s3_client = boto3.client(\n",
    "    \"s3\",\n",
    "    aws_access_key_id     = os.environ.get(\"aws_access_key_id\"),\n",
    "    aws_secret_access_key = os.environ.get(\"aws_secret_access_key\")\n",
    ")\n",
    "\n",
    "# Check the client\n",
    "s3_client"
   ]
  },
  {
   "cell_type": "code",
   "execution_count": 34,
   "id": "10d17c0b-f76b-4f19-a444-0e3738da0742",
   "metadata": {},
   "outputs": [
    {
     "data": {
      "text/plain": [
       "s3.ServiceResource()"
      ]
     },
     "execution_count": 34,
     "metadata": {},
     "output_type": "execute_result"
    }
   ],
   "source": [
    "# Instantiate s3 resource interface\n",
    "s3_resource = boto3.resource(\n",
    "    \"s3\",\n",
    "    aws_access_key_id     = os.environ.get(\"aws_access_key_id\"),\n",
    "    aws_secret_access_key = os.environ.get(\"aws_secret_access_key\")\n",
    ")\n",
    "\n",
    "# Check the resource\n",
    "s3_resource"
   ]
  },
  {
   "cell_type": "code",
   "execution_count": 29,
   "id": "78ffcfed-da38-4ccb-af00-de167d597739",
   "metadata": {},
   "outputs": [],
   "source": [
    "# Start S3 Session\n",
    "session = boto3.Session(\n",
    "    aws_access_key_id     = os.environ.get(\"aws_access_key_id\"),\n",
    "    aws_secret_access_key = os.environ.get(\"aws_secret_access_key\")\n",
    "    # aws_session_token # Only when using temporary credentials\n",
    ")"
   ]
  },
  {
   "cell_type": "markdown",
   "id": "1c78a7f9-9012-4d0b-a7a1-486bcabd394d",
   "metadata": {},
   "source": [
    "## Check AWS S3 Buckets"
   ]
  },
  {
   "cell_type": "code",
   "execution_count": 43,
   "id": "79b4ab41-1bfb-4d58-a03a-9938f476995d",
   "metadata": {},
   "outputs": [
    {
     "name": "stdout",
     "output_type": "stream",
     "text": [
      "# 0: aycy-recipe-classifier\n",
      "# 1: aycy-recipe-classifier-test\n",
      "# 2: aycy-velocipede-481502\n"
     ]
    }
   ],
   "source": [
    "# Send a request to list all buckets\n",
    "response = s3_client.list_buckets()\n",
    "\n",
    "for index, bucket in enumerate(response[\"Buckets\"]):\n",
    "    print(f\"# {index}: {bucket['Name']}\")"
   ]
  },
  {
   "cell_type": "code",
   "execution_count": 48,
   "id": "e8a47f3d-e9d4-473d-a455-1eef7f59f522",
   "metadata": {},
   "outputs": [
    {
     "name": "stdout",
     "output_type": "stream",
     "text": [
      "# 0: recipe_url_df.pkl, 3089204 bytes\n"
     ]
    }
   ],
   "source": [
    "# Check contents of bucket\n",
    "object_response = s3_client.list_objects_v2(\n",
    "    Bucket = \"aycy-recipe-classifier\"\n",
    ")\n",
    "\n",
    "for index, object in enumerate(object_response[\"Contents\"]):\n",
    "    print(f\"# {index}: {object['Key']}, {object['Size']} bytes\")"
   ]
  },
  {
   "cell_type": "markdown",
   "id": "486aef50-7d35-4307-ba98-e73360956a09",
   "metadata": {},
   "source": [
    "# Upload Filtered Data File to AWS S3"
   ]
  },
  {
   "cell_type": "code",
   "execution_count": 50,
   "id": "6069dd79-e7cb-49cb-bb3a-6224c3d4d76b",
   "metadata": {},
   "outputs": [],
   "source": [
    "# Specify a key to save the data file as within S3\n",
    "s3_client.upload_file(\n",
    "    Filename = filename,\n",
    "    Bucket = \"aycy-recipe-classifier\",\n",
    "    Key = \"recipe_label_df.pkl\"\n",
    ")"
   ]
  },
  {
   "cell_type": "code",
   "execution_count": 51,
   "id": "9c0f4f4f-dff9-42d4-8694-45566bae6e92",
   "metadata": {},
   "outputs": [
    {
     "name": "stdout",
     "output_type": "stream",
     "text": [
      "# 0: recipe_label_df.pkl, 5539560 bytes\n",
      "# 1: recipe_url_df.pkl, 3089204 bytes\n"
     ]
    }
   ],
   "source": [
    "# Check that the file has been uploaded\n",
    "object_response = s3_client.list_objects_v2(\n",
    "    Bucket = \"aycy-recipe-classifier\"\n",
    ")\n",
    "\n",
    "for index, object in enumerate(object_response[\"Contents\"]):\n",
    "    print(f\"# {index}: {object['Key']}, {object['Size']} bytes\")"
   ]
  }
 ],
 "metadata": {
  "kernelspec": {
   "display_name": "Python 3 (ipykernel)",
   "language": "python",
   "name": "python3"
  },
  "language_info": {
   "codemirror_mode": {
    "name": "ipython",
    "version": 3
   },
   "file_extension": ".py",
   "mimetype": "text/x-python",
   "name": "python",
   "nbconvert_exporter": "python",
   "pygments_lexer": "ipython3",
   "version": "3.11.4"
  }
 },
 "nbformat": 4,
 "nbformat_minor": 5
}
