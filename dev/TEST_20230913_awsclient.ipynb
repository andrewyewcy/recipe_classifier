{
 "cells": [
  {
   "cell_type": "code",
   "execution_count": 1,
   "id": "bf433752-7251-463e-b356-df833924f456",
   "metadata": {},
   "outputs": [],
   "source": [
    "import boto3"
   ]
  },
  {
   "cell_type": "markdown",
   "id": "6656c5ce-0433-4182-a4b6-0234a104c867",
   "metadata": {},
   "source": [
    "## AWS S3 `Client` Interface"
   ]
  },
  {
   "cell_type": "markdown",
   "id": "b4d30c7d-2ebe-49f6-a3e4-b1d58372168a",
   "metadata": {},
   "source": [
    "- The `Client` interface is a low-level library whose functions return mostly dictionaries that we need to manually parse. It gives you more granular control over AWS operations and can provide better performance but requires more programming work."
   ]
  },
  {
   "cell_type": "code",
   "execution_count": 2,
   "id": "3c68f1d7-802c-4e2d-96a4-f08d89028ff7",
   "metadata": {},
   "outputs": [
    {
     "data": {
      "text/plain": [
       "<botocore.client.S3 at 0x7f8b69200450>"
      ]
     },
     "execution_count": 2,
     "metadata": {},
     "output_type": "execute_result"
    }
   ],
   "source": [
    "# Instantiate an S3 client\n",
    "s3_client = boto3.client(\"s3\")\n",
    "\n",
    "# Check the client\n",
    "s3_client"
   ]
  },
  {
   "cell_type": "code",
   "execution_count": 3,
   "id": "26ab4d3f-b59f-45b5-80d0-eb33aef02a84",
   "metadata": {},
   "outputs": [
    {
     "data": {
      "text/plain": [
       "{'ResponseMetadata': {'RequestId': 'N6Z4X98V5R87P0D9',\n",
       "  'HostId': 'm0UtvXrXCJ8+YUfy9qOepCdMjI09k8AvyBhVxjFZcLj1TqRZBhQ8Y5/W1ykjKIYjpZNiU7UrZ5k=',\n",
       "  'HTTPStatusCode': 200,\n",
       "  'HTTPHeaders': {'x-amz-id-2': 'm0UtvXrXCJ8+YUfy9qOepCdMjI09k8AvyBhVxjFZcLj1TqRZBhQ8Y5/W1ykjKIYjpZNiU7UrZ5k=',\n",
       "   'x-amz-request-id': 'N6Z4X98V5R87P0D9',\n",
       "   'date': 'Wed, 13 Sep 2023 13:28:28 GMT',\n",
       "   'content-type': 'application/xml',\n",
       "   'transfer-encoding': 'chunked',\n",
       "   'server': 'AmazonS3'},\n",
       "  'RetryAttempts': 0},\n",
       " 'Buckets': [{'Name': 'aycy-recipe-classifier',\n",
       "   'CreationDate': datetime.datetime(2023, 9, 12, 21, 18, 43, tzinfo=tzlocal())},\n",
       "  {'Name': 'aycy-velocipede-481502',\n",
       "   'CreationDate': datetime.datetime(2023, 7, 18, 8, 38, 44, tzinfo=tzlocal())}],\n",
       " 'Owner': {'ID': 'cbf718b577d52ecf2bfe907804ec072cdab387c715b97b9fe55c18187fa05541'}}"
      ]
     },
     "execution_count": 3,
     "metadata": {},
     "output_type": "execute_result"
    }
   ],
   "source": [
    "# Send request to list all buckets\n",
    "response = s3_client.list_buckets()\n",
    "\n",
    "# Check response\n",
    "response"
   ]
  },
  {
   "cell_type": "code",
   "execution_count": 4,
   "id": "2d6de903-5303-4b85-b197-5547a4e9d1fd",
   "metadata": {},
   "outputs": [
    {
     "data": {
      "text/plain": [
       "dict"
      ]
     },
     "execution_count": 4,
     "metadata": {},
     "output_type": "execute_result"
    }
   ],
   "source": [
    "type(response)"
   ]
  },
  {
   "cell_type": "code",
   "execution_count": 5,
   "id": "90c4419b-e314-4333-ab41-627208e70583",
   "metadata": {},
   "outputs": [
    {
     "data": {
      "text/plain": [
       "dict_keys(['ResponseMetadata', 'Buckets', 'Owner'])"
      ]
     },
     "execution_count": 5,
     "metadata": {},
     "output_type": "execute_result"
    }
   ],
   "source": [
    "response.keys()"
   ]
  },
  {
   "cell_type": "code",
   "execution_count": 6,
   "id": "da3e7806-6ead-46d0-8871-cc9f1f7484c3",
   "metadata": {},
   "outputs": [
    {
     "data": {
      "text/plain": [
       "dict_values([{'RequestId': 'N6Z4X98V5R87P0D9', 'HostId': 'm0UtvXrXCJ8+YUfy9qOepCdMjI09k8AvyBhVxjFZcLj1TqRZBhQ8Y5/W1ykjKIYjpZNiU7UrZ5k=', 'HTTPStatusCode': 200, 'HTTPHeaders': {'x-amz-id-2': 'm0UtvXrXCJ8+YUfy9qOepCdMjI09k8AvyBhVxjFZcLj1TqRZBhQ8Y5/W1ykjKIYjpZNiU7UrZ5k=', 'x-amz-request-id': 'N6Z4X98V5R87P0D9', 'date': 'Wed, 13 Sep 2023 13:28:28 GMT', 'content-type': 'application/xml', 'transfer-encoding': 'chunked', 'server': 'AmazonS3'}, 'RetryAttempts': 0}, [{'Name': 'aycy-recipe-classifier', 'CreationDate': datetime.datetime(2023, 9, 12, 21, 18, 43, tzinfo=tzlocal())}, {'Name': 'aycy-velocipede-481502', 'CreationDate': datetime.datetime(2023, 7, 18, 8, 38, 44, tzinfo=tzlocal())}], {'ID': 'cbf718b577d52ecf2bfe907804ec072cdab387c715b97b9fe55c18187fa05541'}])"
      ]
     },
     "execution_count": 6,
     "metadata": {},
     "output_type": "execute_result"
    }
   ],
   "source": [
    "response.values()"
   ]
  },
  {
   "cell_type": "code",
   "execution_count": 7,
   "id": "c88c9336-4eb9-43c9-b8bd-2f44b5ae5962",
   "metadata": {},
   "outputs": [
    {
     "data": {
      "text/plain": [
       "[{'Name': 'aycy-recipe-classifier',\n",
       "  'CreationDate': datetime.datetime(2023, 9, 12, 21, 18, 43, tzinfo=tzlocal())},\n",
       " {'Name': 'aycy-velocipede-481502',\n",
       "  'CreationDate': datetime.datetime(2023, 7, 18, 8, 38, 44, tzinfo=tzlocal())}]"
      ]
     },
     "execution_count": 7,
     "metadata": {},
     "output_type": "execute_result"
    }
   ],
   "source": [
    "response[\"Buckets\"]"
   ]
  },
  {
   "cell_type": "markdown",
   "id": "dda7dbb9-5c03-4e1b-a8df-3a2b08d5ee4e",
   "metadata": {},
   "source": [
    "## AWS S3 Resource Interface"
   ]
  },
  {
   "cell_type": "markdown",
   "id": "d673bb87-2182-43ff-8958-bd333841502d",
   "metadata": {},
   "source": [
    "The `Resource` interface is a higher-level abstraction that deals with the dictionaries behind the scenes and often returns more readable outputs.\n",
    "- Code will be easier to read and understand with this method, but not every Client operation is available from the resource interface.\n",
    "- If you have written a lot of code in the Resource interface and realize you need a function only available through the Client, you can use `s3_resource.meta.client` to access Client functions without rewriting your other code.\n",
    "    - An example pf this is the `.generate_presigned_url()` Client method which can be used to give users access to an S3 bucket for a limited amount of time without AWS credentials."
   ]
  },
  {
   "cell_type": "code",
   "execution_count": 8,
   "id": "4b8bbee9-a1a9-4747-884d-11873127b368",
   "metadata": {},
   "outputs": [
    {
     "name": "stdout",
     "output_type": "stream",
     "text": [
      "aycy-recipe-classifier\n",
      "aycy-velocipede-481502\n"
     ]
    }
   ],
   "source": [
    "# Instantiate a resource service client\n",
    "s3_resource = boto3.resource(\"s3\")\n",
    "\n",
    "# Iterate over the buckets\n",
    "for bucket in s3_resource.buckets.all():\n",
    "\n",
    "    # Use the `name` method on each bucket to print its name\n",
    "    print(bucket.name)"
   ]
  },
  {
   "cell_type": "markdown",
   "id": "4b1aaab5-106a-4417-8837-fd09a9810e0d",
   "metadata": {},
   "source": [
    "# Creating a New Bucket"
   ]
  },
  {
   "cell_type": "code",
   "execution_count": 9,
   "id": "2282a8b6-314f-41e7-a47f-871b0d22565d",
   "metadata": {},
   "outputs": [
    {
     "data": {
      "text/plain": [
       "Session(region_name='ca-central-1')"
      ]
     },
     "execution_count": 9,
     "metadata": {},
     "output_type": "execute_result"
    }
   ],
   "source": [
    "# Check region of bucket\n",
    "boto3.session.Session()"
   ]
  },
  {
   "cell_type": "markdown",
   "id": "c559b8be-b047-4668-ab5d-585ade63c891",
   "metadata": {},
   "source": [
    "Create a function for creating buckets"
   ]
  },
  {
   "cell_type": "code",
   "execution_count": 16,
   "id": "5f7ffe98-d2b0-455b-be41-8f14282861bf",
   "metadata": {},
   "outputs": [],
   "source": [
    "def create_bucket(bucket_name, s3_connection):\n",
    "\n",
    "    # Identify current session and region\n",
    "    session = boto3.session.Session()\n",
    "    current_region = session.region_name\n",
    "\n",
    "    # Try to create the bucket\n",
    "    try:\n",
    "        bucket_response = s3_connection.create_bucket(\n",
    "            Bucket = bucket_name,\n",
    "            CreateBucketConfiguration = {\n",
    "                \"LocationConstraint\" : current_region\n",
    "            }\n",
    "        )\n",
    "\n",
    "        # Block public access to the bucket\n",
    "        response_public = s3_client.put_public_access_block(\n",
    "            Bucket = bucket_name,\n",
    "            PublicAccessBlockConfiguration = {\n",
    "                \"BlockPublicAcls\" : True,\n",
    "                \"IgnorePublicAcls\" : True,\n",
    "                \"BlockPublicPolicy\" : True,\n",
    "                \"RestrictPublicBuckets\" : True\n",
    "            }\n",
    "        )\n",
    "\n",
    "        # Print successful addition of Bucket\n",
    "        print(f\"Bucket Name: '{bucket_name}' was created in Region: '{current_region}'\")\n",
    "\n",
    "        # Return response (dictionary) associated with bucket creation\n",
    "        return bucket_response\n",
    "\n",
    "    # Except clause to deal with bucket already created\n",
    "    except s3_resource.meta.client.exceptions.BucketAlreadyOwnedByYou:\n",
    "        print(f\"Bucket Name: '{bucket_name}' already exists!\")\n",
    "        return None"
   ]
  },
  {
   "cell_type": "code",
   "execution_count": 17,
   "id": "87bc07f8-2189-4d68-aae9-0a5a43cf8f9e",
   "metadata": {},
   "outputs": [
    {
     "name": "stdout",
     "output_type": "stream",
     "text": [
      "Bucket Name: 'aycy-recipe-classifier' already exists!\n"
     ]
    }
   ],
   "source": [
    "# Test creating a bucket that already exists\n",
    "bucket_name = \"aycy-recipe-classifier\"\n",
    "\n",
    "bucket_response = create_bucket(\n",
    "    bucket_name,\n",
    "    s3_resource.meta.client\n",
    ")"
   ]
  },
  {
   "cell_type": "code",
   "execution_count": 19,
   "id": "7d5c2734-ddff-4d93-80d8-da68727f5b6b",
   "metadata": {},
   "outputs": [
    {
     "name": "stdout",
     "output_type": "stream",
     "text": [
      "Bucket Name: 'aycy-recipe-classifier-test' was created in Region: 'ca-central-1'\n"
     ]
    }
   ],
   "source": [
    "# Test creating a new bucket\n",
    "bucket_name = \"aycy-recipe-classifier-test\"\n",
    "\n",
    "bucket_response = create_bucket(\n",
    "    bucket_name,\n",
    "    s3_resource.meta.client\n",
    ")"
   ]
  },
  {
   "cell_type": "code",
   "execution_count": 20,
   "id": "c3298c33-f312-490e-9ce2-f896d23a4e9d",
   "metadata": {},
   "outputs": [
    {
     "name": "stdout",
     "output_type": "stream",
     "text": [
      "aycy-recipe-classifier\n",
      "aycy-recipe-classifier-test\n",
      "aycy-velocipede-481502\n"
     ]
    }
   ],
   "source": [
    "# Instantiate a resource service client\n",
    "s3_resource = boto3.resource(\"s3\")\n",
    "\n",
    "# Iterate over the buckets\n",
    "for bucket in s3_resource.buckets.all():\n",
    "\n",
    "    # Use the `name` method on each bucket to print its name\n",
    "    print(bucket.name)"
   ]
  },
  {
   "cell_type": "markdown",
   "id": "794ee2af-f7af-4437-b54c-12b829d25d1d",
   "metadata": {},
   "source": [
    "## Uploading a file to bucket"
   ]
  },
  {
   "cell_type": "code",
   "execution_count": 21,
   "id": "ad4560c6-4d0c-41d1-9b39-9dd0e6c11c79",
   "metadata": {},
   "outputs": [],
   "source": [
    "import joblib"
   ]
  },
  {
   "cell_type": "code",
   "execution_count": 26,
   "id": "ded00681-b5fb-455b-81b7-e0eca677d8f5",
   "metadata": {},
   "outputs": [],
   "source": [
    "filename = \"../data/recipe_url_df.pkl\"\n",
    "df = joblib.load(filename)"
   ]
  },
  {
   "cell_type": "code",
   "execution_count": 27,
   "id": "123120f6-591a-4337-a6d6-b523bf0bf527",
   "metadata": {},
   "outputs": [
    {
     "data": {
      "text/plain": [
       "(40001, 1)"
      ]
     },
     "execution_count": 27,
     "metadata": {},
     "output_type": "execute_result"
    }
   ],
   "source": [
    "df.shape"
   ]
  },
  {
   "cell_type": "code",
   "execution_count": 28,
   "id": "ede50253-1a29-4e52-99e7-a7add7561f0d",
   "metadata": {},
   "outputs": [
    {
     "data": {
      "text/html": [
       "<div>\n",
       "<style scoped>\n",
       "    .dataframe tbody tr th:only-of-type {\n",
       "        vertical-align: middle;\n",
       "    }\n",
       "\n",
       "    .dataframe tbody tr th {\n",
       "        vertical-align: top;\n",
       "    }\n",
       "\n",
       "    .dataframe thead th {\n",
       "        text-align: right;\n",
       "    }\n",
       "</style>\n",
       "<table border=\"1\" class=\"dataframe\">\n",
       "  <thead>\n",
       "    <tr style=\"text-align: right;\">\n",
       "      <th></th>\n",
       "      <th>extracted_url</th>\n",
       "    </tr>\n",
       "  </thead>\n",
       "  <tbody>\n",
       "    <tr>\n",
       "      <th>0</th>\n",
       "      <td>https://www.allrecipes.com/recipe/83646/corned...</td>\n",
       "    </tr>\n",
       "    <tr>\n",
       "      <th>1</th>\n",
       "      <td>https://www.allrecipes.com/recipe/158799/stout...</td>\n",
       "    </tr>\n",
       "    <tr>\n",
       "      <th>2</th>\n",
       "      <td>https://www.allrecipes.com/recipe/8509102/chic...</td>\n",
       "    </tr>\n",
       "    <tr>\n",
       "      <th>3</th>\n",
       "      <td>https://www.allrecipes.com/recipe/8508920/miss...</td>\n",
       "    </tr>\n",
       "    <tr>\n",
       "      <th>4</th>\n",
       "      <td>https://www.allrecipes.com/recipe/255462/lasag...</td>\n",
       "    </tr>\n",
       "  </tbody>\n",
       "</table>\n",
       "</div>"
      ],
      "text/plain": [
       "                                       extracted_url\n",
       "0  https://www.allrecipes.com/recipe/83646/corned...\n",
       "1  https://www.allrecipes.com/recipe/158799/stout...\n",
       "2  https://www.allrecipes.com/recipe/8509102/chic...\n",
       "3  https://www.allrecipes.com/recipe/8508920/miss...\n",
       "4  https://www.allrecipes.com/recipe/255462/lasag..."
      ]
     },
     "execution_count": 28,
     "metadata": {},
     "output_type": "execute_result"
    }
   ],
   "source": [
    "df.head()"
   ]
  },
  {
   "cell_type": "code",
   "execution_count": 30,
   "id": "72351d51-5e23-4616-8b2b-d440466f1716",
   "metadata": {},
   "outputs": [],
   "source": [
    "s3_client = boto3.client(\"s3\")\n",
    "\n",
    "filename = \"../data/recipe_url_df.pkl\"\n",
    "bucket_name = \"aycy-recipe-classifier\"\n",
    "\n",
    "s3_client.upload_file(\n",
    "    Filename = filename,\n",
    "    Bucket = bucket_name,\n",
    "    Key = \"recipe_url_df.pkl\"\n",
    ")"
   ]
  },
  {
   "cell_type": "markdown",
   "id": "bebf7a73-5cfd-4608-85b2-2630b94c4a5b",
   "metadata": {},
   "source": [
    "## Accessing a Specific Bucket and List Objects"
   ]
  },
  {
   "cell_type": "markdown",
   "id": "b8b000ef-92f1-416a-944b-ca13744f13e8",
   "metadata": {},
   "source": [
    "A specific bucket can be accessed using the `.list_objects_v2()` method."
   ]
  },
  {
   "cell_type": "code",
   "execution_count": 32,
   "id": "a5f59532-70bb-45ec-874e-f89178063d49",
   "metadata": {},
   "outputs": [
    {
     "data": {
      "text/plain": [
       "[{'Key': 'recipe_url_df.pkl',\n",
       "  'LastModified': datetime.datetime(2023, 9, 13, 13, 54, 12, tzinfo=tzlocal()),\n",
       "  'ETag': '\"cccbb4b930b9b8e33998c2dcf172089d\"',\n",
       "  'Size': 3089204,\n",
       "  'StorageClass': 'STANDARD'}]"
      ]
     },
     "execution_count": 32,
     "metadata": {},
     "output_type": "execute_result"
    }
   ],
   "source": [
    "# Using AWS client, send a request to gather all objects in a bucket\n",
    "object_response = s3_client.list_objects_v2(\n",
    "    Bucket = bucket_name\n",
    ")\n",
    "\n",
    "#Check\n",
    "object_response[\"Contents\"]"
   ]
  },
  {
   "cell_type": "markdown",
   "id": "11b1a612-14aa-4799-a5ef-ea8b14803cdb",
   "metadata": {},
   "source": [
    "# Reading Files from a Bucket"
   ]
  },
  {
   "cell_type": "code",
   "execution_count": 34,
   "id": "7fdc5f75-9f71-4d5b-a30d-fe3963b3f3a0",
   "metadata": {},
   "outputs": [
    {
     "data": {
      "text/plain": [
       "{'ResponseMetadata': {'RequestId': 'GJAXTKJVPNC2VVX1',\n",
       "  'HostId': '+pEEvJRTe1cuiPVpR5NWP4KtT/4Kh/NjSLw/tO1SaFjN4sk/35FF8rHrb7IoCYzwLmYAHpW7Euo=',\n",
       "  'HTTPStatusCode': 200,\n",
       "  'HTTPHeaders': {'x-amz-id-2': '+pEEvJRTe1cuiPVpR5NWP4KtT/4Kh/NjSLw/tO1SaFjN4sk/35FF8rHrb7IoCYzwLmYAHpW7Euo=',\n",
       "   'x-amz-request-id': 'GJAXTKJVPNC2VVX1',\n",
       "   'date': 'Wed, 13 Sep 2023 14:02:08 GMT',\n",
       "   'last-modified': 'Wed, 13 Sep 2023 13:54:12 GMT',\n",
       "   'etag': '\"cccbb4b930b9b8e33998c2dcf172089d\"',\n",
       "   'x-amz-server-side-encryption': 'AES256',\n",
       "   'accept-ranges': 'bytes',\n",
       "   'content-type': 'binary/octet-stream',\n",
       "   'server': 'AmazonS3',\n",
       "   'content-length': '3089204'},\n",
       "  'RetryAttempts': 0},\n",
       " 'AcceptRanges': 'bytes',\n",
       " 'LastModified': datetime.datetime(2023, 9, 13, 13, 54, 12, tzinfo=tzutc()),\n",
       " 'ContentLength': 3089204,\n",
       " 'ETag': '\"cccbb4b930b9b8e33998c2dcf172089d\"',\n",
       " 'ContentType': 'binary/octet-stream',\n",
       " 'ServerSideEncryption': 'AES256',\n",
       " 'Metadata': {},\n",
       " 'Body': <botocore.response.StreamingBody at 0x7f8b68606d10>}"
      ]
     },
     "execution_count": 34,
     "metadata": {},
     "output_type": "execute_result"
    }
   ],
   "source": [
    "# Given a filename, get the object from\n",
    "s3_object = s3_client.get_object(\n",
    "    Bucket = bucket_name,\n",
    "    Key = \"recipe_url_df.pkl\"\n",
    ")\n",
    "\n",
    "# Check\n",
    "s3_object"
   ]
  },
  {
   "cell_type": "code",
   "execution_count": 52,
   "id": "5435e91a-fe5e-43d4-acf9-b83000decfac",
   "metadata": {},
   "outputs": [
    {
     "data": {
      "text/plain": [
       "<botocore.response.StreamingBody at 0x7f8b68606d10>"
      ]
     },
     "execution_count": 52,
     "metadata": {},
     "output_type": "execute_result"
    }
   ],
   "source": [
    "# The body of the response contains the target file\n",
    "s3_object[\"Body\"]"
   ]
  },
  {
   "cell_type": "code",
   "execution_count": 45,
   "id": "cb269b93-566c-4d7f-ae8b-81687a3a24dd",
   "metadata": {},
   "outputs": [
    {
     "data": {
      "text/plain": [
       "'aycy-recipe-classifier'"
      ]
     },
     "execution_count": 45,
     "metadata": {},
     "output_type": "execute_result"
    }
   ],
   "source": [
    "bucket_name"
   ]
  },
  {
   "cell_type": "markdown",
   "id": "431eb7e2-6db9-479e-af2b-c17a3ca672de",
   "metadata": {},
   "source": [
    "### Write to disk then read"
   ]
  },
  {
   "cell_type": "code",
   "execution_count": 49,
   "id": "1384e571-5113-486c-8870-175ecdbf0084",
   "metadata": {
    "scrolled": true
   },
   "outputs": [],
   "source": [
    "# https://stackoverflow.com/questions/48964181/how-to-load-a-pickle-file-from-s3-to-use-in-aws-lambda\n",
    "#s3 = boto3.resource('s3')\n",
    "\n",
    "import pickle\n",
    "# Read the boto3 file into a dataframe\n",
    "# df = pickle.loads(s3_resource.Bucket(bucket_name).Object(\"recipe_url_df.pkl\").get()[\"Body\"].read())\n",
    "\n",
    "with open(\"recipe_url_df.pkl\", \"wb\") as data:\n",
    "    s3_resource.Bucket(bucket_name).download_fileobj(\"recipe_url_df.pkl\", data)\n",
    "\n",
    "with open(\"recipe_url_df.pkl\", \"rb\") as data:\n",
    "    df = joblib.load(data)"
   ]
  },
  {
   "cell_type": "markdown",
   "id": "3a841bef-3a30-4c32-b46e-f32a7781c91e",
   "metadata": {},
   "source": [
    "### Read without writing to disk"
   ]
  },
  {
   "cell_type": "code",
   "execution_count": 54,
   "id": "4b480ce4-2086-4861-a0d3-dc3e333fc429",
   "metadata": {
    "scrolled": true
   },
   "outputs": [],
   "source": [
    "import pickle\n",
    "import boto3\n",
    "from io import BytesIO\n",
    "\n",
    "with BytesIO() as data:\n",
    "    s3_resource.Bucket(bucket_name).download_fileobj(\"recipe_url_df.pkl\", data)\n",
    "    data.seek(0)    # move back to the beginning after writing\n",
    "    df = joblib.load(data)"
   ]
  },
  {
   "cell_type": "code",
   "execution_count": 55,
   "id": "81de095e-e349-41b8-ba75-73a2254b79ea",
   "metadata": {},
   "outputs": [
    {
     "data": {
      "text/html": [
       "<div>\n",
       "<style scoped>\n",
       "    .dataframe tbody tr th:only-of-type {\n",
       "        vertical-align: middle;\n",
       "    }\n",
       "\n",
       "    .dataframe tbody tr th {\n",
       "        vertical-align: top;\n",
       "    }\n",
       "\n",
       "    .dataframe thead th {\n",
       "        text-align: right;\n",
       "    }\n",
       "</style>\n",
       "<table border=\"1\" class=\"dataframe\">\n",
       "  <thead>\n",
       "    <tr style=\"text-align: right;\">\n",
       "      <th></th>\n",
       "      <th>extracted_url</th>\n",
       "    </tr>\n",
       "  </thead>\n",
       "  <tbody>\n",
       "    <tr>\n",
       "      <th>0</th>\n",
       "      <td>https://www.allrecipes.com/recipe/83646/corned...</td>\n",
       "    </tr>\n",
       "    <tr>\n",
       "      <th>1</th>\n",
       "      <td>https://www.allrecipes.com/recipe/158799/stout...</td>\n",
       "    </tr>\n",
       "    <tr>\n",
       "      <th>2</th>\n",
       "      <td>https://www.allrecipes.com/recipe/8509102/chic...</td>\n",
       "    </tr>\n",
       "    <tr>\n",
       "      <th>3</th>\n",
       "      <td>https://www.allrecipes.com/recipe/8508920/miss...</td>\n",
       "    </tr>\n",
       "    <tr>\n",
       "      <th>4</th>\n",
       "      <td>https://www.allrecipes.com/recipe/255462/lasag...</td>\n",
       "    </tr>\n",
       "    <tr>\n",
       "      <th>...</th>\n",
       "      <td>...</td>\n",
       "    </tr>\n",
       "    <tr>\n",
       "      <th>39996</th>\n",
       "      <td>https://www.allrecipes.com/recipe/276834/salsa...</td>\n",
       "    </tr>\n",
       "    <tr>\n",
       "      <th>39997</th>\n",
       "      <td>https://www.allrecipes.com/recipe/67002/sweet-...</td>\n",
       "    </tr>\n",
       "    <tr>\n",
       "      <th>39998</th>\n",
       "      <td>https://www.allrecipes.com/recipe/53211/wilder...</td>\n",
       "    </tr>\n",
       "    <tr>\n",
       "      <th>39999</th>\n",
       "      <td>https://www.allrecipes.com/recipe/274770/insta...</td>\n",
       "    </tr>\n",
       "    <tr>\n",
       "      <th>40000</th>\n",
       "      <td>https://www.allrecipes.com/recipe/231962/lisas...</td>\n",
       "    </tr>\n",
       "  </tbody>\n",
       "</table>\n",
       "<p>40001 rows × 1 columns</p>\n",
       "</div>"
      ],
      "text/plain": [
       "                                           extracted_url\n",
       "0      https://www.allrecipes.com/recipe/83646/corned...\n",
       "1      https://www.allrecipes.com/recipe/158799/stout...\n",
       "2      https://www.allrecipes.com/recipe/8509102/chic...\n",
       "3      https://www.allrecipes.com/recipe/8508920/miss...\n",
       "4      https://www.allrecipes.com/recipe/255462/lasag...\n",
       "...                                                  ...\n",
       "39996  https://www.allrecipes.com/recipe/276834/salsa...\n",
       "39997  https://www.allrecipes.com/recipe/67002/sweet-...\n",
       "39998  https://www.allrecipes.com/recipe/53211/wilder...\n",
       "39999  https://www.allrecipes.com/recipe/274770/insta...\n",
       "40000  https://www.allrecipes.com/recipe/231962/lisas...\n",
       "\n",
       "[40001 rows x 1 columns]"
      ]
     },
     "execution_count": 55,
     "metadata": {},
     "output_type": "execute_result"
    }
   ],
   "source": [
    "df"
   ]
  },
  {
   "cell_type": "markdown",
   "id": "5ebadfc9-f4f4-4ff0-9023-03f5e0ca6b5e",
   "metadata": {},
   "source": [
    "## Delete a bucket"
   ]
  },
  {
   "cell_type": "code",
   "execution_count": 57,
   "id": "ee9f10a6-ec7b-4185-a711-f94d1325f000",
   "metadata": {},
   "outputs": [],
   "source": [
    "def delete_all_objects(bucket_name):\n",
    "\n",
    "    # An empty list to store the names of files within Bucket to be deleted\n",
    "\n",
    "    # define bucket object to be deleted\n",
    "    bucket = s3_resource.Bucket(bucket_name)\n",
    "\n",
    "    # If you have versioning turned on, you will see the files and their version in the list\n",
    "    # We do not, so the VersionId will simply be null\n",
    "    for object_version in bucket.object_versions.all():\n",
    "        files_to_delete.append(\n",
    "            {\n",
    "                \"Key\": object_version.object_key,\n",
    "                \"VersionId\": object_version.id\n",
    "            }\n",
    "        )\n",
    "\n",
    "    # print each file to be deleted\n",
    "    for file in files_to_delete:\n",
    "        print(f\"Deleted {file['Key']} version {file['VersionId']}\")\n",
    "\n",
    "    # Delete all the files in the S3 bucket\n",
    "    bucket.delete_objects(\n",
    "        Delete = {\n",
    "            \"Objects\":files_to_delete\n",
    "        }\n",
    "    )"
   ]
  },
  {
   "cell_type": "code",
   "execution_count": null,
   "id": "283bb242-a582-4e05-a280-241dd6765b6e",
   "metadata": {},
   "outputs": [],
   "source": [
    "# Check the bucket contents again\n",
    "try:\n",
    "    for file in s3_client.list_objects_v2(Bucket=bucket_name)['Contents']:\n",
    "        print(file['Key'])\n",
    "\n",
    "# If the bucket is empty, file['Key'] will return a KeyError\n",
    "except KeyError:\n",
    "    print('This bucket is empty!')"
   ]
  },
  {
   "cell_type": "code",
   "execution_count": null,
   "id": "fa8b1137-99f1-44f6-9572-256bda6155b5",
   "metadata": {},
   "outputs": [],
   "source": [
    "s3_resource.Bucket(bucket_name).delete()"
   ]
  },
  {
   "cell_type": "code",
   "execution_count": null,
   "id": "93f3a398-989a-4089-99e5-704fb2ad9019",
   "metadata": {},
   "outputs": [],
   "source": [
    "# Print the names of all of our buckets:\n",
    "for bucket in s3_resource.buckets.all():\n",
    "    print(bucket.name)"
   ]
  }
 ],
 "metadata": {
  "kernelspec": {
   "display_name": "Python 3 (ipykernel)",
   "language": "python",
   "name": "python3"
  },
  "language_info": {
   "codemirror_mode": {
    "name": "ipython",
    "version": 3
   },
   "file_extension": ".py",
   "mimetype": "text/x-python",
   "name": "python",
   "nbconvert_exporter": "python",
   "pygments_lexer": "ipython3",
   "version": "3.11.4"
  }
 },
 "nbformat": 4,
 "nbformat_minor": 5
}
