{
 "cells": [
  {
   "cell_type": "markdown",
   "id": "ea08c91f",
   "metadata": {},
   "source": [
    "# Pandas 2.0 backwards compatability fix\n",
    "\n",
    "To accomodate Streamlit hosting of Streamlit app, needed to upgrade from Python 3.7 to latest Python as Streamlit announced end of support for Python 3.7.\n",
    "\n",
    "## Problem\n",
    "This introduced problems as in Python 3.11 using Pandas 2.0.2, the pickle files containg data can no longer be loaded with joblib or pd.read_pickle.\n",
    "- produces error messages like:\n",
    "    - no module names 'pandas.core.indexes.numeric'\n",
    "    - unpicklingError: invalid load key, '#'\n",
    "    \n",
    "## Solution\n",
    "Convert pickle data files into Comma Separated Value (CSV) files."
   ]
  },
  {
   "cell_type": "code",
   "execution_count": 3,
   "id": "e10bcd2e",
   "metadata": {},
   "outputs": [],
   "source": [
    "import pandas as pd\n",
    "import joblib\n",
    "import os"
   ]
  },
  {
   "cell_type": "code",
   "execution_count": 7,
   "id": "39a42189",
   "metadata": {},
   "outputs": [],
   "source": [
    "# Get list of data files\n",
    "data_files = os.listdir('streamlit_data/')"
   ]
  },
  {
   "cell_type": "code",
   "execution_count": 10,
   "id": "83a15e36",
   "metadata": {},
   "outputs": [
    {
     "name": "stdout",
     "output_type": "stream",
     "text": [
      "processed_data_for_streamlit\n",
      "X_t_for_streamlit\n",
      "tags_df\n"
     ]
    }
   ],
   "source": [
    "for file in data_files:\n",
    "    print(file[:-4])"
   ]
  },
  {
   "cell_type": "code",
   "execution_count": 11,
   "id": "b79e956a",
   "metadata": {},
   "outputs": [
    {
     "name": "stdout",
     "output_type": "stream",
     "text": [
      "File 1 of 3 renamed.\r",
      "File 2 of 3 renamed.\r",
      "File 3 of 3 renamed.\r"
     ]
    }
   ],
   "source": [
    "for index, file in enumerate(data_files):\n",
    "    df = joblib.load('streamlit_data/' + file)\n",
    "    df.to_csv('streamlit_data/' + file[:-4] + '.csv', index = False)\n",
    "    print(f\"File {index + 1} of {len(data_files)} renamed.\", end='\\r')"
   ]
  },
  {
   "cell_type": "code",
   "execution_count": 13,
   "id": "420f1080",
   "metadata": {},
   "outputs": [
    {
     "data": {
      "text/plain": [
       "['tags_df.csv',\n",
       " 'processed_data_for_streamlit.pkl',\n",
       " 'X_t_for_streamlit.pkl',\n",
       " 'X_t_for_streamlit.csv',\n",
       " 'tags_df.pkl',\n",
       " 'processed_data_for_streamlit.csv']"
      ]
     },
     "execution_count": 13,
     "metadata": {},
     "output_type": "execute_result"
    }
   ],
   "source": [
    "# Check to see if files were renamed correctly\n",
    "os.listdir('streamlit_data/')"
   ]
  }
 ],
 "metadata": {
  "kernelspec": {
   "display_name": "Python 3 (ipykernel)",
   "language": "python",
   "name": "python3"
  },
  "language_info": {
   "codemirror_mode": {
    "name": "ipython",
    "version": 3
   },
   "file_extension": ".py",
   "mimetype": "text/x-python",
   "name": "python",
   "nbconvert_exporter": "python",
   "pygments_lexer": "ipython3",
   "version": "3.7.16"
  }
 },
 "nbformat": 4,
 "nbformat_minor": 5
}
