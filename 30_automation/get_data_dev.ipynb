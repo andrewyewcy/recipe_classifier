{
 "cells": [
  {
   "cell_type": "code",
   "execution_count": 2,
   "id": "0180e8f5-581b-44d5-b1dd-601ae1371ae6",
   "metadata": {},
   "outputs": [],
   "source": [
    "import numpy as np\n",
    "import pandas as pd\n",
    "import joblib"
   ]
  },
  {
   "cell_type": "markdown",
   "id": "bd0410c0-c0cd-4711-bbb1-3697512f4a1a",
   "metadata": {},
   "source": [
    "Goal: Get ingredients"
   ]
  },
  {
   "cell_type": "markdown",
   "id": "53c57047-6e40-4e6c-a7bc-bc4089b40aa8",
   "metadata": {},
   "source": [
    "List of fried chicken recipes:"
   ]
  },
  {
   "cell_type": "markdown",
   "id": "ad23cda9-8f37-467d-a32b-b62d0e4404aa",
   "metadata": {},
   "source": [
    "# Option 1: Use previously scraped data"
   ]
  },
  {
   "cell_type": "code",
   "execution_count": 3,
   "id": "d84eec63-3323-47b5-a14f-594d7bccde21",
   "metadata": {},
   "outputs": [],
   "source": [
    "# Define path to processed data\n",
    "data_file = \"../11_raw_data/final_processed_df.csv\""
   ]
  },
  {
   "cell_type": "code",
   "execution_count": 4,
   "id": "fa86e461-cc65-44c7-b7b4-aa7aaea29f96",
   "metadata": {},
   "outputs": [],
   "source": [
    "df = pd.read_csv(data_file)"
   ]
  },
  {
   "cell_type": "code",
   "execution_count": 5,
   "id": "1724b84d-a3bd-4e60-acd0-be8fbef44ca9",
   "metadata": {},
   "outputs": [
    {
     "data": {
      "text/plain": [
       "(33691, 31)"
      ]
     },
     "execution_count": 5,
     "metadata": {},
     "output_type": "execute_result"
    }
   ],
   "source": [
    "df.shape"
   ]
  },
  {
   "cell_type": "code",
   "execution_count": 7,
   "id": "af56b445-04ee-43c7-9759-f4d6c5b8ccde",
   "metadata": {
    "scrolled": true
   },
   "outputs": [
    {
     "data": {
      "text/html": [
       "<div>\n",
       "<style scoped>\n",
       "    .dataframe tbody tr th:only-of-type {\n",
       "        vertical-align: middle;\n",
       "    }\n",
       "\n",
       "    .dataframe tbody tr th {\n",
       "        vertical-align: top;\n",
       "    }\n",
       "\n",
       "    .dataframe thead th {\n",
       "        text-align: right;\n",
       "    }\n",
       "</style>\n",
       "<table border=\"1\" class=\"dataframe\">\n",
       "  <thead>\n",
       "    <tr style=\"text-align: right;\">\n",
       "      <th></th>\n",
       "      <th>0</th>\n",
       "    </tr>\n",
       "  </thead>\n",
       "  <tbody>\n",
       "    <tr>\n",
       "      <th>recipe_title</th>\n",
       "      <td>Corned Beef Roast</td>\n",
       "    </tr>\n",
       "    <tr>\n",
       "      <th>recipe_title_wc</th>\n",
       "      <td>3</td>\n",
       "    </tr>\n",
       "    <tr>\n",
       "      <th>average_rating</th>\n",
       "      <td>4.4</td>\n",
       "    </tr>\n",
       "    <tr>\n",
       "      <th>number_of_ratings</th>\n",
       "      <td>68.0</td>\n",
       "    </tr>\n",
       "    <tr>\n",
       "      <th>description</th>\n",
       "      <td>This corned beef roast is easy to prepare and ...</td>\n",
       "    </tr>\n",
       "    <tr>\n",
       "      <th>description_wc</th>\n",
       "      <td>21</td>\n",
       "    </tr>\n",
       "    <tr>\n",
       "      <th>additional_description</th>\n",
       "      <td>['Preheat the oven to 300 degrees F (150 degre...</td>\n",
       "    </tr>\n",
       "    <tr>\n",
       "      <th>additional_description_wc</th>\n",
       "      <td>81</td>\n",
       "    </tr>\n",
       "    <tr>\n",
       "      <th>description_flavour_text</th>\n",
       "      <td>Corned beef roast cooked in the oven for five ...</td>\n",
       "    </tr>\n",
       "    <tr>\n",
       "      <th>description_flavour_text_wc</th>\n",
       "      <td>26</td>\n",
       "    </tr>\n",
       "    <tr>\n",
       "      <th>instructions</th>\n",
       "      <td>Preheat the oven to 300 degrees F (150 degrees...</td>\n",
       "    </tr>\n",
       "    <tr>\n",
       "      <th>instructions_with_image</th>\n",
       "      <td>0.0</td>\n",
       "    </tr>\n",
       "    <tr>\n",
       "      <th>ingredients</th>\n",
       "      <td>1 (5 1/2 pound) corned beef brisket with spice...</td>\n",
       "    </tr>\n",
       "    <tr>\n",
       "      <th>number_of_ingredients</th>\n",
       "      <td>5.0</td>\n",
       "    </tr>\n",
       "    <tr>\n",
       "      <th>calories_kcal</th>\n",
       "      <td>465.0</td>\n",
       "    </tr>\n",
       "    <tr>\n",
       "      <th>carbohydrateContent_g</th>\n",
       "      <td>28.0</td>\n",
       "    </tr>\n",
       "    <tr>\n",
       "      <th>cholesterolContent_mg</th>\n",
       "      <td>134.0</td>\n",
       "    </tr>\n",
       "    <tr>\n",
       "      <th>fiberContent_g</th>\n",
       "      <td>4.0</td>\n",
       "    </tr>\n",
       "    <tr>\n",
       "      <th>proteinContent_g</th>\n",
       "      <td>28.0</td>\n",
       "    </tr>\n",
       "    <tr>\n",
       "      <th>saturatedFatContent_g</th>\n",
       "      <td>9.0</td>\n",
       "    </tr>\n",
       "    <tr>\n",
       "      <th>sodiumContent_mg</th>\n",
       "      <td>1560.0</td>\n",
       "    </tr>\n",
       "    <tr>\n",
       "      <th>sugarContent_g</th>\n",
       "      <td>2.0</td>\n",
       "    </tr>\n",
       "    <tr>\n",
       "      <th>number_of_servings</th>\n",
       "      <td>8.0</td>\n",
       "    </tr>\n",
       "    <tr>\n",
       "      <th>cook_time</th>\n",
       "      <td>300.0</td>\n",
       "    </tr>\n",
       "    <tr>\n",
       "      <th>prep_time</th>\n",
       "      <td>15.0</td>\n",
       "    </tr>\n",
       "    <tr>\n",
       "      <th>total_time</th>\n",
       "      <td>315.0</td>\n",
       "    </tr>\n",
       "    <tr>\n",
       "      <th>tags</th>\n",
       "      <td>corned-beef main-dish beef</td>\n",
       "    </tr>\n",
       "    <tr>\n",
       "      <th>published_quarter</th>\n",
       "      <td>2.0</td>\n",
       "    </tr>\n",
       "    <tr>\n",
       "      <th>review</th>\n",
       "      <td>Big corned beef fan, Great alternative to boil...</td>\n",
       "    </tr>\n",
       "    <tr>\n",
       "      <th>recipe_worth_it</th>\n",
       "      <td>0</td>\n",
       "    </tr>\n",
       "    <tr>\n",
       "      <th>wc_per_instruction</th>\n",
       "      <td>27.0</td>\n",
       "    </tr>\n",
       "  </tbody>\n",
       "</table>\n",
       "</div>"
      ],
      "text/plain": [
       "                                                                             0\n",
       "recipe_title                                                 Corned Beef Roast\n",
       "recipe_title_wc                                                              3\n",
       "average_rating                                                             4.4\n",
       "number_of_ratings                                                         68.0\n",
       "description                  This corned beef roast is easy to prepare and ...\n",
       "description_wc                                                              21\n",
       "additional_description       ['Preheat the oven to 300 degrees F (150 degre...\n",
       "additional_description_wc                                                   81\n",
       "description_flavour_text     Corned beef roast cooked in the oven for five ...\n",
       "description_flavour_text_wc                                                 26\n",
       "instructions                 Preheat the oven to 300 degrees F (150 degrees...\n",
       "instructions_with_image                                                    0.0\n",
       "ingredients                  1 (5 1/2 pound) corned beef brisket with spice...\n",
       "number_of_ingredients                                                      5.0\n",
       "calories_kcal                                                            465.0\n",
       "carbohydrateContent_g                                                     28.0\n",
       "cholesterolContent_mg                                                    134.0\n",
       "fiberContent_g                                                             4.0\n",
       "proteinContent_g                                                          28.0\n",
       "saturatedFatContent_g                                                      9.0\n",
       "sodiumContent_mg                                                        1560.0\n",
       "sugarContent_g                                                             2.0\n",
       "number_of_servings                                                         8.0\n",
       "cook_time                                                                300.0\n",
       "prep_time                                                                 15.0\n",
       "total_time                                                               315.0\n",
       "tags                                               corned-beef main-dish beef \n",
       "published_quarter                                                          2.0\n",
       "review                       Big corned beef fan, Great alternative to boil...\n",
       "recipe_worth_it                                                              0\n",
       "wc_per_instruction                                                        27.0"
      ]
     },
     "execution_count": 7,
     "metadata": {},
     "output_type": "execute_result"
    }
   ],
   "source": [
    "df.head(1).T"
   ]
  },
  {
   "cell_type": "code",
   "execution_count": 12,
   "id": "cdb54d0e-3343-4cf6-84a1-71e0eb69c1ed",
   "metadata": {},
   "outputs": [
    {
     "data": {
      "text/plain": [
       "529                           Quick and Easy Refried Beans\n",
       "1062                        Easy Nachos with Refried Beans\n",
       "1080                     Chicken Nachos with Refried Beans\n",
       "4938                   Instant Pot® Charro (Refried Beans)\n",
       "6876                    Refried Bean and Cheese Enchiladas\n",
       "7580                       Refried Beans Without the Refry\n",
       "8160                           Taco Dip with Refried Beans\n",
       "14367                            Chef John's Refried Beans\n",
       "15096                           Instant Pot® Refried Beans\n",
       "15114                             Vegetarian Refried Beans\n",
       "20188                           Spicy Cheesy Refried Beans\n",
       "23517                               Fat Free Refried Beans\n",
       "23763                                   Best Refried Beans\n",
       "24420                                    Refried Bean Soup\n",
       "25019    Pan-fried Polenta with Corn, Kale and Goat Cheese\n",
       "25598                                  Vegan Refried Beans\n",
       "28922                                  Refried Black Beans\n",
       "29181                              Rush Hour Refried Beans\n",
       "30299                    Frijoles Refritos (Refried Beans)\n",
       "31293                                Buffy's Refried Beans\n",
       "Name: recipe_title, dtype: object"
      ]
     },
     "execution_count": 12,
     "metadata": {},
     "output_type": "execute_result"
    }
   ],
   "source": [
    "search_terms = \"|\".join([\"fried\",\"chicken\"])\n",
    "cond = df[\"recipe_title\"].str.contains(search_terms)\n",
    "df.loc[cond,\"recipe_title\"]"
   ]
  },
  {
   "cell_type": "markdown",
   "id": "02a13139-8802-46c0-87dc-d11347eb5e1c",
   "metadata": {},
   "source": [
    "Filtering existing data revealed no fried chicken recipes in existing data. Thus, option 2, scraping, is necessary."
   ]
  },
  {
   "cell_type": "markdown",
   "id": "b1060e6e-4fc9-4ec3-a5b7-8339db960f54",
   "metadata": {},
   "source": [
    "# Option 2: Scraping directly from Allrecipes"
   ]
  },
  {
   "cell_type": "code",
   "execution_count": 47,
   "id": "ff6f2752-19ac-4ff6-b48b-8ded81e7fbc5",
   "metadata": {},
   "outputs": [],
   "source": [
    "import re\n",
    "# Package for scraping\n",
    "from selenium import webdriver\n",
    "from bs4 import BeautifulSoup\n",
    "import time"
   ]
  },
  {
   "cell_type": "markdown",
   "id": "931a6f4e-67e6-4e6a-9f82-4750b6080049",
   "metadata": {},
   "source": [
    "## Construct Query URL"
   ]
  },
  {
   "cell_type": "markdown",
   "id": "f8a5194d-40cb-4269-87a7-f446f847df5b",
   "metadata": {},
   "source": [
    "Copy and paste sample site search for visual comparison:\n",
    "\n",
    "- https://www.allrecipes.com/search?fried%20chicken=fried%20chicken&offset=0&q=fried%20chicken\n",
    "- https://www.allrecipes.com/search?fried%20chicken=fried%20chicken&offset=24&q=fried%20chicken\n",
    "- https://www.allrecipes.com/search?fried%20chicken=fried%20chicken&offset=48&q=fried%20chicken"
   ]
  },
  {
   "cell_type": "markdown",
   "id": "d730601a-5039-4c05-ac2f-b4698c1008fb",
   "metadata": {},
   "source": [
    "Each search result page contains 24 result tiles. Thus, adding 24 to the offset in a loop will allows us to scrape all recipes related to fried chicken."
   ]
  },
  {
   "cell_type": "code",
   "execution_count": 23,
   "id": "114eb53c-0607-482a-8746-e3b13667d580",
   "metadata": {},
   "outputs": [],
   "source": [
    "# This is the search term users will enter to scrape recipes related to fried chicken\n",
    "search_term = \"fried chicken\"\n",
    "\n",
    "# Replace white space with encoding\n",
    "search_term = re.sub(\" \",\"%20\",search_term)\n",
    "\n",
    "# First page of search results can be gathered from offset = 0\n",
    "base_offset = 0\n",
    "\n",
    "# Construct query\n",
    "query_url = f\"https://www.allrecipes.com/search?{search_term}={search_term}&offset={base_offset}&q={search_term}\""
   ]
  },
  {
   "cell_type": "code",
   "execution_count": 24,
   "id": "94e4c41e-659a-4925-bdc5-f28289687d17",
   "metadata": {},
   "outputs": [
    {
     "name": "stdout",
     "output_type": "stream",
     "text": [
      "Constructed query matches.\n"
     ]
    }
   ],
   "source": [
    "# Check constructed query with query from actual site\n",
    "query_from_site = \"https://www.allrecipes.com/search?fried%20chicken=fried%20chicken&offset=0&q=fried%20chicken\"\n",
    "\n",
    "if query_url == query_from_site:\n",
    "    print(f\"Constructed query matches.\")\n",
    "else:\n",
    "    print(f\"Constructed query mismatch.\")"
   ]
  },
  {
   "cell_type": "markdown",
   "id": "0200f8c5-5011-456f-bf51-a34460e747af",
   "metadata": {},
   "source": [
    "## Scraping recipe URLs from Allrecipes.com search result"
   ]
  },
  {
   "cell_type": "code",
   "execution_count": 27,
   "id": "8a25a0c2-9722-44fb-bb9e-628955637291",
   "metadata": {},
   "outputs": [],
   "source": [
    "# Define default options for Selenium webdriver\n",
    "chrome_options = webdriver.ChromeOptions()\n",
    "\n",
    "# Define command_executor, access this through localhost:4444\n",
    "command_executor = \"http://172.21.0.2:4444\""
   ]
  },
  {
   "cell_type": "code",
   "execution_count": 28,
   "id": "cfe9be73-c4a8-446f-ad78-977061d995a0",
   "metadata": {
    "scrolled": true
   },
   "outputs": [],
   "source": [
    "# Initiate webdriver, with command executor found within the Selenium Grid docker container\n",
    "# For this line to work, the `selenium/standalone-chrome:118.0` docker image\n",
    "driver = webdriver.Remote(\n",
    "    command_executor = command_executor,\n",
    "    options          = chrome_options\n",
    ")"
   ]
  },
  {
   "cell_type": "code",
   "execution_count": 29,
   "id": "9ea10a55-d46b-4eab-a1df-185b1b4c5656",
   "metadata": {},
   "outputs": [],
   "source": [
    "# Use the driver to scrape the url\n",
    "driver.get(query_url)"
   ]
  },
  {
   "cell_type": "code",
   "execution_count": 30,
   "id": "3bbbc570-3783-4301-8b0c-8da9424a7611",
   "metadata": {},
   "outputs": [],
   "source": [
    "# Extract the text of the response into a variable\n",
    "html = driver.page_source\n",
    "\n",
    "# Parse the response text using Beautiful Soup\n",
    "soup = BeautifulSoup(html, 'html.parser')\n",
    "\n",
    "# Exit the driver\n",
    "driver.quit()"
   ]
  },
  {
   "cell_type": "code",
   "execution_count": 41,
   "id": "e8ef390c-2a7c-4d64-8bad-b0094bf5bbcb",
   "metadata": {},
   "outputs": [
    {
     "name": "stdout",
     "output_type": "stream",
     "text": [
      "https://www.allrecipes.com/recipe/8805/crispy-fried-chicken/\n",
      "https://www.allrecipes.com/recipe/8841/oven-fried-chicken-ii/\n",
      "https://www.allrecipes.com/recipe/89268/triple-dipped-fried-chicken/\n",
      "https://www.allrecipes.com/recipe/220128/chef-johns-buttermilk-fried-chicken/\n",
      "https://www.allrecipes.com/recipe/150306/the-best-chicken-fried-steak/\n",
      "https://www.allrecipes.com/recipe/241152/fried-chicken-wings/\n",
      "https://www.allrecipes.com/recipe/8970/millie-pasquinellis-fried-chicken/\n",
      "https://www.allrecipes.com/recipe/16573/chicken-fried-chicken/\n",
      "https://www.allrecipes.com/recipe/8635/southern-fried-chicken/\n",
      "https://www.allrecipes.com/recipe/238844/korean-fried-chicken/\n",
      "https://www.allrecipes.com/recipe/24778/better-than-best-fried-chicken/\n",
      "https://www.allrecipes.com/recipe/159972/tender-pan-fried-chicken-breasts/\n",
      "https://www.allrecipes.com/article/how-to-reheat-fried-chicken/\n",
      "https://www.allrecipes.com/recipe/55867/baked-bbq-fried-chicken/\n",
      "https://www.allrecipes.com/recipe/86047/garlic-chicken-fried-chicken/\n",
      "https://www.allrecipes.com/recipe/221227/honey-brined-fried-chicken-breasts/\n",
      "https://www.allrecipes.com/recipe/15375/fried-chicken-with-creamy-gravy/\n",
      "https://www.allrecipes.com/recipe/228976/southern-fried-chicken-strips/\n",
      "https://www.allrecipes.com/recipe/87473/mustard-fried-chicken/\n",
      "https://www.allrecipes.com/recipe/8802/tanyas-louisiana-southern-fried-chicken/\n",
      "https://www.allrecipes.com/recipe/16669/fried-chicken-tenders/\n",
      "https://www.allrecipes.com/recipe/200036/southern-fried-chicken-livers/\n",
      "https://www.allrecipes.com/recipe/8717/deep-south-fried-chicken/\n",
      "https://www.allrecipes.com/recipe/25492/firecracker-fried-chicken-drumsticks/\n"
     ]
    }
   ],
   "source": [
    "# Extract and print URLs identified using class found through element inspector\n",
    "for a in soup.find_all(\"a\", {\"class\":\"comp mntl-card-list-items mntl-document-card mntl-card card card--no-image\"}):\n",
    "    print(a.get(\"href\"))"
   ]
  },
  {
   "cell_type": "markdown",
   "id": "3e4e3f73-b05a-46d0-abd8-bc0bc2d00824",
   "metadata": {},
   "source": [
    "Defining a `class` while extracting recipe URLs prevents any URLs that are not related to the search term from appearing when extracting URLs from the BeautifulSoup object.\n",
    "Now to write a loop to repeat the URL scraping process but for all search results pages:"
   ]
  },
  {
   "cell_type": "code",
   "execution_count": 48,
   "id": "fea1fb2a-fa18-4b5c-a1d8-36ab0ce4505e",
   "metadata": {},
   "outputs": [
    {
     "name": "stdout",
     "output_type": "stream",
     "text": [
      "Completed 5 of 5.\r"
     ]
    }
   ],
   "source": [
    "# Initiate a blank list containing the base seach result page\n",
    "search_result_pages = [query_url]\n",
    "\n",
    "# Gather the number of search result pages\n",
    "for a in soup.find_all(\"a\", {\"class\":\"button--outlined-little-round type--rabbit-bold\"}):\n",
    "    result_page = a.get(\"href\")\n",
    "\n",
    "    # Replace whitespace with encoding\n",
    "    result_page = re.sub(\" \", \"%20\",result_page)\n",
    "    \n",
    "    # Append processed search result pages\n",
    "    search_result_pages.append(result_page)\n",
    "\n",
    "# Initiate blank list to store URLs\n",
    "recipe_url_list = []\n",
    "\n",
    "# For each search result page, extract and append recipe urls\n",
    "for index, result_page in enumerate(search_result_pages):\n",
    "    \n",
    "    # Define default options for Selenium webdriver\n",
    "    chrome_options = webdriver.ChromeOptions()\n",
    "    \n",
    "    # Define command_executor, access this through localhost:4444\n",
    "    command_executor = \"http://172.21.0.2:4444\"\n",
    "\n",
    "    # Initiate webdriver, with command executor found within the Selenium Grid docker container\n",
    "    driver = webdriver.Remote(\n",
    "        command_executor = command_executor,\n",
    "        options          = chrome_options\n",
    "    )\n",
    "\n",
    "    # Use the driver to scrape the url\n",
    "    driver.get(result_page)\n",
    "\n",
    "    # Extract the text of the response into a variable\n",
    "    html = driver.page_source\n",
    "    \n",
    "    # Parse the response text using Beautiful Soup\n",
    "    soup = BeautifulSoup(html, 'html.parser')\n",
    "    \n",
    "    # Exit the driver\n",
    "    driver.quit()\n",
    "\n",
    "    # Extract and print URLs identified using class found through element inspector\n",
    "    for a in soup.find_all(\"a\", {\"class\":\"comp mntl-card-list-items mntl-document-card mntl-card card card--no-image\"}):\n",
    "        recipe_url = a.get(\"href\")\n",
    "        recipe_url_list.append(recipe_url)\n",
    "\n",
    "    time.sleep(5)\n",
    "    print(f\"Completed {index + 1} of {len(search_result_pages)}.\", end = \"\\r\")"
   ]
  },
  {
   "cell_type": "markdown",
   "id": "28467599-8ce2-4305-a083-1f8484da57dc",
   "metadata": {},
   "source": [
    "Examine the results:"
   ]
  },
  {
   "cell_type": "code",
   "execution_count": 49,
   "id": "5a5b610b-7785-4e98-be63-8086336daead",
   "metadata": {},
   "outputs": [
    {
     "data": {
      "text/plain": [
       "120"
      ]
     },
     "execution_count": 49,
     "metadata": {},
     "output_type": "execute_result"
    }
   ],
   "source": [
    "len(recipe_url_list)"
   ]
  },
  {
   "cell_type": "code",
   "execution_count": 50,
   "id": "e4c30178-236f-4269-bf87-f4ee8bcb2ee3",
   "metadata": {},
   "outputs": [
    {
     "data": {
      "text/plain": [
       "['https://www.allrecipes.com/recipe/8805/crispy-fried-chicken/',\n",
       " 'https://www.allrecipes.com/recipe/8841/oven-fried-chicken-ii/',\n",
       " 'https://www.allrecipes.com/recipe/89268/triple-dipped-fried-chicken/',\n",
       " 'https://www.allrecipes.com/recipe/220128/chef-johns-buttermilk-fried-chicken/',\n",
       " 'https://www.allrecipes.com/recipe/150306/the-best-chicken-fried-steak/']"
      ]
     },
     "execution_count": 50,
     "metadata": {},
     "output_type": "execute_result"
    }
   ],
   "source": [
    "recipe_url_list[0:5]"
   ]
  },
  {
   "cell_type": "code",
   "execution_count": 52,
   "id": "645e0fc7-1e7a-4b10-b9d1-20327831f1a7",
   "metadata": {},
   "outputs": [],
   "source": [
    "# Save the scraped data\n",
    "dict = {\"recipe_url\":recipe_url_list}\n",
    "df = pd.DataFrame(dict)\n",
    "df.to_csv(f\"../11_raw_data/{time.strftime('%Y%m%d-%H%M')}_scraped_recipe_url.csv\")"
   ]
  },
  {
   "cell_type": "markdown",
   "id": "82dc7515-e7ec-4801-9702-fe569e56920e",
   "metadata": {},
   "source": [
    "# Part 2: Extract Material Data from Each URL"
   ]
  },
  {
   "cell_type": "markdown",
   "id": "3a6fc9c6-3038-4e43-8a56-a2803f536da0",
   "metadata": {},
   "source": [
    "Sample extracting information from 1 URL first."
   ]
  },
  {
   "cell_type": "code",
   "execution_count": 56,
   "id": "08fb48d2-1adb-48ee-82d8-496f8fd0fdf7",
   "metadata": {},
   "outputs": [],
   "source": [
    "# Define sample URL\n",
    "sample_url = df.loc[0,\"recipe_url\"]"
   ]
  },
  {
   "cell_type": "code",
   "execution_count": 61,
   "id": "6f232134-1a1e-42df-818e-4c6b9c5f9ebf",
   "metadata": {},
   "outputs": [
    {
     "data": {
      "text/plain": [
       "'https://www.allrecipes.com/recipe/8805/crispy-fried-chicken/'"
      ]
     },
     "execution_count": 61,
     "metadata": {},
     "output_type": "execute_result"
    }
   ],
   "source": [
    "sample_url"
   ]
  },
  {
   "cell_type": "code",
   "execution_count": 62,
   "id": "fa521714-a579-46f9-86fa-76e6c389fbbe",
   "metadata": {
    "scrolled": true
   },
   "outputs": [
    {
     "ename": "KeyboardInterrupt",
     "evalue": "",
     "output_type": "error",
     "traceback": [
      "\u001b[0;31m---------------------------------------------------------------------------\u001b[0m",
      "\u001b[0;31mKeyboardInterrupt\u001b[0m                         Traceback (most recent call last)",
      "Cell \u001b[0;32mIn[62], line 8\u001b[0m\n\u001b[1;32m      5\u001b[0m command_executor \u001b[38;5;241m=\u001b[39m \u001b[38;5;124m\"\u001b[39m\u001b[38;5;124mhttp://172.21.0.2:4444\u001b[39m\u001b[38;5;124m\"\u001b[39m\n\u001b[1;32m      7\u001b[0m \u001b[38;5;66;03m# Initiate webdriver, with command executor found within the Selenium Grid docker container\u001b[39;00m\n\u001b[0;32m----> 8\u001b[0m driver \u001b[38;5;241m=\u001b[39m \u001b[43mwebdriver\u001b[49m\u001b[38;5;241;43m.\u001b[39;49m\u001b[43mRemote\u001b[49m\u001b[43m(\u001b[49m\n\u001b[1;32m      9\u001b[0m \u001b[43m    \u001b[49m\u001b[43mcommand_executor\u001b[49m\u001b[43m \u001b[49m\u001b[38;5;241;43m=\u001b[39;49m\u001b[43m \u001b[49m\u001b[43mcommand_executor\u001b[49m\u001b[43m,\u001b[49m\n\u001b[1;32m     10\u001b[0m \u001b[43m    \u001b[49m\u001b[43moptions\u001b[49m\u001b[43m          \u001b[49m\u001b[38;5;241;43m=\u001b[39;49m\u001b[43m \u001b[49m\u001b[43mchrome_options\u001b[49m\n\u001b[1;32m     11\u001b[0m \u001b[43m)\u001b[49m\n\u001b[1;32m     13\u001b[0m \u001b[38;5;66;03m# Use the driver to scrape the url\u001b[39;00m\n\u001b[1;32m     14\u001b[0m driver\u001b[38;5;241m.\u001b[39mget(sample_url)\n",
      "File \u001b[0;32m/opt/conda/lib/python3.11/site-packages/selenium/webdriver/remote/webdriver.py:205\u001b[0m, in \u001b[0;36mWebDriver.__init__\u001b[0;34m(self, command_executor, keep_alive, file_detector, options)\u001b[0m\n\u001b[1;32m    203\u001b[0m \u001b[38;5;28mself\u001b[39m\u001b[38;5;241m.\u001b[39m_authenticator_id \u001b[38;5;241m=\u001b[39m \u001b[38;5;28;01mNone\u001b[39;00m\n\u001b[1;32m    204\u001b[0m \u001b[38;5;28mself\u001b[39m\u001b[38;5;241m.\u001b[39mstart_client()\n\u001b[0;32m--> 205\u001b[0m \u001b[38;5;28;43mself\u001b[39;49m\u001b[38;5;241;43m.\u001b[39;49m\u001b[43mstart_session\u001b[49m\u001b[43m(\u001b[49m\u001b[43mcapabilities\u001b[49m\u001b[43m)\u001b[49m\n",
      "File \u001b[0;32m/opt/conda/lib/python3.11/site-packages/selenium/webdriver/remote/webdriver.py:289\u001b[0m, in \u001b[0;36mWebDriver.start_session\u001b[0;34m(self, capabilities)\u001b[0m\n\u001b[1;32m    282\u001b[0m \u001b[38;5;250m\u001b[39m\u001b[38;5;124;03m\"\"\"Creates a new session with the desired capabilities.\u001b[39;00m\n\u001b[1;32m    283\u001b[0m \n\u001b[1;32m    284\u001b[0m \u001b[38;5;124;03m:Args:\u001b[39;00m\n\u001b[1;32m    285\u001b[0m \u001b[38;5;124;03m - capabilities - a capabilities dict to start the session with.\u001b[39;00m\n\u001b[1;32m    286\u001b[0m \u001b[38;5;124;03m\"\"\"\u001b[39;00m\n\u001b[1;32m    288\u001b[0m caps \u001b[38;5;241m=\u001b[39m _create_caps(capabilities)\n\u001b[0;32m--> 289\u001b[0m response \u001b[38;5;241m=\u001b[39m \u001b[38;5;28;43mself\u001b[39;49m\u001b[38;5;241;43m.\u001b[39;49m\u001b[43mexecute\u001b[49m\u001b[43m(\u001b[49m\u001b[43mCommand\u001b[49m\u001b[38;5;241;43m.\u001b[39;49m\u001b[43mNEW_SESSION\u001b[49m\u001b[43m,\u001b[49m\u001b[43m \u001b[49m\u001b[43mcaps\u001b[49m\u001b[43m)\u001b[49m[\u001b[38;5;124m\"\u001b[39m\u001b[38;5;124mvalue\u001b[39m\u001b[38;5;124m\"\u001b[39m]\n\u001b[1;32m    290\u001b[0m \u001b[38;5;28mself\u001b[39m\u001b[38;5;241m.\u001b[39msession_id \u001b[38;5;241m=\u001b[39m response\u001b[38;5;241m.\u001b[39mget(\u001b[38;5;124m\"\u001b[39m\u001b[38;5;124msessionId\u001b[39m\u001b[38;5;124m\"\u001b[39m)\n\u001b[1;32m    291\u001b[0m \u001b[38;5;28mself\u001b[39m\u001b[38;5;241m.\u001b[39mcaps \u001b[38;5;241m=\u001b[39m response\u001b[38;5;241m.\u001b[39mget(\u001b[38;5;124m\"\u001b[39m\u001b[38;5;124mcapabilities\u001b[39m\u001b[38;5;124m\"\u001b[39m)\n",
      "File \u001b[0;32m/opt/conda/lib/python3.11/site-packages/selenium/webdriver/remote/webdriver.py:342\u001b[0m, in \u001b[0;36mWebDriver.execute\u001b[0;34m(self, driver_command, params)\u001b[0m\n\u001b[1;32m    339\u001b[0m     \u001b[38;5;28;01melif\u001b[39;00m \u001b[38;5;124m\"\u001b[39m\u001b[38;5;124msessionId\u001b[39m\u001b[38;5;124m\"\u001b[39m \u001b[38;5;129;01mnot\u001b[39;00m \u001b[38;5;129;01min\u001b[39;00m params:\n\u001b[1;32m    340\u001b[0m         params[\u001b[38;5;124m\"\u001b[39m\u001b[38;5;124msessionId\u001b[39m\u001b[38;5;124m\"\u001b[39m] \u001b[38;5;241m=\u001b[39m \u001b[38;5;28mself\u001b[39m\u001b[38;5;241m.\u001b[39msession_id\n\u001b[0;32m--> 342\u001b[0m response \u001b[38;5;241m=\u001b[39m \u001b[38;5;28;43mself\u001b[39;49m\u001b[38;5;241;43m.\u001b[39;49m\u001b[43mcommand_executor\u001b[49m\u001b[38;5;241;43m.\u001b[39;49m\u001b[43mexecute\u001b[49m\u001b[43m(\u001b[49m\u001b[43mdriver_command\u001b[49m\u001b[43m,\u001b[49m\u001b[43m \u001b[49m\u001b[43mparams\u001b[49m\u001b[43m)\u001b[49m\n\u001b[1;32m    343\u001b[0m \u001b[38;5;28;01mif\u001b[39;00m response:\n\u001b[1;32m    344\u001b[0m     \u001b[38;5;28mself\u001b[39m\u001b[38;5;241m.\u001b[39merror_handler\u001b[38;5;241m.\u001b[39mcheck_response(response)\n",
      "File \u001b[0;32m/opt/conda/lib/python3.11/site-packages/selenium/webdriver/remote/remote_connection.py:297\u001b[0m, in \u001b[0;36mRemoteConnection.execute\u001b[0;34m(self, command, params)\u001b[0m\n\u001b[1;32m    295\u001b[0m data \u001b[38;5;241m=\u001b[39m utils\u001b[38;5;241m.\u001b[39mdump_json(params)\n\u001b[1;32m    296\u001b[0m url \u001b[38;5;241m=\u001b[39m \u001b[38;5;124mf\u001b[39m\u001b[38;5;124m\"\u001b[39m\u001b[38;5;132;01m{\u001b[39;00m\u001b[38;5;28mself\u001b[39m\u001b[38;5;241m.\u001b[39m_url\u001b[38;5;132;01m}\u001b[39;00m\u001b[38;5;132;01m{\u001b[39;00mpath\u001b[38;5;132;01m}\u001b[39;00m\u001b[38;5;124m\"\u001b[39m\n\u001b[0;32m--> 297\u001b[0m \u001b[38;5;28;01mreturn\u001b[39;00m \u001b[38;5;28;43mself\u001b[39;49m\u001b[38;5;241;43m.\u001b[39;49m\u001b[43m_request\u001b[49m\u001b[43m(\u001b[49m\u001b[43mcommand_info\u001b[49m\u001b[43m[\u001b[49m\u001b[38;5;241;43m0\u001b[39;49m\u001b[43m]\u001b[49m\u001b[43m,\u001b[49m\u001b[43m \u001b[49m\u001b[43murl\u001b[49m\u001b[43m,\u001b[49m\u001b[43m \u001b[49m\u001b[43mbody\u001b[49m\u001b[38;5;241;43m=\u001b[39;49m\u001b[43mdata\u001b[49m\u001b[43m)\u001b[49m\n",
      "File \u001b[0;32m/opt/conda/lib/python3.11/site-packages/selenium/webdriver/remote/remote_connection.py:318\u001b[0m, in \u001b[0;36mRemoteConnection._request\u001b[0;34m(self, method, url, body)\u001b[0m\n\u001b[1;32m    315\u001b[0m     body \u001b[38;5;241m=\u001b[39m \u001b[38;5;28;01mNone\u001b[39;00m\n\u001b[1;32m    317\u001b[0m \u001b[38;5;28;01mif\u001b[39;00m \u001b[38;5;28mself\u001b[39m\u001b[38;5;241m.\u001b[39mkeep_alive:\n\u001b[0;32m--> 318\u001b[0m     response \u001b[38;5;241m=\u001b[39m \u001b[38;5;28;43mself\u001b[39;49m\u001b[38;5;241;43m.\u001b[39;49m\u001b[43m_conn\u001b[49m\u001b[38;5;241;43m.\u001b[39;49m\u001b[43mrequest\u001b[49m\u001b[43m(\u001b[49m\u001b[43mmethod\u001b[49m\u001b[43m,\u001b[49m\u001b[43m \u001b[49m\u001b[43murl\u001b[49m\u001b[43m,\u001b[49m\u001b[43m \u001b[49m\u001b[43mbody\u001b[49m\u001b[38;5;241;43m=\u001b[39;49m\u001b[43mbody\u001b[49m\u001b[43m,\u001b[49m\u001b[43m \u001b[49m\u001b[43mheaders\u001b[49m\u001b[38;5;241;43m=\u001b[39;49m\u001b[43mheaders\u001b[49m\u001b[43m)\u001b[49m\n\u001b[1;32m    319\u001b[0m     statuscode \u001b[38;5;241m=\u001b[39m response\u001b[38;5;241m.\u001b[39mstatus\n\u001b[1;32m    320\u001b[0m \u001b[38;5;28;01melse\u001b[39;00m:\n",
      "File \u001b[0;32m/opt/conda/lib/python3.11/site-packages/urllib3/request.py:81\u001b[0m, in \u001b[0;36mRequestMethods.request\u001b[0;34m(self, method, url, fields, headers, **urlopen_kw)\u001b[0m\n\u001b[1;32m     77\u001b[0m     \u001b[38;5;28;01mreturn\u001b[39;00m \u001b[38;5;28mself\u001b[39m\u001b[38;5;241m.\u001b[39mrequest_encode_url(\n\u001b[1;32m     78\u001b[0m         method, url, fields\u001b[38;5;241m=\u001b[39mfields, headers\u001b[38;5;241m=\u001b[39mheaders, \u001b[38;5;241m*\u001b[39m\u001b[38;5;241m*\u001b[39murlopen_kw\n\u001b[1;32m     79\u001b[0m     )\n\u001b[1;32m     80\u001b[0m \u001b[38;5;28;01melse\u001b[39;00m:\n\u001b[0;32m---> 81\u001b[0m     \u001b[38;5;28;01mreturn\u001b[39;00m \u001b[38;5;28;43mself\u001b[39;49m\u001b[38;5;241;43m.\u001b[39;49m\u001b[43mrequest_encode_body\u001b[49m\u001b[43m(\u001b[49m\n\u001b[1;32m     82\u001b[0m \u001b[43m        \u001b[49m\u001b[43mmethod\u001b[49m\u001b[43m,\u001b[49m\u001b[43m \u001b[49m\u001b[43murl\u001b[49m\u001b[43m,\u001b[49m\u001b[43m \u001b[49m\u001b[43mfields\u001b[49m\u001b[38;5;241;43m=\u001b[39;49m\u001b[43mfields\u001b[49m\u001b[43m,\u001b[49m\u001b[43m \u001b[49m\u001b[43mheaders\u001b[49m\u001b[38;5;241;43m=\u001b[39;49m\u001b[43mheaders\u001b[49m\u001b[43m,\u001b[49m\u001b[43m \u001b[49m\u001b[38;5;241;43m*\u001b[39;49m\u001b[38;5;241;43m*\u001b[39;49m\u001b[43murlopen_kw\u001b[49m\n\u001b[1;32m     83\u001b[0m \u001b[43m    \u001b[49m\u001b[43m)\u001b[49m\n",
      "File \u001b[0;32m/opt/conda/lib/python3.11/site-packages/urllib3/request.py:173\u001b[0m, in \u001b[0;36mRequestMethods.request_encode_body\u001b[0;34m(self, method, url, fields, headers, encode_multipart, multipart_boundary, **urlopen_kw)\u001b[0m\n\u001b[1;32m    170\u001b[0m extra_kw[\u001b[38;5;124m\"\u001b[39m\u001b[38;5;124mheaders\u001b[39m\u001b[38;5;124m\"\u001b[39m]\u001b[38;5;241m.\u001b[39mupdate(headers)\n\u001b[1;32m    171\u001b[0m extra_kw\u001b[38;5;241m.\u001b[39mupdate(urlopen_kw)\n\u001b[0;32m--> 173\u001b[0m \u001b[38;5;28;01mreturn\u001b[39;00m \u001b[38;5;28;43mself\u001b[39;49m\u001b[38;5;241;43m.\u001b[39;49m\u001b[43murlopen\u001b[49m\u001b[43m(\u001b[49m\u001b[43mmethod\u001b[49m\u001b[43m,\u001b[49m\u001b[43m \u001b[49m\u001b[43murl\u001b[49m\u001b[43m,\u001b[49m\u001b[43m \u001b[49m\u001b[38;5;241;43m*\u001b[39;49m\u001b[38;5;241;43m*\u001b[39;49m\u001b[43mextra_kw\u001b[49m\u001b[43m)\u001b[49m\n",
      "File \u001b[0;32m/opt/conda/lib/python3.11/site-packages/urllib3/poolmanager.py:376\u001b[0m, in \u001b[0;36mPoolManager.urlopen\u001b[0;34m(self, method, url, redirect, **kw)\u001b[0m\n\u001b[1;32m    374\u001b[0m     response \u001b[38;5;241m=\u001b[39m conn\u001b[38;5;241m.\u001b[39murlopen(method, url, \u001b[38;5;241m*\u001b[39m\u001b[38;5;241m*\u001b[39mkw)\n\u001b[1;32m    375\u001b[0m \u001b[38;5;28;01melse\u001b[39;00m:\n\u001b[0;32m--> 376\u001b[0m     response \u001b[38;5;241m=\u001b[39m \u001b[43mconn\u001b[49m\u001b[38;5;241;43m.\u001b[39;49m\u001b[43murlopen\u001b[49m\u001b[43m(\u001b[49m\u001b[43mmethod\u001b[49m\u001b[43m,\u001b[49m\u001b[43m \u001b[49m\u001b[43mu\u001b[49m\u001b[38;5;241;43m.\u001b[39;49m\u001b[43mrequest_uri\u001b[49m\u001b[43m,\u001b[49m\u001b[43m \u001b[49m\u001b[38;5;241;43m*\u001b[39;49m\u001b[38;5;241;43m*\u001b[39;49m\u001b[43mkw\u001b[49m\u001b[43m)\u001b[49m\n\u001b[1;32m    378\u001b[0m redirect_location \u001b[38;5;241m=\u001b[39m redirect \u001b[38;5;129;01mand\u001b[39;00m response\u001b[38;5;241m.\u001b[39mget_redirect_location()\n\u001b[1;32m    379\u001b[0m \u001b[38;5;28;01mif\u001b[39;00m \u001b[38;5;129;01mnot\u001b[39;00m redirect_location:\n",
      "File \u001b[0;32m/opt/conda/lib/python3.11/site-packages/urllib3/connectionpool.py:715\u001b[0m, in \u001b[0;36mHTTPConnectionPool.urlopen\u001b[0;34m(self, method, url, body, headers, retries, redirect, assert_same_host, timeout, pool_timeout, release_conn, chunked, body_pos, **response_kw)\u001b[0m\n\u001b[1;32m    712\u001b[0m     \u001b[38;5;28mself\u001b[39m\u001b[38;5;241m.\u001b[39m_prepare_proxy(conn)\n\u001b[1;32m    714\u001b[0m \u001b[38;5;66;03m# Make the request on the httplib connection object.\u001b[39;00m\n\u001b[0;32m--> 715\u001b[0m httplib_response \u001b[38;5;241m=\u001b[39m \u001b[38;5;28;43mself\u001b[39;49m\u001b[38;5;241;43m.\u001b[39;49m\u001b[43m_make_request\u001b[49m\u001b[43m(\u001b[49m\n\u001b[1;32m    716\u001b[0m \u001b[43m    \u001b[49m\u001b[43mconn\u001b[49m\u001b[43m,\u001b[49m\n\u001b[1;32m    717\u001b[0m \u001b[43m    \u001b[49m\u001b[43mmethod\u001b[49m\u001b[43m,\u001b[49m\n\u001b[1;32m    718\u001b[0m \u001b[43m    \u001b[49m\u001b[43murl\u001b[49m\u001b[43m,\u001b[49m\n\u001b[1;32m    719\u001b[0m \u001b[43m    \u001b[49m\u001b[43mtimeout\u001b[49m\u001b[38;5;241;43m=\u001b[39;49m\u001b[43mtimeout_obj\u001b[49m\u001b[43m,\u001b[49m\n\u001b[1;32m    720\u001b[0m \u001b[43m    \u001b[49m\u001b[43mbody\u001b[49m\u001b[38;5;241;43m=\u001b[39;49m\u001b[43mbody\u001b[49m\u001b[43m,\u001b[49m\n\u001b[1;32m    721\u001b[0m \u001b[43m    \u001b[49m\u001b[43mheaders\u001b[49m\u001b[38;5;241;43m=\u001b[39;49m\u001b[43mheaders\u001b[49m\u001b[43m,\u001b[49m\n\u001b[1;32m    722\u001b[0m \u001b[43m    \u001b[49m\u001b[43mchunked\u001b[49m\u001b[38;5;241;43m=\u001b[39;49m\u001b[43mchunked\u001b[49m\u001b[43m,\u001b[49m\n\u001b[1;32m    723\u001b[0m \u001b[43m\u001b[49m\u001b[43m)\u001b[49m\n\u001b[1;32m    725\u001b[0m \u001b[38;5;66;03m# If we're going to release the connection in ``finally:``, then\u001b[39;00m\n\u001b[1;32m    726\u001b[0m \u001b[38;5;66;03m# the response doesn't need to know about the connection. Otherwise\u001b[39;00m\n\u001b[1;32m    727\u001b[0m \u001b[38;5;66;03m# it will also try to release it and we'll have a double-release\u001b[39;00m\n\u001b[1;32m    728\u001b[0m \u001b[38;5;66;03m# mess.\u001b[39;00m\n\u001b[1;32m    729\u001b[0m response_conn \u001b[38;5;241m=\u001b[39m conn \u001b[38;5;28;01mif\u001b[39;00m \u001b[38;5;129;01mnot\u001b[39;00m release_conn \u001b[38;5;28;01melse\u001b[39;00m \u001b[38;5;28;01mNone\u001b[39;00m\n",
      "File \u001b[0;32m/opt/conda/lib/python3.11/site-packages/urllib3/connectionpool.py:467\u001b[0m, in \u001b[0;36mHTTPConnectionPool._make_request\u001b[0;34m(self, conn, method, url, timeout, chunked, **httplib_request_kw)\u001b[0m\n\u001b[1;32m    462\u001b[0m             httplib_response \u001b[38;5;241m=\u001b[39m conn\u001b[38;5;241m.\u001b[39mgetresponse()\n\u001b[1;32m    463\u001b[0m         \u001b[38;5;28;01mexcept\u001b[39;00m \u001b[38;5;167;01mBaseException\u001b[39;00m \u001b[38;5;28;01mas\u001b[39;00m e:\n\u001b[1;32m    464\u001b[0m             \u001b[38;5;66;03m# Remove the TypeError from the exception chain in\u001b[39;00m\n\u001b[1;32m    465\u001b[0m             \u001b[38;5;66;03m# Python 3 (including for exceptions like SystemExit).\u001b[39;00m\n\u001b[1;32m    466\u001b[0m             \u001b[38;5;66;03m# Otherwise it looks like a bug in the code.\u001b[39;00m\n\u001b[0;32m--> 467\u001b[0m             \u001b[43msix\u001b[49m\u001b[38;5;241;43m.\u001b[39;49m\u001b[43mraise_from\u001b[49m\u001b[43m(\u001b[49m\u001b[43me\u001b[49m\u001b[43m,\u001b[49m\u001b[43m \u001b[49m\u001b[38;5;28;43;01mNone\u001b[39;49;00m\u001b[43m)\u001b[49m\n\u001b[1;32m    468\u001b[0m \u001b[38;5;28;01mexcept\u001b[39;00m (SocketTimeout, BaseSSLError, SocketError) \u001b[38;5;28;01mas\u001b[39;00m e:\n\u001b[1;32m    469\u001b[0m     \u001b[38;5;28mself\u001b[39m\u001b[38;5;241m.\u001b[39m_raise_timeout(err\u001b[38;5;241m=\u001b[39me, url\u001b[38;5;241m=\u001b[39murl, timeout_value\u001b[38;5;241m=\u001b[39mread_timeout)\n",
      "File \u001b[0;32m<string>:3\u001b[0m, in \u001b[0;36mraise_from\u001b[0;34m(value, from_value)\u001b[0m\n",
      "File \u001b[0;32m/opt/conda/lib/python3.11/site-packages/urllib3/connectionpool.py:462\u001b[0m, in \u001b[0;36mHTTPConnectionPool._make_request\u001b[0;34m(self, conn, method, url, timeout, chunked, **httplib_request_kw)\u001b[0m\n\u001b[1;32m    459\u001b[0m \u001b[38;5;28;01mexcept\u001b[39;00m \u001b[38;5;167;01mTypeError\u001b[39;00m:\n\u001b[1;32m    460\u001b[0m     \u001b[38;5;66;03m# Python 3\u001b[39;00m\n\u001b[1;32m    461\u001b[0m     \u001b[38;5;28;01mtry\u001b[39;00m:\n\u001b[0;32m--> 462\u001b[0m         httplib_response \u001b[38;5;241m=\u001b[39m \u001b[43mconn\u001b[49m\u001b[38;5;241;43m.\u001b[39;49m\u001b[43mgetresponse\u001b[49m\u001b[43m(\u001b[49m\u001b[43m)\u001b[49m\n\u001b[1;32m    463\u001b[0m     \u001b[38;5;28;01mexcept\u001b[39;00m \u001b[38;5;167;01mBaseException\u001b[39;00m \u001b[38;5;28;01mas\u001b[39;00m e:\n\u001b[1;32m    464\u001b[0m         \u001b[38;5;66;03m# Remove the TypeError from the exception chain in\u001b[39;00m\n\u001b[1;32m    465\u001b[0m         \u001b[38;5;66;03m# Python 3 (including for exceptions like SystemExit).\u001b[39;00m\n\u001b[1;32m    466\u001b[0m         \u001b[38;5;66;03m# Otherwise it looks like a bug in the code.\u001b[39;00m\n\u001b[1;32m    467\u001b[0m         six\u001b[38;5;241m.\u001b[39mraise_from(e, \u001b[38;5;28;01mNone\u001b[39;00m)\n",
      "File \u001b[0;32m/opt/conda/lib/python3.11/http/client.py:1378\u001b[0m, in \u001b[0;36mHTTPConnection.getresponse\u001b[0;34m(self)\u001b[0m\n\u001b[1;32m   1376\u001b[0m \u001b[38;5;28;01mtry\u001b[39;00m:\n\u001b[1;32m   1377\u001b[0m     \u001b[38;5;28;01mtry\u001b[39;00m:\n\u001b[0;32m-> 1378\u001b[0m         \u001b[43mresponse\u001b[49m\u001b[38;5;241;43m.\u001b[39;49m\u001b[43mbegin\u001b[49m\u001b[43m(\u001b[49m\u001b[43m)\u001b[49m\n\u001b[1;32m   1379\u001b[0m     \u001b[38;5;28;01mexcept\u001b[39;00m \u001b[38;5;167;01mConnectionError\u001b[39;00m:\n\u001b[1;32m   1380\u001b[0m         \u001b[38;5;28mself\u001b[39m\u001b[38;5;241m.\u001b[39mclose()\n",
      "File \u001b[0;32m/opt/conda/lib/python3.11/http/client.py:318\u001b[0m, in \u001b[0;36mHTTPResponse.begin\u001b[0;34m(self)\u001b[0m\n\u001b[1;32m    316\u001b[0m \u001b[38;5;66;03m# read until we get a non-100 response\u001b[39;00m\n\u001b[1;32m    317\u001b[0m \u001b[38;5;28;01mwhile\u001b[39;00m \u001b[38;5;28;01mTrue\u001b[39;00m:\n\u001b[0;32m--> 318\u001b[0m     version, status, reason \u001b[38;5;241m=\u001b[39m \u001b[38;5;28;43mself\u001b[39;49m\u001b[38;5;241;43m.\u001b[39;49m\u001b[43m_read_status\u001b[49m\u001b[43m(\u001b[49m\u001b[43m)\u001b[49m\n\u001b[1;32m    319\u001b[0m     \u001b[38;5;28;01mif\u001b[39;00m status \u001b[38;5;241m!=\u001b[39m CONTINUE:\n\u001b[1;32m    320\u001b[0m         \u001b[38;5;28;01mbreak\u001b[39;00m\n",
      "File \u001b[0;32m/opt/conda/lib/python3.11/http/client.py:279\u001b[0m, in \u001b[0;36mHTTPResponse._read_status\u001b[0;34m(self)\u001b[0m\n\u001b[1;32m    278\u001b[0m \u001b[38;5;28;01mdef\u001b[39;00m \u001b[38;5;21m_read_status\u001b[39m(\u001b[38;5;28mself\u001b[39m):\n\u001b[0;32m--> 279\u001b[0m     line \u001b[38;5;241m=\u001b[39m \u001b[38;5;28mstr\u001b[39m(\u001b[38;5;28mself\u001b[39m\u001b[38;5;241m.\u001b[39mfp\u001b[38;5;241m.\u001b[39mreadline(_MAXLINE \u001b[38;5;241m+\u001b[39m \u001b[38;5;241m1\u001b[39m), \u001b[38;5;124m\"\u001b[39m\u001b[38;5;124miso-8859-1\u001b[39m\u001b[38;5;124m\"\u001b[39m)\n\u001b[1;32m    280\u001b[0m     \u001b[38;5;28;01mif\u001b[39;00m \u001b[38;5;28mlen\u001b[39m(line) \u001b[38;5;241m>\u001b[39m _MAXLINE:\n\u001b[1;32m    281\u001b[0m         \u001b[38;5;28;01mraise\u001b[39;00m LineTooLong(\u001b[38;5;124m\"\u001b[39m\u001b[38;5;124mstatus line\u001b[39m\u001b[38;5;124m\"\u001b[39m)\n",
      "File \u001b[0;32m/opt/conda/lib/python3.11/socket.py:706\u001b[0m, in \u001b[0;36mSocketIO.readinto\u001b[0;34m(self, b)\u001b[0m\n\u001b[1;32m    704\u001b[0m \u001b[38;5;28;01mwhile\u001b[39;00m \u001b[38;5;28;01mTrue\u001b[39;00m:\n\u001b[1;32m    705\u001b[0m     \u001b[38;5;28;01mtry\u001b[39;00m:\n\u001b[0;32m--> 706\u001b[0m         \u001b[38;5;28;01mreturn\u001b[39;00m \u001b[38;5;28;43mself\u001b[39;49m\u001b[38;5;241;43m.\u001b[39;49m\u001b[43m_sock\u001b[49m\u001b[38;5;241;43m.\u001b[39;49m\u001b[43mrecv_into\u001b[49m\u001b[43m(\u001b[49m\u001b[43mb\u001b[49m\u001b[43m)\u001b[49m\n\u001b[1;32m    707\u001b[0m     \u001b[38;5;28;01mexcept\u001b[39;00m timeout:\n\u001b[1;32m    708\u001b[0m         \u001b[38;5;28mself\u001b[39m\u001b[38;5;241m.\u001b[39m_timeout_occurred \u001b[38;5;241m=\u001b[39m \u001b[38;5;28;01mTrue\u001b[39;00m\n",
      "\u001b[0;31mKeyboardInterrupt\u001b[0m: "
     ]
    }
   ],
   "source": [
    "# Define default options for Selenium webdriver\n",
    "chrome_options = webdriver.ChromeOptions()\n",
    "\n",
    "# Define command_executor, access this through localhost:4444\n",
    "command_executor = \"http://172.21.0.2:4444\"\n",
    "\n",
    "# Initiate webdriver, with command executor found within the Selenium Grid docker container\n",
    "driver = webdriver.Remote(\n",
    "    command_executor = command_executor,\n",
    "    options          = chrome_options\n",
    ")\n",
    "\n",
    "# Use the driver to scrape the url\n",
    "driver.get(sample_url)\n",
    "\n",
    "# Extract the text of the response into a variable\n",
    "html = driver.page_source\n",
    "\n",
    "# Parse the response text using Beautiful Soup\n",
    "soup = BeautifulSoup(html, 'html.parser')\n",
    "\n",
    "# Exit the driver\n",
    "driver.quit()"
   ]
  },
  {
   "cell_type": "code",
   "execution_count": 60,
   "id": "05473ed5-6328-4715-9566-32316979afe3",
   "metadata": {},
   "outputs": [],
   "source": [
    "driver.quit()"
   ]
  },
  {
   "cell_type": "code",
   "execution_count": null,
   "id": "294b6902-a66a-417e-bece-2c996d37e4de",
   "metadata": {},
   "outputs": [],
   "source": []
  },
  {
   "cell_type": "code",
   "execution_count": null,
   "id": "5f8a1b81-3494-4641-a766-aebcaaad3506",
   "metadata": {},
   "outputs": [],
   "source": []
  },
  {
   "cell_type": "code",
   "execution_count": null,
   "id": "9d205253-845b-41c4-ba44-27b6f9a112a9",
   "metadata": {},
   "outputs": [],
   "source": []
  },
  {
   "cell_type": "code",
   "execution_count": null,
   "id": "7dec85e1-065c-43b9-b09a-b902b6aac7c7",
   "metadata": {},
   "outputs": [],
   "source": []
  },
  {
   "cell_type": "code",
   "execution_count": null,
   "id": "a72612bf-8f06-4162-b551-3d90ed52fa3a",
   "metadata": {},
   "outputs": [],
   "source": []
  },
  {
   "cell_type": "code",
   "execution_count": null,
   "id": "27f30490-f064-4023-975a-00cbd52883c6",
   "metadata": {},
   "outputs": [],
   "source": []
  },
  {
   "cell_type": "code",
   "execution_count": 23,
   "id": "4d949b6a-84e3-4364-adef-2d9c2c0456fa",
   "metadata": {},
   "outputs": [],
   "source": [
    "# Initiate a blank dictionary to store values\n",
    "temp_dict = dict()\n",
    "\n",
    "# column 00: url, the url of the recipe\n",
    "try:\n",
    "    temp_dict.update({\"recipe_url\": url})\n",
    "except:\n",
    "    temp_dict.update({\"recipe_url\": np.NaN})\n",
    "\n",
    "# column 01: title, the title of the recipe\n",
    "try:\n",
    "    temp_dict.update({\"title\":\n",
    "                      soup.find(\"h1\", {\"id\": re.compile(\"^article-heading_*\")}).get_text().strip(' \\t\\n\\r')\n",
    "                     })\n",
    "except:\n",
    "    temp_dict.update({\"title\": np.NaN})\n",
    "    \n",
    "# column 02: image, any image urls found within the recipes\n",
    "try:\n",
    "    t_main_img = [img.get(\"src\") for img in soup.find(\"div\", {\"class\": \"loc article-content\"}).find_all(\"img\") if img.get(\"src\") != \"\"]\n",
    "    t_sub_img = [img.get(\"data-src\") for img in soup.find(\"div\", {\"class\": \"loc article-content\"}).find_all(\"img\") if img.get(\"data-src\") != None]\n",
    "    t_img = list((set(t_main_img+t_sub_img)))\n",
    "    temp_dict.update({\"image\":t_img})\n",
    "except:\n",
    "    temp_dict.update({\"image\": np.NaN})\n",
    "\n",
    "# column 03: rating_average, the target feature\n",
    "try:\n",
    "    temp_dict.update({\"rating_average\":\n",
    "                      float(soup.find(\"div\", {\"id\": re.compile(\"mntl-recipe-review-bar__rating_*\")}).get_text().strip(' \\t\\n\\r'))\n",
    "                     })\n",
    "except:\n",
    "    temp_dict.update({\"rating_average\": np.NaN})\n",
    "    \n",
    "# column 04: rating_count, the number of ratings for the recipe\n",
    "try:\n",
    "    temp_dict.update({\"rating_count\":\n",
    "                      soup.find(\"div\", {\"id\": re.compile(\"^mntl-recipe-review-bar__rating-count_*\")}).get_text().strip(' \\t\\n\\r()')\n",
    "                     })\n",
    "except:\n",
    "    temp_dict.update({\"rating_count\": np.NaN})\n",
    "    \n",
    "# column 05: review_count, the number of reviews for the recipe\n",
    "try:\n",
    "    temp_dict.update({\"review_count\":\n",
    "                     soup.find(\"div\", {\"id\": re.compile(\"^mntl-recipe-review-bar__comment-count_*\")}).get_text().strip(' \\t\\n\\r()')\n",
    "                     })\n",
    "except:\n",
    "    temp_dict.update({\"review_count\": np.NaN})\n",
    "    \n",
    "# column 06: description, the description section beneath each title of the recipe\n",
    "try:\n",
    "    temp_dict.update({\"description\":\n",
    "                     soup.find(\"p\", {\"id\" : re.compile(\"^article-subheading_*\")}).get_text().strip(' \\t\\n\\r')\n",
    "                     })\n",
    "except:\n",
    "    temp_dict.update({\"description\": np.NaN})\n",
    "    \n",
    "# column 07: update_date, the last date of update for the recipe\n",
    "try:\n",
    "    temp_dict.update({\"update_date\":\n",
    "                     soup.find_all(\"div\", {\"class\": re.compile(\"^mntl-attribution__item-date*\")})[0].get_text()\n",
    "                     })\n",
    "except:\n",
    "    temp_dict.update({\"update_date\": np.NaN})    \n",
    "\n",
    "# column 08: ingredient, a list of ingredients and their amounts\n",
    "try:\n",
    "    temp_dict.update({\"ingredient\":\n",
    "                     [li.get_text().strip(' \\t\\n\\r') for li in soup.find(\"div\", {\"id\": re.compile(\"^mntl-structured-ingredients_*\")}).find_all(\"li\")]\n",
    "                     })\n",
    "except:\n",
    "    temp_dict.update({\"ingredient\": np.NaN})\n",
    "    \n",
    "# column 09: direction, a list of cooking directions or instructions\n",
    "try:\n",
    "    temp_dict.update({\"direction\":\n",
    "                      [li.get_text().strip(' \\t\\n\\r') for li in soup.find(\"div\", {\"id\": re.compile(\"^recipe__steps-content_*\")}).find_all(\"li\")]\n",
    "                     })\n",
    "except:\n",
    "    temp_dict.update({\"direction\": np.NaN})\n",
    "    \n",
    "# column 10: nutrition_summary, a dictionary of nutritional information summary\n",
    "try:\n",
    "    tag = soup.find(\"div\", {\"id\": re.compile(\"^mntl-nutrition-facts-summary_*\")})\n",
    "    \n",
    "    t_value = [line.get_text() for line in tag.find_all(\"td\",{\"class\":\"mntl-nutrition-facts-summary__table-cell type--dog-bold\"})]\n",
    "    header_1 = [line.get_text() for line in tag.find_all(\"td\",{\"class\":\"mntl-nutrition-facts-summary__table-cell type--dogg\"})]\n",
    "    header_2 = [line.get_text() for line in tag.find_all(\"td\",{\"class\":\"mntl-nutrition-facts-summary__table-cell type--dog\"})]\n",
    "    t_header = header_1+header_2\n",
    "    \n",
    "    temp_dict.update({\"nutrition_summary\":\n",
    "                      {key:value for (key,value) in zip(t_header,t_value)}\n",
    "                     })\n",
    "except:\n",
    "    temp_dict.update({\"nutrition_summary\": np.NaN})\n",
    "    \n",
    "# column 11: nutrition_detail, a dictionary of detailed nutritional information\n",
    "try:\n",
    "    temp_dict.update({\"nutrition_detail\":\n",
    "                      pd.read_html(str(soup.find_all(\"table\",{\"class\": \"mntl-nutrition-facts-label__table\"})))[0]\\\n",
    "                      .iloc[:,0].to_list()\n",
    "                     })\n",
    "except:\n",
    "    temp_dict.update({\"nutrition_detail\": np.NaN})\n",
    "\n",
    "# column 12: time, a dictionary containing time related values in the recipe\n",
    "try:\n",
    "    t_value = [div.get_text().strip(' \\t\\n\\r') for div in soup.find(\"div\", {\"id\": re.compile(\"^recipe-details_*\")}).find_all(\"div\", {\"class\":re.compile(\"^mntl-recipe-details__val*\")})]\n",
    "    t_header = [div.get_text().strip(' \\t\\n\\r') for div in soup.find(\"div\", {\"id\": re.compile(\"^recipe-details_*\")}).find_all(\"div\", {\"class\":re.compile(\"^mntl-recipe-details__la*\")})]\n",
    "    temp_dict.update({\"time\":\n",
    "                      {key:value for (key,value) in zip(t_header,t_value)}\n",
    "                     })\n",
    "except:\n",
    "    temp_dict.update({\"time\": np.NaN})    \n",
    "    \n",
    "# column 13: label, a list containing the labels or tags associated with the recipe\n",
    "try:\n",
    "    temp_dict.update({\"label\":\n",
    "                    [label.get_text() for label in soup.find(\"div\", {\"class\":re.compile(\"^loc article-header\")}).find_all(\"span\",{\"class\":\"link__wrapper\"})]\n",
    "                     })\n",
    "except:\n",
    "    temp_dict.update({\"label\": np.NaN})    \n",
    "    \n",
    "# column 14: review_dict, dictionary containing a JSON dictionary of reviews and other data elements of the webpage\n",
    "try:\n",
    "    temp_dict.update({\"review_dict\":\n",
    "                     ast.literal_eval(\n",
    "                         soup.find('script',{\"class\":\"comp allrecipes-schema mntl-schema-unified\"}).text\n",
    "                     )})\n",
    "except:\n",
    "    temp_dict.update({\"review_dict\": np.NaN})\n",
    "\n",
    "# column 15: description_additional, additional description if available for the recipe\n",
    "try:\n",
    "    temp_dict.update({\"description_additional\":\n",
    "                     [p.get_text().strip(' \\t\\n\\r') for p in soup.find_all('p',{\"class\":re.compile(\"^mntl-sc-block*\")})]\n",
    "                     })\n",
    "except:\n",
    "    temp_dict.update({\"description_additional\": np.NaN})\n",
    "    \n",
    "# Create a DataFrame with 1 row using the above data scraped into temp_dict\n",
    "temp_df = pd.DataFrame({k: pd.Series([v]) for k,v in temp_dict.items()})"
   ]
  },
  {
   "cell_type": "code",
   "execution_count": 24,
   "id": "c99334f7-e509-473a-978e-d2874fb7229d",
   "metadata": {},
   "outputs": [
    {
     "data": {
      "text/html": [
       "<div>\n",
       "<style scoped>\n",
       "    .dataframe tbody tr th:only-of-type {\n",
       "        vertical-align: middle;\n",
       "    }\n",
       "\n",
       "    .dataframe tbody tr th {\n",
       "        vertical-align: top;\n",
       "    }\n",
       "\n",
       "    .dataframe thead th {\n",
       "        text-align: right;\n",
       "    }\n",
       "</style>\n",
       "<table border=\"1\" class=\"dataframe\">\n",
       "  <thead>\n",
       "    <tr style=\"text-align: right;\">\n",
       "      <th></th>\n",
       "      <th>recipe_url</th>\n",
       "      <th>title</th>\n",
       "      <th>image</th>\n",
       "      <th>rating_average</th>\n",
       "      <th>rating_count</th>\n",
       "      <th>review_count</th>\n",
       "      <th>description</th>\n",
       "      <th>update_date</th>\n",
       "      <th>ingredient</th>\n",
       "      <th>direction</th>\n",
       "      <th>nutrition_summary</th>\n",
       "      <th>nutrition_detail</th>\n",
       "      <th>time</th>\n",
       "      <th>label</th>\n",
       "      <th>review_dict</th>\n",
       "      <th>description_additional</th>\n",
       "    </tr>\n",
       "  </thead>\n",
       "  <tbody>\n",
       "    <tr>\n",
       "      <th>0</th>\n",
       "      <td>https://www.allrecipes.com/recipe/263037/insta...</td>\n",
       "      <td>Instant Pot Best Beef Stew</td>\n",
       "      <td>[https://imagesvc.meredithcorp.io/v3/mm/image?...</td>\n",
       "      <td>4.6</td>\n",
       "      <td>209</td>\n",
       "      <td>161 Reviews</td>\n",
       "      <td>This Instant Pot stew recipe is the ultimate, ...</td>\n",
       "      <td>Updated on February 26, 2023</td>\n",
       "      <td>[1 tablespoon butter, 1 pound beef chuck, cut ...</td>\n",
       "      <td>[Gather all ingredients.\\n\\n\\n\\n\\n\\n\\n\\n\\n\\n\\n...</td>\n",
       "      <td>{'Calories': '352', 'Fat': '16g ', 'Carbs': '3...</td>\n",
       "      <td>[% Daily Value *, Total Fat 16g, Saturated Fat...</td>\n",
       "      <td>{'Prep Time:': '20 mins', 'Cook Time:': '55 mi...</td>\n",
       "      <td>[Recipes, Soups, Stews and Chili Recipes, Stew...</td>\n",
       "      <td>[{'@context': 'http://schema.org', '@type': ['...</td>\n",
       "      <td>[Gather all ingredients., Turn on a multi-func...</td>\n",
       "    </tr>\n",
       "  </tbody>\n",
       "</table>\n",
       "</div>"
      ],
      "text/plain": [
       "                                          recipe_url  \\\n",
       "0  https://www.allrecipes.com/recipe/263037/insta...   \n",
       "\n",
       "                        title  \\\n",
       "0  Instant Pot Best Beef Stew   \n",
       "\n",
       "                                               image  rating_average  \\\n",
       "0  [https://imagesvc.meredithcorp.io/v3/mm/image?...             4.6   \n",
       "\n",
       "  rating_count review_count  \\\n",
       "0          209  161 Reviews   \n",
       "\n",
       "                                         description  \\\n",
       "0  This Instant Pot stew recipe is the ultimate, ...   \n",
       "\n",
       "                    update_date  \\\n",
       "0  Updated on February 26, 2023   \n",
       "\n",
       "                                          ingredient  \\\n",
       "0  [1 tablespoon butter, 1 pound beef chuck, cut ...   \n",
       "\n",
       "                                           direction  \\\n",
       "0  [Gather all ingredients.\\n\\n\\n\\n\\n\\n\\n\\n\\n\\n\\n...   \n",
       "\n",
       "                                   nutrition_summary  \\\n",
       "0  {'Calories': '352', 'Fat': '16g ', 'Carbs': '3...   \n",
       "\n",
       "                                    nutrition_detail  \\\n",
       "0  [% Daily Value *, Total Fat 16g, Saturated Fat...   \n",
       "\n",
       "                                                time  \\\n",
       "0  {'Prep Time:': '20 mins', 'Cook Time:': '55 mi...   \n",
       "\n",
       "                                               label  \\\n",
       "0  [Recipes, Soups, Stews and Chili Recipes, Stew...   \n",
       "\n",
       "                                         review_dict  \\\n",
       "0  [{'@context': 'http://schema.org', '@type': ['...   \n",
       "\n",
       "                              description_additional  \n",
       "0  [Gather all ingredients., Turn on a multi-func...  "
      ]
     },
     "execution_count": 24,
     "metadata": {},
     "output_type": "execute_result"
    }
   ],
   "source": [
    "temp_df"
   ]
  },
  {
   "cell_type": "code",
   "execution_count": null,
   "id": "f9776ad1-233f-4bc2-bfce-b617c77cdc65",
   "metadata": {},
   "outputs": [],
   "source": []
  },
  {
   "cell_type": "code",
   "execution_count": 15,
   "id": "3c8eb90c-6c23-4d89-9026-271908da9834",
   "metadata": {},
   "outputs": [],
   "source": [
    "# Packages for general data processing\n",
    "import numpy as np\n",
    "import pandas as pd\n",
    "import re\n",
    "import ast\n",
    "import sys\n",
    "import joblib\n",
    "\n",
    "# Packages from scraping\n",
    "from selenium import webdriver\n",
    "from bs4 import BeautifulSoup"
   ]
  }
 ],
 "metadata": {
  "kernelspec": {
   "display_name": "Python 3 (ipykernel)",
   "language": "python",
   "name": "python3"
  },
  "language_info": {
   "codemirror_mode": {
    "name": "ipython",
    "version": 3
   },
   "file_extension": ".py",
   "mimetype": "text/x-python",
   "name": "python",
   "nbconvert_exporter": "python",
   "pygments_lexer": "ipython3",
   "version": "3.11.4"
  }
 },
 "nbformat": 4,
 "nbformat_minor": 5
}
