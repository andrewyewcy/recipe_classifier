{
 "cells": [
  {
   "cell_type": "code",
   "execution_count": 2,
   "id": "0180e8f5-581b-44d5-b1dd-601ae1371ae6",
   "metadata": {},
   "outputs": [],
   "source": [
    "import numpy as np\n",
    "import pandas as pd\n",
    "import joblib"
   ]
  },
  {
   "cell_type": "markdown",
   "id": "bd0410c0-c0cd-4711-bbb1-3697512f4a1a",
   "metadata": {},
   "source": [
    "Goal: Get ingredients"
   ]
  },
  {
   "cell_type": "markdown",
   "id": "53c57047-6e40-4e6c-a7bc-bc4089b40aa8",
   "metadata": {},
   "source": [
    "List of fried chicken recipes:"
   ]
  },
  {
   "cell_type": "markdown",
   "id": "ad23cda9-8f37-467d-a32b-b62d0e4404aa",
   "metadata": {},
   "source": [
    "# Option 1: Use previously scraped data"
   ]
  },
  {
   "cell_type": "code",
   "execution_count": 3,
   "id": "d84eec63-3323-47b5-a14f-594d7bccde21",
   "metadata": {},
   "outputs": [],
   "source": [
    "# Define path to processed data\n",
    "data_file = \"../11_raw_data/final_processed_df.csv\""
   ]
  },
  {
   "cell_type": "code",
   "execution_count": 4,
   "id": "fa86e461-cc65-44c7-b7b4-aa7aaea29f96",
   "metadata": {},
   "outputs": [],
   "source": [
    "df = pd.read_csv(data_file)"
   ]
  },
  {
   "cell_type": "code",
   "execution_count": 5,
   "id": "1724b84d-a3bd-4e60-acd0-be8fbef44ca9",
   "metadata": {},
   "outputs": [
    {
     "data": {
      "text/plain": [
       "(33691, 31)"
      ]
     },
     "execution_count": 5,
     "metadata": {},
     "output_type": "execute_result"
    }
   ],
   "source": [
    "df.shape"
   ]
  },
  {
   "cell_type": "code",
   "execution_count": 7,
   "id": "af56b445-04ee-43c7-9759-f4d6c5b8ccde",
   "metadata": {
    "scrolled": true
   },
   "outputs": [
    {
     "data": {
      "text/html": [
       "<div>\n",
       "<style scoped>\n",
       "    .dataframe tbody tr th:only-of-type {\n",
       "        vertical-align: middle;\n",
       "    }\n",
       "\n",
       "    .dataframe tbody tr th {\n",
       "        vertical-align: top;\n",
       "    }\n",
       "\n",
       "    .dataframe thead th {\n",
       "        text-align: right;\n",
       "    }\n",
       "</style>\n",
       "<table border=\"1\" class=\"dataframe\">\n",
       "  <thead>\n",
       "    <tr style=\"text-align: right;\">\n",
       "      <th></th>\n",
       "      <th>0</th>\n",
       "    </tr>\n",
       "  </thead>\n",
       "  <tbody>\n",
       "    <tr>\n",
       "      <th>recipe_title</th>\n",
       "      <td>Corned Beef Roast</td>\n",
       "    </tr>\n",
       "    <tr>\n",
       "      <th>recipe_title_wc</th>\n",
       "      <td>3</td>\n",
       "    </tr>\n",
       "    <tr>\n",
       "      <th>average_rating</th>\n",
       "      <td>4.4</td>\n",
       "    </tr>\n",
       "    <tr>\n",
       "      <th>number_of_ratings</th>\n",
       "      <td>68.0</td>\n",
       "    </tr>\n",
       "    <tr>\n",
       "      <th>description</th>\n",
       "      <td>This corned beef roast is easy to prepare and ...</td>\n",
       "    </tr>\n",
       "    <tr>\n",
       "      <th>description_wc</th>\n",
       "      <td>21</td>\n",
       "    </tr>\n",
       "    <tr>\n",
       "      <th>additional_description</th>\n",
       "      <td>['Preheat the oven to 300 degrees F (150 degre...</td>\n",
       "    </tr>\n",
       "    <tr>\n",
       "      <th>additional_description_wc</th>\n",
       "      <td>81</td>\n",
       "    </tr>\n",
       "    <tr>\n",
       "      <th>description_flavour_text</th>\n",
       "      <td>Corned beef roast cooked in the oven for five ...</td>\n",
       "    </tr>\n",
       "    <tr>\n",
       "      <th>description_flavour_text_wc</th>\n",
       "      <td>26</td>\n",
       "    </tr>\n",
       "    <tr>\n",
       "      <th>instructions</th>\n",
       "      <td>Preheat the oven to 300 degrees F (150 degrees...</td>\n",
       "    </tr>\n",
       "    <tr>\n",
       "      <th>instructions_with_image</th>\n",
       "      <td>0.0</td>\n",
       "    </tr>\n",
       "    <tr>\n",
       "      <th>ingredients</th>\n",
       "      <td>1 (5 1/2 pound) corned beef brisket with spice...</td>\n",
       "    </tr>\n",
       "    <tr>\n",
       "      <th>number_of_ingredients</th>\n",
       "      <td>5.0</td>\n",
       "    </tr>\n",
       "    <tr>\n",
       "      <th>calories_kcal</th>\n",
       "      <td>465.0</td>\n",
       "    </tr>\n",
       "    <tr>\n",
       "      <th>carbohydrateContent_g</th>\n",
       "      <td>28.0</td>\n",
       "    </tr>\n",
       "    <tr>\n",
       "      <th>cholesterolContent_mg</th>\n",
       "      <td>134.0</td>\n",
       "    </tr>\n",
       "    <tr>\n",
       "      <th>fiberContent_g</th>\n",
       "      <td>4.0</td>\n",
       "    </tr>\n",
       "    <tr>\n",
       "      <th>proteinContent_g</th>\n",
       "      <td>28.0</td>\n",
       "    </tr>\n",
       "    <tr>\n",
       "      <th>saturatedFatContent_g</th>\n",
       "      <td>9.0</td>\n",
       "    </tr>\n",
       "    <tr>\n",
       "      <th>sodiumContent_mg</th>\n",
       "      <td>1560.0</td>\n",
       "    </tr>\n",
       "    <tr>\n",
       "      <th>sugarContent_g</th>\n",
       "      <td>2.0</td>\n",
       "    </tr>\n",
       "    <tr>\n",
       "      <th>number_of_servings</th>\n",
       "      <td>8.0</td>\n",
       "    </tr>\n",
       "    <tr>\n",
       "      <th>cook_time</th>\n",
       "      <td>300.0</td>\n",
       "    </tr>\n",
       "    <tr>\n",
       "      <th>prep_time</th>\n",
       "      <td>15.0</td>\n",
       "    </tr>\n",
       "    <tr>\n",
       "      <th>total_time</th>\n",
       "      <td>315.0</td>\n",
       "    </tr>\n",
       "    <tr>\n",
       "      <th>tags</th>\n",
       "      <td>corned-beef main-dish beef</td>\n",
       "    </tr>\n",
       "    <tr>\n",
       "      <th>published_quarter</th>\n",
       "      <td>2.0</td>\n",
       "    </tr>\n",
       "    <tr>\n",
       "      <th>review</th>\n",
       "      <td>Big corned beef fan, Great alternative to boil...</td>\n",
       "    </tr>\n",
       "    <tr>\n",
       "      <th>recipe_worth_it</th>\n",
       "      <td>0</td>\n",
       "    </tr>\n",
       "    <tr>\n",
       "      <th>wc_per_instruction</th>\n",
       "      <td>27.0</td>\n",
       "    </tr>\n",
       "  </tbody>\n",
       "</table>\n",
       "</div>"
      ],
      "text/plain": [
       "                                                                             0\n",
       "recipe_title                                                 Corned Beef Roast\n",
       "recipe_title_wc                                                              3\n",
       "average_rating                                                             4.4\n",
       "number_of_ratings                                                         68.0\n",
       "description                  This corned beef roast is easy to prepare and ...\n",
       "description_wc                                                              21\n",
       "additional_description       ['Preheat the oven to 300 degrees F (150 degre...\n",
       "additional_description_wc                                                   81\n",
       "description_flavour_text     Corned beef roast cooked in the oven for five ...\n",
       "description_flavour_text_wc                                                 26\n",
       "instructions                 Preheat the oven to 300 degrees F (150 degrees...\n",
       "instructions_with_image                                                    0.0\n",
       "ingredients                  1 (5 1/2 pound) corned beef brisket with spice...\n",
       "number_of_ingredients                                                      5.0\n",
       "calories_kcal                                                            465.0\n",
       "carbohydrateContent_g                                                     28.0\n",
       "cholesterolContent_mg                                                    134.0\n",
       "fiberContent_g                                                             4.0\n",
       "proteinContent_g                                                          28.0\n",
       "saturatedFatContent_g                                                      9.0\n",
       "sodiumContent_mg                                                        1560.0\n",
       "sugarContent_g                                                             2.0\n",
       "number_of_servings                                                         8.0\n",
       "cook_time                                                                300.0\n",
       "prep_time                                                                 15.0\n",
       "total_time                                                               315.0\n",
       "tags                                               corned-beef main-dish beef \n",
       "published_quarter                                                          2.0\n",
       "review                       Big corned beef fan, Great alternative to boil...\n",
       "recipe_worth_it                                                              0\n",
       "wc_per_instruction                                                        27.0"
      ]
     },
     "execution_count": 7,
     "metadata": {},
     "output_type": "execute_result"
    }
   ],
   "source": [
    "df.head(1).T"
   ]
  },
  {
   "cell_type": "code",
   "execution_count": 12,
   "id": "cdb54d0e-3343-4cf6-84a1-71e0eb69c1ed",
   "metadata": {},
   "outputs": [
    {
     "data": {
      "text/plain": [
       "529                           Quick and Easy Refried Beans\n",
       "1062                        Easy Nachos with Refried Beans\n",
       "1080                     Chicken Nachos with Refried Beans\n",
       "4938                   Instant Pot® Charro (Refried Beans)\n",
       "6876                    Refried Bean and Cheese Enchiladas\n",
       "7580                       Refried Beans Without the Refry\n",
       "8160                           Taco Dip with Refried Beans\n",
       "14367                            Chef John's Refried Beans\n",
       "15096                           Instant Pot® Refried Beans\n",
       "15114                             Vegetarian Refried Beans\n",
       "20188                           Spicy Cheesy Refried Beans\n",
       "23517                               Fat Free Refried Beans\n",
       "23763                                   Best Refried Beans\n",
       "24420                                    Refried Bean Soup\n",
       "25019    Pan-fried Polenta with Corn, Kale and Goat Cheese\n",
       "25598                                  Vegan Refried Beans\n",
       "28922                                  Refried Black Beans\n",
       "29181                              Rush Hour Refried Beans\n",
       "30299                    Frijoles Refritos (Refried Beans)\n",
       "31293                                Buffy's Refried Beans\n",
       "Name: recipe_title, dtype: object"
      ]
     },
     "execution_count": 12,
     "metadata": {},
     "output_type": "execute_result"
    }
   ],
   "source": [
    "search_terms = \"|\".join([\"fried\",\"chicken\"])\n",
    "cond = df[\"recipe_title\"].str.contains(search_terms)\n",
    "df.loc[cond,\"recipe_title\"]"
   ]
  },
  {
   "cell_type": "markdown",
   "id": "02a13139-8802-46c0-87dc-d11347eb5e1c",
   "metadata": {},
   "source": [
    "Filtering existing data revealed no fried chicken recipes in existing data. Thus, option 2, scraping, is necessary."
   ]
  },
  {
   "cell_type": "markdown",
   "id": "b1060e6e-4fc9-4ec3-a5b7-8339db960f54",
   "metadata": {},
   "source": [
    "# Option 2: Scraping directly from Allrecipes"
   ]
  },
  {
   "cell_type": "code",
   "execution_count": 47,
   "id": "ff6f2752-19ac-4ff6-b48b-8ded81e7fbc5",
   "metadata": {},
   "outputs": [],
   "source": [
    "import re\n",
    "# Package for scraping\n",
    "from selenium import webdriver\n",
    "from bs4 import BeautifulSoup\n",
    "import time"
   ]
  },
  {
   "cell_type": "markdown",
   "id": "931a6f4e-67e6-4e6a-9f82-4750b6080049",
   "metadata": {},
   "source": [
    "## Construct Query URL"
   ]
  },
  {
   "cell_type": "markdown",
   "id": "f8a5194d-40cb-4269-87a7-f446f847df5b",
   "metadata": {},
   "source": [
    "Copy and paste sample site search for visual comparison:\n",
    "\n",
    "- https://www.allrecipes.com/search?fried%20chicken=fried%20chicken&offset=0&q=fried%20chicken\n",
    "- https://www.allrecipes.com/search?fried%20chicken=fried%20chicken&offset=24&q=fried%20chicken\n",
    "- https://www.allrecipes.com/search?fried%20chicken=fried%20chicken&offset=48&q=fried%20chicken"
   ]
  },
  {
   "cell_type": "markdown",
   "id": "d730601a-5039-4c05-ac2f-b4698c1008fb",
   "metadata": {},
   "source": [
    "Each search result page contains 24 result tiles. Thus, adding 24 to the offset in a loop will allows us to scrape all recipes related to fried chicken."
   ]
  },
  {
   "cell_type": "code",
   "execution_count": 23,
   "id": "114eb53c-0607-482a-8746-e3b13667d580",
   "metadata": {},
   "outputs": [],
   "source": [
    "# This is the search term users will enter to scrape recipes related to fried chicken\n",
    "search_term = \"fried chicken\"\n",
    "\n",
    "# Replace white space with encoding\n",
    "search_term = re.sub(\" \",\"%20\",search_term)\n",
    "\n",
    "# First page of search results can be gathered from offset = 0\n",
    "base_offset = 0\n",
    "\n",
    "# Construct query\n",
    "query_url = f\"https://www.allrecipes.com/search?{search_term}={search_term}&offset={base_offset}&q={search_term}\""
   ]
  },
  {
   "cell_type": "code",
   "execution_count": 24,
   "id": "94e4c41e-659a-4925-bdc5-f28289687d17",
   "metadata": {},
   "outputs": [
    {
     "name": "stdout",
     "output_type": "stream",
     "text": [
      "Constructed query matches.\n"
     ]
    }
   ],
   "source": [
    "# Check constructed query with query from actual site\n",
    "query_from_site = \"https://www.allrecipes.com/search?fried%20chicken=fried%20chicken&offset=0&q=fried%20chicken\"\n",
    "\n",
    "if query_url == query_from_site:\n",
    "    print(f\"Constructed query matches.\")\n",
    "else:\n",
    "    print(f\"Constructed query mismatch.\")"
   ]
  },
  {
   "cell_type": "markdown",
   "id": "0200f8c5-5011-456f-bf51-a34460e747af",
   "metadata": {},
   "source": [
    "## Scraping recipe URLs from Allrecipes.com search result"
   ]
  },
  {
   "cell_type": "code",
   "execution_count": 27,
   "id": "8a25a0c2-9722-44fb-bb9e-628955637291",
   "metadata": {},
   "outputs": [],
   "source": [
    "# Define default options for Selenium webdriver\n",
    "chrome_options = webdriver.ChromeOptions()\n",
    "\n",
    "# Define command_executor, access this through localhost:4444\n",
    "command_executor = \"http://172.21.0.2:4444\""
   ]
  },
  {
   "cell_type": "code",
   "execution_count": 28,
   "id": "cfe9be73-c4a8-446f-ad78-977061d995a0",
   "metadata": {
    "scrolled": true
   },
   "outputs": [],
   "source": [
    "# Initiate webdriver, with command executor found within the Selenium Grid docker container\n",
    "# For this line to work, the `selenium/standalone-chrome:118.0` docker image\n",
    "driver = webdriver.Remote(\n",
    "    command_executor = command_executor,\n",
    "    options          = chrome_options\n",
    ")"
   ]
  },
  {
   "cell_type": "code",
   "execution_count": 29,
   "id": "9ea10a55-d46b-4eab-a1df-185b1b4c5656",
   "metadata": {},
   "outputs": [],
   "source": [
    "# Use the driver to scrape the url\n",
    "driver.get(query_url)"
   ]
  },
  {
   "cell_type": "code",
   "execution_count": 30,
   "id": "3bbbc570-3783-4301-8b0c-8da9424a7611",
   "metadata": {},
   "outputs": [],
   "source": [
    "# Extract the text of the response into a variable\n",
    "html = driver.page_source\n",
    "\n",
    "# Parse the response text using Beautiful Soup\n",
    "soup = BeautifulSoup(html, 'html.parser')\n",
    "\n",
    "# Exit the driver\n",
    "driver.quit()"
   ]
  },
  {
   "cell_type": "code",
   "execution_count": 41,
   "id": "e8ef390c-2a7c-4d64-8bad-b0094bf5bbcb",
   "metadata": {},
   "outputs": [
    {
     "name": "stdout",
     "output_type": "stream",
     "text": [
      "https://www.allrecipes.com/recipe/8805/crispy-fried-chicken/\n",
      "https://www.allrecipes.com/recipe/8841/oven-fried-chicken-ii/\n",
      "https://www.allrecipes.com/recipe/89268/triple-dipped-fried-chicken/\n",
      "https://www.allrecipes.com/recipe/220128/chef-johns-buttermilk-fried-chicken/\n",
      "https://www.allrecipes.com/recipe/150306/the-best-chicken-fried-steak/\n",
      "https://www.allrecipes.com/recipe/241152/fried-chicken-wings/\n",
      "https://www.allrecipes.com/recipe/8970/millie-pasquinellis-fried-chicken/\n",
      "https://www.allrecipes.com/recipe/16573/chicken-fried-chicken/\n",
      "https://www.allrecipes.com/recipe/8635/southern-fried-chicken/\n",
      "https://www.allrecipes.com/recipe/238844/korean-fried-chicken/\n",
      "https://www.allrecipes.com/recipe/24778/better-than-best-fried-chicken/\n",
      "https://www.allrecipes.com/recipe/159972/tender-pan-fried-chicken-breasts/\n",
      "https://www.allrecipes.com/article/how-to-reheat-fried-chicken/\n",
      "https://www.allrecipes.com/recipe/55867/baked-bbq-fried-chicken/\n",
      "https://www.allrecipes.com/recipe/86047/garlic-chicken-fried-chicken/\n",
      "https://www.allrecipes.com/recipe/221227/honey-brined-fried-chicken-breasts/\n",
      "https://www.allrecipes.com/recipe/15375/fried-chicken-with-creamy-gravy/\n",
      "https://www.allrecipes.com/recipe/228976/southern-fried-chicken-strips/\n",
      "https://www.allrecipes.com/recipe/87473/mustard-fried-chicken/\n",
      "https://www.allrecipes.com/recipe/8802/tanyas-louisiana-southern-fried-chicken/\n",
      "https://www.allrecipes.com/recipe/16669/fried-chicken-tenders/\n",
      "https://www.allrecipes.com/recipe/200036/southern-fried-chicken-livers/\n",
      "https://www.allrecipes.com/recipe/8717/deep-south-fried-chicken/\n",
      "https://www.allrecipes.com/recipe/25492/firecracker-fried-chicken-drumsticks/\n"
     ]
    }
   ],
   "source": [
    "# Extract and print URLs identified using class found through element inspector\n",
    "for a in soup.find_all(\"a\", {\"class\":\"comp mntl-card-list-items mntl-document-card mntl-card card card--no-image\"}):\n",
    "    print(a.get(\"href\"))"
   ]
  },
  {
   "cell_type": "markdown",
   "id": "3e4e3f73-b05a-46d0-abd8-bc0bc2d00824",
   "metadata": {},
   "source": [
    "Defining a `class` while extracting recipe URLs prevents any URLs that are not related to the search term from appearing when extracting URLs from the BeautifulSoup object.\n",
    "Now to write a loop to repeat the URL scraping process but for all search results pages:"
   ]
  },
  {
   "cell_type": "code",
   "execution_count": 48,
   "id": "fea1fb2a-fa18-4b5c-a1d8-36ab0ce4505e",
   "metadata": {},
   "outputs": [
    {
     "name": "stdout",
     "output_type": "stream",
     "text": [
      "Completed 5 of 5.\r"
     ]
    }
   ],
   "source": [
    "# Initiate a blank list containing the base seach result page\n",
    "search_result_pages = [query_url]\n",
    "\n",
    "# Gather the number of search result pages\n",
    "for a in soup.find_all(\"a\", {\"class\":\"button--outlined-little-round type--rabbit-bold\"}):\n",
    "    result_page = a.get(\"href\")\n",
    "\n",
    "    # Replace whitespace with encoding\n",
    "    result_page = re.sub(\" \", \"%20\",result_page)\n",
    "    \n",
    "    # Append processed search result pages\n",
    "    search_result_pages.append(result_page)\n",
    "\n",
    "# Initiate blank list to store URLs\n",
    "recipe_url_list = []\n",
    "\n",
    "# For each search result page, extract and append recipe urls\n",
    "for index, result_page in enumerate(search_result_pages):\n",
    "    \n",
    "    # Define default options for Selenium webdriver\n",
    "    chrome_options = webdriver.ChromeOptions()\n",
    "    \n",
    "    # Define command_executor, access this through localhost:4444\n",
    "    command_executor = \"http://172.21.0.2:4444\"\n",
    "\n",
    "    # Initiate webdriver, with command executor found within the Selenium Grid docker container\n",
    "    driver = webdriver.Remote(\n",
    "        command_executor = command_executor,\n",
    "        options          = chrome_options\n",
    "    )\n",
    "\n",
    "    # Use the driver to scrape the url\n",
    "    driver.get(result_page)\n",
    "\n",
    "    # Extract the text of the response into a variable\n",
    "    html = driver.page_source\n",
    "    \n",
    "    # Parse the response text using Beautiful Soup\n",
    "    soup = BeautifulSoup(html, 'html.parser')\n",
    "    \n",
    "    # Exit the driver\n",
    "    driver.quit()\n",
    "\n",
    "    # Extract and print URLs identified using class found through element inspector\n",
    "    for a in soup.find_all(\"a\", {\"class\":\"comp mntl-card-list-items mntl-document-card mntl-card card card--no-image\"}):\n",
    "        recipe_url = a.get(\"href\")\n",
    "        recipe_url_list.append(recipe_url)\n",
    "\n",
    "    time.sleep(5)\n",
    "    print(f\"Completed {index + 1} of {len(search_result_pages)}.\", end = \"\\r\")"
   ]
  },
  {
   "cell_type": "markdown",
   "id": "28467599-8ce2-4305-a083-1f8484da57dc",
   "metadata": {},
   "source": [
    "Examine the results:"
   ]
  },
  {
   "cell_type": "code",
   "execution_count": 49,
   "id": "5a5b610b-7785-4e98-be63-8086336daead",
   "metadata": {},
   "outputs": [
    {
     "data": {
      "text/plain": [
       "120"
      ]
     },
     "execution_count": 49,
     "metadata": {},
     "output_type": "execute_result"
    }
   ],
   "source": [
    "len(recipe_url_list)"
   ]
  },
  {
   "cell_type": "code",
   "execution_count": 50,
   "id": "e4c30178-236f-4269-bf87-f4ee8bcb2ee3",
   "metadata": {},
   "outputs": [
    {
     "data": {
      "text/plain": [
       "['https://www.allrecipes.com/recipe/8805/crispy-fried-chicken/',\n",
       " 'https://www.allrecipes.com/recipe/8841/oven-fried-chicken-ii/',\n",
       " 'https://www.allrecipes.com/recipe/89268/triple-dipped-fried-chicken/',\n",
       " 'https://www.allrecipes.com/recipe/220128/chef-johns-buttermilk-fried-chicken/',\n",
       " 'https://www.allrecipes.com/recipe/150306/the-best-chicken-fried-steak/']"
      ]
     },
     "execution_count": 50,
     "metadata": {},
     "output_type": "execute_result"
    }
   ],
   "source": [
    "recipe_url_list[0:5]"
   ]
  },
  {
   "cell_type": "code",
   "execution_count": 52,
   "id": "645e0fc7-1e7a-4b10-b9d1-20327831f1a7",
   "metadata": {},
   "outputs": [],
   "source": [
    "# Save the scraped data\n",
    "dict = {\"recipe_url\":recipe_url_list}\n",
    "df = pd.DataFrame(dict)\n",
    "df.to_csv(f\"../11_raw_data/{time.strftime('%Y%m%d-%H%M')}_scraped_recipe_url.csv\")"
   ]
  },
  {
   "cell_type": "markdown",
   "id": "82dc7515-e7ec-4801-9702-fe569e56920e",
   "metadata": {},
   "source": [
    "# Part 2: Extract Material Data from Each URL"
   ]
  },
  {
   "cell_type": "code",
   "execution_count": 54,
   "id": "33caf66d-35a6-4503-b009-68b75eac59b2",
   "metadata": {},
   "outputs": [],
   "source": [
    "import re\n",
    "# Package for scraping\n",
    "from selenium import webdriver\n",
    "from bs4 import BeautifulSoup\n",
    "import time\n",
    "import json\n",
    "\n",
    "import numpy as np\n",
    "import pandas as pd"
   ]
  },
  {
   "cell_type": "code",
   "execution_count": 4,
   "id": "b5e27e2e-2dac-4dbe-bb18-94f646d3eb27",
   "metadata": {},
   "outputs": [
    {
     "data": {
      "text/html": [
       "<div>\n",
       "<style scoped>\n",
       "    .dataframe tbody tr th:only-of-type {\n",
       "        vertical-align: middle;\n",
       "    }\n",
       "\n",
       "    .dataframe tbody tr th {\n",
       "        vertical-align: top;\n",
       "    }\n",
       "\n",
       "    .dataframe thead th {\n",
       "        text-align: right;\n",
       "    }\n",
       "</style>\n",
       "<table border=\"1\" class=\"dataframe\">\n",
       "  <thead>\n",
       "    <tr style=\"text-align: right;\">\n",
       "      <th></th>\n",
       "      <th>recipe_url</th>\n",
       "    </tr>\n",
       "  </thead>\n",
       "  <tbody>\n",
       "    <tr>\n",
       "      <th>0</th>\n",
       "      <td>https://www.allrecipes.com/recipe/8805/crispy-...</td>\n",
       "    </tr>\n",
       "    <tr>\n",
       "      <th>1</th>\n",
       "      <td>https://www.allrecipes.com/recipe/8841/oven-fr...</td>\n",
       "    </tr>\n",
       "    <tr>\n",
       "      <th>2</th>\n",
       "      <td>https://www.allrecipes.com/recipe/89268/triple...</td>\n",
       "    </tr>\n",
       "    <tr>\n",
       "      <th>3</th>\n",
       "      <td>https://www.allrecipes.com/recipe/220128/chef-...</td>\n",
       "    </tr>\n",
       "    <tr>\n",
       "      <th>4</th>\n",
       "      <td>https://www.allrecipes.com/recipe/150306/the-b...</td>\n",
       "    </tr>\n",
       "  </tbody>\n",
       "</table>\n",
       "</div>"
      ],
      "text/plain": [
       "                                          recipe_url\n",
       "0  https://www.allrecipes.com/recipe/8805/crispy-...\n",
       "1  https://www.allrecipes.com/recipe/8841/oven-fr...\n",
       "2  https://www.allrecipes.com/recipe/89268/triple...\n",
       "3  https://www.allrecipes.com/recipe/220128/chef-...\n",
       "4  https://www.allrecipes.com/recipe/150306/the-b..."
      ]
     },
     "execution_count": 4,
     "metadata": {},
     "output_type": "execute_result"
    }
   ],
   "source": [
    "df = pd.read_csv(\"../11_raw_data/20231031-2020_scraped_recipe_url.csv\", index_col = 0)\n",
    "df.head()"
   ]
  },
  {
   "cell_type": "markdown",
   "id": "3a6fc9c6-3038-4e43-8a56-a2803f536da0",
   "metadata": {},
   "source": [
    "Sample extracting information from 1 URL first."
   ]
  },
  {
   "cell_type": "code",
   "execution_count": 5,
   "id": "08fb48d2-1adb-48ee-82d8-496f8fd0fdf7",
   "metadata": {},
   "outputs": [],
   "source": [
    "# Define sample URL\n",
    "sample_url = df.loc[0,\"recipe_url\"]"
   ]
  },
  {
   "cell_type": "code",
   "execution_count": 6,
   "id": "6f232134-1a1e-42df-818e-4c6b9c5f9ebf",
   "metadata": {},
   "outputs": [
    {
     "data": {
      "text/plain": [
       "'https://www.allrecipes.com/recipe/8805/crispy-fried-chicken/'"
      ]
     },
     "execution_count": 6,
     "metadata": {},
     "output_type": "execute_result"
    }
   ],
   "source": [
    "sample_url"
   ]
  },
  {
   "cell_type": "code",
   "execution_count": 7,
   "id": "fa521714-a579-46f9-86fa-76e6c389fbbe",
   "metadata": {
    "scrolled": true
   },
   "outputs": [],
   "source": [
    "# Define default options for Selenium webdriver\n",
    "chrome_options = webdriver.ChromeOptions()\n",
    "\n",
    "# Define command_executor, access this through localhost:4444\n",
    "command_executor = \"http://172.22.0.2:4444\"\n",
    "\n",
    "# Initiate webdriver, with command executor found within the Selenium Grid docker container\n",
    "driver = webdriver.Remote(\n",
    "    command_executor = command_executor,\n",
    "    options          = chrome_options\n",
    ")\n",
    "\n",
    "# Use the driver to scrape the url\n",
    "driver.get(sample_url)\n",
    "\n",
    "# Extract the text of the response into a variable\n",
    "html = driver.page_source\n",
    "\n",
    "# Parse the response text using Beautiful Soup\n",
    "soup = BeautifulSoup(html, 'html.parser')\n",
    "\n",
    "# Exit the driver\n",
    "driver.quit()"
   ]
  },
  {
   "cell_type": "code",
   "execution_count": 58,
   "id": "05473ed5-6328-4715-9566-32316979afe3",
   "metadata": {
    "scrolled": true
   },
   "outputs": [
    {
     "name": "stdout",
     "output_type": "stream",
     "text": [
      "@context\n",
      "@type\n",
      "headline\n",
      "datePublished\n",
      "dateModified\n",
      "author\n",
      "description\n",
      "image\n",
      "video\n",
      "publisher\n",
      "name\n",
      "aggregateRating\n",
      "cookTime\n",
      "nutrition\n",
      "prepTime\n",
      "recipeCategory\n",
      "recipeCuisine\n",
      "recipeIngredient\n",
      "recipeInstructions\n",
      "recipeYield\n",
      "totalTime\n",
      "review\n",
      "mainEntityOfPage\n",
      "about\n"
     ]
    }
   ],
   "source": [
    "# Find the tag containing JSON data\n",
    "tag = soup.find('script',{\"class\":\"comp allrecipes-schema mntl-schema-unified\"})\n",
    "\n",
    "# Convert tag contents in JSON dictionary\n",
    "tag_json = json.loads(tag.contents[0])[0]\n",
    "\n",
    "# Examine the JSON dictionary keys available to us\n",
    "for key in tag_json.keys():\n",
    "    print(key)"
   ]
  },
  {
   "cell_type": "code",
   "execution_count": 71,
   "id": "1fcc34c8-66b3-4bc2-83b1-2ffcb857f7b4",
   "metadata": {},
   "outputs": [],
   "source": [
    "time_related_keys = [key for key in list(tag_json.keys()) if \"time\" in key.lower()]\n",
    "\n",
    "keys_of_interest = [\n",
    "    \"name\",\n",
    "    \"datePublished\",\n",
    "    \"dateModified\",\n",
    "    \"author\",\n",
    "    \"description\",\n",
    "    \"aggregateRating\",\n",
    "    \"recipeIngredient\"\n",
    "] + time_related_keys"
   ]
  },
  {
   "cell_type": "code",
   "execution_count": 72,
   "id": "5e77598e-9e54-4123-99f8-937ac773a9d5",
   "metadata": {},
   "outputs": [
    {
     "name": "stdout",
     "output_type": "stream",
     "text": [
      "Crispy Fried Chicken\n",
      "1999-05-21T15:28:05.000-04:00\n",
      "2023-03-01T18:32:09.024-05:00\n",
      "[{'@type': 'Person', 'name': 'Anonymous'}]\n",
      "Discover the technique for making deliciously crispy fried chicken with a crunchy coating on the outside and juicy, tender chicken inside.\n",
      "{'@type': 'AggregateRating', 'ratingValue': '4.6', 'ratingCount': '743'}\n",
      "['1 (4 pound) chicken, cut into pieces', '1 cup buttermilk', '2 cups all-purpose flour for coating', '1 teaspoon paprika', 'salt and pepper to taste', '2 quarts vegetable oil for frying']\n",
      "PT35M\n",
      "PT15M\n",
      "PT80M\n"
     ]
    }
   ],
   "source": [
    "for key in keys_of_interest:\n",
    "    print(tag_json[key])"
   ]
  },
  {
   "cell_type": "markdown",
   "id": "65f697c3-ba37-4631-be92-b9a22876083a",
   "metadata": {},
   "source": [
    "# Repeat Scrape for Each Recipe URL"
   ]
  },
  {
   "cell_type": "code",
   "execution_count": 74,
   "id": "e877c71f-131b-48d0-98b4-f1a6d7dd7e5e",
   "metadata": {},
   "outputs": [],
   "source": [
    "# Initiate blank dictionary to store data from each recipe\n",
    "dict = {\n",
    "    \"recipe_url\":[],\n",
    "    \"contents\":[]\n",
    "}"
   ]
  },
  {
   "cell_type": "code",
   "execution_count": 75,
   "id": "7b575032-6a31-4bc5-956d-60cd4cb71f7b",
   "metadata": {},
   "outputs": [],
   "source": [
    "for index, recipe_url in enumerate(df[\"recipe_url\"]):\n",
    "    # Define default options for Selenium webdriver\n",
    "    chrome_options = webdriver.ChromeOptions()\n",
    "    \n",
    "    # Define command_executor, access this through localhost:4444\n",
    "    command_executor = \"http://172.22.0.2:4444\"\n",
    "    \n",
    "    # Initiate webdriver, with command executor found within the Selenium Grid docker container\n",
    "    driver = webdriver.Remote(\n",
    "        command_executor = command_executor,\n",
    "        options          = chrome_options\n",
    "    )\n",
    "    \n",
    "    # Use the driver to scrape the url\n",
    "    driver.get(recipe_url)\n",
    "    \n",
    "    # Extract the text of the response into a variable\n",
    "    html = driver.page_source\n",
    "    \n",
    "    # Parse the response text using Beautiful Soup\n",
    "    soup = BeautifulSoup(html, 'html.parser')\n",
    "    \n",
    "    # Exit the driver\n",
    "    driver.quit()\n",
    "\n",
    "    # Find the tag containing JSON data\n",
    "    tag = soup.find('script',{\"class\":\"comp allrecipes-schema mntl-schema-unified\"})\n",
    "    \n",
    "    # Convert tag contents in JSON dictionary\n",
    "    tag_json = json.loads(tag.contents[0])[0]\n",
    "\n",
    "    # Extract info for each key\n",
    "    dict[\"recipe_url\"].append(recipe_url)\n",
    "    dict[\"contents\"].append(tag_json)\n",
    "\n",
    "    # Rest before next scrape\n",
    "    time.sleep(10)"
   ]
  },
  {
   "cell_type": "code",
   "execution_count": 77,
   "id": "8516f6c5-62b9-4ce6-8083-238fdb63d92b",
   "metadata": {
    "scrolled": true
   },
   "outputs": [],
   "source": [
    "fried_chicken_df = pd.DataFrame(dict)"
   ]
  },
  {
   "cell_type": "code",
   "execution_count": 78,
   "id": "d2c3ed56-88ed-4422-8869-675043166f10",
   "metadata": {},
   "outputs": [],
   "source": [
    "fried_chicken_df.to_csv(f\"../11_raw_data/{time.strftime('%Y%m%d-%H%M')}_scraped_fc_recipes.csv\")"
   ]
  }
 ],
 "metadata": {
  "kernelspec": {
   "display_name": "Python 3 (ipykernel)",
   "language": "python",
   "name": "python3"
  },
  "language_info": {
   "codemirror_mode": {
    "name": "ipython",
    "version": 3
   },
   "file_extension": ".py",
   "mimetype": "text/x-python",
   "name": "python",
   "nbconvert_exporter": "python",
   "pygments_lexer": "ipython3",
   "version": "3.10.13"
  }
 },
 "nbformat": 4,
 "nbformat_minor": 5
}
