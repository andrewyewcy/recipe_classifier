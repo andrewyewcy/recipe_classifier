{
 "cells": [
  {
   "cell_type": "markdown",
   "id": "28c9038b",
   "metadata": {},
   "source": [
    "- https://stackoverflow.com/questions/49565042/way-to-change-google-chrome-user-agent-in-selenium\n",
    "- https://www.scrapingbee.com/blog/selenium-python/#using-a-proxy-with-selenium-wire"
   ]
  },
  {
   "cell_type": "code",
   "execution_count": 1,
   "id": "52c5811e",
   "metadata": {},
   "outputs": [],
   "source": [
    "from selenium import webdriver\n",
    "from selenium.webdriver.common.by import By\n",
    "from selenium.webdriver.support.wait import WebDriverWait\n",
    "from selenium.webdriver.support import expected_conditions as EC\n",
    "\n",
    "from bs4 import BeautifulSoup\n",
    "\n",
    "import pandas as pd\n",
    "import time"
   ]
  },
  {
   "cell_type": "code",
   "execution_count": 2,
   "id": "6919c958",
   "metadata": {},
   "outputs": [],
   "source": [
    "base_url = \"https://voila.ca/\""
   ]
  },
  {
   "cell_type": "code",
   "execution_count": 3,
   "id": "ab2b7ac0",
   "metadata": {},
   "outputs": [],
   "source": [
    "# Set up webdriver\n",
    "options = webdriver.ChromeOptions()\n",
    "options.add_argument(\"--window-size=1600,960\")\n",
    "options.add_argument(\"user-agent=Mozilla/5.0 (Macintosh; Intel Mac OS X 10_15_7) AppleWebKit/537.36 (KHTML, like Gecko) Chrome/119.0.0.0 Safari/537.36\")\n",
    "driver = webdriver.Chrome(options = options)"
   ]
  },
  {
   "cell_type": "code",
   "execution_count": 4,
   "id": "4bddfb4b",
   "metadata": {},
   "outputs": [],
   "source": [
    "driver.get(base_url)"
   ]
  },
  {
   "cell_type": "code",
   "execution_count": 5,
   "id": "f9ab9b3c",
   "metadata": {},
   "outputs": [],
   "source": [
    "# Wait until browse menu button is loaded, then access element\n",
    "# Level 1: Access Browse menu\n",
    "browse_menu = WebDriverWait(driver,10).until(\n",
    "    EC.presence_of_element_located((By.ID, \"nav-menu-button\"))\n",
    ")\n",
    "browse_menu.click() # Click on browse menu button\n",
    "\n",
    "# Level 2: Access meat and seafood\n",
    "meat_and_seafood = WebDriverWait(driver,10).until(\n",
    "    EC.presence_of_element_located((By.LINK_TEXT, \"Meat & Seafood\"))\n",
    ")\n",
    "meat_and_seafood.click()\n",
    "\n",
    "# Level 3: Access chicken\n",
    "chicken = WebDriverWait(driver,10).until(\n",
    "    EC.presence_of_element_located((By.LINK_TEXT, \"Chicken\"))\n",
    ")\n",
    "chicken.click()\n",
    "\n",
    "# Level 4: Access whole chicken\n",
    "whole_chicken = WebDriverWait(driver,10).until(\n",
    "    EC.presence_of_element_located((By.LINK_TEXT, \"Whole Chicken\"))\n",
    ")\n",
    "\n",
    "whole_chicken.click()"
   ]
  },
  {
   "cell_type": "code",
   "execution_count": 6,
   "id": "cee9751a",
   "metadata": {},
   "outputs": [],
   "source": [
    "# Extract HTML of page\n",
    "html = driver.page_source"
   ]
  },
  {
   "cell_type": "code",
   "execution_count": 15,
   "id": "dea23759",
   "metadata": {},
   "outputs": [],
   "source": [
    "# End session\n",
    "driver.quit()"
   ]
  },
  {
   "cell_type": "code",
   "execution_count": 7,
   "id": "bb8ad84f",
   "metadata": {},
   "outputs": [],
   "source": [
    "# Parse the response text using Beautiful Soup\n",
    "soup = BeautifulSoup(html, 'html.parser')"
   ]
  },
  {
   "cell_type": "code",
   "execution_count": 12,
   "id": "81412733",
   "metadata": {},
   "outputs": [],
   "source": [
    "price_dict = {\n",
    "    \"item\"      : [],\n",
    "    \"weight\"    : [],\n",
    "    \"unit_cost\" : [],\n",
    "    \"cost\"      : [],\n",
    "    \"url\"       : []\n",
    "}\n",
    "\n",
    "price_dict[\"item\"]      = price_dict[\"item\"]      + [tag.text for tag in soup.find_all(\"a\",{\"data-test\":\"fop-product-link\"})]\n",
    "price_dict[\"weight\"]    = price_dict[\"weight\"]    + [tag.text for tag in soup.find_all(\"span\",{\"class\":\"text__Text-sc-6l1yjp-0 base__SizeText-sc-1mnb0pd-38 fop__SizeText-sc-sgv9y1-4 bhymDA iImbUZ jrvLpU\"})]\n",
    "price_dict[\"unit_cost\"] = price_dict[\"unit_cost\"] + [tag.text for tag in soup.find_all(\"span\",{\"class\":\"text__Text-sc-6l1yjp-0 standard-promotion__PromotionIntentText-sc-1vpsrpe-2 fop__PricePerText-sc-sgv9y1-5 dLNLFE eMCyTR eNYENy\"})]\n",
    "price_dict[\"cost\"]      = price_dict[\"cost\"]      + [tag.text for tag in soup.find_all(\"strong\",{\"class\":\"base__Price-sc-1mnb0pd-29 sc-ksdxAp ftyPQ kWOBdd\"})]\n",
    "price_dict[\"url\"]       = price_dict[\"url\"]      + [tag.get(\"href\") for tag in soup.find_all(\"a\",{\"data-test\":\"fop-product-link\"})]"
   ]
  },
  {
   "cell_type": "code",
   "execution_count": 13,
   "id": "85b0e3a6",
   "metadata": {},
   "outputs": [
    {
     "data": {
      "text/html": [
       "<div>\n",
       "<style scoped>\n",
       "    .dataframe tbody tr th:only-of-type {\n",
       "        vertical-align: middle;\n",
       "    }\n",
       "\n",
       "    .dataframe tbody tr th {\n",
       "        vertical-align: top;\n",
       "    }\n",
       "\n",
       "    .dataframe thead th {\n",
       "        text-align: right;\n",
       "    }\n",
       "</style>\n",
       "<table border=\"1\" class=\"dataframe\">\n",
       "  <thead>\n",
       "    <tr style=\"text-align: right;\">\n",
       "      <th></th>\n",
       "      <th>item</th>\n",
       "      <th>weight</th>\n",
       "      <th>unit_cost</th>\n",
       "      <th>cost</th>\n",
       "      <th>url</th>\n",
       "      <th>time_of_scrape</th>\n",
       "    </tr>\n",
       "  </thead>\n",
       "  <tbody>\n",
       "    <tr>\n",
       "      <th>0</th>\n",
       "      <td>Compliments Whole Chicken Grade A</td>\n",
       "      <td>1.75kgtypically</td>\n",
       "      <td>($11.00 per kilogram)</td>\n",
       "      <td>$19.25typically</td>\n",
       "      <td>/products/218890KG/details</td>\n",
       "      <td>2023-11-09 17:18:42.240746</td>\n",
       "    </tr>\n",
       "    <tr>\n",
       "      <th>1</th>\n",
       "      <td>Longo's Rotisserie Chicken BBQ 1 kg</td>\n",
       "      <td>1kg</td>\n",
       "      <td>($15.99 per kilogram)</td>\n",
       "      <td>$15.99</td>\n",
       "      <td>/products/18859EA/details</td>\n",
       "      <td>2023-11-09 17:18:42.240746</td>\n",
       "    </tr>\n",
       "    <tr>\n",
       "      <th>2</th>\n",
       "      <td>Prime Organic Whole Chicken 1.3 kg</td>\n",
       "      <td>1.5kgtypically</td>\n",
       "      <td>($13.21 per kilogram)</td>\n",
       "      <td>$19.82typically</td>\n",
       "      <td>/products/587643KG/details</td>\n",
       "      <td>2023-11-09 17:18:42.240746</td>\n",
       "    </tr>\n",
       "    <tr>\n",
       "      <th>3</th>\n",
       "      <td>Mina Halal Whole Chicken 1 pieces</td>\n",
       "      <td>1.7kg</td>\n",
       "      <td>($0.94 per 100g)</td>\n",
       "      <td>$16.00</td>\n",
       "      <td>/products/4089EA/details</td>\n",
       "      <td>2023-11-09 17:18:42.240746</td>\n",
       "    </tr>\n",
       "    <tr>\n",
       "      <th>4</th>\n",
       "      <td>Yorkshire Valley Farms Organic Whole Chicken</td>\n",
       "      <td>1.6kgtypically</td>\n",
       "      <td>($15.99 per kilogram)</td>\n",
       "      <td>$25.58typically</td>\n",
       "      <td>/products/20400KG/details</td>\n",
       "      <td>2023-11-09 17:18:42.240746</td>\n",
       "    </tr>\n",
       "    <tr>\n",
       "      <th>5</th>\n",
       "      <td>Longo's Rotisserie Chicken Raised Without Anti...</td>\n",
       "      <td>1kg</td>\n",
       "      <td>($17.99 per kilogram)</td>\n",
       "      <td>$17.99</td>\n",
       "      <td>/products/18860EA/details</td>\n",
       "      <td>2023-11-09 17:18:42.240746</td>\n",
       "    </tr>\n",
       "  </tbody>\n",
       "</table>\n",
       "</div>"
      ],
      "text/plain": [
       "                                                item           weight  \\\n",
       "0                 Compliments Whole Chicken Grade A   1.75kgtypically   \n",
       "1                Longo's Rotisserie Chicken BBQ 1 kg              1kg   \n",
       "2                Prime Organic Whole Chicken 1.3 kg    1.5kgtypically   \n",
       "3                  Mina Halal Whole Chicken 1 pieces            1.7kg   \n",
       "4      Yorkshire Valley Farms Organic Whole Chicken    1.6kgtypically   \n",
       "5  Longo's Rotisserie Chicken Raised Without Anti...              1kg   \n",
       "\n",
       "               unit_cost             cost                         url  \\\n",
       "0  ($11.00 per kilogram)  $19.25typically  /products/218890KG/details   \n",
       "1  ($15.99 per kilogram)           $15.99   /products/18859EA/details   \n",
       "2  ($13.21 per kilogram)  $19.82typically  /products/587643KG/details   \n",
       "3       ($0.94 per 100g)           $16.00    /products/4089EA/details   \n",
       "4  ($15.99 per kilogram)  $25.58typically   /products/20400KG/details   \n",
       "5  ($17.99 per kilogram)           $17.99   /products/18860EA/details   \n",
       "\n",
       "              time_of_scrape  \n",
       "0 2023-11-09 17:18:42.240746  \n",
       "1 2023-11-09 17:18:42.240746  \n",
       "2 2023-11-09 17:18:42.240746  \n",
       "3 2023-11-09 17:18:42.240746  \n",
       "4 2023-11-09 17:18:42.240746  \n",
       "5 2023-11-09 17:18:42.240746  "
      ]
     },
     "execution_count": 13,
     "metadata": {},
     "output_type": "execute_result"
    }
   ],
   "source": [
    "from datetime import datetime\n",
    "df = pd.DataFrame(price_dict)\n",
    "df[\"time_of_scrape\"] = datetime.now()\n",
    "df"
   ]
  },
  {
   "cell_type": "code",
   "execution_count": 14,
   "id": "5f04a086",
   "metadata": {},
   "outputs": [],
   "source": [
    "df.to_csv(f\"../11_raw_data/{time.strftime('%Y%m%d-%H%M')}_voila_price.csv\", index = False)"
   ]
  }
 ],
 "metadata": {
  "kernelspec": {
   "display_name": "Python 3 (ipykernel)",
   "language": "python",
   "name": "python3"
  },
  "language_info": {
   "codemirror_mode": {
    "name": "ipython",
    "version": 3
   },
   "file_extension": ".py",
   "mimetype": "text/x-python",
   "name": "python",
   "nbconvert_exporter": "python",
   "pygments_lexer": "ipython3",
   "version": "3.11.4"
  }
 },
 "nbformat": 4,
 "nbformat_minor": 5
}
