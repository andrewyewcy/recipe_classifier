{
 "cells": [
  {
   "cell_type": "code",
   "execution_count": null,
   "id": "4ed41a4e-991d-4284-b45b-10915b43d7aa",
   "metadata": {},
   "outputs": [],
   "source": []
  },
  {
   "cell_type": "code",
   "execution_count": 2,
   "id": "1bc0d958-156a-40d7-a33b-43003359e34c",
   "metadata": {},
   "outputs": [],
   "source": [
    "import requests\n",
    "from bs4 import BeautifulSoup\n",
    "\n",
    "import numpy as np\n",
    "import pandas as pd"
   ]
  },
  {
   "cell_type": "code",
   "execution_count": 3,
   "id": "d5ce1b38-9f30-4757-969a-c905c33f5251",
   "metadata": {},
   "outputs": [
    {
     "data": {
      "text/plain": [
       "'https://www.walmart.ca/en/ip/mina-halal-whole-chicken/6000200224620'"
      ]
     },
     "execution_count": 3,
     "metadata": {},
     "output_type": "execute_result"
    }
   ],
   "source": [
    "query_url = \"https://www.walmart.ca/en/ip/mina-halal-whole-chicken/6000200224620\"\n",
    "query_url"
   ]
  },
  {
   "cell_type": "code",
   "execution_count": 4,
   "id": "c51a2c56-1387-4c11-a57a-261c032dcf84",
   "metadata": {},
   "outputs": [],
   "source": [
    "headers = {'User-Agent': 'Mozilla/5.0 (X11; Linux x86_64) AppleWebKit/537.36 (KHTML, like Gecko) Chrome/110.0.0.0 Safari/537.36'}\n",
    "\n",
    "with requests.get(query_url,headers = headers) as response:\n",
    "    soup = BeautifulSoup(response.content,\"html.parser\")"
   ]
  },
  {
   "cell_type": "code",
   "execution_count": 5,
   "id": "57cac9f7-6912-4a7d-b32c-3cb333abc74d",
   "metadata": {},
   "outputs": [
    {
     "data": {
      "text/plain": [
       "<!DOCTYPE html>\n",
       "\n",
       "<html lang=\"en\"><head> <meta charset=\"utf-8\"/> <meta content=\"width=device-width, initial-scale=1\" name=\"viewport\"/> <title>Verify Your Identity</title> <script>function getUrlVars(){var vars={};var parts=window.location.href.replace(/[?&]+([^=&]+)=([^&]*)/gi,function(m,key,value){vars[key]=value;});return vars;}\n",
       "function getUrlParam(parameter,defaultvalue){var urlparameter=defaultvalue;if(window.location.href.indexOf(parameter)>-1){urlparameter=getUrlVars()[parameter];}\n",
       "return urlparameter;}\n",
       "function sanitizeUuid(uuid){var regex=new RegExp(\"^\\\\b[0-9a-f]{8}\\\\b-[0-9a-f]{4}-[0-9a-f]{4}-[0-9a-f]{4}-\\\\b[0-9a-f]{12}\\\\b$\",\"g\");var match=regex.exec(uuid);return match!=null?uuid:\"\";}\n",
       "function addBlockID(){var blockId=sanitizeUuid(getUrlParam('uuid',''));document.getElementById(\"blockId1\").innerHTML=\"ID: \"+blockId;}\n",
       "function getCookie(name){var cookieArr=document.cookie.split(\";\");for(var i=0;i<cookieArr.length;i++){var cookiePair=cookieArr[i].split(\"=\");if(name==cookiePair[0].trim()){return decodeURIComponent(cookiePair[1]);}}\n",
       "return null;}</script> <script id=\"launchScript\"></script> <script type=\"text/javascript\">window.walmart=window.walmart||{};window.walmart.analytics=window.walmart.analytics||{};window.walmart.analytics.dataLayer={channel:\"Bot Page\",host:window.location.host,pageName:\"Bot Protection Page\",pageType:\"Bot Protection Page\",language:(window.language||\"en\").indexOf(\"fr\")===\"0\"?\"French\":\"English\",persistentID:getCookie(\"walmart.id\"),referrer:document.referrer};var launchScript=document.getElementById(\"launchScript\");launchScript.async=true;launchScript.onload=function(){if(window._satellite&&window._satellite.track){window._satellite.track(\"pageLoadComplete\");}}\n",
       "launchScript.src=\"//assets.adobedtm.com/launch-ENb669ecb013cf4aa89de0580c69e13c1a.min.js\";</script>\n",
       "<style>\n",
       "@import url(https://fonts.googleapis.com/css?family=Roboto:400,500&display=swap);html,\n",
       "body{font-family:Roboto,Arial,Helvetica,sans-serif;font-style:normal;font-weight:400;margin:0;padding:0;color:#000}\n",
       "a{color:#c5c5c5;text-decoration:none}\n",
       "header{margin:40px 10%}\n",
       ".container{align-items:center;display:flex;flex:1;justify-content:space-between;flex-direction:column}\n",
       ".container>div{width:100%;display:flex;justify-content:center}\n",
       ".container>div>div{width:80%}\n",
       ".page-title-wrapper{flex-grow:2}\n",
       ".page-title{flex-direction:column-reverse}\n",
       ".content-wrapper{flex-grow:5}\n",
       ".content{flex-direction:column}\n",
       "#message{padding-bottom:2em}\n",
       "#px-captcha > p{color:#C00D1E}\n",
       "@media (min-width: 768px){\n",
       "html,\n",
       "body{height:100%}\n",
       "}\n",
       "</style></head> <body> <header> <svg height=\"47.016\" viewbox=\"0 0 188.414 47.016\" width=\"188.41\"> <path d=\"M.942 10.272s4.639 19.006 5.379 22.09c.864 3.602 2.42 4.927 6.91 4.033l2.895-11.784c.735-2.927 1.227-5.013 1.699-7.99h.083c.331 3.006.803 5.072 1.407 8 0 0 1.18 5.35 1.783 8.16.606 2.809 2.29 4.579 6.687 3.615l6.9-26.122h-5.571l-2.356 11.294c-.633 3.287-1.208 5.856-1.651 8.863h-.079c-.403-2.977-.915-5.444-1.559-8.647l-2.453-11.51H15.21l-2.624 11.22c-.744 3.41-1.44 6.163-1.881 9.068h-.08a318.737 318.737 0 0 0-1.71-9.497S7.359 13.04 6.812 10.274H.943zm53.115 0v26.122h5.305V10.27h-5.305zm74.713 0v19.27c0 2.658.5 4.52 1.57 5.656.934.995 2.474 1.64 4.319 1.64 1.568 0 3.111-.298 3.838-.57l-.068-4.145a8.065 8.065 0 0 1-2.015.24c-1.807 0-2.413-1.157-2.413-3.543v-7.373h4.62v-4.998H134v-6.177h-5.231zm-86.567 6.055c-3.297 0-5.914.926-7.34 1.75l1.043 3.575c1.306-.823 3.384-1.504 5.353-1.504 3.258-.009 3.791 1.842 3.791 3.03v.28c-7.1-.01-11.586 2.447-11.586 7.455 0 3.058 2.283 5.924 6.254 5.924 2.444 0 4.488-.975 5.713-2.537h.12s.811 3.392 5.28 2.095c-.235-1.411-.311-2.917-.311-4.73v-6.978c0-4.448-1.899-8.36-8.317-8.36zm31.732 0c-3.32 0-4.811 1.683-5.716 3.11h-.078V16.77h-5.063v19.625h5.333V24.886c0-.54.062-1.11.25-1.606.442-1.16 1.52-2.515 3.241-2.515 2.152 0 3.16 1.82 3.16 4.445v11.185h5.326V24.747c0-.515.071-1.136.223-1.591.438-1.318 1.6-2.39 3.2-2.39 2.181 0 3.228 1.787 3.228 4.876v10.753h5.331V24.837c0-6.096-3.095-8.51-6.589-8.51-1.547 0-2.769.388-3.873 1.066-.928.57-1.759 1.38-2.485 2.445h-.079c-.845-2.115-2.827-3.51-5.41-3.51zm29.285 0c-3.296 0-5.912.926-7.34 1.75l1.045 3.575c1.304-.823 3.384-1.504 5.352-1.504 3.256-.009 3.79 1.842 3.79 3.03v.28c-7.1-.01-11.585 2.447-11.585 7.455 0 3.058 2.284 5.924 6.256 5.924 2.442 0 4.487-.975 5.71-2.537h.12s.812 3.392 5.281 2.095c-.235-1.411-.31-2.917-.31-4.73v-6.978c0-4.448-1.9-8.36-8.319-8.36zm22.147 0c-2.043 0-4.366 1.319-5.341 4.144h-.15v-3.7h-4.8v19.624h5.473v-10.05c0-.541.033-1.014.118-1.447.405-2.105 2.015-3.451 4.326-3.451.635 0 1.089.069 1.58.14v-5.138a5.273 5.273 0 0 0-1.206-.122zM45.222 26.936v2.448c0 .362-.032.736-.132 1.063-.41 1.36-1.82 2.508-3.58 2.508-1.468 0-2.635-.833-2.635-2.595 0-2.696 2.968-3.442 6.347-3.424zm61.017 0v2.448c0 .362-.032.736-.132 1.063-.41 1.36-1.818 2.508-3.58 2.508-1.468 0-2.634-.833-2.634-2.595 0-2.696 2.968-3.442 6.346-3.424z\" fill=\"#007dc6\"></path> <path d=\"M167.303.824c-1.713 0-3.074.957-3.074 2.121l1.04 11.777c.115.71.984 1.257 2.034 1.257 1.053-.002 1.92-.549 2.037-1.257l1.045-11.777c0-1.164-1.365-2.12-3.08-2.12zm-16.95 9.447c-.888.021-1.898.694-2.54 1.808-.86 1.483-.708 3.141.298 3.722l10.717 4.992c.67.249 1.58-.227 2.106-1.135.529-.912.488-1.938-.069-2.393l-9.68-6.79a1.564 1.564 0 0 0-.83-.204zm33.898 0a1.56 1.56 0 0 0-.83.204l-9.68 6.79c-.554.455-.595 1.48-.069 2.393.53.908 1.435 1.384 2.105 1.135l10.723-4.991c1.009-.582 1.154-2.24.3-3.723-.645-1.114-1.657-1.787-2.546-1.808zM159.23 25.81a1.086 1.086 0 0 0-.4.067l-10.717 4.985c-1.005.584-1.157 2.242-.298 3.727.856 1.48 2.366 2.184 3.372 1.604l9.68-6.785c.557-.46.599-1.486.07-2.397l.004.002c-.428-.743-1.11-1.195-1.711-1.203zm16.152 0c-.6.008-1.281.46-1.71 1.203l.004-.002c-.527.911-.486 1.937.068 2.397l9.681 6.785c1.004.58 2.515-.124 3.376-1.604.853-1.485.708-3.143-.301-3.727l-10.72-4.985a1.084 1.084 0 0 0-.398-.067zm-8.08 4.88c-1.049.002-1.916.547-2.03 1.255l-1.04 11.776c0 1.166 1.36 2.12 3.073 2.12 1.716 0 3.08-.954 3.08-2.12l-1.043-11.776c-.117-.708-.983-1.253-2.036-1.254h-.004z\" fill=\"#ffc220\"></path> </svg> </header> <section class=\"container\"> <div class=\"page-title-wrapper\"> <div class=\"page-title\" id=\"topmessage\"><h1>We like real shoppers, not robots!</h1></div> </div> <div class=\"content-wrapper\"> <div class=\"content\"> <p id=\"message\">Please press and hold the button below to verify yourself so we can keep spam bots off of Walmart.ca.</p> <script>var languagecookie=getCookie('walmart.locale');var language=languagecookie||window.navigator.userLanguage||window.navigator.language;if(language.startsWith(\"fr\")){document.title='Vérifiez votre identité';document.getElementById('topmessage').innerHTML='<h1>Nous apprécions les vrais clients, pas les robots!</h1>';document.getElementById('message').innerHTML='Veuillez appuyer et maintenir le bouton ci-dessous pour vous vérifier afin que nous puissions empêcher les robots d’accéder au Walmart.ca!';document.getElementById('adblock-message').innerHTML='Veuillez désactiver les bloqueurs de publicité pour continuer.';}</script> <div id=\"px-captcha\"> </div> <br/> </div> </div> </section> <script>window._pxAppId='PXnp9B16Cq';window._pxJsClientSrc='/px/'+window._pxAppId+'/init.js';window._pxFirstPartyEnabled=true;window._pxHostUrl='/px/'+window._pxAppId+'/xhr';window._pxreCaptchaTheme='light';window[\"_\"+window._pxAppId]={locale:language};var hc=getUrlParam('g','a');var captchajs=\"/px/\"+window._pxAppId+\"/captcha/captcha.js?a=c&m=0&g=\"+hc</script> <script id=\"blockScript\"></script> <script>document.getElementById('blockScript').src=captchajs;</script> </body></html>"
      ]
     },
     "execution_count": 5,
     "metadata": {},
     "output_type": "execute_result"
    }
   ],
   "source": [
    "soup"
   ]
  },
  {
   "cell_type": "markdown",
   "id": "049cb9b1-f2c8-46eb-a8d2-6f82f8168142",
   "metadata": {},
   "source": [
    "## Selenium"
   ]
  },
  {
   "cell_type": "code",
   "execution_count": 6,
   "id": "a406bf6d-ad3e-4e8a-a3dd-863f904b1cac",
   "metadata": {},
   "outputs": [],
   "source": [
    "# Package for scraping\n",
    "from selenium import webdriver\n",
    "from selenium.webdriver.chrome.options import Options\n",
    "from bs4 import BeautifulSoup\n",
    "import time"
   ]
  },
  {
   "cell_type": "code",
   "execution_count": 10,
   "id": "b81cdcbd-5ac0-4048-a138-5222f630a217",
   "metadata": {},
   "outputs": [
    {
     "data": {
      "text/plain": [
       "'https://www.walmart.ca/en/ip/mina-halal-whole-chicken/6000200224620'"
      ]
     },
     "execution_count": 10,
     "metadata": {},
     "output_type": "execute_result"
    }
   ],
   "source": [
    "query_url = \"https://www.walmart.ca/en/ip/mina-halal-whole-chicken/6000200224620\"\n",
    "query_url"
   ]
  },
  {
   "cell_type": "code",
   "execution_count": 11,
   "id": "da347146-fd0a-43f4-b263-be0678a66794",
   "metadata": {},
   "outputs": [],
   "source": [
    "# Define default options for Selenium webdriver\n",
    "chrome_options = webdriver.ChromeOptions()\n",
    "\n",
    "# Define command_executor, access this through localhost:4444\n",
    "command_executor = \"http://172.18.0.2:4444\"\n",
    "\n",
    "# Initiate webdriver, with command executor found within the Selenium Grid docker container\n",
    "# For this line to work, the `selenium/standalone-chrome:118.0` docker image\n",
    "driver = webdriver.Remote(\n",
    "    command_executor = command_executor,\n",
    "    options          = chrome_options\n",
    ")\n",
    "\n",
    "# Use the driver to scrape the url\n",
    "driver.get(query_url)\n",
    "\n",
    "# Extract the text of the response into a variable\n",
    "html = driver.page_source\n",
    "\n",
    "# Parse the response text using Beautiful Soup\n",
    "soup = BeautifulSoup(html, 'html.parser')"
   ]
  },
  {
   "cell_type": "code",
   "execution_count": 12,
   "id": "56adbccc-7c77-45cd-8b7e-32f206483646",
   "metadata": {
    "scrolled": true
   },
   "outputs": [
    {
     "data": {
      "text/plain": [
       "<html lang=\"en\"><head> <meta charset=\"utf-8\"/> <meta content=\"width=device-width, initial-scale=1\" name=\"viewport\"/> <title>Verify Your Identity</title> <script async=\"true\" crossorigin=\"anonymous\" src=\"https://tr.snapchat.com/config/ca/097dc97d-8c82-43e1-8345-bd71ce4d6718.js?v=3.4.15-2310302324\"></script><script async=\"\" src=\"https://www.googletagmanager.com/gtag/js?id=G-N1HN887KY7&amp;cx=c&amp;_slc=1\" type=\"text/javascript\"></script><script async=\"\" data-id=\"CGD36CJC77U35EGGTM80\" src=\"https://analytics.tiktok.com/i18n/pixel/static/main.MTdiNDNiZjZlMA.js\" type=\"text/javascript\"></script><script async=\"\" src=\"https://www.googletagmanager.com/gtag/js?id=DC-6835277&amp;l=dataLayer&amp;cx=c\" type=\"text/javascript\"></script><script async=\"\" src=\"https://www.googletagmanager.com/gtag/js?id=AW-1006251844&amp;l=dataLayer&amp;cx=c\" type=\"text/javascript\"></script><script async=\"\" src=\"https://www.googletagmanager.com/gtag/js?id=AW-981479961&amp;l=dataLayer&amp;cx=c\" type=\"text/javascript\"></script><script async=\"\" src=\"https://www.googletagmanager.com/gtag/js?id=AW-853020527&amp;l=dataLayer&amp;cx=c\" type=\"text/javascript\"></script><script async=\"\" src=\"https://www.google-analytics.com/plugins/ua/ec.js\" type=\"text/javascript\"></script><script async=\"\" src=\"https://connect.facebook.net/signals/config/1694855677400737?v=2.9.138&amp;r=stable&amp;domain=www.walmart.ca\"></script><script async=\"\" src=\"https://connect.facebook.net/en_US/fbevents.js\"></script><script async=\"\" src=\"https://analytics.tiktok.com/i18n/pixel/events.js?sdkid=CGD36CJC77U35EGGTM80&amp;lib=ttq\" type=\"text/javascript\"></script><script async=\"\" src=\"https://sc-static.net/scevent.min.js\"></script><script async=\"\" src=\"//bat.bing.com/bat.js\"></script><script async=\"\" src=\"https://sb.scorecardresearch.com/beacon.js\"></script><script>function getUrlVars(){var vars={};var parts=window.location.href.replace(/[?&]+([^=&]+)=([^&]*)/gi,function(m,key,value){vars[key]=value;});return vars;}\n",
       "function getUrlParam(parameter,defaultvalue){var urlparameter=defaultvalue;if(window.location.href.indexOf(parameter)>-1){urlparameter=getUrlVars()[parameter];}\n",
       "return urlparameter;}\n",
       "function sanitizeUuid(uuid){var regex=new RegExp(\"^\\\\b[0-9a-f]{8}\\\\b-[0-9a-f]{4}-[0-9a-f]{4}-[0-9a-f]{4}-\\\\b[0-9a-f]{12}\\\\b$\",\"g\");var match=regex.exec(uuid);return match!=null?uuid:\"\";}\n",
       "function addBlockID(){var blockId=sanitizeUuid(getUrlParam('uuid',''));document.getElementById(\"blockId1\").innerHTML=\"ID: \"+blockId;}\n",
       "function getCookie(name){var cookieArr=document.cookie.split(\";\");for(var i=0;i<cookieArr.length;i++){var cookiePair=cookieArr[i].split(\"=\");if(name==cookiePair[0].trim()){return decodeURIComponent(cookiePair[1]);}}\n",
       "return null;}</script> <script async=\"\" id=\"launchScript\" src=\"//assets.adobedtm.com/launch-ENb669ecb013cf4aa89de0580c69e13c1a.min.js\"></script> <script type=\"text/javascript\">window.walmart=window.walmart||{};window.walmart.analytics=window.walmart.analytics||{};window.walmart.analytics.dataLayer={channel:\"Bot Page\",host:window.location.host,pageName:\"Bot Protection Page\",pageType:\"Bot Protection Page\",language:(window.language||\"en\").indexOf(\"fr\")===\"0\"?\"French\":\"English\",persistentID:getCookie(\"walmart.id\"),referrer:document.referrer};var launchScript=document.getElementById(\"launchScript\");launchScript.async=true;launchScript.onload=function(){if(window._satellite&&window._satellite.track){window._satellite.track(\"pageLoadComplete\");}}\n",
       "launchScript.src=\"//assets.adobedtm.com/launch-ENb669ecb013cf4aa89de0580c69e13c1a.min.js\";</script>\n",
       "<style>\n",
       "@import url(https://fonts.googleapis.com/css?family=Roboto:400,500&display=swap);html,\n",
       "body{font-family:Roboto,Arial,Helvetica,sans-serif;font-style:normal;font-weight:400;margin:0;padding:0;color:#000}\n",
       "a{color:#c5c5c5;text-decoration:none}\n",
       "header{margin:40px 10%}\n",
       ".container{align-items:center;display:flex;flex:1;justify-content:space-between;flex-direction:column}\n",
       ".container>div{width:100%;display:flex;justify-content:center}\n",
       ".container>div>div{width:80%}\n",
       ".page-title-wrapper{flex-grow:2}\n",
       ".page-title{flex-direction:column-reverse}\n",
       ".content-wrapper{flex-grow:5}\n",
       ".content{flex-direction:column}\n",
       "#message{padding-bottom:2em}\n",
       "#px-captcha > p{color:#C00D1E}\n",
       "@media (min-width: 768px){\n",
       "html,\n",
       "body{height:100%}\n",
       "}\n",
       "</style><script async=\"\" src=\"https://www.google-analytics.com/analytics.js\"></script><script async=\"\" src=\"https://assets.adobedtm.com/extensions/EPb56e12d7054b4acea984e91c910051cc/AppMeasurement.min.js\"></script><script async=\"\" src=\"https://assets.adobedtm.com/extensions/EPb56e12d7054b4acea984e91c910051cc/AppMeasurement_Module_ActivityMap.min.js\"></script><script async=\"\" src=\"https://assets.adobedtm.com/30847013d771/bbc9df83fb26/b17d9e727d4f/RC55ddc9b19edc417d832d03b788ad593f-source.min.js\"></script><script async=\"\" src=\"https://assets.adobedtm.com/30847013d771/bbc9df83fb26/b17d9e727d4f/RC66b2189ab8f3449ba0b208760f128d98-source.min.js\"></script><script async=\"\" src=\"https://assets.adobedtm.com/30847013d771/bbc9df83fb26/b17d9e727d4f/RCfb849ca488e24c6e8b70a174d98c989f-source.min.js\"></script><script async=\"\" src=\"https://assets.adobedtm.com/30847013d771/bbc9df83fb26/b17d9e727d4f/RC1090dff22efd4ab491a29d6ac38a1092-source.min.js\"></script><script async=\"\" src=\"https://assets.adobedtm.com/30847013d771/bbc9df83fb26/b17d9e727d4f/RC219d9c6e2a8940c1b1ec31831e55142a-source.min.js\"></script><script async=\"\" src=\"https://assets.adobedtm.com/30847013d771/bbc9df83fb26/b17d9e727d4f/RC1c83146aa5de41fa9e402e31575380be-source.min.js\"></script><script async=\"\" src=\"https://assets.adobedtm.com/30847013d771/bbc9df83fb26/b17d9e727d4f/RC021514eac6f841aaab3a80fbdbd37b5a-source.min.js\"></script><script async=\"\" src=\"https://assets.adobedtm.com/30847013d771/bbc9df83fb26/b17d9e727d4f/RC5fbd4a702c144e48acffb89daa1731fe-source.min.js\"></script><script async=\"\" src=\"https://www.googletagmanager.com/gtag/js?id=DC-6222457&amp;l=dataLayer\"></script><script async=\"\" src=\"https://assets.adobedtm.com/30847013d771/bbc9df83fb26/b17d9e727d4f/RC6e71cf24d5ee4bed85e7ff3b80387fb4-source.min.js\"></script><script async=\"\" src=\"https://assets.adobedtm.com/30847013d771/bbc9df83fb26/b17d9e727d4f/RCa79cb4e2bac8443aa0d3d8a60d80e09c-source.min.js\"></script><script async=\"\" src=\"https://assets.adobedtm.com/30847013d771/bbc9df83fb26/b17d9e727d4f/RC9e057dfda2f34a6f8cc3fe4ce1019977-source.min.js\"></script><script async=\"\" src=\"https://assets.adobedtm.com/30847013d771/bbc9df83fb26/b17d9e727d4f/RCaabd941a571e4e6c8743414af8a7d99b-source.min.js\"></script><script async=\"\" src=\"https://assets.adobedtm.com/30847013d771/bbc9df83fb26/b17d9e727d4f/RCf2e8a60c6eec4acfa855d8c97754d787-source.min.js\"></script><script async=\"\" src=\"https://assets.adobedtm.com/30847013d771/bbc9df83fb26/b17d9e727d4f/RC13bea7aaada541eb87fc654821114b93-source.min.js\"></script><script async=\"\" src=\"https://assets.adobedtm.com/30847013d771/bbc9df83fb26/b17d9e727d4f/RC7e68d701da4544b983f2609b1a3dfaaa-source.min.js\"></script><script async=\"\" src=\"//dynamic.criteo.com/js/ld/ld.js?a=20510\"></script><style type=\"text/css\">.px-loader-wrapper {    display: flex;}@keyframes loadingEffect {    0% {        background-position: 0;    }    100% {        background-position: 60vw;    }}.px-inner-loading-area {    width: 310px;    height: 100px;    animation-name: loadingEffect;    animation-duration: 1.2s;    animation-iteration-count: infinite;    animation-timing-function: ease;    animation-fill-mode: forwards;    background: linear-gradient(to right, #f6f6f6 8%, #f0f0f0 18%, #f6f6f6 33%);}.px-loading-area {    width: 310px;    height: 100px;    margin: undefined;}</style><script src=\"/px/PXnp9B16Cq/init.js\"></script><script async=\"\" data-ueto=\"ueto_17ff12fe4b\" src=\"https://bat.bing.com/p/action/6026829.js\" type=\"text/javascript\"></script><script async=\"\" src=\"//www.hlserve.com/Delivery/ClientPaths/Library/onetag.js?cid=176\" type=\"text/javascript\"></script><meta content=\"AymqwRC7u88Y4JPvfIF2F37QKylC04248hLCdJAsh8xgOfe/dVJPV3XS3wLFca1ZMVOtnBfVjaCMTVudWM//5g4AAAB7eyJvcmlnaW4iOiJodHRwczovL3d3dy5nb29nbGV0YWdtYW5hZ2VyLmNvbTo0NDMiLCJmZWF0dXJlIjoiUHJpdmFjeVNhbmRib3hBZHNBUElzIiwiZXhwaXJ5IjoxNjk1MTY3OTk5LCJpc1RoaXJkUGFydHkiOnRydWV9\" http-equiv=\"origin-trial\"/><script async=\"\" src=\"https://googleads.g.doubleclick.net/pagead/viewthroughconversion/853020527/?random=1699129072464&amp;cv=11&amp;fst=1699129072464&amp;bg=ffffff&amp;guid=ON&amp;async=1&amp;gtm=45be3b11&amp;gcd=11l1l1l1l1&amp;u_w=1360&amp;u_h=1020&amp;url=https%3A%2F%2Fwww.walmart.ca%2Fblocked%3Furl%3DL2VuL2lwL21pbmEtaGFsYWwtd2hvbGUtY2hpY2tlbi82MDAwMjAwMjI0NjIw%26uuid%3D3a69780e-7b4f-11ee-9b28-27d69ec324cb%26vid%3D%26g%3Db&amp;hn=www.googleadservices.com&amp;frm=0&amp;tiba=Verify%20Your%20Identity&amp;auid=1415045161.1699129072&amp;uaa=x86&amp;uab=64&amp;uafvl=Chromium%3B118.0.5993.117%7CGoogle%2520Chrome%3B118.0.5993.117%7CNot%253DA%253FBrand%3B99.0.0.0&amp;uamb=0&amp;uap=Linux&amp;uapv=6.4.16&amp;uaw=0&amp;data=event%3Dgtag.config&amp;rfmt=3&amp;fmt=4\" type=\"text/javascript\"></script><meta content=\"AymqwRC7u88Y4JPvfIF2F37QKylC04248hLCdJAsh8xgOfe/dVJPV3XS3wLFca1ZMVOtnBfVjaCMTVudWM//5g4AAAB7eyJvcmlnaW4iOiJodHRwczovL3d3dy5nb29nbGV0YWdtYW5hZ2VyLmNvbTo0NDMiLCJmZWF0dXJlIjoiUHJpdmFjeVNhbmRib3hBZHNBUElzIiwiZXhwaXJ5IjoxNjk1MTY3OTk5LCJpc1RoaXJkUGFydHkiOnRydWV9\" http-equiv=\"origin-trial\"/><script async=\"\" src=\"https://googleads.g.doubleclick.net/pagead/viewthroughconversion/981479961/?random=1699129072530&amp;cv=11&amp;fst=1699129072530&amp;bg=ffffff&amp;guid=ON&amp;async=1&amp;gtm=45be3b11&amp;gcd=11l1l1l1l1&amp;u_w=1360&amp;u_h=1020&amp;url=https%3A%2F%2Fwww.walmart.ca%2Fblocked%3Furl%3DL2VuL2lwL21pbmEtaGFsYWwtd2hvbGUtY2hpY2tlbi82MDAwMjAwMjI0NjIw%26uuid%3D3a69780e-7b4f-11ee-9b28-27d69ec324cb%26vid%3D%26g%3Db&amp;hn=www.googleadservices.com&amp;frm=0&amp;tiba=Verify%20Your%20Identity&amp;auid=1415045161.1699129072&amp;uaa=x86&amp;uab=64&amp;uafvl=Chromium%3B118.0.5993.117%7CGoogle%2520Chrome%3B118.0.5993.117%7CNot%253DA%253FBrand%3B99.0.0.0&amp;uamb=0&amp;uap=Linux&amp;uapv=6.4.16&amp;uaw=0&amp;data=event%3Dgtag.config&amp;rfmt=3&amp;fmt=4\" type=\"text/javascript\"></script><meta content=\"AymqwRC7u88Y4JPvfIF2F37QKylC04248hLCdJAsh8xgOfe/dVJPV3XS3wLFca1ZMVOtnBfVjaCMTVudWM//5g4AAAB7eyJvcmlnaW4iOiJodHRwczovL3d3dy5nb29nbGV0YWdtYW5hZ2VyLmNvbTo0NDMiLCJmZWF0dXJlIjoiUHJpdmFjeVNhbmRib3hBZHNBUElzIiwiZXhwaXJ5IjoxNjk1MTY3OTk5LCJpc1RoaXJkUGFydHkiOnRydWV9\" http-equiv=\"origin-trial\"/><script async=\"\" src=\"https://googleads.g.doubleclick.net/pagead/viewthroughconversion/1006251844/?random=1699129072623&amp;cv=11&amp;fst=1699129072623&amp;bg=ffffff&amp;guid=ON&amp;async=1&amp;gtm=45be3b11v896736413&amp;gcd=11l1l1l1l1&amp;u_w=1360&amp;u_h=1020&amp;url=https%3A%2F%2Fwww.walmart.ca%2Fblocked%3Furl%3DL2VuL2lwL21pbmEtaGFsYWwtd2hvbGUtY2hpY2tlbi82MDAwMjAwMjI0NjIw%26uuid%3D3a69780e-7b4f-11ee-9b28-27d69ec324cb%26vid%3D%26g%3Db&amp;hn=www.googleadservices.com&amp;frm=0&amp;tiba=Verify%20Your%20Identity&amp;auid=1415045161.1699129072&amp;uaa=x86&amp;uab=64&amp;uafvl=Chromium%3B118.0.5993.117%7CGoogle%2520Chrome%3B118.0.5993.117%7CNot%253DA%253FBrand%3B99.0.0.0&amp;uamb=0&amp;uap=Linux&amp;uapv=6.4.16&amp;uaw=0&amp;data=event%3Dgtag.config&amp;rfmt=3&amp;fmt=4\" type=\"text/javascript\"></script><script charset=\"utf-8\" src=\"https://analytics.tiktok.com/i18n/pixel/static/identify_7b38b.js\"></script><meta content=\"AymqwRC7u88Y4JPvfIF2F37QKylC04248hLCdJAsh8xgOfe/dVJPV3XS3wLFca1ZMVOtnBfVjaCMTVudWM//5g4AAAB7eyJvcmlnaW4iOiJodHRwczovL3d3dy5nb29nbGV0YWdtYW5hZ2VyLmNvbTo0NDMiLCJmZWF0dXJlIjoiUHJpdmFjeVNhbmRib3hBZHNBUElzIiwiZXhwaXJ5IjoxNjk1MTY3OTk5LCJpc1RoaXJkUGFydHkiOnRydWV9\" http-equiv=\"origin-trial\"/></head> <body> <header> <svg height=\"47.016\" viewbox=\"0 0 188.414 47.016\" width=\"188.41\"> <path d=\"M.942 10.272s4.639 19.006 5.379 22.09c.864 3.602 2.42 4.927 6.91 4.033l2.895-11.784c.735-2.927 1.227-5.013 1.699-7.99h.083c.331 3.006.803 5.072 1.407 8 0 0 1.18 5.35 1.783 8.16.606 2.809 2.29 4.579 6.687 3.615l6.9-26.122h-5.571l-2.356 11.294c-.633 3.287-1.208 5.856-1.651 8.863h-.079c-.403-2.977-.915-5.444-1.559-8.647l-2.453-11.51H15.21l-2.624 11.22c-.744 3.41-1.44 6.163-1.881 9.068h-.08a318.737 318.737 0 0 0-1.71-9.497S7.359 13.04 6.812 10.274H.943zm53.115 0v26.122h5.305V10.27h-5.305zm74.713 0v19.27c0 2.658.5 4.52 1.57 5.656.934.995 2.474 1.64 4.319 1.64 1.568 0 3.111-.298 3.838-.57l-.068-4.145a8.065 8.065 0 0 1-2.015.24c-1.807 0-2.413-1.157-2.413-3.543v-7.373h4.62v-4.998H134v-6.177h-5.231zm-86.567 6.055c-3.297 0-5.914.926-7.34 1.75l1.043 3.575c1.306-.823 3.384-1.504 5.353-1.504 3.258-.009 3.791 1.842 3.791 3.03v.28c-7.1-.01-11.586 2.447-11.586 7.455 0 3.058 2.283 5.924 6.254 5.924 2.444 0 4.488-.975 5.713-2.537h.12s.811 3.392 5.28 2.095c-.235-1.411-.311-2.917-.311-4.73v-6.978c0-4.448-1.899-8.36-8.317-8.36zm31.732 0c-3.32 0-4.811 1.683-5.716 3.11h-.078V16.77h-5.063v19.625h5.333V24.886c0-.54.062-1.11.25-1.606.442-1.16 1.52-2.515 3.241-2.515 2.152 0 3.16 1.82 3.16 4.445v11.185h5.326V24.747c0-.515.071-1.136.223-1.591.438-1.318 1.6-2.39 3.2-2.39 2.181 0 3.228 1.787 3.228 4.876v10.753h5.331V24.837c0-6.096-3.095-8.51-6.589-8.51-1.547 0-2.769.388-3.873 1.066-.928.57-1.759 1.38-2.485 2.445h-.079c-.845-2.115-2.827-3.51-5.41-3.51zm29.285 0c-3.296 0-5.912.926-7.34 1.75l1.045 3.575c1.304-.823 3.384-1.504 5.352-1.504 3.256-.009 3.79 1.842 3.79 3.03v.28c-7.1-.01-11.585 2.447-11.585 7.455 0 3.058 2.284 5.924 6.256 5.924 2.442 0 4.487-.975 5.71-2.537h.12s.812 3.392 5.281 2.095c-.235-1.411-.31-2.917-.31-4.73v-6.978c0-4.448-1.9-8.36-8.319-8.36zm22.147 0c-2.043 0-4.366 1.319-5.341 4.144h-.15v-3.7h-4.8v19.624h5.473v-10.05c0-.541.033-1.014.118-1.447.405-2.105 2.015-3.451 4.326-3.451.635 0 1.089.069 1.58.14v-5.138a5.273 5.273 0 0 0-1.206-.122zM45.222 26.936v2.448c0 .362-.032.736-.132 1.063-.41 1.36-1.82 2.508-3.58 2.508-1.468 0-2.635-.833-2.635-2.595 0-2.696 2.968-3.442 6.347-3.424zm61.017 0v2.448c0 .362-.032.736-.132 1.063-.41 1.36-1.818 2.508-3.58 2.508-1.468 0-2.634-.833-2.634-2.595 0-2.696 2.968-3.442 6.346-3.424z\" fill=\"#007dc6\"></path> <path d=\"M167.303.824c-1.713 0-3.074.957-3.074 2.121l1.04 11.777c.115.71.984 1.257 2.034 1.257 1.053-.002 1.92-.549 2.037-1.257l1.045-11.777c0-1.164-1.365-2.12-3.08-2.12zm-16.95 9.447c-.888.021-1.898.694-2.54 1.808-.86 1.483-.708 3.141.298 3.722l10.717 4.992c.67.249 1.58-.227 2.106-1.135.529-.912.488-1.938-.069-2.393l-9.68-6.79a1.564 1.564 0 0 0-.83-.204zm33.898 0a1.56 1.56 0 0 0-.83.204l-9.68 6.79c-.554.455-.595 1.48-.069 2.393.53.908 1.435 1.384 2.105 1.135l10.723-4.991c1.009-.582 1.154-2.24.3-3.723-.645-1.114-1.657-1.787-2.546-1.808zM159.23 25.81a1.086 1.086 0 0 0-.4.067l-10.717 4.985c-1.005.584-1.157 2.242-.298 3.727.856 1.48 2.366 2.184 3.372 1.604l9.68-6.785c.557-.46.599-1.486.07-2.397l.004.002c-.428-.743-1.11-1.195-1.711-1.203zm16.152 0c-.6.008-1.281.46-1.71 1.203l.004-.002c-.527.911-.486 1.937.068 2.397l9.681 6.785c1.004.58 2.515-.124 3.376-1.604.853-1.485.708-3.143-.301-3.727l-10.72-4.985a1.084 1.084 0 0 0-.398-.067zm-8.08 4.88c-1.049.002-1.916.547-2.03 1.255l-1.04 11.776c0 1.166 1.36 2.12 3.073 2.12 1.716 0 3.08-.954 3.08-2.12l-1.043-11.776c-.117-.708-.983-1.253-2.036-1.254h-.004z\" fill=\"#ffc220\"></path> </svg> </header> <section class=\"container\"> <div class=\"page-title-wrapper\"> <div class=\"page-title\" id=\"topmessage\"><h1>We like real shoppers, not robots!</h1></div> </div> <div class=\"content-wrapper\"> <div class=\"content\"> <p id=\"message\">Please press and hold the button below to verify yourself so we can keep spam bots off of Walmart.ca.</p> <script>var languagecookie=getCookie('walmart.locale');var language=languagecookie||window.navigator.userLanguage||window.navigator.language;if(language.startsWith(\"fr\")){document.title='Vérifiez votre identité';document.getElementById('topmessage').innerHTML='<h1>Nous apprécions les vrais clients, pas les robots!</h1>';document.getElementById('message').innerHTML='Veuillez appuyer et maintenir le bouton ci-dessous pour vous vérifier afin que nous puissions empêcher les robots d’accéder au Walmart.ca!';document.getElementById('adblock-message').innerHTML='Veuillez désactiver les bloqueurs de publicité pour continuer.';}</script> <div aria-label=\"Human challenge\" id=\"px-captcha\" role=\"region\" style=\"display: block; min-width: 310px;\"><iframe style=\"display: none; width: 100%; height: 100px; border: 0px; user-select: none;\" title=\"Human verification challenge\" token=\"91f64502b28637b4289eddfb598b22b6d796ce43e10f3dfa46ed95a2c2c8908f0eba7372319234b3f5ef6b169ce86c4e6752ac918b4a94ca13a348f25fc8f6a5\"></iframe></div> <br/> </div> </div> </section> <script>window._pxAppId='PXnp9B16Cq';window._pxJsClientSrc='/px/'+window._pxAppId+'/init.js';window._pxFirstPartyEnabled=true;window._pxHostUrl='/px/'+window._pxAppId+'/xhr';window._pxreCaptchaTheme='light';window[\"_\"+window._pxAppId]={locale:language};var hc=getUrlParam('g','a');var captchajs=\"/px/\"+window._pxAppId+\"/captcha/captcha.js?a=c&m=0&g=\"+hc</script> <script id=\"blockScript\" src=\"/px/PXnp9B16Cq/captcha/captcha.js?a=c&amp;m=0&amp;g=b\"></script> <script>document.getElementById('blockScript').src=captchajs;</script> <script>_satellite[\"_runScript1\"](function(event, target, Promise) {\n",
       "\"French\"==_satellite.getVar(\"pageLanguage\")?criteoAcct=\"21055\":criteoAcct=\"20510\";var script_src=\"//dynamic.criteo.com/js/ld/ld.js?a=\"+criteoAcct;_sdiToolkit.reactor.loadScript(script_src);\n",
       "});</script><script>_satellite[\"_runScript2\"](function(event, target, Promise) {\n",
       "window._comscore=window._comscore||[],window._comscore.push({c1:\"2\",c2:\"7100745\"+_satellite.getVar(\"3ppEnv\"),c8:\"Walmart Canada\",c9:document.referrer}),function(){var e=document.createElement(\"script\"),c=document.getElementsByTagName(\"script\")[0];e.async=!0,e.src=(\"https:\"==document.location.protocol?\"https://sb\":\"http://b\")+\".scorecardresearch.com/beacon.js\",c.parentNode.insertBefore(e,c)}();\n",
       "});</script><script>_satellite[\"_runScript3\"](function(event, target, Promise) {\n",
       "!function(e,t,a,n,o){var r,c,d;e[o]=e[o]||[],r=function(){var t={ti:\"6026829\"+_satellite.getVar(\"3ppEnv\")};t.q=e[o],e[o]=new UET(t),e[o].push(\"pageLoad\")},(c=t.createElement(a)).src=n,c.async=1,c.onload=c.onreadystatechange=function(){var e=this.readyState;e&&\"loaded\"!==e&&\"complete\"!==e||(r(),c.onload=c.onreadystatechange=null)},(d=t.getElementsByTagName(a)[0]).parentNode.insertBefore(c,d)}(window,document,\"script\",\"//bat.bing.com/bat.js\",\"uetq\");\n",
       "});</script><script>\n",
       "!function(e,t,n){if(!e.snaptr){var a=e.snaptr=function(){a.handleRequest?a.handleRequest.apply(a,arguments):a.queue.push(arguments)};a.queue=[];var s=\"script\";r=t.createElement(s),r.async=!0,r.src=n;var c=t.getElementsByTagName(s)[0];c.parentNode.insertBefore(r,c)}}(window,document,\"https://sc-static.net/scevent.min.js\"),snaptr(\"init\",\"097dc97d-8c82-43e1-8345-bd71ce4d6718\"),snaptr(\"track\",\"PAGE_VIEW\");\n",
       "</script><script>_satellite[\"_runScript4\"](function(event, target, Promise) {\n",
       "fbq(\"track\",\"PageView\",{},{eventID:_satellite.getVar(\"event_id\")});\n",
       "});</script><script>_satellite[\"_runScript5\"](function(event, target, Promise) {\n",
       "!function(e,t,n){e.TiktokAnalyticsObject=n;var o=e[n]=e[n]||[];o.methods=[\"page\",\"track\",\"identify\",\"instances\",\"debug\",\"on\",\"off\",\"once\",\"ready\",\"alias\",\"group\",\"enableCookie\",\"disableCookie\"],o.setAndDefer=function(e,t){e[t]=function(){e.push([t].concat(Array.prototype.slice.call(arguments,0)))}};for(var i=0;i<o.methods.length;i++)o.setAndDefer(o,o.methods[i]);o.instance=function(e){for(var t=o._i[e]||[],n=0;n<o.methods.length;n++)o.setAndDefer(t,o.methods[n]);return t},o.load=function(e,t){var i=\"https://analytics.tiktok.com/i18n/pixel/events.js\";o._i=o._i||{},o._i[e]=[],o._i[e]._u=i,o._t=o._t||{},o._t[e]=+new Date,o._o=o._o||{},o._o[e]=t||{},(t=document.createElement(\"script\")).type=\"text/javascript\",t.async=!0,t.src=i+\"?sdkid=\"+e+\"&lib=\"+n,(e=document.getElementsByTagName(\"script\")[0]).parentNode.insertBefore(t,e)},o.load(\"CGD36CJC77U35EGGTM80\"),o.page()}(window,document,\"ttq\");\n",
       "});</script><script>_satellite[\"_runScript6\"](function(event, target, Promise) {\n",
       "var final_cmpid,final_utm_campaign,path=window.location.pathname,url=document.URL,cmpid_check=/[?&]CMPID=([^&]+)/i,MATCH=cmpid_check.exec(url);null!=MATCH&&(final_cmpid=MATCH[1]),ga(\"set\",\"dimension24\",final_cmpid),_satellite.setVar(\"CMPID\",final_cmpid);var final_utm_source,utm_campaign_check=/[?&]utm_campaign=([^&]+)/i,match=utm_campaign_check.exec(url);null!=match&&(final_utm_campaign=match[1]);var final_utm_medium,utm_source_check=/[?&]utm_source=([^&]+)/i,matchs=utm_source_check.exec(url);null!=matchs&&(final_utm_source=matchs[1]);var final_utm_term,utm_campaign_medium=/[?&]utm_medium=([^&]+)/i,matchm=utm_campaign_medium.exec(url);null!=matchm&&(final_utm_medium=matchm[1]);var utm_campaign_term=/[?&]utm_term=([^&]+)/i,matcht=utm_campaign_term.exec(url);if(null!=matcht&&(final_utm_term=matcht[1]),_satellite.logger.log(\"location.search.match: \"+location.search.match),null!=MATCH&&(location.search.match(\"CMPID\")||location.search.match(\"cmpid\"))){if(ga(\"set\",\"campaignName\",final_cmpid),location.search.match(\"utm_source\"))ga(\"set\",\"campaignSource\",final_utm_source);else{var updateSource=document.referrer.split(\"?\")[0];ga(\"set\",\"campaignSource\",updateSource)}if(location.search.match(\"utm_medium\"))ga(\"set\",\"campaignMedium\",final_utm_medium);else{var str=final_cmpid,REG=new RegExp(\"([^-_]*-)?([^_]*)([^&]*)\"),updateMedium=str.match(REG)[2];ga(\"set\",\"campaignMedium\",updateMedium)}}\n",
       "});</script><script>_satellite[\"_runScript7\"](function(event, target, Promise) {\n",
       "if(\"object\"==typeof walmartRequireHelpers&&\"function\"==typeof walmartRequireHelpers.whenRequireDone){var localStorageReferrer=localStorage.getItem(\"previousPage\");localStorageReferrer==document.URL||localStorage.setItem(\"previousPage\",document.URL)}\n",
       "});</script><script>\n",
       "window.analyticsFired=\"1\";\n",
       "</script><script>_satellite[\"_runScript8\"](function(event, target, Promise) {\n",
       "fbq(\"track\",\"PageView\",{},{eventID:_satellite.getVar(\"event_id\")});\n",
       "});</script><script>_satellite[\"_runScript9\"](function(event, target, Promise) {\n",
       "!function(e,n,t,o,c,s,a){e.fbq||(c=e.fbq=function(){c.callMethod?c.callMethod.apply(c,arguments):c.queue.push(arguments)},e._fbq||(e._fbq=c),c.push=c,c.loaded=!0,c.version=\"2.0\",c.queue=[],(s=n.createElement(t)).async=!0,s.src=o,(a=n.getElementsByTagName(t)[0]).parentNode.insertBefore(s,a))}(window,document,\"script\",\"https://connect.facebook.net/en_US/fbevents.js\"),fbq(\"init\",\"1694855677400737\");\n",
       "});</script><iframe class=\"aamIframeLoaded\" id=\"destination_publishing_iframe_walmart-wmi_0\" name=\"destination_publishing_iframe_walmart-wmi_0_name\" sandbox=\"allow-scripts allow-same-origin\" src=\"https://walmart-wmi.demdex.net/dest5.html?d_nsid=0#https%3A%2F%2Fwww.walmart.ca\" style=\"display: none; width: 0px; height: 0px;\" title=\"Adobe ID Syncing iFrame\"></iframe><div id=\"batBeacon139314125334\" style=\"width: 0px; height: 0px; display: none; visibility: hidden;\"><img alt=\"\" height=\"0\" id=\"batBeacon94024948817\" src=\"https://bat.bing.com/action/0?ti=6026829&amp;Ver=2&amp;mid=7432df29-ffdd-448d-91cc-42b86309f501&amp;sid=3b2e62e07b4f11ee981c117390eb475c&amp;vid=3b2eb9007b4f11ee829023ad894352dd&amp;vids=1&amp;msclkid=N&amp;pi=918639831&amp;lg=en-US&amp;sw=1360&amp;sh=1020&amp;sc=24&amp;nwd=1&amp;tl=Verify%20Your%20Identity&amp;p=https%3A%2F%2Fwww.walmart.ca%2Fblocked%3Furl%3DL2VuL2lwL21pbmEtaGFsYWwtd2hvbGUtY2hpY2tlbi82MDAwMjAwMjI0NjIw%26uuid%3D3a69780e-7b4f-11ee-9b28-27d69ec324cb%26vid%3D%26g%3Db&amp;r=&amp;lt=580&amp;evt=pageLoad&amp;sv=1&amp;rn=743737\" style=\"width: 0px; height: 0px; display: none; visibility: hidden;\" width=\"0\"/></div><div id=\"criteo-tags-div\" style=\"display: none;\"><iframe frameborder=\"0\" height=\"0\" id=\"criteo-syncframe-onetag\" src='https://gum.criteo.com/syncframe?topUrl=www.walmart.ca&amp;origin=onetag#{\"bundle\":{\"origin\":0,\"value\":null},\"cw\":true,\"optout\":{\"origin\":0,\"value\":null},\"origin\":\"onetag\",\"sid\":{\"origin\":0,\"value\":null},\"tld\":\"walmart.ca\",\"topUrl\":\"www.walmart.ca\",\"version\":\"5_20_0\",\"ifa\":{\"origin\":0,\"value\":null},\"lsw\":true,\"pm\":0}' style=\"border-width:0px; margin:0px; display:none\" title=\"Criteo GUM iframe\" width=\"0\"></iframe></div></body><iframe id=\"__JSBridgeIframe_1.0__\" style=\"display: none;\" title=\"jsbridge___JSBridgeIframe_1.0__\"></iframe><iframe id=\"__JSBridgeIframe_SetResult_1.0__\" style=\"display: none;\" title=\"jsbridge___JSBridgeIframe_SetResult_1.0__\"></iframe><iframe id=\"__JSBridgeIframe__\" style=\"display: none;\" title=\"jsbridge___JSBridgeIframe__\"></iframe><iframe id=\"__JSBridgeIframe_SetResult__\" style=\"display: none;\" title=\"jsbridge___JSBridgeIframe_SetResult__\"></iframe></html>"
      ]
     },
     "execution_count": 12,
     "metadata": {},
     "output_type": "execute_result"
    }
   ],
   "source": [
    "soup"
   ]
  },
  {
   "cell_type": "code",
   "execution_count": null,
   "id": "f108a808-826f-4135-bb85-2c276ea9c356",
   "metadata": {},
   "outputs": [],
   "source": [
    "# Append title\n",
    "try:\n",
    "    dict[\"prod_name\"].append(soup.find(\"h1\").text)\n",
    "\n",
    "# Append unit price\n",
    "try:\n",
    "    dict[\"prod_unit_price\"].append(soup.find(\"span\",{\"class\":\"mr2 gray\"}).text)\n",
    "except:\n",
    "    dict[\"prod_unit_price\"].append(np.NaN)\n",
    "\n",
    "# Append price\n",
    "try:\n",
    "    dict[\"prod_price\"].append(soup.find(\"span\",{\"itemprop\":\"price\"}).text)\n",
    "except:\n",
    "    dict[\"prod_price\"].append(np.NaN)\n",
    "\n",
    "# Rest to avoid server targetting\n",
    "time.sleep(10)\n",
    "\n",
    "print(f\"Completed {index + 1} of {len(ing_source_df['ing_url'])}.\", end = \"\\r\")"
   ]
  },
  {
   "cell_type": "code",
   "execution_count": 13,
   "id": "5fe97a2b-105a-4690-b50a-b417a296e179",
   "metadata": {},
   "outputs": [
    {
     "data": {
      "text/plain": [
       "'We like real shoppers, not robots!'"
      ]
     },
     "execution_count": 13,
     "metadata": {},
     "output_type": "execute_result"
    }
   ],
   "source": [
    "soup.find(\"h1\").text"
   ]
  },
  {
   "cell_type": "code",
   "execution_count": 14,
   "id": "2a0b694a-1f67-4036-8b33-dda45c33c2eb",
   "metadata": {},
   "outputs": [],
   "source": [
    "driver.quit()"
   ]
  },
  {
   "cell_type": "markdown",
   "id": "fb3211df-7f8e-4daf-8db2-1061500c8163",
   "metadata": {},
   "source": [
    "## Selenium #2"
   ]
  },
  {
   "cell_type": "code",
   "execution_count": 15,
   "id": "d568f0e4-5845-4c4c-b142-73ec808b2687",
   "metadata": {},
   "outputs": [],
   "source": [
    "# Package for scraping\n",
    "from selenium import webdriver\n",
    "from selenium.webdriver.chrome.options import Options\n",
    "from bs4 import BeautifulSoup\n",
    "import time\n",
    "\n",
    "query_url = \"https://www.walmart.ca/en/ip/mina-halal-whole-chicken/6000200224620\"\n",
    "query_url\n",
    "\n",
    "# Define default options for Selenium webdriver\n",
    "chrome_options = webdriver.ChromeOptions()\n",
    "\n",
    "# Define command_executor, access this through localhost:4444\n",
    "command_executor = \"http://172.18.0.2:4444\"\n",
    "\n",
    "# Initiate webdriver, with command executor found within the Selenium Grid docker container\n",
    "# For this line to work, the `selenium/standalone-chrome:118.0` docker image\n",
    "driver = webdriver.Remote(\n",
    "    command_executor = command_executor,\n",
    "    options          = chrome_options\n",
    ")\n",
    "\n",
    "# Use the driver to scrape the url\n",
    "driver.get(query_url)"
   ]
  },
  {
   "cell_type": "code",
   "execution_count": 16,
   "id": "b85d119c-11e3-4d6b-89bb-12bf39727b8e",
   "metadata": {},
   "outputs": [
    {
     "name": "stdout",
     "output_type": "stream",
     "text": [
      "We like real shoppers, not robots!\n"
     ]
    }
   ],
   "source": [
    "from selenium.webdriver.common.by import By\n",
    "\n",
    "title = driver.find_element(By.TAG_NAME, \"h1\")\n",
    "print(title.text)"
   ]
  },
  {
   "cell_type": "code",
   "execution_count": 17,
   "id": "1e209cda-16b1-45e8-a5b6-62377c87e9bc",
   "metadata": {},
   "outputs": [],
   "source": [
    "driver.quit()"
   ]
  },
  {
   "cell_type": "markdown",
   "id": "552447b7-12b2-4bb1-81ee-94c4403020d0",
   "metadata": {},
   "source": [
    "Accessing specific part of the driver instead of reading page_source does not help."
   ]
  },
  {
   "cell_type": "markdown",
   "id": "c32df6fc-4f90-491b-bf81-b902b7504c20",
   "metadata": {},
   "source": [
    "## Selenium 3 Add user agent"
   ]
  },
  {
   "cell_type": "code",
   "execution_count": 18,
   "id": "921bf2fb-6397-432d-8124-6c55ed7c45d1",
   "metadata": {},
   "outputs": [],
   "source": [
    "# Package for scraping\n",
    "from selenium import webdriver\n",
    "from selenium.webdriver.chrome.options import Options\n",
    "from bs4 import BeautifulSoup\n",
    "import time\n",
    "\n",
    "query_url = \"https://www.walmart.ca/en/ip/mina-halal-whole-chicken/6000200224620\"\n",
    "query_url\n",
    "\n",
    "# Define default options for Selenium webdriver\n",
    "chrome_options = webdriver.ChromeOptions()\n",
    "chrome_options.add_argument('--user-agent=\"Mozilla/5.0 (Windows Phone 10.0; Android 4.2.1; Microsoft; Lumia 640 XL LTE) AppleWebKit/537.36 (KHTML, like Gecko) Chrome/42.0.2311.135 Mobile Safari/537.36 Edge/12.10166\"')\n",
    "\n",
    "# Define command_executor, access this through localhost:4444\n",
    "command_executor = \"http://172.18.0.2:4444\"\n",
    "\n",
    "# Initiate webdriver, with command executor found within the Selenium Grid docker container\n",
    "# For this line to work, the `selenium/standalone-chrome:118.0` docker image\n",
    "driver = webdriver.Remote(\n",
    "    command_executor = command_executor,\n",
    "    options          = chrome_options\n",
    ")\n",
    "\n",
    "# Use the driver to scrape the url\n",
    "driver.get(query_url)"
   ]
  },
  {
   "cell_type": "code",
   "execution_count": 19,
   "id": "c8015ecb-ebc2-4d8e-9726-a6ae75cb37af",
   "metadata": {},
   "outputs": [
    {
     "name": "stdout",
     "output_type": "stream",
     "text": [
      "We like real shoppers, not robots!\n"
     ]
    }
   ],
   "source": [
    "from selenium.webdriver.common.by import By\n",
    "\n",
    "title = driver.find_element(By.TAG_NAME, \"h1\")\n",
    "print(title.text)"
   ]
  },
  {
   "cell_type": "code",
   "execution_count": null,
   "id": "4f862b79-8269-45fa-8e7c-f21a5157a9fe",
   "metadata": {},
   "outputs": [],
   "source": []
  }
 ],
 "metadata": {
  "kernelspec": {
   "display_name": "Python 3 (ipykernel)",
   "language": "python",
   "name": "python3"
  },
  "language_info": {
   "codemirror_mode": {
    "name": "ipython",
    "version": 3
   },
   "file_extension": ".py",
   "mimetype": "text/x-python",
   "name": "python",
   "nbconvert_exporter": "python",
   "pygments_lexer": "ipython3",
   "version": "3.10.13"
  }
 },
 "nbformat": 4,
 "nbformat_minor": 5
}
