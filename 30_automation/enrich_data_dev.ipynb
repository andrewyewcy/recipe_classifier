{
 "cells": [
  {
   "cell_type": "markdown",
   "id": "f2627a51-8c5e-42ea-b0fb-e4b7c2fc87b7",
   "metadata": {},
   "source": [
    "Goal: Extract ingredients and amounts from web-scrape"
   ]
  },
  {
   "cell_type": "code",
   "execution_count": 20,
   "id": "fb2c392b-ebc9-4d18-9c29-b457f7fe3675",
   "metadata": {},
   "outputs": [],
   "source": [
    "import numpy as np\n",
    "import pandas as pd\n",
    "import ast"
   ]
  },
  {
   "cell_type": "code",
   "execution_count": 11,
   "id": "15bbd247-2362-419e-b9ac-8491b8731617",
   "metadata": {},
   "outputs": [],
   "source": [
    "df = pd.read_csv(\"../11_raw_data/20231031-2328_scraped_fc_recipes.csv\", index_col = 0)"
   ]
  },
  {
   "cell_type": "code",
   "execution_count": 12,
   "id": "083ce45b-1bb1-47e9-8f0b-8b24f087a8ae",
   "metadata": {},
   "outputs": [
    {
     "data": {
      "text/html": [
       "<div>\n",
       "<style scoped>\n",
       "    .dataframe tbody tr th:only-of-type {\n",
       "        vertical-align: middle;\n",
       "    }\n",
       "\n",
       "    .dataframe tbody tr th {\n",
       "        vertical-align: top;\n",
       "    }\n",
       "\n",
       "    .dataframe thead th {\n",
       "        text-align: right;\n",
       "    }\n",
       "</style>\n",
       "<table border=\"1\" class=\"dataframe\">\n",
       "  <thead>\n",
       "    <tr style=\"text-align: right;\">\n",
       "      <th></th>\n",
       "      <th>recipe_url</th>\n",
       "      <th>contents</th>\n",
       "    </tr>\n",
       "  </thead>\n",
       "  <tbody>\n",
       "    <tr>\n",
       "      <th>0</th>\n",
       "      <td>https://www.allrecipes.com/recipe/8805/crispy-...</td>\n",
       "      <td>{'@context': 'http://schema.org', '@type': ['R...</td>\n",
       "    </tr>\n",
       "    <tr>\n",
       "      <th>1</th>\n",
       "      <td>https://www.allrecipes.com/recipe/8841/oven-fr...</td>\n",
       "      <td>{'@context': 'http://schema.org', '@type': ['R...</td>\n",
       "    </tr>\n",
       "    <tr>\n",
       "      <th>2</th>\n",
       "      <td>https://www.allrecipes.com/recipe/89268/triple...</td>\n",
       "      <td>{'@context': 'http://schema.org', '@type': ['R...</td>\n",
       "    </tr>\n",
       "    <tr>\n",
       "      <th>3</th>\n",
       "      <td>https://www.allrecipes.com/recipe/220128/chef-...</td>\n",
       "      <td>{'@context': 'http://schema.org', '@type': ['R...</td>\n",
       "    </tr>\n",
       "    <tr>\n",
       "      <th>4</th>\n",
       "      <td>https://www.allrecipes.com/recipe/150306/the-b...</td>\n",
       "      <td>{'@context': 'http://schema.org', '@type': ['R...</td>\n",
       "    </tr>\n",
       "  </tbody>\n",
       "</table>\n",
       "</div>"
      ],
      "text/plain": [
       "                                          recipe_url  \\\n",
       "0  https://www.allrecipes.com/recipe/8805/crispy-...   \n",
       "1  https://www.allrecipes.com/recipe/8841/oven-fr...   \n",
       "2  https://www.allrecipes.com/recipe/89268/triple...   \n",
       "3  https://www.allrecipes.com/recipe/220128/chef-...   \n",
       "4  https://www.allrecipes.com/recipe/150306/the-b...   \n",
       "\n",
       "                                            contents  \n",
       "0  {'@context': 'http://schema.org', '@type': ['R...  \n",
       "1  {'@context': 'http://schema.org', '@type': ['R...  \n",
       "2  {'@context': 'http://schema.org', '@type': ['R...  \n",
       "3  {'@context': 'http://schema.org', '@type': ['R...  \n",
       "4  {'@context': 'http://schema.org', '@type': ['R...  "
      ]
     },
     "execution_count": 12,
     "metadata": {},
     "output_type": "execute_result"
    }
   ],
   "source": [
    "df.head()"
   ]
  },
  {
   "cell_type": "code",
   "execution_count": 13,
   "id": "166f0fc3-c6b4-42a3-b91f-144cd5ce0820",
   "metadata": {},
   "outputs": [],
   "source": [
    "df = df.loc[[0,3],:]"
   ]
  },
  {
   "cell_type": "code",
   "execution_count": 14,
   "id": "5bfb875d-7dac-4674-80a5-43fb70f62b06",
   "metadata": {},
   "outputs": [
    {
     "data": {
      "text/html": [
       "<div>\n",
       "<style scoped>\n",
       "    .dataframe tbody tr th:only-of-type {\n",
       "        vertical-align: middle;\n",
       "    }\n",
       "\n",
       "    .dataframe tbody tr th {\n",
       "        vertical-align: top;\n",
       "    }\n",
       "\n",
       "    .dataframe thead th {\n",
       "        text-align: right;\n",
       "    }\n",
       "</style>\n",
       "<table border=\"1\" class=\"dataframe\">\n",
       "  <thead>\n",
       "    <tr style=\"text-align: right;\">\n",
       "      <th></th>\n",
       "      <th>recipe_url</th>\n",
       "      <th>contents</th>\n",
       "    </tr>\n",
       "  </thead>\n",
       "  <tbody>\n",
       "    <tr>\n",
       "      <th>0</th>\n",
       "      <td>https://www.allrecipes.com/recipe/8805/crispy-...</td>\n",
       "      <td>{'@context': 'http://schema.org', '@type': ['R...</td>\n",
       "    </tr>\n",
       "    <tr>\n",
       "      <th>3</th>\n",
       "      <td>https://www.allrecipes.com/recipe/220128/chef-...</td>\n",
       "      <td>{'@context': 'http://schema.org', '@type': ['R...</td>\n",
       "    </tr>\n",
       "  </tbody>\n",
       "</table>\n",
       "</div>"
      ],
      "text/plain": [
       "                                          recipe_url  \\\n",
       "0  https://www.allrecipes.com/recipe/8805/crispy-...   \n",
       "3  https://www.allrecipes.com/recipe/220128/chef-...   \n",
       "\n",
       "                                            contents  \n",
       "0  {'@context': 'http://schema.org', '@type': ['R...  \n",
       "3  {'@context': 'http://schema.org', '@type': ['R...  "
      ]
     },
     "execution_count": 14,
     "metadata": {},
     "output_type": "execute_result"
    }
   ],
   "source": [
    "df.head()"
   ]
  },
  {
   "cell_type": "code",
   "execution_count": 22,
   "id": "14fe8a7a-99f6-4370-b259-2336075eac8f",
   "metadata": {},
   "outputs": [
    {
     "data": {
      "text/plain": [
       "dict_keys(['@context', '@type', 'headline', 'datePublished', 'dateModified', 'author', 'description', 'image', 'video', 'publisher', 'name', 'aggregateRating', 'cookTime', 'nutrition', 'prepTime', 'recipeCategory', 'recipeCuisine', 'recipeIngredient', 'recipeInstructions', 'recipeYield', 'totalTime', 'review', 'mainEntityOfPage', 'about'])"
      ]
     },
     "execution_count": 22,
     "metadata": {},
     "output_type": "execute_result"
    }
   ],
   "source": [
    "ast.literal_eval(df.loc[0,\"contents\"]).keys()"
   ]
  },
  {
   "cell_type": "code",
   "execution_count": 24,
   "id": "1946f403-a5d5-4b14-b889-725802ec4055",
   "metadata": {},
   "outputs": [
    {
     "data": {
      "text/plain": [
       "['1 (3 1/2) pound chicken, cut into 8 pieces',\n",
       " '1 teaspoon black pepper',\n",
       " '1 teaspoon salt',\n",
       " '1 teaspoon paprika',\n",
       " '0.5 teaspoon white pepper',\n",
       " '0.25 teaspoon dried rosemary',\n",
       " '0.25 teaspoon ground thyme',\n",
       " '0.25 teaspoon dried oregano',\n",
       " '0.25 teaspoon dried sage',\n",
       " '0.25 teaspoon cayenne pepper',\n",
       " '2 cups buttermilk',\n",
       " '2 cups flour',\n",
       " '1 teaspoon salt',\n",
       " '0.5 teaspoon paprika',\n",
       " '0.5 teaspoon cayenne pepper',\n",
       " '0.5 teaspoon garlic powder',\n",
       " '0.5 teaspoon white pepper',\n",
       " '0.5 teaspoon onion powder',\n",
       " '2.5 quarts peanut oil for frying']"
      ]
     },
     "execution_count": 24,
     "metadata": {},
     "output_type": "execute_result"
    }
   ],
   "source": [
    "ast.literal_eval(df.loc[3,\"contents\"])[\"recipeIngredient\"]"
   ]
  },
  {
   "cell_type": "markdown",
   "id": "2bd4697e-f97f-4413-813f-8896933ce48f",
   "metadata": {},
   "source": [
    "Observing Chef John's Buttermilk Fried Chicken recipe's ingredient list, there appears to be no systematic way of separating the ingredients into batter and just the chicken. Thus, the ingredient amounts were aggregated by taking the sum of each ingredient."
   ]
  },
  {
   "cell_type": "markdown",
   "id": "043db8cb-7643-4a69-88f3-5763738f3ad2",
   "metadata": {},
   "source": [
    "## Extract Ingredient Amounts"
   ]
  },
  {
   "cell_type": "code",
   "execution_count": 45,
   "id": "b907c062-07d8-4144-ab67-89ac3ad07ad9",
   "metadata": {},
   "outputs": [
    {
     "name": "stdout",
     "output_type": "stream",
     "text": [
      "1\n",
      "1\n",
      "1\n",
      "1\n",
      "0.5\n",
      "0.25\n",
      "0.25\n",
      "0.25\n",
      "0.25\n",
      "0.25\n",
      "2\n",
      "2\n",
      "1\n",
      "0.5\n",
      "0.5\n",
      "0.5\n",
      "0.5\n",
      "0.5\n",
      "2.5\n"
     ]
    }
   ],
   "source": [
    "# Store ingredients in a list\n",
    "ing_list = ast.literal_eval(df.loc[3,\"contents\"])[\"recipeIngredient\"]\n",
    "\n",
    "for ing in ing_list:\n",
    "    # print(str.split(ing,\" \")[0])\n",
    "    print(str.split(ing,\" \")[0])"
   ]
  },
  {
   "cell_type": "markdown",
   "id": "94d686d3-ba34-4c6e-a0d1-b3d8187acd02",
   "metadata": {},
   "source": [
    "Ingredient amounts were extracted in decimal form."
   ]
  },
  {
   "cell_type": "markdown",
   "id": "57be869d-e49a-4ee2-9af7-2acf87b966d8",
   "metadata": {},
   "source": [
    "## Extract Ingrdient Unit of Measurement"
   ]
  },
  {
   "cell_type": "code",
   "execution_count": 37,
   "id": "56da6837-78ce-4bdf-aa30-d0a71afbb194",
   "metadata": {},
   "outputs": [
    {
     "name": "stderr",
     "output_type": "stream",
     "text": [
      "[nltk_data] Downloading package stopwords to /home/jovyan/nltk_data...\n",
      "[nltk_data]   Unzipping corpora/stopwords.zip.\n"
     ]
    }
   ],
   "source": [
    "# Packages for pre-processing text\n",
    "import nltk                       # Natural Language Tool Kit\n",
    "nltk.download('stopwords')        # For processing stop words (words too common to hold significant meaning)\n",
    "from nltk.corpus import stopwords # Import above downloaded stopwords\n",
    "import re                         # Regular Expression\n",
    "import string                     # For identifying punctuation"
   ]
  },
  {
   "cell_type": "code",
   "execution_count": 46,
   "id": "01a5263c-7d2e-4b2c-b041-a4d8068edda1",
   "metadata": {},
   "outputs": [
    {
     "name": "stdout",
     "output_type": "stream",
     "text": [
      "['pound']\n",
      "['teaspoon']\n",
      "['teaspoon']\n",
      "['teaspoon']\n",
      "['teaspoon']\n",
      "['teaspoon']\n",
      "['teaspoon']\n",
      "['teaspoon']\n",
      "['teaspoon']\n",
      "['teaspoon']\n",
      "['cup']\n",
      "['cup']\n",
      "['teaspoon']\n",
      "['teaspoon']\n",
      "['teaspoon']\n",
      "['teaspoon']\n",
      "['teaspoon']\n",
      "['teaspoon']\n",
      "['quart']\n"
     ]
    }
   ],
   "source": [
    "# Define common American measurements\n",
    "measurements = [\n",
    "    \"teaspoon\", \n",
    "    \"tablespoon\",\n",
    "    \"cup\",\n",
    "    \"quart\",\n",
    "    \"pound\",\n",
    "    \"ounce\"\n",
    "]\n",
    "\n",
    "# Define stopwords\n",
    "eng_stopwords = stopwords.words(\"english\")\n",
    "\n",
    "# Define a stemmer\n",
    "stemmer = nltk.stem.PorterStemmer()\n",
    "\n",
    "for ing in ing_list:\n",
    "    tokens = ing.split(\" \")\n",
    "    stemmed_tokens = []\n",
    "\n",
    "    for token in tokens[1:]:\n",
    "        if (not token in eng_stopwords) and token != \"\":\n",
    "            stemmed_tokens.append(stemmer.stem(token))\n",
    "\n",
    "    # print(stemmed_tokens)\n",
    "    print([token for token in stemmed_tokens if token in measurements])"
   ]
  },
  {
   "cell_type": "markdown",
   "id": "e48695cb-4e1c-4c02-9e16-6f3b4baa08b3",
   "metadata": {},
   "source": [
    "Measurements were successfully extracted."
   ]
  },
  {
   "cell_type": "markdown",
   "id": "1cf8e29f-e5ec-47be-a1b8-0057106be227",
   "metadata": {},
   "source": [
    "## Extract Ingredient"
   ]
  },
  {
   "cell_type": "code",
   "execution_count": 47,
   "id": "66baaa40-965b-4b3c-8ccb-62de9e49a4c3",
   "metadata": {},
   "outputs": [
    {
     "name": "stdout",
     "output_type": "stream",
     "text": [
      "['(3', '1/2)', 'pound', 'chicken,', 'cut', '8', 'piec']\n",
      "['teaspoon', 'black', 'pepper']\n",
      "['teaspoon', 'salt']\n",
      "['teaspoon', 'paprika']\n",
      "['teaspoon', 'white', 'pepper']\n",
      "['teaspoon', 'dri', 'rosemari']\n",
      "['teaspoon', 'ground', 'thyme']\n",
      "['teaspoon', 'dri', 'oregano']\n",
      "['teaspoon', 'dri', 'sage']\n",
      "['teaspoon', 'cayenn', 'pepper']\n",
      "['cup', 'buttermilk']\n",
      "['cup', 'flour']\n",
      "['teaspoon', 'salt']\n",
      "['teaspoon', 'paprika']\n",
      "['teaspoon', 'cayenn', 'pepper']\n",
      "['teaspoon', 'garlic', 'powder']\n",
      "['teaspoon', 'white', 'pepper']\n",
      "['teaspoon', 'onion', 'powder']\n",
      "['quart', 'peanut', 'oil', 'fri']\n"
     ]
    }
   ],
   "source": [
    "# Define common American measurements\n",
    "measurements = [\n",
    "    \"teaspoon\", \n",
    "    \"tablespoon\",\n",
    "    \"cup\",\n",
    "    \"quart\",\n",
    "    \"pound\",\n",
    "    \"ounce\"\n",
    "]\n",
    "\n",
    "# Define stopwords\n",
    "eng_stopwords = stopwords.words(\"english\")\n",
    "\n",
    "# Define a stemmer\n",
    "stemmer = nltk.stem.PorterStemmer()\n",
    "\n",
    "for ing in ing_list:\n",
    "    tokens = ing.split(\" \")\n",
    "    stemmed_tokens = []\n",
    "\n",
    "    for token in tokens[1:]:\n",
    "        if (not token in eng_stopwords) and token != \"\":\n",
    "            stemmed_tokens.append(stemmer.stem(token))\n",
    "\n",
    "    # print(stemmed_tokens)\n",
    "    print(stemmed_tokens)\n",
    "    # print([token for token in stemmed_tokens if token in measurements])"
   ]
  },
  {
   "cell_type": "code",
   "execution_count": 48,
   "id": "cc817bf1-f8ef-44dd-9c35-56c8389e5519",
   "metadata": {},
   "outputs": [],
   "source": []
  },
  {
   "cell_type": "code",
   "execution_count": 76,
   "id": "fc382f54-0cfa-4f15-881b-c14d8fda3f54",
   "metadata": {},
   "outputs": [
    {
     "name": "stdout",
     "output_type": "stream",
     "text": [
      "['chicken']\n",
      "['black']\n",
      "['salt']\n",
      "['paprika']\n",
      "['white']\n",
      "['rosemary']\n",
      "['thyme']\n",
      "['oregano']\n",
      "['sage']\n",
      "['cayenne']\n",
      "['buttermilk']\n",
      "['flour']\n",
      "['salt']\n",
      "['paprika']\n",
      "['cayenne']\n",
      "['garlic']\n",
      "['white']\n",
      "['onion']\n",
      "['peanut']\n"
     ]
    }
   ],
   "source": [
    "# Define common American measurements\n",
    "ingredient_list = [\n",
    "    \"chicken\",\n",
    "    \"cayenne\",\n",
    "    \"paprika\",\n",
    "    \"rosemary\",\n",
    "    \"thyme\",\n",
    "    \"oregano\",\n",
    "    \"sage\",\n",
    "    \"buttermilk\",\n",
    "    \"salt\",\n",
    "    \"flour\",\n",
    "    \"onion\",\n",
    "    \"garlic\",\n",
    "    \"vegetable\",\n",
    "    \"peanut\",\n",
    "    \"coconut\",\n",
    "    \"white\",\n",
    "    \"black\"\n",
    "]\n",
    "\n",
    "# Define stopwords\n",
    "eng_stopwords = stopwords.words(\"english\")\n",
    "\n",
    "# Define a stemmer\n",
    "stemmer = nltk.stem.PorterStemmer()\n",
    "\n",
    "for ing in ing_list:\n",
    "    for punctuation_mark in string.punctuation:\n",
    "        ing = ing.replace(punctuation_mark,\"\").lower()\n",
    "    \n",
    "    tokens = ing.split(\" \")\n",
    "    stemmed_tokens = []\n",
    "\n",
    "    # for token in tokens[1:]:\n",
    "    #     if (not token in eng_stopwords) and token != \"\":\n",
    "    #         stemmed_tokens.append(stemmer.stem(token))\n",
    "\n",
    "    # print(stemmed_tokens)\n",
    "    # print(stemmed_tokens)\n",
    "    print([token for token in tokens if token in ingredient_list])"
   ]
  },
  {
   "cell_type": "code",
   "execution_count": 78,
   "id": "a317f721-1fc1-4758-86a5-7ac7d1351dc9",
   "metadata": {},
   "outputs": [
    {
     "name": "stdout",
     "output_type": "stream",
     "text": [
      "['chicken']\n",
      "['black pepper']\n",
      "['salt']\n",
      "['paprika']\n",
      "['white pepper']\n",
      "['rosemary']\n",
      "['thyme']\n",
      "['oregano']\n",
      "['sage']\n",
      "['cayenne pepper']\n",
      "['buttermilk']\n",
      "['flour']\n",
      "['salt']\n",
      "['paprika']\n",
      "['cayenne pepper']\n",
      "['garlic powder']\n",
      "['white pepper']\n",
      "['onion powder']\n",
      "['peanut oil']\n"
     ]
    }
   ],
   "source": [
    "for ing in ing_list:\n",
    "\n",
    "    # remove punctuation and take lower case\n",
    "    for punctuation_mark in string.punctuation:\n",
    "        ing = ing.replace(punctuation_mark,\"\").lower()\n",
    "\n",
    "    tokens = ing.split(\" \")\n",
    "    extracted_ingredients = []\n",
    "    \n",
    "    if \"pepper\" in tokens:\n",
    "        for token in tokens:\n",
    "            if token in ingredient_list:\n",
    "                extracted_ingredients.append(token + \" pepper\")\n",
    "    elif \"powder\" in tokens:\n",
    "        for token in tokens:\n",
    "            if token in ingredient_list:\n",
    "                extracted_ingredients.append(token + \" powder\")\n",
    "    elif \"oil\" in tokens:\n",
    "        for token in tokens:\n",
    "            if token in ingredient_list:\n",
    "                extracted_ingredients.append(token + \" oil\")\n",
    "    else:\n",
    "        for token in tokens:\n",
    "            if token in ingredient_list:\n",
    "                extracted_ingredients.append(token)\n",
    "    print(extracted_ingredients)"
   ]
  },
  {
   "cell_type": "markdown",
   "id": "66de930a-6d50-44cf-9374-ecf5188b8be4",
   "metadata": {},
   "source": [
    "## Combining Ingredient Amounts, UoM and Ingredients"
   ]
  },
  {
   "cell_type": "code",
   "execution_count": 81,
   "id": "8a08af3c-67e8-407d-8928-9b0decd7d2c6",
   "metadata": {},
   "outputs": [
    {
     "data": {
      "text/html": [
       "<div>\n",
       "<style scoped>\n",
       "    .dataframe tbody tr th:only-of-type {\n",
       "        vertical-align: middle;\n",
       "    }\n",
       "\n",
       "    .dataframe tbody tr th {\n",
       "        vertical-align: top;\n",
       "    }\n",
       "\n",
       "    .dataframe thead th {\n",
       "        text-align: right;\n",
       "    }\n",
       "</style>\n",
       "<table border=\"1\" class=\"dataframe\">\n",
       "  <thead>\n",
       "    <tr style=\"text-align: right;\">\n",
       "      <th></th>\n",
       "      <th>recipe_url</th>\n",
       "      <th>contents</th>\n",
       "    </tr>\n",
       "  </thead>\n",
       "  <tbody>\n",
       "    <tr>\n",
       "      <th>0</th>\n",
       "      <td>https://www.allrecipes.com/recipe/8805/crispy-...</td>\n",
       "      <td>{'@context': 'http://schema.org', '@type': ['R...</td>\n",
       "    </tr>\n",
       "    <tr>\n",
       "      <th>3</th>\n",
       "      <td>https://www.allrecipes.com/recipe/220128/chef-...</td>\n",
       "      <td>{'@context': 'http://schema.org', '@type': ['R...</td>\n",
       "    </tr>\n",
       "  </tbody>\n",
       "</table>\n",
       "</div>"
      ],
      "text/plain": [
       "                                          recipe_url  \\\n",
       "0  https://www.allrecipes.com/recipe/8805/crispy-...   \n",
       "3  https://www.allrecipes.com/recipe/220128/chef-...   \n",
       "\n",
       "                                            contents  \n",
       "0  {'@context': 'http://schema.org', '@type': ['R...  \n",
       "3  {'@context': 'http://schema.org', '@type': ['R...  "
      ]
     },
     "execution_count": 81,
     "metadata": {},
     "output_type": "execute_result"
    }
   ],
   "source": [
    "df"
   ]
  },
  {
   "cell_type": "code",
   "execution_count": 119,
   "id": "de4df0af-f5fe-4939-9c70-a74511aa83b0",
   "metadata": {},
   "outputs": [],
   "source": [
    "# Initiate blank dictionary to store ingredients\n",
    "dict = {\n",
    "    \"recipe_name\":[],\n",
    "    \"ing_amt\":[],\n",
    "    \"ing_uom\":[],\n",
    "    \"ing_name\":[]\n",
    "}\n",
    "\n",
    "for index, row in enumerate(zip(df[\"recipe_url\"],df[\"contents\"])):\n",
    "\n",
    "    # Extract ingredients into a list from JSON dictionary\n",
    "    ing_list = ast.literal_eval(row[1])[\"recipeIngredient\"]\n",
    "    recipe_name = ast.literal_eval(row[1])[\"name\"]\n",
    "        \n",
    "    for ing in ing_list:\n",
    "        dict[\"recipe_name\"].append(recipe_name)\n",
    "        \n",
    "        # Extract ingredient amounts\n",
    "        try:\n",
    "            dict[\"ing_amt\"].append(float(ing.split(\" \")[0]))\n",
    "        except:\n",
    "            dict[\"ing_amt\"].append(np.NaN)\n",
    "        \n",
    "        # remove punctuation and take lower case\n",
    "        for punctuation_mark in string.punctuation:\n",
    "            ing = ing.replace(punctuation_mark,\"\").lower()\n",
    "        \n",
    "        tokens = ing.split(\" \")\n",
    "        stemmed_tokens = []\n",
    "\n",
    "        for token in tokens[1:]:\n",
    "            if (not token in eng_stopwords) and token != \"\":\n",
    "                stemmed_tokens.append(stemmer.stem(token))\n",
    "\n",
    "        # Extract ingredient UoM\n",
    "        try:\n",
    "            dict[\"ing_uom\"].append([uom for uom in stemmed_tokens if uom in measurements][0])\n",
    "        except:\n",
    "            dict[\"ing_uom\"].append(np.NaN)\n",
    "\n",
    "        # Extract ingredient name\n",
    "        if \"pepper\" in tokens:\n",
    "            dict[\"ing_name\"].append([name + \" pepper\" for name in tokens if name in ingredient_list][0])\n",
    "        elif \"powder\" in tokens:\n",
    "            dict[\"ing_name\"].append([name + \" powder\" for name in tokens if name in ingredient_list][0])\n",
    "        elif \"oil\" in tokens:\n",
    "            dict[\"ing_name\"].append([name + \" oil\" for name in tokens if name in ingredient_list][0])\n",
    "        else:\n",
    "            dict[\"ing_name\"].append([name for name in tokens if name in ingredient_list][0])\n",
    "\n",
    "    \n",
    "    \n",
    "    # print(ing_list)"
   ]
  },
  {
   "cell_type": "code",
   "execution_count": 126,
   "id": "cf908564-a589-43e0-8483-a030f9577c28",
   "metadata": {},
   "outputs": [
    {
     "data": {
      "text/html": [
       "<div>\n",
       "<style scoped>\n",
       "    .dataframe tbody tr th:only-of-type {\n",
       "        vertical-align: middle;\n",
       "    }\n",
       "\n",
       "    .dataframe tbody tr th {\n",
       "        vertical-align: top;\n",
       "    }\n",
       "\n",
       "    .dataframe thead th {\n",
       "        text-align: right;\n",
       "    }\n",
       "</style>\n",
       "<table border=\"1\" class=\"dataframe\">\n",
       "  <thead>\n",
       "    <tr style=\"text-align: right;\">\n",
       "      <th></th>\n",
       "      <th>recipe_name</th>\n",
       "      <th>ing_amt</th>\n",
       "      <th>ing_uom</th>\n",
       "      <th>ing_name</th>\n",
       "    </tr>\n",
       "  </thead>\n",
       "  <tbody>\n",
       "    <tr>\n",
       "      <th>0</th>\n",
       "      <td>Crispy Fried Chicken</td>\n",
       "      <td>1.0</td>\n",
       "      <td>pound</td>\n",
       "      <td>chicken</td>\n",
       "    </tr>\n",
       "    <tr>\n",
       "      <th>1</th>\n",
       "      <td>Crispy Fried Chicken</td>\n",
       "      <td>1.0</td>\n",
       "      <td>cup</td>\n",
       "      <td>buttermilk</td>\n",
       "    </tr>\n",
       "    <tr>\n",
       "      <th>2</th>\n",
       "      <td>Crispy Fried Chicken</td>\n",
       "      <td>2.0</td>\n",
       "      <td>cup</td>\n",
       "      <td>flour</td>\n",
       "    </tr>\n",
       "    <tr>\n",
       "      <th>3</th>\n",
       "      <td>Crispy Fried Chicken</td>\n",
       "      <td>1.0</td>\n",
       "      <td>teaspoon</td>\n",
       "      <td>paprika</td>\n",
       "    </tr>\n",
       "    <tr>\n",
       "      <th>4</th>\n",
       "      <td>Crispy Fried Chicken</td>\n",
       "      <td>NaN</td>\n",
       "      <td>NaN</td>\n",
       "      <td>salt pepper</td>\n",
       "    </tr>\n",
       "  </tbody>\n",
       "</table>\n",
       "</div>"
      ],
      "text/plain": [
       "            recipe_name  ing_amt   ing_uom     ing_name\n",
       "0  Crispy Fried Chicken      1.0     pound      chicken\n",
       "1  Crispy Fried Chicken      1.0       cup   buttermilk\n",
       "2  Crispy Fried Chicken      2.0       cup        flour\n",
       "3  Crispy Fried Chicken      1.0  teaspoon      paprika\n",
       "4  Crispy Fried Chicken      NaN       NaN  salt pepper"
      ]
     },
     "execution_count": 126,
     "metadata": {},
     "output_type": "execute_result"
    }
   ],
   "source": [
    "ing_df = pd.DataFrame(dict)\n",
    "ing_df.head()"
   ]
  },
  {
   "cell_type": "markdown",
   "id": "e3193e0a-811b-44d8-82b0-240a79d2e0c6",
   "metadata": {},
   "source": [
    "Walah, the ingredients are extracted into a DataFrame where each row represents 1 ingredient with its amounts and unit of measurements."
   ]
  },
  {
   "cell_type": "markdown",
   "id": "083bc0ad-ed04-4452-81fd-61b30a6966be",
   "metadata": {},
   "source": [
    "## Unit Conversion"
   ]
  },
  {
   "cell_type": "code",
   "execution_count": 124,
   "id": "17716d9c-eb73-4e14-ae17-d81dd88fd092",
   "metadata": {},
   "outputs": [],
   "source": [
    "# metric conversions\n",
    "conversion_rate = {\n",
    "    # units regarding mass (metric unit gram)\n",
    "    \"pound\"     : 453.59233, # https://www.metric-conversions.org/weight/pounds-to-grams.htm\n",
    "\n",
    "    # units regarding volume (metric unit mL or cm3)\n",
    "    \"teaspoon\"  : 4.9289215, # https://www.metric-conversions.org/volume/us-teaspoons-to-milliliters.htm#metricConversionTable?val=1\n",
    "    \"tablespoon\": 14.786765, # https://www.metric-conversions.org/volume/us-tablespoons-to-milliliters.htm\n",
    "    \"quart\"     : 946.35295, # https://www.metric-conversions.org/volume/us-liquid-quarts-to-milliliters.htm\n",
    "    \"cup\"       : 236.58824  # https://www.metric-conversions.org/volume/us-cups-to-milliliters.htm \n",
    "}"
   ]
  },
  {
   "cell_type": "code",
   "execution_count": 131,
   "id": "eeff988f-48d9-4c51-850c-ad918f470a3e",
   "metadata": {},
   "outputs": [],
   "source": [
    "# metric conversions\n",
    "metric_uom = {\n",
    "    # units regarding mass (metric unit gram)\n",
    "    \"pound\"     : \"g\", # https://www.metric-conversions.org/weight/pounds-to-grams.htm\n",
    "\n",
    "    # units regarding volume (metric unit mL or cm3)\n",
    "    \"teaspoon\"  : \"mL\", # https://www.metric-conversions.org/volume/us-teaspoons-to-milliliters.htm#metricConversionTable?val=1\n",
    "    \"tablespoon\": \"mL\", # https://www.metric-conversions.org/volume/us-tablespoons-to-milliliters.htm\n",
    "    \"quart\"     : \"mL\", # https://www.metric-conversions.org/volume/us-liquid-quarts-to-milliliters.htm\n",
    "    \"cup\"       : \"mL\"  # https://www.metric-conversions.org/volume/us-cups-to-milliliters.htm \n",
    "}"
   ]
  },
  {
   "cell_type": "code",
   "execution_count": 132,
   "id": "74661df6-5e0f-4d63-9f41-cf9495ea8499",
   "metadata": {},
   "outputs": [],
   "source": [
    "ing_df[\"ing_amt_metric\"] = ing_df[\"ing_amt\"] * ing_df[\"ing_uom\"].map(conversion_rate)\n",
    "ing_df[\"ing_uom_metric\"] = ing_df[\"ing_uom\"].map(metric_uom)"
   ]
  },
  {
   "cell_type": "code",
   "execution_count": 133,
   "id": "63096671-67f2-4dca-a29b-937356ac419e",
   "metadata": {},
   "outputs": [
    {
     "data": {
      "text/html": [
       "<div>\n",
       "<style scoped>\n",
       "    .dataframe tbody tr th:only-of-type {\n",
       "        vertical-align: middle;\n",
       "    }\n",
       "\n",
       "    .dataframe tbody tr th {\n",
       "        vertical-align: top;\n",
       "    }\n",
       "\n",
       "    .dataframe thead th {\n",
       "        text-align: right;\n",
       "    }\n",
       "</style>\n",
       "<table border=\"1\" class=\"dataframe\">\n",
       "  <thead>\n",
       "    <tr style=\"text-align: right;\">\n",
       "      <th></th>\n",
       "      <th>recipe_name</th>\n",
       "      <th>ing_amt</th>\n",
       "      <th>ing_uom</th>\n",
       "      <th>ing_name</th>\n",
       "      <th>ing_amt_metric</th>\n",
       "      <th>ing_uom_metric</th>\n",
       "    </tr>\n",
       "  </thead>\n",
       "  <tbody>\n",
       "    <tr>\n",
       "      <th>0</th>\n",
       "      <td>Crispy Fried Chicken</td>\n",
       "      <td>1.00</td>\n",
       "      <td>pound</td>\n",
       "      <td>chicken</td>\n",
       "      <td>453.592330</td>\n",
       "      <td>g</td>\n",
       "    </tr>\n",
       "    <tr>\n",
       "      <th>1</th>\n",
       "      <td>Crispy Fried Chicken</td>\n",
       "      <td>1.00</td>\n",
       "      <td>cup</td>\n",
       "      <td>buttermilk</td>\n",
       "      <td>236.588240</td>\n",
       "      <td>mL</td>\n",
       "    </tr>\n",
       "    <tr>\n",
       "      <th>2</th>\n",
       "      <td>Crispy Fried Chicken</td>\n",
       "      <td>2.00</td>\n",
       "      <td>cup</td>\n",
       "      <td>flour</td>\n",
       "      <td>473.176480</td>\n",
       "      <td>mL</td>\n",
       "    </tr>\n",
       "    <tr>\n",
       "      <th>3</th>\n",
       "      <td>Crispy Fried Chicken</td>\n",
       "      <td>1.00</td>\n",
       "      <td>teaspoon</td>\n",
       "      <td>paprika</td>\n",
       "      <td>4.928922</td>\n",
       "      <td>mL</td>\n",
       "    </tr>\n",
       "    <tr>\n",
       "      <th>4</th>\n",
       "      <td>Crispy Fried Chicken</td>\n",
       "      <td>NaN</td>\n",
       "      <td>NaN</td>\n",
       "      <td>salt pepper</td>\n",
       "      <td>NaN</td>\n",
       "      <td>NaN</td>\n",
       "    </tr>\n",
       "    <tr>\n",
       "      <th>5</th>\n",
       "      <td>Crispy Fried Chicken</td>\n",
       "      <td>2.00</td>\n",
       "      <td>quart</td>\n",
       "      <td>vegetable oil</td>\n",
       "      <td>1892.705900</td>\n",
       "      <td>mL</td>\n",
       "    </tr>\n",
       "    <tr>\n",
       "      <th>6</th>\n",
       "      <td>Chef John&amp;#39;s Buttermilk Fried Chicken</td>\n",
       "      <td>1.00</td>\n",
       "      <td>pound</td>\n",
       "      <td>chicken</td>\n",
       "      <td>453.592330</td>\n",
       "      <td>g</td>\n",
       "    </tr>\n",
       "    <tr>\n",
       "      <th>7</th>\n",
       "      <td>Chef John&amp;#39;s Buttermilk Fried Chicken</td>\n",
       "      <td>1.00</td>\n",
       "      <td>teaspoon</td>\n",
       "      <td>black pepper</td>\n",
       "      <td>4.928922</td>\n",
       "      <td>mL</td>\n",
       "    </tr>\n",
       "    <tr>\n",
       "      <th>8</th>\n",
       "      <td>Chef John&amp;#39;s Buttermilk Fried Chicken</td>\n",
       "      <td>1.00</td>\n",
       "      <td>teaspoon</td>\n",
       "      <td>salt</td>\n",
       "      <td>4.928922</td>\n",
       "      <td>mL</td>\n",
       "    </tr>\n",
       "    <tr>\n",
       "      <th>9</th>\n",
       "      <td>Chef John&amp;#39;s Buttermilk Fried Chicken</td>\n",
       "      <td>1.00</td>\n",
       "      <td>teaspoon</td>\n",
       "      <td>paprika</td>\n",
       "      <td>4.928922</td>\n",
       "      <td>mL</td>\n",
       "    </tr>\n",
       "    <tr>\n",
       "      <th>10</th>\n",
       "      <td>Chef John&amp;#39;s Buttermilk Fried Chicken</td>\n",
       "      <td>0.50</td>\n",
       "      <td>teaspoon</td>\n",
       "      <td>white pepper</td>\n",
       "      <td>2.464461</td>\n",
       "      <td>mL</td>\n",
       "    </tr>\n",
       "    <tr>\n",
       "      <th>11</th>\n",
       "      <td>Chef John&amp;#39;s Buttermilk Fried Chicken</td>\n",
       "      <td>0.25</td>\n",
       "      <td>teaspoon</td>\n",
       "      <td>rosemary</td>\n",
       "      <td>1.232230</td>\n",
       "      <td>mL</td>\n",
       "    </tr>\n",
       "    <tr>\n",
       "      <th>12</th>\n",
       "      <td>Chef John&amp;#39;s Buttermilk Fried Chicken</td>\n",
       "      <td>0.25</td>\n",
       "      <td>teaspoon</td>\n",
       "      <td>thyme</td>\n",
       "      <td>1.232230</td>\n",
       "      <td>mL</td>\n",
       "    </tr>\n",
       "    <tr>\n",
       "      <th>13</th>\n",
       "      <td>Chef John&amp;#39;s Buttermilk Fried Chicken</td>\n",
       "      <td>0.25</td>\n",
       "      <td>teaspoon</td>\n",
       "      <td>oregano</td>\n",
       "      <td>1.232230</td>\n",
       "      <td>mL</td>\n",
       "    </tr>\n",
       "    <tr>\n",
       "      <th>14</th>\n",
       "      <td>Chef John&amp;#39;s Buttermilk Fried Chicken</td>\n",
       "      <td>0.25</td>\n",
       "      <td>teaspoon</td>\n",
       "      <td>sage</td>\n",
       "      <td>1.232230</td>\n",
       "      <td>mL</td>\n",
       "    </tr>\n",
       "    <tr>\n",
       "      <th>15</th>\n",
       "      <td>Chef John&amp;#39;s Buttermilk Fried Chicken</td>\n",
       "      <td>0.25</td>\n",
       "      <td>teaspoon</td>\n",
       "      <td>cayenne pepper</td>\n",
       "      <td>1.232230</td>\n",
       "      <td>mL</td>\n",
       "    </tr>\n",
       "    <tr>\n",
       "      <th>16</th>\n",
       "      <td>Chef John&amp;#39;s Buttermilk Fried Chicken</td>\n",
       "      <td>2.00</td>\n",
       "      <td>cup</td>\n",
       "      <td>buttermilk</td>\n",
       "      <td>473.176480</td>\n",
       "      <td>mL</td>\n",
       "    </tr>\n",
       "    <tr>\n",
       "      <th>17</th>\n",
       "      <td>Chef John&amp;#39;s Buttermilk Fried Chicken</td>\n",
       "      <td>2.00</td>\n",
       "      <td>cup</td>\n",
       "      <td>flour</td>\n",
       "      <td>473.176480</td>\n",
       "      <td>mL</td>\n",
       "    </tr>\n",
       "    <tr>\n",
       "      <th>18</th>\n",
       "      <td>Chef John&amp;#39;s Buttermilk Fried Chicken</td>\n",
       "      <td>1.00</td>\n",
       "      <td>teaspoon</td>\n",
       "      <td>salt</td>\n",
       "      <td>4.928922</td>\n",
       "      <td>mL</td>\n",
       "    </tr>\n",
       "    <tr>\n",
       "      <th>19</th>\n",
       "      <td>Chef John&amp;#39;s Buttermilk Fried Chicken</td>\n",
       "      <td>0.50</td>\n",
       "      <td>teaspoon</td>\n",
       "      <td>paprika</td>\n",
       "      <td>2.464461</td>\n",
       "      <td>mL</td>\n",
       "    </tr>\n",
       "    <tr>\n",
       "      <th>20</th>\n",
       "      <td>Chef John&amp;#39;s Buttermilk Fried Chicken</td>\n",
       "      <td>0.50</td>\n",
       "      <td>teaspoon</td>\n",
       "      <td>cayenne pepper</td>\n",
       "      <td>2.464461</td>\n",
       "      <td>mL</td>\n",
       "    </tr>\n",
       "    <tr>\n",
       "      <th>21</th>\n",
       "      <td>Chef John&amp;#39;s Buttermilk Fried Chicken</td>\n",
       "      <td>0.50</td>\n",
       "      <td>teaspoon</td>\n",
       "      <td>garlic powder</td>\n",
       "      <td>2.464461</td>\n",
       "      <td>mL</td>\n",
       "    </tr>\n",
       "    <tr>\n",
       "      <th>22</th>\n",
       "      <td>Chef John&amp;#39;s Buttermilk Fried Chicken</td>\n",
       "      <td>0.50</td>\n",
       "      <td>teaspoon</td>\n",
       "      <td>white pepper</td>\n",
       "      <td>2.464461</td>\n",
       "      <td>mL</td>\n",
       "    </tr>\n",
       "    <tr>\n",
       "      <th>23</th>\n",
       "      <td>Chef John&amp;#39;s Buttermilk Fried Chicken</td>\n",
       "      <td>0.50</td>\n",
       "      <td>teaspoon</td>\n",
       "      <td>onion powder</td>\n",
       "      <td>2.464461</td>\n",
       "      <td>mL</td>\n",
       "    </tr>\n",
       "    <tr>\n",
       "      <th>24</th>\n",
       "      <td>Chef John&amp;#39;s Buttermilk Fried Chicken</td>\n",
       "      <td>2.50</td>\n",
       "      <td>quart</td>\n",
       "      <td>peanut oil</td>\n",
       "      <td>2365.882375</td>\n",
       "      <td>mL</td>\n",
       "    </tr>\n",
       "  </tbody>\n",
       "</table>\n",
       "</div>"
      ],
      "text/plain": [
       "                                 recipe_name  ing_amt   ing_uom  \\\n",
       "0                       Crispy Fried Chicken     1.00     pound   \n",
       "1                       Crispy Fried Chicken     1.00       cup   \n",
       "2                       Crispy Fried Chicken     2.00       cup   \n",
       "3                       Crispy Fried Chicken     1.00  teaspoon   \n",
       "4                       Crispy Fried Chicken      NaN       NaN   \n",
       "5                       Crispy Fried Chicken     2.00     quart   \n",
       "6   Chef John&#39;s Buttermilk Fried Chicken     1.00     pound   \n",
       "7   Chef John&#39;s Buttermilk Fried Chicken     1.00  teaspoon   \n",
       "8   Chef John&#39;s Buttermilk Fried Chicken     1.00  teaspoon   \n",
       "9   Chef John&#39;s Buttermilk Fried Chicken     1.00  teaspoon   \n",
       "10  Chef John&#39;s Buttermilk Fried Chicken     0.50  teaspoon   \n",
       "11  Chef John&#39;s Buttermilk Fried Chicken     0.25  teaspoon   \n",
       "12  Chef John&#39;s Buttermilk Fried Chicken     0.25  teaspoon   \n",
       "13  Chef John&#39;s Buttermilk Fried Chicken     0.25  teaspoon   \n",
       "14  Chef John&#39;s Buttermilk Fried Chicken     0.25  teaspoon   \n",
       "15  Chef John&#39;s Buttermilk Fried Chicken     0.25  teaspoon   \n",
       "16  Chef John&#39;s Buttermilk Fried Chicken     2.00       cup   \n",
       "17  Chef John&#39;s Buttermilk Fried Chicken     2.00       cup   \n",
       "18  Chef John&#39;s Buttermilk Fried Chicken     1.00  teaspoon   \n",
       "19  Chef John&#39;s Buttermilk Fried Chicken     0.50  teaspoon   \n",
       "20  Chef John&#39;s Buttermilk Fried Chicken     0.50  teaspoon   \n",
       "21  Chef John&#39;s Buttermilk Fried Chicken     0.50  teaspoon   \n",
       "22  Chef John&#39;s Buttermilk Fried Chicken     0.50  teaspoon   \n",
       "23  Chef John&#39;s Buttermilk Fried Chicken     0.50  teaspoon   \n",
       "24  Chef John&#39;s Buttermilk Fried Chicken     2.50     quart   \n",
       "\n",
       "          ing_name  ing_amt_metric ing_uom_metric  \n",
       "0          chicken      453.592330              g  \n",
       "1       buttermilk      236.588240             mL  \n",
       "2            flour      473.176480             mL  \n",
       "3          paprika        4.928922             mL  \n",
       "4      salt pepper             NaN            NaN  \n",
       "5    vegetable oil     1892.705900             mL  \n",
       "6          chicken      453.592330              g  \n",
       "7     black pepper        4.928922             mL  \n",
       "8             salt        4.928922             mL  \n",
       "9          paprika        4.928922             mL  \n",
       "10    white pepper        2.464461             mL  \n",
       "11        rosemary        1.232230             mL  \n",
       "12           thyme        1.232230             mL  \n",
       "13         oregano        1.232230             mL  \n",
       "14            sage        1.232230             mL  \n",
       "15  cayenne pepper        1.232230             mL  \n",
       "16      buttermilk      473.176480             mL  \n",
       "17           flour      473.176480             mL  \n",
       "18            salt        4.928922             mL  \n",
       "19         paprika        2.464461             mL  \n",
       "20  cayenne pepper        2.464461             mL  \n",
       "21   garlic powder        2.464461             mL  \n",
       "22    white pepper        2.464461             mL  \n",
       "23    onion powder        2.464461             mL  \n",
       "24      peanut oil     2365.882375             mL  "
      ]
     },
     "execution_count": 133,
     "metadata": {},
     "output_type": "execute_result"
    }
   ],
   "source": [
    "ing_df"
   ]
  },
  {
   "cell_type": "markdown",
   "id": "dcaa7c1e-fcb8-426a-b4fe-1594bd62bf56",
   "metadata": {},
   "source": [
    "Need to fix chicken weight."
   ]
  },
  {
   "cell_type": "markdown",
   "id": "83772e68-f1ac-4077-94b7-f22f945e35b9",
   "metadata": {},
   "source": [
    "## Getting Prices from Walmart"
   ]
  },
  {
   "cell_type": "markdown",
   "id": "6a734bb7-94a9-47eb-830b-827d1eaf7224",
   "metadata": {},
   "source": [
    "### Wholistic Approach\n",
    "\n",
    "Go to walmart.com search engine, then extract info from search results."
   ]
  },
  {
   "cell_type": "code",
   "execution_count": 134,
   "id": "a0c3a932-7a14-40ad-a71b-c21d971dc633",
   "metadata": {},
   "outputs": [],
   "source": [
    "unique_ing = ing_df[\"ing_name\"].unique()"
   ]
  },
  {
   "cell_type": "code",
   "execution_count": 135,
   "id": "b16b5f41-6890-474d-a1cd-e14516cfeecb",
   "metadata": {},
   "outputs": [
    {
     "data": {
      "text/plain": [
       "array(['chicken', 'buttermilk', 'flour', 'paprika', 'salt pepper',\n",
       "       'vegetable oil', 'black pepper', 'salt', 'white pepper',\n",
       "       'rosemary', 'thyme', 'oregano', 'sage', 'cayenne pepper',\n",
       "       'garlic powder', 'onion powder', 'peanut oil'], dtype=object)"
      ]
     },
     "execution_count": 135,
     "metadata": {},
     "output_type": "execute_result"
    }
   ],
   "source": [
    "unique_ing"
   ]
  },
  {
   "cell_type": "code",
   "execution_count": 136,
   "id": "082ef2b5-deba-4385-b4f9-3603b6e3da60",
   "metadata": {},
   "outputs": [],
   "source": [
    "import re\n",
    "# Package for scraping\n",
    "from selenium import webdriver\n",
    "from bs4 import BeautifulSoup\n",
    "import time"
   ]
  },
  {
   "cell_type": "code",
   "execution_count": 137,
   "id": "d29b29cd-48b6-4fbe-b840-e921dd1edeff",
   "metadata": {},
   "outputs": [],
   "source": [
    "# construct query url\n",
    "search_term = \"whole chicken\"\n",
    "\n",
    "# Replace white space with encoding\n",
    "search_term = re.sub(\" \",\"+\",search_term)\n",
    "\n",
    "# Construct_query\n",
    "query_url = f\"https://www.walmart.ca/en/search?q={search_term}\""
   ]
  },
  {
   "cell_type": "code",
   "execution_count": 138,
   "id": "94778623-68a6-45f1-84ec-29517161b345",
   "metadata": {},
   "outputs": [
    {
     "data": {
      "text/plain": [
       "'https://www.walmart.ca/en/search?q=whole+chicken'"
      ]
     },
     "execution_count": 138,
     "metadata": {},
     "output_type": "execute_result"
    }
   ],
   "source": [
    "query_url"
   ]
  },
  {
   "cell_type": "code",
   "execution_count": 139,
   "id": "6e7acafd-95ee-4573-a5ff-f1f0437dede4",
   "metadata": {},
   "outputs": [],
   "source": [
    "# Define default options for Selenium webdriver\n",
    "chrome_options = webdriver.ChromeOptions()\n",
    "\n",
    "# Define command_executor, access this through localhost:4444\n",
    "command_executor = \"http://172.18.0.2:4444\"\n",
    "\n",
    "# Initiate webdriver, with command executor found within the Selenium Grid docker container\n",
    "# For this line to work, the `selenium/standalone-chrome:118.0` docker image\n",
    "driver = webdriver.Remote(\n",
    "    command_executor = command_executor,\n",
    "    options          = chrome_options\n",
    ")\n",
    "\n",
    "# Use the driver to scrape the url\n",
    "driver.get(query_url)\n",
    "\n",
    "# Extract the text of the response into a variable\n",
    "html = driver.page_source\n",
    "\n",
    "# Parse the response text using Beautiful Soup\n",
    "soup = BeautifulSoup(html, 'html.parser')\n",
    "\n",
    "# Exit the driver\n",
    "driver.quit()"
   ]
  },
  {
   "cell_type": "code",
   "execution_count": 141,
   "id": "729fca71-a758-4fba-ac52-730a292ed6bd",
   "metadata": {},
   "outputs": [
    {
     "name": "stdout",
     "output_type": "stream",
     "text": [
      "None\n",
      "#maincontent\n",
      "/en\n",
      "/en\n",
      "/en/my-items\n",
      "/en/my-items\n",
      "/en/sign-in?vid=oaoh\n",
      "/en/orders\n",
      "/en/ip/prime-organic-whole-chicken/4P4128A0DK1J?from=/search\n",
      "/en/ip/mina-halal-whole-chicken/6000200224620?from=/search\n",
      "/en/ip/your-fresh-market-barbecue-flattened-whole-chicken/6000206064495?from=/search\n",
      "/en/ip/La-Grille-Montreal-Steak-Spice-Seasoning/206844?from=/search\n",
      "/en/ip/maple-leaf-whole-chicken-wings/6000201049176?from=/search\n",
      "/en/ip/Swanson-Meals-Chicken-With-Garlic-Parm-Seasoned-Veg-879GR/0VN5Z2IW4WEC?from=/search\n",
      "/en/ip/Deli-Express-Buffalo-Chicken-Wings/3SGSBA7CAVO8?from=/search\n",
      "/en/ip/maple-leaf-natural-selections-shaved-deli-chicken-breast-oven-roasted-family-size/6000192347348?from=/search\n",
      "/en/ip/PF-Changs-Chicken-Pad-Thai/2WSQE9RINUDS?from=/search\n",
      "/en/ip/Vendre-Gobblet-Gobblers-1/3N6H94YR9PLH?from=/search\n",
      "/en/ip/prime-whole-chicken-raised-without-antibiotics/6000199462076?from=/search\n",
      "/en/ip/maple-leaf-whole-chicken/6000193606661?from=/search\n",
      "/en/ip/Butterball-Stuffed-Frozen-Turkey-Raised-Without-Antibiotics/6000193605330?from=/search\n",
      "/en/ip/butterball-easy-fresh-turkey-breast-roast/6000202453896?from=/search\n",
      "/en/ip/Butterball-Seasoned-Frozen-Young-Turkey/6000193605304?from=/search\n",
      "/en/ip/Butterball-Stuffed-Frozen-Young-Turkey-Raised-without-Antibiotics/6000193605333?from=/search\n",
      "/en/ip/Butterball-Seasoned-Boneless-Turkey-Breast-Roast/6000197451835?from=/search\n",
      "/en/search?q=whole+chicken\n",
      "https://www.walmartcanada.ca/cookie-notice\n"
     ]
    }
   ],
   "source": [
    "for tag in soup.find_all(\"a\"):\n",
    "    print(tag.get(\"href\"))"
   ]
  },
  {
   "cell_type": "code",
   "execution_count": 143,
   "id": "69838a39-9a1b-4608-89cb-fdaf8fa4e611",
   "metadata": {},
   "outputs": [
    {
     "data": {
      "text/plain": [
       "[<div class=\"gray mr1 f7 f6-l\">$1.12/100g</div>,\n",
       " <div class=\"gray mr1 f7 f6-l\">$9.98/1kg</div>,\n",
       " <div class=\"gray mr1 f7 f6-l\">$3.18/100g</div>,\n",
       " <div class=\"gray mr1 f7 f6-l\">$12.98/1kg</div>,\n",
       " <div class=\"gray mr1 f7 f6-l\">$3.73/100g</div>,\n",
       " <div class=\"gray mr1 f7 f6-l\">$1.13/100g</div>,\n",
       " <div class=\"gray mr1 f7 f6-l\">$9.98/1kg</div>,\n",
       " <div class=\"gray mr1 f7 f6-l\">$6.87/1kg</div>,\n",
       " <div class=\"gray mr1 f7 f6-l\">$19.77/1kg</div>,\n",
       " <div class=\"gray mr1 f7 f6-l\">$6.87/1kg</div>,\n",
       " <div class=\"gray mr1 f7 f6-l\">$6.87/1kg</div>]"
      ]
     },
     "execution_count": 143,
     "metadata": {},
     "output_type": "execute_result"
    }
   ],
   "source": [
    "soup.find_all(\"div\",{\"class\":\"gray mr1 f7 f6-l\"})"
   ]
  },
  {
   "cell_type": "code",
   "execution_count": 144,
   "id": "114d113e-a0d4-4bb6-9d70-8d9ce67f1c31",
   "metadata": {},
   "outputs": [
    {
     "name": "stdout",
     "output_type": "stream",
     "text": [
      "$1.12/100g\n",
      "$9.98/1kg\n",
      "$3.18/100g\n",
      "$12.98/1kg\n",
      "$3.73/100g\n",
      "$1.13/100g\n",
      "$9.98/1kg\n",
      "$6.87/1kg\n",
      "$19.77/1kg\n",
      "$6.87/1kg\n",
      "$6.87/1kg\n"
     ]
    }
   ],
   "source": [
    "for tag in soup.find_all(\"div\",{\"class\":\"gray mr1 f7 f6-l\"}):\n",
    "    print(tag.text)"
   ]
  },
  {
   "cell_type": "code",
   "execution_count": 146,
   "id": "7e2173e2-6ac7-452c-a2cb-54578e52d574",
   "metadata": {},
   "outputs": [
    {
     "name": "stdout",
     "output_type": "stream",
     "text": [
      "Prime Organic Whole Chicken, 1 Whole Chicken\n",
      "Mina Halal Whole Chicken, 1 Whole Chicken, 1.44 - 1.76 kg\n",
      "Your Fresh Market Barbecue Flattened Whole Chicken, 1 chicken, 1.10 - 1.40 kg\n",
      "La Grille, Montreal Steak Spice Seasoning, 188g\n",
      "Maple Leaf Whole Chicken Wings, 10 Wings, 0.81 - 0.99 kg\n",
      "Swanson Meals Chicken With Garlic Parm Seasoned Veg 879GR, Chicken Garlic Parm Veg 879GR\n",
      "Deli Express Buffalo Chicken Wings, 505 g\n",
      "Maple Leaf Natural Selections Shaved Deli Chicken Breast Oven Roasted Family Size, 375 g\n",
      "PF Changs Chicken Pad Thai, Pad Thai\n",
      "Vendre Gobblet Gobblers #1\n",
      "Prime Whole Chicken Raised Without Antibiotics, 1 Whole Chicken\n",
      "Maple Leaf Whole Chicken, 1 Whole Chicken, 1.44 - 2.00 kg\n",
      "Butterball Stuffed Frozen Turkey - Raised Without Antibiotics, 5-7 kg, 5.00 - 7.00 kg\n",
      "Butterball Easy Fresh Turkey Breast Roast, Turkey Breast Roast\n",
      "Butterball Seasoned Frozen Young Turkey, 5-7 kg, 5.00 - 7.00 kg\n",
      "Butterball Stuffed Frozen Young Turkey - Raised without Antibiotics., 7-9 kg, 7.00 - 9.00 kg\n",
      "Butterball Seasoned Boneless Turkey Breast Roast, 1.5 kg\n"
     ]
    }
   ],
   "source": [
    "for tag in soup.find_all(\"span\",{\"class\":\"normal dark-gray mb0 mt1 lh-title f6 f5-l lh-copy\"}):\n",
    "    print(tag.text)"
   ]
  },
  {
   "cell_type": "code",
   "execution_count": 147,
   "id": "b208ac12-2986-4a8c-8562-3016620a236f",
   "metadata": {},
   "outputs": [
    {
     "name": "stdout",
     "output_type": "stream",
     "text": [
      "$17\n",
      "$17.56\n",
      "$20.27\n",
      "$5.97\n",
      "$12.85\n",
      "$11.97\n",
      "$9.47\n",
      "$13.97\n",
      "$6.98\n",
      "$21.01\n"
     ]
    }
   ],
   "source": [
    "for tag in soup.find_all(\"div\",{\"class\":\"mr1 mr2-xl b black lh-copy f5 f4-l\"}):\n",
    "    print(tag.text)"
   ]
  },
  {
   "cell_type": "code",
   "execution_count": 149,
   "id": "0056efe1-f101-49b0-b72e-e5e34bf3e5c1",
   "metadata": {},
   "outputs": [],
   "source": [
    "dict = {\n",
    "    \"prod_name\": [],\n",
    "    \"prod_price\":[],\n",
    "    \"prod_unit_price\":[]\n",
    "}\n",
    "\n",
    "soups = [soup]\n",
    "\n",
    "for soup in soups:\n",
    "    # Extract prod_name\n",
    "    for tag in soup.find_all(\"span\",{\"class\":\"normal dark-gray mb0 mt1 lh-title f6 f5-l lh-copy\"}):\n",
    "        dict[\"prod_name\"].append(tag.text)\n",
    "\n",
    "    # Extract prod_price\n",
    "    for tag in soup.find_all(\"span\",{\"class\":\"normal dark-gray mb0 mt1 lh-title f6 f5-l lh-copy\"}):\n",
    "        dict[\"prod_price\"].append(tag.text)\n",
    "\n",
    "    # Extact prod_unit_price\n",
    "    for tag in soup.find_all(\"div\",{\"class\":\"gray mr1 f7 f6-l\"}):\n",
    "        dict[\"prod_unit_price\"].append(tag.text)\n"
   ]
  },
  {
   "cell_type": "code",
   "execution_count": 151,
   "id": "1d8d6cd1-83ea-4398-be4c-499cf2eab1c8",
   "metadata": {
    "scrolled": true
   },
   "outputs": [
    {
     "ename": "ValueError",
     "evalue": "All arrays must be of the same length",
     "output_type": "error",
     "traceback": [
      "\u001b[0;31m---------------------------------------------------------------------------\u001b[0m",
      "\u001b[0;31mValueError\u001b[0m                                Traceback (most recent call last)",
      "Cell \u001b[0;32mIn[151], line 1\u001b[0m\n\u001b[0;32m----> 1\u001b[0m \u001b[43mpd\u001b[49m\u001b[38;5;241;43m.\u001b[39;49m\u001b[43mDataFrame\u001b[49m\u001b[43m(\u001b[49m\u001b[38;5;28;43mdict\u001b[39;49m\u001b[43m)\u001b[49m\n",
      "File \u001b[0;32m/opt/conda/lib/python3.11/site-packages/pandas/core/frame.py:709\u001b[0m, in \u001b[0;36mDataFrame.__init__\u001b[0;34m(self, data, index, columns, dtype, copy)\u001b[0m\n\u001b[1;32m    703\u001b[0m     mgr \u001b[38;5;241m=\u001b[39m \u001b[38;5;28mself\u001b[39m\u001b[38;5;241m.\u001b[39m_init_mgr(\n\u001b[1;32m    704\u001b[0m         data, axes\u001b[38;5;241m=\u001b[39m{\u001b[38;5;124m\"\u001b[39m\u001b[38;5;124mindex\u001b[39m\u001b[38;5;124m\"\u001b[39m: index, \u001b[38;5;124m\"\u001b[39m\u001b[38;5;124mcolumns\u001b[39m\u001b[38;5;124m\"\u001b[39m: columns}, dtype\u001b[38;5;241m=\u001b[39mdtype, copy\u001b[38;5;241m=\u001b[39mcopy\n\u001b[1;32m    705\u001b[0m     )\n\u001b[1;32m    707\u001b[0m \u001b[38;5;28;01melif\u001b[39;00m \u001b[38;5;28misinstance\u001b[39m(data, \u001b[38;5;28mdict\u001b[39m):\n\u001b[1;32m    708\u001b[0m     \u001b[38;5;66;03m# GH#38939 de facto copy defaults to False only in non-dict cases\u001b[39;00m\n\u001b[0;32m--> 709\u001b[0m     mgr \u001b[38;5;241m=\u001b[39m \u001b[43mdict_to_mgr\u001b[49m\u001b[43m(\u001b[49m\u001b[43mdata\u001b[49m\u001b[43m,\u001b[49m\u001b[43m \u001b[49m\u001b[43mindex\u001b[49m\u001b[43m,\u001b[49m\u001b[43m \u001b[49m\u001b[43mcolumns\u001b[49m\u001b[43m,\u001b[49m\u001b[43m \u001b[49m\u001b[43mdtype\u001b[49m\u001b[38;5;241;43m=\u001b[39;49m\u001b[43mdtype\u001b[49m\u001b[43m,\u001b[49m\u001b[43m \u001b[49m\u001b[43mcopy\u001b[49m\u001b[38;5;241;43m=\u001b[39;49m\u001b[43mcopy\u001b[49m\u001b[43m,\u001b[49m\u001b[43m \u001b[49m\u001b[43mtyp\u001b[49m\u001b[38;5;241;43m=\u001b[39;49m\u001b[43mmanager\u001b[49m\u001b[43m)\u001b[49m\n\u001b[1;32m    710\u001b[0m \u001b[38;5;28;01melif\u001b[39;00m \u001b[38;5;28misinstance\u001b[39m(data, ma\u001b[38;5;241m.\u001b[39mMaskedArray):\n\u001b[1;32m    711\u001b[0m     \u001b[38;5;28;01mfrom\u001b[39;00m \u001b[38;5;21;01mnumpy\u001b[39;00m\u001b[38;5;21;01m.\u001b[39;00m\u001b[38;5;21;01mma\u001b[39;00m \u001b[38;5;28;01mimport\u001b[39;00m mrecords\n",
      "File \u001b[0;32m/opt/conda/lib/python3.11/site-packages/pandas/core/internals/construction.py:481\u001b[0m, in \u001b[0;36mdict_to_mgr\u001b[0;34m(data, index, columns, dtype, typ, copy)\u001b[0m\n\u001b[1;32m    477\u001b[0m     \u001b[38;5;28;01melse\u001b[39;00m:\n\u001b[1;32m    478\u001b[0m         \u001b[38;5;66;03m# dtype check to exclude e.g. range objects, scalars\u001b[39;00m\n\u001b[1;32m    479\u001b[0m         arrays \u001b[38;5;241m=\u001b[39m [x\u001b[38;5;241m.\u001b[39mcopy() \u001b[38;5;28;01mif\u001b[39;00m \u001b[38;5;28mhasattr\u001b[39m(x, \u001b[38;5;124m\"\u001b[39m\u001b[38;5;124mdtype\u001b[39m\u001b[38;5;124m\"\u001b[39m) \u001b[38;5;28;01melse\u001b[39;00m x \u001b[38;5;28;01mfor\u001b[39;00m x \u001b[38;5;129;01min\u001b[39;00m arrays]\n\u001b[0;32m--> 481\u001b[0m \u001b[38;5;28;01mreturn\u001b[39;00m \u001b[43marrays_to_mgr\u001b[49m\u001b[43m(\u001b[49m\u001b[43marrays\u001b[49m\u001b[43m,\u001b[49m\u001b[43m \u001b[49m\u001b[43mcolumns\u001b[49m\u001b[43m,\u001b[49m\u001b[43m \u001b[49m\u001b[43mindex\u001b[49m\u001b[43m,\u001b[49m\u001b[43m \u001b[49m\u001b[43mdtype\u001b[49m\u001b[38;5;241;43m=\u001b[39;49m\u001b[43mdtype\u001b[49m\u001b[43m,\u001b[49m\u001b[43m \u001b[49m\u001b[43mtyp\u001b[49m\u001b[38;5;241;43m=\u001b[39;49m\u001b[43mtyp\u001b[49m\u001b[43m,\u001b[49m\u001b[43m \u001b[49m\u001b[43mconsolidate\u001b[49m\u001b[38;5;241;43m=\u001b[39;49m\u001b[43mcopy\u001b[49m\u001b[43m)\u001b[49m\n",
      "File \u001b[0;32m/opt/conda/lib/python3.11/site-packages/pandas/core/internals/construction.py:115\u001b[0m, in \u001b[0;36marrays_to_mgr\u001b[0;34m(arrays, columns, index, dtype, verify_integrity, typ, consolidate)\u001b[0m\n\u001b[1;32m    112\u001b[0m \u001b[38;5;28;01mif\u001b[39;00m verify_integrity:\n\u001b[1;32m    113\u001b[0m     \u001b[38;5;66;03m# figure out the index, if necessary\u001b[39;00m\n\u001b[1;32m    114\u001b[0m     \u001b[38;5;28;01mif\u001b[39;00m index \u001b[38;5;129;01mis\u001b[39;00m \u001b[38;5;28;01mNone\u001b[39;00m:\n\u001b[0;32m--> 115\u001b[0m         index \u001b[38;5;241m=\u001b[39m \u001b[43m_extract_index\u001b[49m\u001b[43m(\u001b[49m\u001b[43marrays\u001b[49m\u001b[43m)\u001b[49m\n\u001b[1;32m    116\u001b[0m     \u001b[38;5;28;01melse\u001b[39;00m:\n\u001b[1;32m    117\u001b[0m         index \u001b[38;5;241m=\u001b[39m ensure_index(index)\n",
      "File \u001b[0;32m/opt/conda/lib/python3.11/site-packages/pandas/core/internals/construction.py:655\u001b[0m, in \u001b[0;36m_extract_index\u001b[0;34m(data)\u001b[0m\n\u001b[1;32m    653\u001b[0m lengths \u001b[38;5;241m=\u001b[39m \u001b[38;5;28mlist\u001b[39m(\u001b[38;5;28mset\u001b[39m(raw_lengths))\n\u001b[1;32m    654\u001b[0m \u001b[38;5;28;01mif\u001b[39;00m \u001b[38;5;28mlen\u001b[39m(lengths) \u001b[38;5;241m>\u001b[39m \u001b[38;5;241m1\u001b[39m:\n\u001b[0;32m--> 655\u001b[0m     \u001b[38;5;28;01mraise\u001b[39;00m \u001b[38;5;167;01mValueError\u001b[39;00m(\u001b[38;5;124m\"\u001b[39m\u001b[38;5;124mAll arrays must be of the same length\u001b[39m\u001b[38;5;124m\"\u001b[39m)\n\u001b[1;32m    657\u001b[0m \u001b[38;5;28;01mif\u001b[39;00m have_dicts:\n\u001b[1;32m    658\u001b[0m     \u001b[38;5;28;01mraise\u001b[39;00m \u001b[38;5;167;01mValueError\u001b[39;00m(\n\u001b[1;32m    659\u001b[0m         \u001b[38;5;124m\"\u001b[39m\u001b[38;5;124mMixing dicts with non-Series may lead to ambiguous ordering.\u001b[39m\u001b[38;5;124m\"\u001b[39m\n\u001b[1;32m    660\u001b[0m     )\n",
      "\u001b[0;31mValueError\u001b[0m: All arrays must be of the same length"
     ]
    }
   ],
   "source": [
    "pd.DataFrame(dict)"
   ]
  },
  {
   "cell_type": "code",
   "execution_count": 153,
   "id": "9cbfe686-0231-4f66-be2f-c9e0c0c19c15",
   "metadata": {},
   "outputs": [
    {
     "data": {
      "text/plain": [
       "17"
      ]
     },
     "execution_count": 153,
     "metadata": {},
     "output_type": "execute_result"
    }
   ],
   "source": [
    "len(dict[\"prod_name\"])"
   ]
  },
  {
   "cell_type": "code",
   "execution_count": 154,
   "id": "8f0db54b-adfc-4308-a4e7-b317b5561a9b",
   "metadata": {},
   "outputs": [
    {
     "data": {
      "text/plain": [
       "17"
      ]
     },
     "execution_count": 154,
     "metadata": {},
     "output_type": "execute_result"
    }
   ],
   "source": [
    "len(dict[\"prod_price\"])"
   ]
  },
  {
   "cell_type": "code",
   "execution_count": 155,
   "id": "b1e070cb-9ea4-4c54-950a-f69deed6e3db",
   "metadata": {},
   "outputs": [
    {
     "data": {
      "text/plain": [
       "11"
      ]
     },
     "execution_count": 155,
     "metadata": {},
     "output_type": "execute_result"
    }
   ],
   "source": [
    "len(dict[\"prod_unit_price\"])"
   ]
  },
  {
   "cell_type": "markdown",
   "id": "3e2345f6-8662-4ccc-b961-f8b68512fd16",
   "metadata": {},
   "source": [
    "It seems that not every product has a unit price."
   ]
  },
  {
   "cell_type": "code",
   "execution_count": 159,
   "id": "4f9773b3-4060-4a4b-85da-f1408f2033ca",
   "metadata": {},
   "outputs": [
    {
     "data": {
      "text/plain": [
       "17"
      ]
     },
     "execution_count": 159,
     "metadata": {},
     "output_type": "execute_result"
    }
   ],
   "source": [
    "# For each result\n",
    "len(soup.find_all(\"div\",{\"role\":\"group\"}))"
   ]
  },
  {
   "cell_type": "code",
   "execution_count": 161,
   "id": "3604c244-1824-4f3e-996f-ee4ffa8ef983",
   "metadata": {},
   "outputs": [
    {
     "name": "stdout",
     "output_type": "stream",
     "text": [
      "Prime Organic Whole Chicken, 1 Whole Chicken\n",
      "Mina Halal Whole Chicken, 1 Whole Chicken, 1.44 - 1.76 kg\n",
      "Your Fresh Market Barbecue Flattened Whole Chicken, 1 chicken, 1.10 - 1.40 kg\n",
      "La Grille, Montreal Steak Spice Seasoning, 188g\n",
      "Maple Leaf Whole Chicken Wings, 10 Wings, 0.81 - 0.99 kg\n",
      "Swanson Meals Chicken With Garlic Parm Seasoned Veg 879GR, Chicken Garlic Parm Veg 879GR\n",
      "Deli Express Buffalo Chicken Wings, 505 g\n",
      "Maple Leaf Natural Selections Shaved Deli Chicken Breast Oven Roasted Family Size, 375 g\n",
      "PF Changs Chicken Pad Thai, Pad Thai\n",
      "Vendre Gobblet Gobblers #1\n",
      "Prime Whole Chicken Raised Without Antibiotics, 1 Whole Chicken\n",
      "Maple Leaf Whole Chicken, 1 Whole Chicken, 1.44 - 2.00 kg\n",
      "Butterball Stuffed Frozen Turkey - Raised Without Antibiotics, 5-7 kg, 5.00 - 7.00 kg\n",
      "Butterball Easy Fresh Turkey Breast Roast, Turkey Breast Roast\n",
      "Butterball Seasoned Frozen Young Turkey, 5-7 kg, 5.00 - 7.00 kg\n",
      "Butterball Stuffed Frozen Young Turkey - Raised without Antibiotics., 7-9 kg, 7.00 - 9.00 kg\n",
      "Butterball Seasoned Boneless Turkey Breast Roast, 1.5 kg\n"
     ]
    }
   ],
   "source": [
    "for tag in soup.find_all(\"div\",{\"role\":\"group\"}):\n",
    "    print(tag.find(\"span\",{\"class\":\"normal dark-gray mb0 mt1 lh-title f6 f5-l lh-copy\"}).text)"
   ]
  },
  {
   "cell_type": "markdown",
   "id": "232473bd-4385-41de-b981-f931aa5a9452",
   "metadata": {},
   "source": [
    "Use search results:"
   ]
  },
  {
   "cell_type": "code",
   "execution_count": 175,
   "id": "afeda959-8321-4112-867c-5525fb71cd98",
   "metadata": {},
   "outputs": [],
   "source": [
    "dict = {\n",
    "    \"prod_name\": [],\n",
    "    \"prod_price\":[],\n",
    "    \"prod_unit_price\":[]\n",
    "}\n",
    "\n",
    "soups = [soup]\n",
    "\n",
    "for soup in soups:\n",
    "\n",
    "    for search_result in soup.find_all(\"div\",{\"role\":\"group\"}):\n",
    "        # Extract prod_name\n",
    "        try:\n",
    "            tag = search_result.find(\"span\",{\"class\":\"normal dark-gray mb0 mt1 lh-title f6 f5-l lh-copy\"})\n",
    "            dict[\"prod_name\"].append(tag.text)\n",
    "        except:\n",
    "            dict[\"prod_name\"].append(np.NaN)\n",
    "\n",
    "        # Extract prod_price\n",
    "        try:\n",
    "            tag = search_result.find(\"div\",{\"class\":[\"mr1 mr2-xl b black lh-copy f5 f4-l\",\"mr1 mr2-xl normal gray lh-copy f5 f4-l\"]})\n",
    "            dict[\"prod_price\"].append(tag.text)\n",
    "        except:\n",
    "            dict[\"prod_price\"].append(np.NaN)\n",
    "    \n",
    "        # Extact prod_unit_price\n",
    "        try:\n",
    "            tag = search_result.find(\"div\",{\"class\":\"gray mr1 f7 f6-l\"})\n",
    "            dict[\"prod_unit_price\"].append(tag.text)\n",
    "        except:\n",
    "            dict[\"prod_unit_price\"].append(np.NaN)"
   ]
  },
  {
   "cell_type": "code",
   "execution_count": 177,
   "id": "3441d8f2-618b-48dc-a915-1413d319bb39",
   "metadata": {},
   "outputs": [],
   "source": [
    "chicken_df = pd.DataFrame(dict)"
   ]
  },
  {
   "cell_type": "code",
   "execution_count": 178,
   "id": "587117b0-0c79-417f-95c6-5ffb661d7b66",
   "metadata": {},
   "outputs": [
    {
     "data": {
      "text/html": [
       "<div>\n",
       "<style scoped>\n",
       "    .dataframe tbody tr th:only-of-type {\n",
       "        vertical-align: middle;\n",
       "    }\n",
       "\n",
       "    .dataframe tbody tr th {\n",
       "        vertical-align: top;\n",
       "    }\n",
       "\n",
       "    .dataframe thead th {\n",
       "        text-align: right;\n",
       "    }\n",
       "</style>\n",
       "<table border=\"1\" class=\"dataframe\">\n",
       "  <thead>\n",
       "    <tr style=\"text-align: right;\">\n",
       "      <th></th>\n",
       "      <th>prod_name</th>\n",
       "      <th>prod_price</th>\n",
       "      <th>prod_unit_price</th>\n",
       "    </tr>\n",
       "  </thead>\n",
       "  <tbody>\n",
       "    <tr>\n",
       "      <th>0</th>\n",
       "      <td>Prime Organic Whole Chicken, 1 Whole Chicken</td>\n",
       "      <td>$17</td>\n",
       "      <td>$1.12/100g</td>\n",
       "    </tr>\n",
       "    <tr>\n",
       "      <th>1</th>\n",
       "      <td>Mina Halal Whole Chicken, 1 Whole Chicken, 1.4...</td>\n",
       "      <td>$17.56</td>\n",
       "      <td>$9.98/1kg</td>\n",
       "    </tr>\n",
       "    <tr>\n",
       "      <th>2</th>\n",
       "      <td>Your Fresh Market Barbecue Flattened Whole Chi...</td>\n",
       "      <td>$20.27</td>\n",
       "      <td>NaN</td>\n",
       "    </tr>\n",
       "    <tr>\n",
       "      <th>3</th>\n",
       "      <td>La Grille, Montreal Steak Spice Seasoning, 188g</td>\n",
       "      <td>$5.97</td>\n",
       "      <td>$3.18/100g</td>\n",
       "    </tr>\n",
       "    <tr>\n",
       "      <th>4</th>\n",
       "      <td>Maple Leaf Whole Chicken Wings, 10 Wings, 0.81...</td>\n",
       "      <td>$12.85</td>\n",
       "      <td>$12.98/1kg</td>\n",
       "    </tr>\n",
       "  </tbody>\n",
       "</table>\n",
       "</div>"
      ],
      "text/plain": [
       "                                           prod_name prod_price  \\\n",
       "0       Prime Organic Whole Chicken, 1 Whole Chicken        $17   \n",
       "1  Mina Halal Whole Chicken, 1 Whole Chicken, 1.4...     $17.56   \n",
       "2  Your Fresh Market Barbecue Flattened Whole Chi...     $20.27   \n",
       "3    La Grille, Montreal Steak Spice Seasoning, 188g      $5.97   \n",
       "4  Maple Leaf Whole Chicken Wings, 10 Wings, 0.81...     $12.85   \n",
       "\n",
       "  prod_unit_price  \n",
       "0      $1.12/100g  \n",
       "1       $9.98/1kg  \n",
       "2             NaN  \n",
       "3      $3.18/100g  \n",
       "4      $12.98/1kg  "
      ]
     },
     "execution_count": 178,
     "metadata": {},
     "output_type": "execute_result"
    }
   ],
   "source": [
    "chicken_df.head()"
   ]
  },
  {
   "cell_type": "code",
   "execution_count": 198,
   "id": "5e9df38f-5e97-4fa7-a9b5-2a33a60ca326",
   "metadata": {},
   "outputs": [],
   "source": [
    "# https://blog.finxter.com/python-regex-and-operator-tutorial-video/\n",
    "cond1 = chicken_df[\"prod_name\"].str.lower().str.contains(\"(?=.*whole)(?=.*chicken)\", regex = True)\n",
    "cond2 = chicken_df[\"prod_name\"].str.lower().str.contains(\"wing|breast|thigh\")\n",
    "cond3 = chicken_df[\"prod_unit_price\"].isna()"
   ]
  },
  {
   "cell_type": "code",
   "execution_count": 195,
   "id": "ac8670f7-dcf0-41c4-b4b7-eb88f5575f56",
   "metadata": {},
   "outputs": [
    {
     "data": {
      "text/html": [
       "<div>\n",
       "<style scoped>\n",
       "    .dataframe tbody tr th:only-of-type {\n",
       "        vertical-align: middle;\n",
       "    }\n",
       "\n",
       "    .dataframe tbody tr th {\n",
       "        vertical-align: top;\n",
       "    }\n",
       "\n",
       "    .dataframe thead th {\n",
       "        text-align: right;\n",
       "    }\n",
       "</style>\n",
       "<table border=\"1\" class=\"dataframe\">\n",
       "  <thead>\n",
       "    <tr style=\"text-align: right;\">\n",
       "      <th></th>\n",
       "      <th>prod_name</th>\n",
       "      <th>prod_price</th>\n",
       "      <th>prod_unit_price</th>\n",
       "    </tr>\n",
       "  </thead>\n",
       "  <tbody>\n",
       "    <tr>\n",
       "      <th>0</th>\n",
       "      <td>Prime Organic Whole Chicken, 1 Whole Chicken</td>\n",
       "      <td>$17</td>\n",
       "      <td>$1.12/100g</td>\n",
       "    </tr>\n",
       "    <tr>\n",
       "      <th>1</th>\n",
       "      <td>Mina Halal Whole Chicken, 1 Whole Chicken, 1.4...</td>\n",
       "      <td>$17.56</td>\n",
       "      <td>$9.98/1kg</td>\n",
       "    </tr>\n",
       "    <tr>\n",
       "      <th>2</th>\n",
       "      <td>Your Fresh Market Barbecue Flattened Whole Chi...</td>\n",
       "      <td>$20.27</td>\n",
       "      <td>NaN</td>\n",
       "    </tr>\n",
       "    <tr>\n",
       "      <th>4</th>\n",
       "      <td>Maple Leaf Whole Chicken Wings, 10 Wings, 0.81...</td>\n",
       "      <td>$12.85</td>\n",
       "      <td>$12.98/1kg</td>\n",
       "    </tr>\n",
       "    <tr>\n",
       "      <th>10</th>\n",
       "      <td>Prime Whole Chicken Raised Without Antibiotics...</td>\n",
       "      <td>$17.58</td>\n",
       "      <td>$1.13/100g</td>\n",
       "    </tr>\n",
       "    <tr>\n",
       "      <th>11</th>\n",
       "      <td>Maple Leaf Whole Chicken, 1 Whole Chicken, 1.4...</td>\n",
       "      <td>$19.96</td>\n",
       "      <td>$9.98/1kg</td>\n",
       "    </tr>\n",
       "  </tbody>\n",
       "</table>\n",
       "</div>"
      ],
      "text/plain": [
       "                                            prod_name prod_price  \\\n",
       "0        Prime Organic Whole Chicken, 1 Whole Chicken        $17   \n",
       "1   Mina Halal Whole Chicken, 1 Whole Chicken, 1.4...     $17.56   \n",
       "2   Your Fresh Market Barbecue Flattened Whole Chi...     $20.27   \n",
       "4   Maple Leaf Whole Chicken Wings, 10 Wings, 0.81...     $12.85   \n",
       "10  Prime Whole Chicken Raised Without Antibiotics...     $17.58   \n",
       "11  Maple Leaf Whole Chicken, 1 Whole Chicken, 1.4...     $19.96   \n",
       "\n",
       "   prod_unit_price  \n",
       "0       $1.12/100g  \n",
       "1        $9.98/1kg  \n",
       "2              NaN  \n",
       "4       $12.98/1kg  \n",
       "10      $1.13/100g  \n",
       "11       $9.98/1kg  "
      ]
     },
     "execution_count": 195,
     "metadata": {},
     "output_type": "execute_result"
    }
   ],
   "source": [
    "chicken_df.loc[cond1]"
   ]
  },
  {
   "cell_type": "code",
   "execution_count": 199,
   "id": "d34e0eae-bc94-4b35-a528-c48018f94ec8",
   "metadata": {},
   "outputs": [
    {
     "data": {
      "text/html": [
       "<div>\n",
       "<style scoped>\n",
       "    .dataframe tbody tr th:only-of-type {\n",
       "        vertical-align: middle;\n",
       "    }\n",
       "\n",
       "    .dataframe tbody tr th {\n",
       "        vertical-align: top;\n",
       "    }\n",
       "\n",
       "    .dataframe thead th {\n",
       "        text-align: right;\n",
       "    }\n",
       "</style>\n",
       "<table border=\"1\" class=\"dataframe\">\n",
       "  <thead>\n",
       "    <tr style=\"text-align: right;\">\n",
       "      <th></th>\n",
       "      <th>prod_name</th>\n",
       "      <th>prod_price</th>\n",
       "      <th>prod_unit_price</th>\n",
       "    </tr>\n",
       "  </thead>\n",
       "  <tbody>\n",
       "    <tr>\n",
       "      <th>0</th>\n",
       "      <td>Prime Organic Whole Chicken, 1 Whole Chicken</td>\n",
       "      <td>$17</td>\n",
       "      <td>$1.12/100g</td>\n",
       "    </tr>\n",
       "    <tr>\n",
       "      <th>1</th>\n",
       "      <td>Mina Halal Whole Chicken, 1 Whole Chicken, 1.4...</td>\n",
       "      <td>$17.56</td>\n",
       "      <td>$9.98/1kg</td>\n",
       "    </tr>\n",
       "    <tr>\n",
       "      <th>10</th>\n",
       "      <td>Prime Whole Chicken Raised Without Antibiotics...</td>\n",
       "      <td>$17.58</td>\n",
       "      <td>$1.13/100g</td>\n",
       "    </tr>\n",
       "    <tr>\n",
       "      <th>11</th>\n",
       "      <td>Maple Leaf Whole Chicken, 1 Whole Chicken, 1.4...</td>\n",
       "      <td>$19.96</td>\n",
       "      <td>$9.98/1kg</td>\n",
       "    </tr>\n",
       "  </tbody>\n",
       "</table>\n",
       "</div>"
      ],
      "text/plain": [
       "                                            prod_name prod_price  \\\n",
       "0        Prime Organic Whole Chicken, 1 Whole Chicken        $17   \n",
       "1   Mina Halal Whole Chicken, 1 Whole Chicken, 1.4...     $17.56   \n",
       "10  Prime Whole Chicken Raised Without Antibiotics...     $17.58   \n",
       "11  Maple Leaf Whole Chicken, 1 Whole Chicken, 1.4...     $19.96   \n",
       "\n",
       "   prod_unit_price  \n",
       "0       $1.12/100g  \n",
       "1        $9.98/1kg  \n",
       "10      $1.13/100g  \n",
       "11       $9.98/1kg  "
      ]
     },
     "execution_count": 199,
     "metadata": {},
     "output_type": "execute_result"
    }
   ],
   "source": [
    "chicken_df.loc[cond1 & ~ cond2 & ~ cond3]"
   ]
  },
  {
   "cell_type": "code",
   "execution_count": 193,
   "id": "ca82bb85-204d-4276-a060-c85bb89a92ed",
   "metadata": {},
   "outputs": [
    {
     "name": "stdout",
     "output_type": "stream",
     "text": [
      "Prime Organic Whole Chicken, 1 Whole Chicken\n",
      "Mina Halal Whole Chicken, 1 Whole Chicken, 1.44 - 1.76 kg\n",
      "Your Fresh Market Barbecue Flattened Whole Chicken, 1 chicken, 1.10 - 1.40 kg\n",
      "La Grille, Montreal Steak Spice Seasoning, 188g\n",
      "Maple Leaf Whole Chicken Wings, 10 Wings, 0.81 - 0.99 kg\n",
      "Swanson Meals Chicken With Garlic Parm Seasoned Veg 879GR, Chicken Garlic Parm Veg 879GR\n",
      "Deli Express Buffalo Chicken Wings, 505 g\n",
      "Maple Leaf Natural Selections Shaved Deli Chicken Breast Oven Roasted Family Size, 375 g\n",
      "PF Changs Chicken Pad Thai, Pad Thai\n",
      "Vendre Gobblet Gobblers #1\n",
      "Prime Whole Chicken Raised Without Antibiotics, 1 Whole Chicken\n",
      "Maple Leaf Whole Chicken, 1 Whole Chicken, 1.44 - 2.00 kg\n",
      "Butterball Stuffed Frozen Turkey - Raised Without Antibiotics, 5-7 kg, 5.00 - 7.00 kg\n",
      "Butterball Easy Fresh Turkey Breast Roast, Turkey Breast Roast\n",
      "Butterball Seasoned Frozen Young Turkey, 5-7 kg, 5.00 - 7.00 kg\n",
      "Butterball Stuffed Frozen Young Turkey - Raised without Antibiotics., 7-9 kg, 7.00 - 9.00 kg\n",
      "Butterball Seasoned Boneless Turkey Breast Roast, 1.5 kg\n"
     ]
    }
   ],
   "source": [
    "for name in chicken_df.loc[:,\"prod_name\"]:\n",
    "    print(name)"
   ]
  },
  {
   "cell_type": "markdown",
   "id": "f7d327af-7d0e-496b-83a9-aa51fbb0a17c",
   "metadata": {},
   "source": [
    "### Direct Approach\n",
    "\n",
    "Start with a list of links, then just scrape from list of link."
   ]
  },
  {
   "cell_type": "code",
   "execution_count": 203,
   "id": "ff2d5ffa-e29a-4827-8a3c-d183b1aa3f9e",
   "metadata": {},
   "outputs": [],
   "source": [
    "ing_source_df = pd.read_csv(\"../11_raw_data/20231102-1410_ingredient_source.csv\"\n",
    "        )"
   ]
  },
  {
   "cell_type": "code",
   "execution_count": 204,
   "id": "19832207-75c7-4992-a297-048dc9bb11d1",
   "metadata": {},
   "outputs": [
    {
     "data": {
      "text/html": [
       "<div>\n",
       "<style scoped>\n",
       "    .dataframe tbody tr th:only-of-type {\n",
       "        vertical-align: middle;\n",
       "    }\n",
       "\n",
       "    .dataframe tbody tr th {\n",
       "        vertical-align: top;\n",
       "    }\n",
       "\n",
       "    .dataframe thead th {\n",
       "        text-align: right;\n",
       "    }\n",
       "</style>\n",
       "<table border=\"1\" class=\"dataframe\">\n",
       "  <thead>\n",
       "    <tr style=\"text-align: right;\">\n",
       "      <th></th>\n",
       "      <th>ing_name</th>\n",
       "      <th>ing_url</th>\n",
       "    </tr>\n",
       "  </thead>\n",
       "  <tbody>\n",
       "    <tr>\n",
       "      <th>0</th>\n",
       "      <td>garlic powder</td>\n",
       "      <td>https://www.walmart.ca/en/ip/Great-Value-Garli...</td>\n",
       "    </tr>\n",
       "    <tr>\n",
       "      <th>1</th>\n",
       "      <td>black pepper</td>\n",
       "      <td>https://www.walmart.ca/en/ip/Great-Value-Groun...</td>\n",
       "    </tr>\n",
       "    <tr>\n",
       "      <th>2</th>\n",
       "      <td>cayenne pepper</td>\n",
       "      <td>https://www.walmart.ca/en/ip/Great-Value-Groun...</td>\n",
       "    </tr>\n",
       "    <tr>\n",
       "      <th>3</th>\n",
       "      <td>salt</td>\n",
       "      <td>https://www.walmart.ca/en/ip/Great-Value-Iodiz...</td>\n",
       "    </tr>\n",
       "    <tr>\n",
       "      <th>4</th>\n",
       "      <td>onion powder</td>\n",
       "      <td>https://www.walmart.ca/en/ip/Great-Value-Onion...</td>\n",
       "    </tr>\n",
       "    <tr>\n",
       "      <th>5</th>\n",
       "      <td>oregano</td>\n",
       "      <td>https://www.walmart.ca/en/ip/Great-Value-Orega...</td>\n",
       "    </tr>\n",
       "    <tr>\n",
       "      <th>6</th>\n",
       "      <td>flour</td>\n",
       "      <td>https://www.walmart.ca/en/ip/Great-Value-Origi...</td>\n",
       "    </tr>\n",
       "    <tr>\n",
       "      <th>7</th>\n",
       "      <td>paprika</td>\n",
       "      <td>https://www.walmart.ca/en/ip/Great-Value-Papri...</td>\n",
       "    </tr>\n",
       "    <tr>\n",
       "      <th>8</th>\n",
       "      <td>peanut oil</td>\n",
       "      <td>https://www.walmart.ca/en/ip/Great-Value-Peanu...</td>\n",
       "    </tr>\n",
       "    <tr>\n",
       "      <th>9</th>\n",
       "      <td>rosemary</td>\n",
       "      <td>https://www.walmart.ca/en/ip/Great-Value-Rosem...</td>\n",
       "    </tr>\n",
       "    <tr>\n",
       "      <th>10</th>\n",
       "      <td>thyme</td>\n",
       "      <td>https://www.walmart.ca/en/ip/Great-Value-Thyme...</td>\n",
       "    </tr>\n",
       "    <tr>\n",
       "      <th>11</th>\n",
       "      <td>vegetable oil</td>\n",
       "      <td>https://www.walmart.ca/en/ip/great-value-veget...</td>\n",
       "    </tr>\n",
       "    <tr>\n",
       "      <th>12</th>\n",
       "      <td>white pepper</td>\n",
       "      <td>https://www.walmart.ca/en/ip/McCormick-Gourmet...</td>\n",
       "    </tr>\n",
       "    <tr>\n",
       "      <th>13</th>\n",
       "      <td>sage</td>\n",
       "      <td>https://www.walmart.ca/en/ip/McCormick-Gourmet...</td>\n",
       "    </tr>\n",
       "    <tr>\n",
       "      <th>14</th>\n",
       "      <td>chicken</td>\n",
       "      <td>https://www.walmart.ca/en/ip/mina-halal-whole-...</td>\n",
       "    </tr>\n",
       "    <tr>\n",
       "      <th>15</th>\n",
       "      <td>buttermilk</td>\n",
       "      <td>https://www.walmart.ca/en/ip/Sealtest-1-Butter...</td>\n",
       "    </tr>\n",
       "    <tr>\n",
       "      <th>16</th>\n",
       "      <td>black pepper</td>\n",
       "      <td>https://www.walmart.ca/en/ip/Great-Value-Groun...</td>\n",
       "    </tr>\n",
       "  </tbody>\n",
       "</table>\n",
       "</div>"
      ],
      "text/plain": [
       "          ing_name                                            ing_url\n",
       "0    garlic powder  https://www.walmart.ca/en/ip/Great-Value-Garli...\n",
       "1     black pepper  https://www.walmart.ca/en/ip/Great-Value-Groun...\n",
       "2   cayenne pepper  https://www.walmart.ca/en/ip/Great-Value-Groun...\n",
       "3             salt  https://www.walmart.ca/en/ip/Great-Value-Iodiz...\n",
       "4     onion powder  https://www.walmart.ca/en/ip/Great-Value-Onion...\n",
       "5          oregano  https://www.walmart.ca/en/ip/Great-Value-Orega...\n",
       "6            flour  https://www.walmart.ca/en/ip/Great-Value-Origi...\n",
       "7          paprika  https://www.walmart.ca/en/ip/Great-Value-Papri...\n",
       "8       peanut oil  https://www.walmart.ca/en/ip/Great-Value-Peanu...\n",
       "9         rosemary  https://www.walmart.ca/en/ip/Great-Value-Rosem...\n",
       "10           thyme  https://www.walmart.ca/en/ip/Great-Value-Thyme...\n",
       "11   vegetable oil  https://www.walmart.ca/en/ip/great-value-veget...\n",
       "12    white pepper  https://www.walmart.ca/en/ip/McCormick-Gourmet...\n",
       "13            sage  https://www.walmart.ca/en/ip/McCormick-Gourmet...\n",
       "14         chicken  https://www.walmart.ca/en/ip/mina-halal-whole-...\n",
       "15      buttermilk  https://www.walmart.ca/en/ip/Sealtest-1-Butter...\n",
       "16    black pepper  https://www.walmart.ca/en/ip/Great-Value-Groun..."
      ]
     },
     "execution_count": 204,
     "metadata": {},
     "output_type": "execute_result"
    }
   ],
   "source": [
    "ing_source_df"
   ]
  },
  {
   "cell_type": "code",
   "execution_count": 205,
   "id": "63ef3f87-1c89-4bd0-81a2-149013d59ac3",
   "metadata": {},
   "outputs": [
    {
     "data": {
      "text/plain": [
       "'https://www.walmart.ca/en/ip/mina-halal-whole-chicken/6000200224620?from=/search'"
      ]
     },
     "execution_count": 205,
     "metadata": {},
     "output_type": "execute_result"
    }
   ],
   "source": [
    "query_url = ing_source_df.loc[14,\"ing_url\"]\n",
    "query_url"
   ]
  },
  {
   "cell_type": "code",
   "execution_count": 206,
   "id": "0c8fc672-90b3-4d71-b8a5-4789e26723e1",
   "metadata": {},
   "outputs": [],
   "source": [
    "# Define default options for Selenium webdriver\n",
    "chrome_options = webdriver.ChromeOptions()\n",
    "\n",
    "# Define command_executor, access this through localhost:4444\n",
    "command_executor = \"http://172.18.0.2:4444\"\n",
    "\n",
    "# Initiate webdriver, with command executor found within the Selenium Grid docker container\n",
    "# For this line to work, the `selenium/standalone-chrome:118.0` docker image\n",
    "driver = webdriver.Remote(\n",
    "    command_executor = command_executor,\n",
    "    options          = chrome_options\n",
    ")\n",
    "\n",
    "# Use the driver to scrape the url\n",
    "driver.get(query_url)\n",
    "\n",
    "# Extract the text of the response into a variable\n",
    "html = driver.page_source\n",
    "\n",
    "# Parse the response text using Beautiful Soup\n",
    "soup = BeautifulSoup(html, 'html.parser')\n",
    "\n",
    "# Exit the driver\n",
    "driver.quit()"
   ]
  },
  {
   "cell_type": "code",
   "execution_count": 208,
   "id": "02943a5e-26f1-4b7e-aa76-8d7c4a4dddd6",
   "metadata": {},
   "outputs": [
    {
     "data": {
      "text/plain": [
       "'$17.56'"
      ]
     },
     "execution_count": 208,
     "metadata": {},
     "output_type": "execute_result"
    }
   ],
   "source": [
    "soup.find(\"h1\").text\n",
    "soup.find(\"span\",{\"class\":\"mr2 gray\"}).text\n",
    "soup.find(\"span\",{\"itemprop\":\"price\"}).text"
   ]
  },
  {
   "cell_type": "code",
   "execution_count": null,
   "id": "4a8fd3a6-7326-40e9-bdff-72f4030d1c2e",
   "metadata": {},
   "outputs": [],
   "source": [
    "dict = {\n",
    "    \"prod_name\"       : [],\n",
    "    \"prod_unit_price\" : [],\n",
    "    \"prod_price\"      : []\n",
    "}\n",
    "\n",
    "for index, row in enumerate(zip(ing_source_df[\"ing_name\"],ing_source_df[\"ing_url\"])):\n",
    "\n",
    "    # Define query_url to scrape\n",
    "    query_url = row[1]\n",
    "\n",
    "    # Define default options for Selenium webdriver\n",
    "    chrome_options = webdriver.ChromeOptions()\n",
    "    \n",
    "    # Define command_executor, access this through localhost:4444\n",
    "    command_executor = \"http://172.18.0.2:4444\"\n",
    "    \n",
    "    # Initiate webdriver, with command executor found within the Selenium Grid docker container\n",
    "    # For this line to work, the `selenium/standalone-chrome:118.0` docker image\n",
    "    driver = webdriver.Remote(\n",
    "        command_executor = command_executor,\n",
    "        options          = chrome_options\n",
    "    )\n",
    "    \n",
    "    # Use the driver to scrape the url\n",
    "    driver.get(query_url)\n",
    "    \n",
    "    # Extract the text of the response into a variable\n",
    "    html = driver.page_source\n",
    "    \n",
    "    # Parse the response text using Beautiful Soup\n",
    "    soup = BeautifulSoup(html, 'html.parser')\n",
    "    \n",
    "    # Exit the driver\n",
    "    driver.quit()\n",
    "\n",
    "    # Append title\n",
    "    try:\n",
    "        dict[\"prod_name\"].append(soup.find(\"h1\").text)\n",
    "    except:\n",
    "        dict[\"prod_name\"].append(np.NaN)\n",
    "\n",
    "    # Append unit price\n",
    "    try:\n",
    "        dict[\"prod_unit_price\"].append(soup.find(\"span\",{\"class\":\"mr2 gray\"}).text)\n",
    "    except:\n",
    "        dict[\"prod_unit_price\"].append(np.NaN)\n",
    "\n",
    "    # Append price\n",
    "    try:\n",
    "        dict[\"prod_price\"].append(soup.find(\"span\",{\"itemprop\":\"price\"}).text)\n",
    "    except:\n",
    "        dict[\"prod_price\"].append(np.NaN)\n",
    "\n",
    "\n"
   ]
  },
  {
   "cell_type": "code",
   "execution_count": 211,
   "id": "f35fddb1-13bd-4def-810d-c40e625039f8",
   "metadata": {},
   "outputs": [],
   "source": [
    "ing_source_df.loc[14,\"prod_name\"] = soup.find(\"h1\").text\n",
    "ing_source_df.loc[14,\"prod_unit_price\"] = soup.find(\"span\",{\"class\":\"mr2 gray\"}).text\n",
    "ing_source_df.loc[14,\"prod_price\"] = soup.find(\"span\",{\"itemprop\":\"price\"}).text"
   ]
  },
  {
   "cell_type": "code",
   "execution_count": 212,
   "id": "01174e15-f2fa-4f91-8803-23d166b7f122",
   "metadata": {},
   "outputs": [
    {
     "data": {
      "text/html": [
       "<div>\n",
       "<style scoped>\n",
       "    .dataframe tbody tr th:only-of-type {\n",
       "        vertical-align: middle;\n",
       "    }\n",
       "\n",
       "    .dataframe tbody tr th {\n",
       "        vertical-align: top;\n",
       "    }\n",
       "\n",
       "    .dataframe thead th {\n",
       "        text-align: right;\n",
       "    }\n",
       "</style>\n",
       "<table border=\"1\" class=\"dataframe\">\n",
       "  <thead>\n",
       "    <tr style=\"text-align: right;\">\n",
       "      <th></th>\n",
       "      <th>ing_name</th>\n",
       "      <th>ing_url</th>\n",
       "      <th>prod_name</th>\n",
       "      <th>prod_unit_price</th>\n",
       "      <th>prod_price</th>\n",
       "    </tr>\n",
       "  </thead>\n",
       "  <tbody>\n",
       "    <tr>\n",
       "      <th>0</th>\n",
       "      <td>garlic powder</td>\n",
       "      <td>https://www.walmart.ca/en/ip/Great-Value-Garli...</td>\n",
       "      <td>NaN</td>\n",
       "      <td>NaN</td>\n",
       "      <td>NaN</td>\n",
       "    </tr>\n",
       "    <tr>\n",
       "      <th>1</th>\n",
       "      <td>black pepper</td>\n",
       "      <td>https://www.walmart.ca/en/ip/Great-Value-Groun...</td>\n",
       "      <td>NaN</td>\n",
       "      <td>NaN</td>\n",
       "      <td>NaN</td>\n",
       "    </tr>\n",
       "    <tr>\n",
       "      <th>2</th>\n",
       "      <td>cayenne pepper</td>\n",
       "      <td>https://www.walmart.ca/en/ip/Great-Value-Groun...</td>\n",
       "      <td>NaN</td>\n",
       "      <td>NaN</td>\n",
       "      <td>NaN</td>\n",
       "    </tr>\n",
       "    <tr>\n",
       "      <th>3</th>\n",
       "      <td>salt</td>\n",
       "      <td>https://www.walmart.ca/en/ip/Great-Value-Iodiz...</td>\n",
       "      <td>NaN</td>\n",
       "      <td>NaN</td>\n",
       "      <td>NaN</td>\n",
       "    </tr>\n",
       "    <tr>\n",
       "      <th>4</th>\n",
       "      <td>onion powder</td>\n",
       "      <td>https://www.walmart.ca/en/ip/Great-Value-Onion...</td>\n",
       "      <td>NaN</td>\n",
       "      <td>NaN</td>\n",
       "      <td>NaN</td>\n",
       "    </tr>\n",
       "    <tr>\n",
       "      <th>5</th>\n",
       "      <td>oregano</td>\n",
       "      <td>https://www.walmart.ca/en/ip/Great-Value-Orega...</td>\n",
       "      <td>NaN</td>\n",
       "      <td>NaN</td>\n",
       "      <td>NaN</td>\n",
       "    </tr>\n",
       "    <tr>\n",
       "      <th>6</th>\n",
       "      <td>flour</td>\n",
       "      <td>https://www.walmart.ca/en/ip/Great-Value-Origi...</td>\n",
       "      <td>NaN</td>\n",
       "      <td>NaN</td>\n",
       "      <td>NaN</td>\n",
       "    </tr>\n",
       "    <tr>\n",
       "      <th>7</th>\n",
       "      <td>paprika</td>\n",
       "      <td>https://www.walmart.ca/en/ip/Great-Value-Papri...</td>\n",
       "      <td>NaN</td>\n",
       "      <td>NaN</td>\n",
       "      <td>NaN</td>\n",
       "    </tr>\n",
       "    <tr>\n",
       "      <th>8</th>\n",
       "      <td>peanut oil</td>\n",
       "      <td>https://www.walmart.ca/en/ip/Great-Value-Peanu...</td>\n",
       "      <td>NaN</td>\n",
       "      <td>NaN</td>\n",
       "      <td>NaN</td>\n",
       "    </tr>\n",
       "    <tr>\n",
       "      <th>9</th>\n",
       "      <td>rosemary</td>\n",
       "      <td>https://www.walmart.ca/en/ip/Great-Value-Rosem...</td>\n",
       "      <td>NaN</td>\n",
       "      <td>NaN</td>\n",
       "      <td>NaN</td>\n",
       "    </tr>\n",
       "    <tr>\n",
       "      <th>10</th>\n",
       "      <td>thyme</td>\n",
       "      <td>https://www.walmart.ca/en/ip/Great-Value-Thyme...</td>\n",
       "      <td>NaN</td>\n",
       "      <td>NaN</td>\n",
       "      <td>NaN</td>\n",
       "    </tr>\n",
       "    <tr>\n",
       "      <th>11</th>\n",
       "      <td>vegetable oil</td>\n",
       "      <td>https://www.walmart.ca/en/ip/great-value-veget...</td>\n",
       "      <td>NaN</td>\n",
       "      <td>NaN</td>\n",
       "      <td>NaN</td>\n",
       "    </tr>\n",
       "    <tr>\n",
       "      <th>12</th>\n",
       "      <td>white pepper</td>\n",
       "      <td>https://www.walmart.ca/en/ip/McCormick-Gourmet...</td>\n",
       "      <td>NaN</td>\n",
       "      <td>NaN</td>\n",
       "      <td>NaN</td>\n",
       "    </tr>\n",
       "    <tr>\n",
       "      <th>13</th>\n",
       "      <td>sage</td>\n",
       "      <td>https://www.walmart.ca/en/ip/McCormick-Gourmet...</td>\n",
       "      <td>NaN</td>\n",
       "      <td>NaN</td>\n",
       "      <td>NaN</td>\n",
       "    </tr>\n",
       "    <tr>\n",
       "      <th>14</th>\n",
       "      <td>chicken</td>\n",
       "      <td>https://www.walmart.ca/en/ip/mina-halal-whole-...</td>\n",
       "      <td>Mina Halal Whole Chicken, 1 Whole Chicken, 1.4...</td>\n",
       "      <td>$9.98/1kg</td>\n",
       "      <td>$17.56</td>\n",
       "    </tr>\n",
       "    <tr>\n",
       "      <th>15</th>\n",
       "      <td>buttermilk</td>\n",
       "      <td>https://www.walmart.ca/en/ip/Sealtest-1-Butter...</td>\n",
       "      <td>NaN</td>\n",
       "      <td>NaN</td>\n",
       "      <td>NaN</td>\n",
       "    </tr>\n",
       "    <tr>\n",
       "      <th>16</th>\n",
       "      <td>black pepper</td>\n",
       "      <td>https://www.walmart.ca/en/ip/Great-Value-Groun...</td>\n",
       "      <td>NaN</td>\n",
       "      <td>NaN</td>\n",
       "      <td>NaN</td>\n",
       "    </tr>\n",
       "  </tbody>\n",
       "</table>\n",
       "</div>"
      ],
      "text/plain": [
       "          ing_name                                            ing_url  \\\n",
       "0    garlic powder  https://www.walmart.ca/en/ip/Great-Value-Garli...   \n",
       "1     black pepper  https://www.walmart.ca/en/ip/Great-Value-Groun...   \n",
       "2   cayenne pepper  https://www.walmart.ca/en/ip/Great-Value-Groun...   \n",
       "3             salt  https://www.walmart.ca/en/ip/Great-Value-Iodiz...   \n",
       "4     onion powder  https://www.walmart.ca/en/ip/Great-Value-Onion...   \n",
       "5          oregano  https://www.walmart.ca/en/ip/Great-Value-Orega...   \n",
       "6            flour  https://www.walmart.ca/en/ip/Great-Value-Origi...   \n",
       "7          paprika  https://www.walmart.ca/en/ip/Great-Value-Papri...   \n",
       "8       peanut oil  https://www.walmart.ca/en/ip/Great-Value-Peanu...   \n",
       "9         rosemary  https://www.walmart.ca/en/ip/Great-Value-Rosem...   \n",
       "10           thyme  https://www.walmart.ca/en/ip/Great-Value-Thyme...   \n",
       "11   vegetable oil  https://www.walmart.ca/en/ip/great-value-veget...   \n",
       "12    white pepper  https://www.walmart.ca/en/ip/McCormick-Gourmet...   \n",
       "13            sage  https://www.walmart.ca/en/ip/McCormick-Gourmet...   \n",
       "14         chicken  https://www.walmart.ca/en/ip/mina-halal-whole-...   \n",
       "15      buttermilk  https://www.walmart.ca/en/ip/Sealtest-1-Butter...   \n",
       "16    black pepper  https://www.walmart.ca/en/ip/Great-Value-Groun...   \n",
       "\n",
       "                                            prod_name prod_unit_price  \\\n",
       "0                                                 NaN             NaN   \n",
       "1                                                 NaN             NaN   \n",
       "2                                                 NaN             NaN   \n",
       "3                                                 NaN             NaN   \n",
       "4                                                 NaN             NaN   \n",
       "5                                                 NaN             NaN   \n",
       "6                                                 NaN             NaN   \n",
       "7                                                 NaN             NaN   \n",
       "8                                                 NaN             NaN   \n",
       "9                                                 NaN             NaN   \n",
       "10                                                NaN             NaN   \n",
       "11                                                NaN             NaN   \n",
       "12                                                NaN             NaN   \n",
       "13                                                NaN             NaN   \n",
       "14  Mina Halal Whole Chicken, 1 Whole Chicken, 1.4...       $9.98/1kg   \n",
       "15                                                NaN             NaN   \n",
       "16                                                NaN             NaN   \n",
       "\n",
       "   prod_price  \n",
       "0         NaN  \n",
       "1         NaN  \n",
       "2         NaN  \n",
       "3         NaN  \n",
       "4         NaN  \n",
       "5         NaN  \n",
       "6         NaN  \n",
       "7         NaN  \n",
       "8         NaN  \n",
       "9         NaN  \n",
       "10        NaN  \n",
       "11        NaN  \n",
       "12        NaN  \n",
       "13        NaN  \n",
       "14     $17.56  \n",
       "15        NaN  \n",
       "16        NaN  "
      ]
     },
     "execution_count": 212,
     "metadata": {},
     "output_type": "execute_result"
    }
   ],
   "source": [
    "ing_source_df"
   ]
  },
  {
   "cell_type": "code",
   "execution_count": 214,
   "id": "80c8642a-d429-45c9-a148-26e87a4ea879",
   "metadata": {},
   "outputs": [
    {
     "data": {
      "text/plain": [
       "0              NaN\n",
       "1              NaN\n",
       "2              NaN\n",
       "3              NaN\n",
       "4              NaN\n",
       "5              NaN\n",
       "6              NaN\n",
       "7              NaN\n",
       "8              NaN\n",
       "9              NaN\n",
       "10             NaN\n",
       "11             NaN\n",
       "12             NaN\n",
       "13             NaN\n",
       "14    [$9.98, 1kg]\n",
       "15             NaN\n",
       "16             NaN\n",
       "Name: prod_unit_price, dtype: object"
      ]
     },
     "execution_count": 214,
     "metadata": {},
     "output_type": "execute_result"
    }
   ],
   "source": [
    "# Clean unit price\n",
    "ing_source_df.loc[:,\"prod_unit_price\"].str.split(\"/\")"
   ]
  },
  {
   "cell_type": "code",
   "execution_count": 226,
   "id": "21cf8651-2a16-4508-85ec-acdbbec7c358",
   "metadata": {},
   "outputs": [
    {
     "data": {
      "text/plain": [
       "9.98"
      ]
     },
     "execution_count": 226,
     "metadata": {},
     "output_type": "execute_result"
    }
   ],
   "source": [
    "price = ing_source_df.loc[:,\"prod_unit_price\"].str.split(\"/\")[14][0]\n",
    "price = float(price.replace(\"$\",\"\"))\n",
    "price"
   ]
  },
  {
   "cell_type": "code",
   "execution_count": 231,
   "id": "a59b4172-a717-4f2f-ac4f-4f281686f235",
   "metadata": {},
   "outputs": [
    {
     "data": {
      "text/plain": [
       "(['1'], ['kg'])"
      ]
     },
     "execution_count": 231,
     "metadata": {},
     "output_type": "execute_result"
    }
   ],
   "source": [
    "unit = ing_source_df.loc[:,\"prod_unit_price\"].str.split(\"/\")[14][1]\n",
    "unit_number = re.findall(r'\\d+', unit)\n",
    "unit_unit   = re.findall(r'\\D+', unit)\n",
    "unit_number, unit_unit"
   ]
  },
  {
   "cell_type": "code",
   "execution_count": 233,
   "id": "1e580da9-6c32-4562-add1-73b51f6b3a02",
   "metadata": {},
   "outputs": [],
   "source": [
    "ing_source_df.loc[14,\"up_price_cad\"]   = price\n",
    "ing_source_df.loc[14,\"up_measurement\"] = float(unit_number[0])\n",
    "ing_source_df.loc[14,\"up_unit\"]        = unit_unit[0]"
   ]
  },
  {
   "cell_type": "code",
   "execution_count": 235,
   "id": "0edfa192-09ec-49cb-9fdc-d23bee996adb",
   "metadata": {},
   "outputs": [
    {
     "data": {
      "text/plain": [
       "ing_name                                                     chicken\n",
       "ing_url            https://www.walmart.ca/en/ip/mina-halal-whole-...\n",
       "prod_name          Mina Halal Whole Chicken, 1 Whole Chicken, 1.4...\n",
       "prod_unit_price                                            $9.98/1kg\n",
       "prod_price                                                    $17.56\n",
       "up_price_cad                                                    9.98\n",
       "up_measurement                                                   1.0\n",
       "up_unit                                                           kg\n",
       "Name: 14, dtype: object"
      ]
     },
     "execution_count": 235,
     "metadata": {},
     "output_type": "execute_result"
    }
   ],
   "source": [
    "ing_source_df.loc[14]"
   ]
  },
  {
   "cell_type": "code",
   "execution_count": 236,
   "id": "418da693-5f94-4960-a15d-61396e15f8bf",
   "metadata": {},
   "outputs": [],
   "source": [
    "ing_source_df.loc[14,\"up_measurement_metric\"] = ing_source_df.loc[14,\"up_measurement\"]*1000\n",
    "ing_source_df.loc[14,\"up_unit_metric\"]        = \"g\"\n",
    "ing_source_df.loc[14,\"up_metric\"]             = ing_source_df.loc[14,\"up_price_cad\"]/ing_source_df.loc[14,\"up_measurement_metric\"]"
   ]
  },
  {
   "cell_type": "code",
   "execution_count": 237,
   "id": "165106cc-1441-464e-8b6e-2f6b0c97f936",
   "metadata": {},
   "outputs": [
    {
     "data": {
      "text/plain": [
       "ing_name                                                           chicken\n",
       "ing_url                  https://www.walmart.ca/en/ip/mina-halal-whole-...\n",
       "prod_name                Mina Halal Whole Chicken, 1 Whole Chicken, 1.4...\n",
       "prod_unit_price                                                  $9.98/1kg\n",
       "prod_price                                                          $17.56\n",
       "up_price_cad                                                          9.98\n",
       "up_measurement                                                         1.0\n",
       "up_unit                                                                 kg\n",
       "up_measurement_metric                                               1000.0\n",
       "up_unit_metric                                                           g\n",
       "up_metric                                                          0.00998\n",
       "Name: 14, dtype: object"
      ]
     },
     "execution_count": 237,
     "metadata": {},
     "output_type": "execute_result"
    }
   ],
   "source": [
    "ing_source_df.loc[14]"
   ]
  },
  {
   "cell_type": "markdown",
   "id": "e67ef42c-c200-4753-8728-8097acca0210",
   "metadata": {},
   "source": [
    "## Merge costs with ingredients"
   ]
  },
  {
   "cell_type": "code",
   "execution_count": 239,
   "id": "6da4c844-82a9-47f2-b5b2-473be17fc596",
   "metadata": {
    "scrolled": true
   },
   "outputs": [
    {
     "data": {
      "text/html": [
       "<div>\n",
       "<style scoped>\n",
       "    .dataframe tbody tr th:only-of-type {\n",
       "        vertical-align: middle;\n",
       "    }\n",
       "\n",
       "    .dataframe tbody tr th {\n",
       "        vertical-align: top;\n",
       "    }\n",
       "\n",
       "    .dataframe thead th {\n",
       "        text-align: right;\n",
       "    }\n",
       "</style>\n",
       "<table border=\"1\" class=\"dataframe\">\n",
       "  <thead>\n",
       "    <tr style=\"text-align: right;\">\n",
       "      <th></th>\n",
       "      <th>recipe_name</th>\n",
       "      <th>ing_amt</th>\n",
       "      <th>ing_uom</th>\n",
       "      <th>ing_name</th>\n",
       "      <th>ing_amt_metric</th>\n",
       "      <th>ing_uom_metric</th>\n",
       "    </tr>\n",
       "  </thead>\n",
       "  <tbody>\n",
       "    <tr>\n",
       "      <th>0</th>\n",
       "      <td>Crispy Fried Chicken</td>\n",
       "      <td>1.0</td>\n",
       "      <td>pound</td>\n",
       "      <td>chicken</td>\n",
       "      <td>453.592330</td>\n",
       "      <td>g</td>\n",
       "    </tr>\n",
       "    <tr>\n",
       "      <th>1</th>\n",
       "      <td>Crispy Fried Chicken</td>\n",
       "      <td>1.0</td>\n",
       "      <td>cup</td>\n",
       "      <td>buttermilk</td>\n",
       "      <td>236.588240</td>\n",
       "      <td>mL</td>\n",
       "    </tr>\n",
       "    <tr>\n",
       "      <th>2</th>\n",
       "      <td>Crispy Fried Chicken</td>\n",
       "      <td>2.0</td>\n",
       "      <td>cup</td>\n",
       "      <td>flour</td>\n",
       "      <td>473.176480</td>\n",
       "      <td>mL</td>\n",
       "    </tr>\n",
       "    <tr>\n",
       "      <th>3</th>\n",
       "      <td>Crispy Fried Chicken</td>\n",
       "      <td>1.0</td>\n",
       "      <td>teaspoon</td>\n",
       "      <td>paprika</td>\n",
       "      <td>4.928922</td>\n",
       "      <td>mL</td>\n",
       "    </tr>\n",
       "    <tr>\n",
       "      <th>4</th>\n",
       "      <td>Crispy Fried Chicken</td>\n",
       "      <td>NaN</td>\n",
       "      <td>NaN</td>\n",
       "      <td>salt pepper</td>\n",
       "      <td>NaN</td>\n",
       "      <td>NaN</td>\n",
       "    </tr>\n",
       "  </tbody>\n",
       "</table>\n",
       "</div>"
      ],
      "text/plain": [
       "            recipe_name  ing_amt   ing_uom     ing_name  ing_amt_metric  \\\n",
       "0  Crispy Fried Chicken      1.0     pound      chicken      453.592330   \n",
       "1  Crispy Fried Chicken      1.0       cup   buttermilk      236.588240   \n",
       "2  Crispy Fried Chicken      2.0       cup        flour      473.176480   \n",
       "3  Crispy Fried Chicken      1.0  teaspoon      paprika        4.928922   \n",
       "4  Crispy Fried Chicken      NaN       NaN  salt pepper             NaN   \n",
       "\n",
       "  ing_uom_metric  \n",
       "0              g  \n",
       "1             mL  \n",
       "2             mL  \n",
       "3             mL  \n",
       "4            NaN  "
      ]
     },
     "execution_count": 239,
     "metadata": {},
     "output_type": "execute_result"
    }
   ],
   "source": [
    "ing_df.head()"
   ]
  },
  {
   "cell_type": "code",
   "execution_count": 240,
   "id": "8423cb33-418f-4bed-ae0e-b68136024ac9",
   "metadata": {},
   "outputs": [
    {
     "data": {
      "text/html": [
       "<div>\n",
       "<style scoped>\n",
       "    .dataframe tbody tr th:only-of-type {\n",
       "        vertical-align: middle;\n",
       "    }\n",
       "\n",
       "    .dataframe tbody tr th {\n",
       "        vertical-align: top;\n",
       "    }\n",
       "\n",
       "    .dataframe thead th {\n",
       "        text-align: right;\n",
       "    }\n",
       "</style>\n",
       "<table border=\"1\" class=\"dataframe\">\n",
       "  <thead>\n",
       "    <tr style=\"text-align: right;\">\n",
       "      <th></th>\n",
       "      <th>recipe_name</th>\n",
       "      <th>ing_amt</th>\n",
       "      <th>ing_uom</th>\n",
       "      <th>ing_name</th>\n",
       "      <th>ing_amt_metric</th>\n",
       "      <th>ing_uom_metric</th>\n",
       "    </tr>\n",
       "  </thead>\n",
       "  <tbody>\n",
       "    <tr>\n",
       "      <th>0</th>\n",
       "      <td>Crispy Fried Chicken</td>\n",
       "      <td>1.0</td>\n",
       "      <td>pound</td>\n",
       "      <td>chicken</td>\n",
       "      <td>453.59233</td>\n",
       "      <td>g</td>\n",
       "    </tr>\n",
       "    <tr>\n",
       "      <th>6</th>\n",
       "      <td>Chef John&amp;#39;s Buttermilk Fried Chicken</td>\n",
       "      <td>1.0</td>\n",
       "      <td>pound</td>\n",
       "      <td>chicken</td>\n",
       "      <td>453.59233</td>\n",
       "      <td>g</td>\n",
       "    </tr>\n",
       "  </tbody>\n",
       "</table>\n",
       "</div>"
      ],
      "text/plain": [
       "                                recipe_name  ing_amt ing_uom ing_name  \\\n",
       "0                      Crispy Fried Chicken      1.0   pound  chicken   \n",
       "6  Chef John&#39;s Buttermilk Fried Chicken      1.0   pound  chicken   \n",
       "\n",
       "   ing_amt_metric ing_uom_metric  \n",
       "0       453.59233              g  \n",
       "6       453.59233              g  "
      ]
     },
     "execution_count": 240,
     "metadata": {},
     "output_type": "execute_result"
    }
   ],
   "source": [
    "cond = ing_df[\"ing_name\"] == \"chicken\"\n",
    "ing_df.loc[cond]"
   ]
  },
  {
   "cell_type": "code",
   "execution_count": 248,
   "id": "8d65ab60-a801-4ae9-92eb-bb8f80fa0dbd",
   "metadata": {},
   "outputs": [],
   "source": [
    "final_df = ing_df.loc[cond].merge(\n",
    "    ing_source_df,\n",
    "    left_on = \"ing_name\",\n",
    "    right_on = \"ing_name\"\n",
    ")"
   ]
  },
  {
   "cell_type": "code",
   "execution_count": 250,
   "id": "f2b11b46-497a-4fd8-9152-77af1a58dedd",
   "metadata": {},
   "outputs": [],
   "source": [
    "final_df[\"cost\"] = final_df[\"ing_amt_metric\"] * final_df[\"up_metric\"]"
   ]
  },
  {
   "cell_type": "code",
   "execution_count": 254,
   "id": "cc3caa43-37ea-44c0-acca-5c1fa0032d52",
   "metadata": {},
   "outputs": [
    {
     "data": {
      "text/html": [
       "<div>\n",
       "<style scoped>\n",
       "    .dataframe tbody tr th:only-of-type {\n",
       "        vertical-align: middle;\n",
       "    }\n",
       "\n",
       "    .dataframe tbody tr th {\n",
       "        vertical-align: top;\n",
       "    }\n",
       "\n",
       "    .dataframe thead tr th {\n",
       "        text-align: left;\n",
       "    }\n",
       "\n",
       "    .dataframe thead tr:last-of-type th {\n",
       "        text-align: right;\n",
       "    }\n",
       "</style>\n",
       "<table border=\"1\" class=\"dataframe\">\n",
       "  <thead>\n",
       "    <tr>\n",
       "      <th></th>\n",
       "      <th colspan=\"2\" halign=\"left\">cost</th>\n",
       "    </tr>\n",
       "    <tr>\n",
       "      <th>recipe_name</th>\n",
       "      <th>Chef John&amp;#39;s Buttermilk Fried Chicken</th>\n",
       "      <th>Crispy Fried Chicken</th>\n",
       "    </tr>\n",
       "    <tr>\n",
       "      <th>ing_name</th>\n",
       "      <th></th>\n",
       "      <th></th>\n",
       "    </tr>\n",
       "  </thead>\n",
       "  <tbody>\n",
       "    <tr>\n",
       "      <th>chicken</th>\n",
       "      <td>4.526851</td>\n",
       "      <td>4.526851</td>\n",
       "    </tr>\n",
       "  </tbody>\n",
       "</table>\n",
       "</div>"
      ],
      "text/plain": [
       "                                                cost                     \n",
       "recipe_name Chef John&#39;s Buttermilk Fried Chicken Crispy Fried Chicken\n",
       "ing_name                                                                 \n",
       "chicken                                     4.526851             4.526851"
      ]
     },
     "execution_count": 254,
     "metadata": {},
     "output_type": "execute_result"
    }
   ],
   "source": [
    "final_df.pivot(\n",
    "    columns = [\"recipe_name\"],\n",
    "    index = [\"ing_name\"],\n",
    "    values = [\"cost\"]\n",
    ")"
   ]
  },
  {
   "cell_type": "code",
   "execution_count": 255,
   "id": "f3f60570-f174-4771-ab1f-48f459ea32d3",
   "metadata": {},
   "outputs": [
    {
     "data": {
      "text/html": [
       "<div>\n",
       "<style scoped>\n",
       "    .dataframe tbody tr th:only-of-type {\n",
       "        vertical-align: middle;\n",
       "    }\n",
       "\n",
       "    .dataframe tbody tr th {\n",
       "        vertical-align: top;\n",
       "    }\n",
       "\n",
       "    .dataframe thead th {\n",
       "        text-align: right;\n",
       "    }\n",
       "</style>\n",
       "<table border=\"1\" class=\"dataframe\">\n",
       "  <thead>\n",
       "    <tr style=\"text-align: right;\">\n",
       "      <th></th>\n",
       "      <th>recipe_name</th>\n",
       "      <th>ing_amt</th>\n",
       "      <th>ing_uom</th>\n",
       "      <th>ing_name</th>\n",
       "      <th>ing_amt_metric</th>\n",
       "      <th>ing_uom_metric</th>\n",
       "      <th>ing_url</th>\n",
       "      <th>prod_name</th>\n",
       "      <th>prod_unit_price</th>\n",
       "      <th>prod_price</th>\n",
       "      <th>up_price_cad</th>\n",
       "      <th>up_measurement</th>\n",
       "      <th>up_unit</th>\n",
       "      <th>up_measurement_metric</th>\n",
       "      <th>up_unit_metric</th>\n",
       "      <th>up_metric</th>\n",
       "      <th>cost</th>\n",
       "    </tr>\n",
       "  </thead>\n",
       "  <tbody>\n",
       "    <tr>\n",
       "      <th>0</th>\n",
       "      <td>Crispy Fried Chicken</td>\n",
       "      <td>1.0</td>\n",
       "      <td>pound</td>\n",
       "      <td>chicken</td>\n",
       "      <td>453.59233</td>\n",
       "      <td>g</td>\n",
       "      <td>https://www.walmart.ca/en/ip/mina-halal-whole-...</td>\n",
       "      <td>Mina Halal Whole Chicken, 1 Whole Chicken, 1.4...</td>\n",
       "      <td>$9.98/1kg</td>\n",
       "      <td>$17.56</td>\n",
       "      <td>9.98</td>\n",
       "      <td>1.0</td>\n",
       "      <td>kg</td>\n",
       "      <td>1000.0</td>\n",
       "      <td>g</td>\n",
       "      <td>0.00998</td>\n",
       "      <td>4.526851</td>\n",
       "    </tr>\n",
       "    <tr>\n",
       "      <th>1</th>\n",
       "      <td>Chef John&amp;#39;s Buttermilk Fried Chicken</td>\n",
       "      <td>1.0</td>\n",
       "      <td>pound</td>\n",
       "      <td>chicken</td>\n",
       "      <td>453.59233</td>\n",
       "      <td>g</td>\n",
       "      <td>https://www.walmart.ca/en/ip/mina-halal-whole-...</td>\n",
       "      <td>Mina Halal Whole Chicken, 1 Whole Chicken, 1.4...</td>\n",
       "      <td>$9.98/1kg</td>\n",
       "      <td>$17.56</td>\n",
       "      <td>9.98</td>\n",
       "      <td>1.0</td>\n",
       "      <td>kg</td>\n",
       "      <td>1000.0</td>\n",
       "      <td>g</td>\n",
       "      <td>0.00998</td>\n",
       "      <td>4.526851</td>\n",
       "    </tr>\n",
       "  </tbody>\n",
       "</table>\n",
       "</div>"
      ],
      "text/plain": [
       "                                recipe_name  ing_amt ing_uom ing_name  \\\n",
       "0                      Crispy Fried Chicken      1.0   pound  chicken   \n",
       "1  Chef John&#39;s Buttermilk Fried Chicken      1.0   pound  chicken   \n",
       "\n",
       "   ing_amt_metric ing_uom_metric  \\\n",
       "0       453.59233              g   \n",
       "1       453.59233              g   \n",
       "\n",
       "                                             ing_url  \\\n",
       "0  https://www.walmart.ca/en/ip/mina-halal-whole-...   \n",
       "1  https://www.walmart.ca/en/ip/mina-halal-whole-...   \n",
       "\n",
       "                                           prod_name prod_unit_price  \\\n",
       "0  Mina Halal Whole Chicken, 1 Whole Chicken, 1.4...       $9.98/1kg   \n",
       "1  Mina Halal Whole Chicken, 1 Whole Chicken, 1.4...       $9.98/1kg   \n",
       "\n",
       "  prod_price  up_price_cad  up_measurement up_unit  up_measurement_metric  \\\n",
       "0     $17.56          9.98             1.0      kg                 1000.0   \n",
       "1     $17.56          9.98             1.0      kg                 1000.0   \n",
       "\n",
       "  up_unit_metric  up_metric      cost  \n",
       "0              g    0.00998  4.526851  \n",
       "1              g    0.00998  4.526851  "
      ]
     },
     "execution_count": 255,
     "metadata": {},
     "output_type": "execute_result"
    }
   ],
   "source": [
    "final_df.loc[:,[\"recipe_name\", \"ing_uom_metric\"]]"
   ]
  },
  {
   "cell_type": "code",
   "execution_count": null,
   "id": "2afc9d36-7404-4cf1-b2ae-dfbeea580ad3",
   "metadata": {},
   "outputs": [],
   "source": []
  }
 ],
 "metadata": {
  "kernelspec": {
   "display_name": "Python 3 (ipykernel)",
   "language": "python",
   "name": "python3"
  },
  "language_info": {
   "codemirror_mode": {
    "name": "ipython",
    "version": 3
   },
   "file_extension": ".py",
   "mimetype": "text/x-python",
   "name": "python",
   "nbconvert_exporter": "python",
   "pygments_lexer": "ipython3",
   "version": "3.11.4"
  }
 },
 "nbformat": 4,
 "nbformat_minor": 5
}
