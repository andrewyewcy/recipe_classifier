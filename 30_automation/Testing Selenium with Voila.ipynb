{
 "cells": [
  {
   "cell_type": "code",
   "execution_count": 57,
   "id": "096fee8f",
   "metadata": {},
   "outputs": [],
   "source": [
    "from selenium import webdriver\n",
    "# from selenium.webdriver.common.keys import Keys\n",
    "# from selenium.webdriver.common.by import By\n",
    "# from selenium.webdriver.chrome.service import Service\n",
    "import time"
   ]
  },
  {
   "cell_type": "code",
   "execution_count": 59,
   "id": "265c5d0c",
   "metadata": {},
   "outputs": [
    {
     "ename": "AttributeError",
     "evalue": "'WebDriver' object has no attribute 'find_element_by_name'",
     "output_type": "error",
     "traceback": [
      "\u001b[0;31m---------------------------------------------------------------------------\u001b[0m",
      "\u001b[0;31mAttributeError\u001b[0m                            Traceback (most recent call last)",
      "Cell \u001b[0;32mIn[59], line 4\u001b[0m\n\u001b[1;32m      2\u001b[0m driver\u001b[38;5;241m.\u001b[39mget(\u001b[38;5;124m'\u001b[39m\u001b[38;5;124mhttp://www.google.com/\u001b[39m\u001b[38;5;124m'\u001b[39m);\n\u001b[1;32m      3\u001b[0m time\u001b[38;5;241m.\u001b[39msleep(\u001b[38;5;241m5\u001b[39m) \u001b[38;5;66;03m# Let the user actually see something!\u001b[39;00m\n\u001b[0;32m----> 4\u001b[0m search_box \u001b[38;5;241m=\u001b[39m \u001b[43mdriver\u001b[49m\u001b[38;5;241;43m.\u001b[39;49m\u001b[43mfind_element_by_name\u001b[49m(\u001b[38;5;124m'\u001b[39m\u001b[38;5;124mq\u001b[39m\u001b[38;5;124m'\u001b[39m)\n\u001b[1;32m      5\u001b[0m search_box\u001b[38;5;241m.\u001b[39msend_keys(\u001b[38;5;124m'\u001b[39m\u001b[38;5;124mChromeDriver\u001b[39m\u001b[38;5;124m'\u001b[39m)\n\u001b[1;32m      6\u001b[0m search_box\u001b[38;5;241m.\u001b[39msubmit()\n",
      "\u001b[0;31mAttributeError\u001b[0m: 'WebDriver' object has no attribute 'find_element_by_name'"
     ]
    }
   ],
   "source": [
    "driver = webdriver.Chrome()\n",
    "driver.get('http://www.google.com/');\n",
    "time.sleep(5) # Let the user actually see something!\n",
    "search_box = driver.find_element_by_name('q')\n",
    "search_box.send_keys('ChromeDriver')\n",
    "search_box.submit()\n",
    "time.sleep(5) # Let the user actually see something!\n",
    "driver.quit()"
   ]
  },
  {
   "cell_type": "code",
   "execution_count": 58,
   "id": "2c30ccb3",
   "metadata": {},
   "outputs": [],
   "source": [
    "driver.quit()"
   ]
  },
  {
   "cell_type": "code",
   "execution_count": 26,
   "id": "0ebee1e4",
   "metadata": {},
   "outputs": [],
   "source": [
    "driver = webdriver.Chrome()"
   ]
  },
  {
   "cell_type": "code",
   "execution_count": 27,
   "id": "875f3d50",
   "metadata": {},
   "outputs": [
    {
     "data": {
      "text/plain": [
       "'https://www.walmart.ca/en/ip/mina-halal-whole-chicken/6000200224620'"
      ]
     },
     "execution_count": 27,
     "metadata": {},
     "output_type": "execute_result"
    }
   ],
   "source": [
    "query_url = \"https://www.walmart.ca/en/ip/mina-halal-whole-chicken/6000200224620\"\n",
    "query_url"
   ]
  },
  {
   "cell_type": "code",
   "execution_count": 28,
   "id": "91e517d8",
   "metadata": {},
   "outputs": [],
   "source": [
    "driver.get(query_url)"
   ]
  },
  {
   "cell_type": "code",
   "execution_count": 29,
   "id": "39607350",
   "metadata": {},
   "outputs": [],
   "source": [
    "driver.quit()"
   ]
  },
  {
   "cell_type": "code",
   "execution_count": null,
   "id": "b1ba7aee",
   "metadata": {},
   "outputs": [],
   "source": [
    "# Define default options for Selenium webdriver\n",
    "chrome_options = webdriver.ChromeOptions()"
   ]
  },
  {
   "cell_type": "code",
   "execution_count": 30,
   "id": "ba7ff7a6",
   "metadata": {},
   "outputs": [],
   "source": [
    "driver = webdriver.Chrome()"
   ]
  },
  {
   "cell_type": "code",
   "execution_count": 31,
   "id": "4618c5cf",
   "metadata": {},
   "outputs": [
    {
     "data": {
      "text/plain": [
       "''"
      ]
     },
     "execution_count": 31,
     "metadata": {},
     "output_type": "execute_result"
    }
   ],
   "source": [
    "driver.title"
   ]
  },
  {
   "cell_type": "code",
   "execution_count": 50,
   "id": "dc7e9a8e",
   "metadata": {},
   "outputs": [],
   "source": [
    "driver.quit()"
   ]
  },
  {
   "cell_type": "code",
   "execution_count": 32,
   "id": "8985abaf",
   "metadata": {},
   "outputs": [],
   "source": [
    "from selenium import webdriver\n",
    "from selenium.webdriver.common.keys import Keys\n",
    "from selenium.webdriver.common.by import By\n",
    "from selenium.webdriver.chrome.service import Service"
   ]
  },
  {
   "cell_type": "code",
   "execution_count": 42,
   "id": "78758024",
   "metadata": {},
   "outputs": [],
   "source": [
    "s = Service(\"../../../../../../../usr/local/bin/chromdriver\")"
   ]
  },
  {
   "cell_type": "code",
   "execution_count": 51,
   "id": "090773fc",
   "metadata": {},
   "outputs": [],
   "source": [
    "# Define default options for Selenium webdriver\n",
    "chrome_options = webdriver.ChromeOptions()\n",
    "\n",
    "driver = webdriver.Chrome(options = chrome_options)\n",
    "driver.get('http://www.google.com/')"
   ]
  },
  {
   "cell_type": "code",
   "execution_count": 53,
   "id": "56e1b55d",
   "metadata": {},
   "outputs": [
    {
     "data": {
      "text/plain": [
       "'Mozilla/5.0 (Macintosh; Intel Mac OS X 10_15_7) AppleWebKit/537.36 (KHTML, like Gecko) Chrome/119.0.0.0 Safari/537.36'"
      ]
     },
     "execution_count": 53,
     "metadata": {},
     "output_type": "execute_result"
    }
   ],
   "source": [
    "driver.execute_script(\"return navigator.userAgent\")"
   ]
  },
  {
   "cell_type": "code",
   "execution_count": 54,
   "id": "7813e2b7",
   "metadata": {},
   "outputs": [
    {
     "ename": "AttributeError",
     "evalue": "'WebDriver' object has no attribute 'find_element_by_name'",
     "output_type": "error",
     "traceback": [
      "\u001b[0;31m---------------------------------------------------------------------------\u001b[0m",
      "\u001b[0;31mAttributeError\u001b[0m                            Traceback (most recent call last)",
      "Cell \u001b[0;32mIn[54], line 1\u001b[0m\n\u001b[0;32m----> 1\u001b[0m search_box \u001b[38;5;241m=\u001b[39m \u001b[43mdriver\u001b[49m\u001b[38;5;241;43m.\u001b[39;49m\u001b[43mfind_element_by_name\u001b[49m(\u001b[38;5;124m'\u001b[39m\u001b[38;5;124mq\u001b[39m\u001b[38;5;124m'\u001b[39m)\n",
      "\u001b[0;31mAttributeError\u001b[0m: 'WebDriver' object has no attribute 'find_element_by_name'"
     ]
    }
   ],
   "source": [
    "search_box = driver.find_element_by_name('q')"
   ]
  },
  {
   "cell_type": "code",
   "execution_count": 49,
   "id": "04652b27",
   "metadata": {},
   "outputs": [],
   "source": [
    "search_box.send_keys('ChromeDriver')\n",
    "search_box.submit()\n",
    "time.sleep(5) # Let the user actually see something!"
   ]
  },
  {
   "cell_type": "code",
   "execution_count": 47,
   "id": "d40bf911",
   "metadata": {},
   "outputs": [],
   "source": [
    "driver.get(query_url)"
   ]
  },
  {
   "cell_type": "code",
   "execution_count": 55,
   "id": "c7f9b1e9",
   "metadata": {},
   "outputs": [],
   "source": [
    "driver.quit()"
   ]
  },
  {
   "cell_type": "markdown",
   "id": "0e15c3fa",
   "metadata": {},
   "source": [
    "# Summary of Previous Tries"
   ]
  },
  {
   "cell_type": "code",
   "execution_count": 18,
   "id": "6d34fc93",
   "metadata": {},
   "outputs": [],
   "source": [
    "from selenium import webdriver\n",
    "from selenium.webdriver.common.by import By\n",
    "from bs4 import BeautifulSoup\n",
    "\n",
    "import time"
   ]
  },
  {
   "cell_type": "code",
   "execution_count": 2,
   "id": "f2720a21",
   "metadata": {},
   "outputs": [],
   "source": [
    "# Define web driver options\n",
    "chrome_options = webdriver.ChromeOptions()\n",
    "\n",
    "# Build a Chrome webdriver, this starts a new chrome window\n",
    "driver = webdriver.Chrome(options = chrome_options)"
   ]
  },
  {
   "cell_type": "code",
   "execution_count": 3,
   "id": "9dc3794d",
   "metadata": {},
   "outputs": [],
   "source": [
    "url = \"https://shopping.google.com/\"\n",
    "driver.get(url)"
   ]
  },
  {
   "cell_type": "code",
   "execution_count": 4,
   "id": "3355bf7f",
   "metadata": {},
   "outputs": [],
   "source": [
    "search_box = driver.find_element(By.NAME, \"q\")"
   ]
  },
  {
   "cell_type": "code",
   "execution_count": 5,
   "id": "9809a7ad",
   "metadata": {},
   "outputs": [],
   "source": [
    "search_box.send_keys(\"whole chicken\")"
   ]
  },
  {
   "cell_type": "code",
   "execution_count": 6,
   "id": "6ba29370",
   "metadata": {},
   "outputs": [],
   "source": [
    "search_box.submit()"
   ]
  },
  {
   "cell_type": "code",
   "execution_count": 7,
   "id": "9fee4330",
   "metadata": {},
   "outputs": [],
   "source": [
    "driver.get(\"https://voila.ca\")"
   ]
  },
  {
   "cell_type": "code",
   "execution_count": 8,
   "id": "dbc01b47",
   "metadata": {},
   "outputs": [],
   "source": [
    "browse_menu = driver.find_element(By.ID, \"nav-menu-button\")"
   ]
  },
  {
   "cell_type": "code",
   "execution_count": 9,
   "id": "d5f74b1b",
   "metadata": {},
   "outputs": [],
   "source": [
    "browse_menu.click()"
   ]
  },
  {
   "cell_type": "code",
   "execution_count": 11,
   "id": "591a9671",
   "metadata": {},
   "outputs": [],
   "source": [
    "meat_and_seafood = driver.find_element(By.LINK_TEXT,\"Meat & Seafood\")"
   ]
  },
  {
   "cell_type": "code",
   "execution_count": 12,
   "id": "86a1d70a",
   "metadata": {},
   "outputs": [],
   "source": [
    "meat_and_seafood.click()"
   ]
  },
  {
   "cell_type": "code",
   "execution_count": 13,
   "id": "2b41dc23",
   "metadata": {},
   "outputs": [],
   "source": [
    "chicken = driver.find_element(By.LINK_TEXT, \"Chicken\")"
   ]
  },
  {
   "cell_type": "code",
   "execution_count": 14,
   "id": "5d5941dc",
   "metadata": {},
   "outputs": [],
   "source": [
    "chicken.click()"
   ]
  },
  {
   "cell_type": "code",
   "execution_count": 15,
   "id": "68675b16",
   "metadata": {},
   "outputs": [],
   "source": [
    "whole_chicken = driver.find_element(By.LINK_TEXT,\"Whole Chicken\")"
   ]
  },
  {
   "cell_type": "code",
   "execution_count": 16,
   "id": "6cb16d80",
   "metadata": {},
   "outputs": [],
   "source": [
    "whole_chicken.click()"
   ]
  },
  {
   "cell_type": "code",
   "execution_count": null,
   "id": "7abb7491",
   "metadata": {},
   "outputs": [],
   "source": [
    "# Extract the text of the response into a variable\n",
    "html = driver.page_source"
   ]
  },
  {
   "cell_type": "code",
   "execution_count": 19,
   "id": "0ede71bb",
   "metadata": {},
   "outputs": [],
   "source": [
    "# Parse the response text using Beautiful Soup\n",
    "soup = BeautifulSoup(html, 'html.parser')"
   ]
  },
  {
   "cell_type": "code",
   "execution_count": 23,
   "id": "6f82f71a",
   "metadata": {},
   "outputs": [
    {
     "data": {
      "text/plain": [
       "<div class=\"base__Body-sc-1mnb0pd-34 gRNUPx\" data-test=\"fop-body\"><h3 class=\"text__Text-sc-6l1yjp-0 iWlLMY\"><a class=\"link__Link-sc-14ymsi2-0 kXUtxJ link__Link-sc-14ymsi2-0 base__Title-sc-1mnb0pd-27 base__FixedHeightTitle-sc-1mnb0pd-43 kXUtxJ eFGEpl cCRJZx\" data-test=\"fop-product-link\" href=\"/products/218890KG/details\" tabindex=\"-1\">Compliments Whole Chicken Grade A </a></h3><div data-test=\"fop-offer\"><div class=\"base__OfferContainer-sc-1mnb0pd-39 fop__OfferContainer-sc-sgv9y1-9 gWPOHe Uumoi\"></div></div><div data-test=\"fop-size\"><div class=\"base__Size-sc-1mnb0pd-37 fop__SizeContainer-sc-sgv9y1-3 fwBToe fHyhGh\"><span class=\"text__Text-sc-6l1yjp-0 base__SizeText-sc-1mnb0pd-38 fop__SizeText-sc-sgv9y1-4 bhymDA iImbUZ jrvLpU\">1.75kg<span class=\"base__CatchWeightText-sc-1mnb0pd-40 hCkyJl\">typically</span></span><span class=\"text__Text-sc-6l1yjp-0 standard-promotion__PromotionIntentText-sc-1vpsrpe-2 fop__PricePerText-sc-sgv9y1-5 dLNLFE eMCyTR eNYENy\">($11.00 per kilogram)</span></div></div><div class=\"base__PriceWrapper-sc-1mnb0pd-28 dDLLyP\" data-test=\"fop-price-wrapper\"><strong class=\"base__Price-sc-1mnb0pd-29 sc-ksdxAp ftyPQ kWOBdd\" data-test=\"fop-price\">$19.25<span class=\"text__Text-sc-6l1yjp-0 dLNLFE\"><span class=\"base__CatchWeightText-sc-1mnb0pd-40 hCkyJl\">typically</span></span></strong></div></div>"
      ]
     },
     "execution_count": 23,
     "metadata": {},
     "output_type": "execute_result"
    }
   ],
   "source": [
    "soup.find_all(\"div\",{\"data-test\":\"fop-body\"})[0]"
   ]
  },
  {
   "cell_type": "code",
   "execution_count": 24,
   "id": "18bb3874",
   "metadata": {},
   "outputs": [
    {
     "data": {
      "text/plain": [
       "'Compliments Whole Chicken Grade A 1.75kgtypically($11.00 per kilogram)$19.25typically'"
      ]
     },
     "execution_count": 24,
     "metadata": {},
     "output_type": "execute_result"
    }
   ],
   "source": [
    "soup.find_all(\"div\",{\"data-test\":\"fop-body\"})[0].text"
   ]
  },
  {
   "cell_type": "code",
   "execution_count": 31,
   "id": "61fb9ba8",
   "metadata": {},
   "outputs": [
    {
     "name": "stdout",
     "output_type": "stream",
     "text": [
      "Compliments Whole Chicken Grade A \n",
      "Longo's Rotisserie Chicken BBQ 1 kg\n",
      "Prime Organic Whole Chicken 1.3 kg \n",
      "Mina Halal Whole Chicken 1 pieces\n",
      "Yorkshire Valley Farms Organic Whole Chicken \n",
      "Longo's Rotisserie Chicken Raised Without Antibiotics 1 kg\n"
     ]
    }
   ],
   "source": [
    "for tag in soup.find_all(\"a\",{\"data-test\":\"fop-product-link\"}):\n",
    "    print(tag.text)"
   ]
  },
  {
   "cell_type": "code",
   "execution_count": 34,
   "id": "884f800b",
   "metadata": {},
   "outputs": [
    {
     "name": "stdout",
     "output_type": "stream",
     "text": [
      "1.75kgtypically\n",
      "1kg\n",
      "1.5kgtypically\n",
      "1.7kg\n",
      "1.6kgtypically\n",
      "1kg\n"
     ]
    }
   ],
   "source": [
    "for tag in soup.find_all(\"span\",{\"class\":\"text__Text-sc-6l1yjp-0 base__SizeText-sc-1mnb0pd-38 fop__SizeText-sc-sgv9y1-4 bhymDA iImbUZ jrvLpU\"}):\n",
    "    print(tag.text)"
   ]
  },
  {
   "cell_type": "code",
   "execution_count": 35,
   "id": "24dc6829",
   "metadata": {},
   "outputs": [
    {
     "name": "stdout",
     "output_type": "stream",
     "text": [
      "($11.00 per kilogram)\n",
      "($15.99 per kilogram)\n",
      "($13.21 per kilogram)\n",
      "($0.94 per 100g)\n",
      "($15.99 per kilogram)\n",
      "($17.99 per kilogram)\n"
     ]
    }
   ],
   "source": [
    "for tag in soup.find_all(\"span\",{\"class\":\"text__Text-sc-6l1yjp-0 standard-promotion__PromotionIntentText-sc-1vpsrpe-2 fop__PricePerText-sc-sgv9y1-5 dLNLFE eMCyTR eNYENy\"}):\n",
    "    print(tag.text)"
   ]
  },
  {
   "cell_type": "code",
   "execution_count": 37,
   "id": "a49584ee",
   "metadata": {},
   "outputs": [
    {
     "name": "stdout",
     "output_type": "stream",
     "text": [
      "$19.25typically\n",
      "$15.99\n",
      "$19.82typically\n",
      "$16.00\n",
      "$25.58typically\n",
      "$17.99\n"
     ]
    }
   ],
   "source": [
    "for tag in soup.find_all(\"strong\",{\"class\":\"base__Price-sc-1mnb0pd-29 sc-ksdxAp ftyPQ kWOBdd\"}):\n",
    "    print(tag.text)"
   ]
  },
  {
   "cell_type": "code",
   "execution_count": 45,
   "id": "5ed31dea",
   "metadata": {},
   "outputs": [],
   "source": [
    "price_dict = {\n",
    "    \"item\"      : [],\n",
    "    \"weight\"    : [],\n",
    "    \"unit_cost\" : [],\n",
    "    \"cost\"      : []\n",
    "}\n",
    "\n",
    "price_dict[\"item\"]      = price_dict[\"item\"]      + [tag.text for tag in soup.find_all(\"a\",{\"data-test\":\"fop-product-link\"})]\n",
    "price_dict[\"weight\"]    = price_dict[\"weight\"]    + [tag.text for tag in soup.find_all(\"span\",{\"class\":\"text__Text-sc-6l1yjp-0 base__SizeText-sc-1mnb0pd-38 fop__SizeText-sc-sgv9y1-4 bhymDA iImbUZ jrvLpU\"})]\n",
    "price_dict[\"unit_cost\"] = price_dict[\"unit_cost\"] + [tag.text for tag in soup.find_all(\"span\",{\"class\":\"text__Text-sc-6l1yjp-0 standard-promotion__PromotionIntentText-sc-1vpsrpe-2 fop__PricePerText-sc-sgv9y1-5 dLNLFE eMCyTR eNYENy\"})]\n",
    "price_dict[\"cost\"]      = price_dict[\"cost\"]      + [tag.text for tag in soup.find_all(\"strong\",{\"class\":\"base__Price-sc-1mnb0pd-29 sc-ksdxAp ftyPQ kWOBdd\"})]"
   ]
  },
  {
   "cell_type": "code",
   "execution_count": 40,
   "id": "e19ec8a3",
   "metadata": {},
   "outputs": [],
   "source": [
    "import pandas as pd"
   ]
  },
  {
   "cell_type": "code",
   "execution_count": 47,
   "id": "aa00c32d",
   "metadata": {},
   "outputs": [
    {
     "data": {
      "text/html": [
       "<div>\n",
       "<style scoped>\n",
       "    .dataframe tbody tr th:only-of-type {\n",
       "        vertical-align: middle;\n",
       "    }\n",
       "\n",
       "    .dataframe tbody tr th {\n",
       "        vertical-align: top;\n",
       "    }\n",
       "\n",
       "    .dataframe thead th {\n",
       "        text-align: right;\n",
       "    }\n",
       "</style>\n",
       "<table border=\"1\" class=\"dataframe\">\n",
       "  <thead>\n",
       "    <tr style=\"text-align: right;\">\n",
       "      <th></th>\n",
       "      <th>item</th>\n",
       "      <th>weight</th>\n",
       "      <th>unit_cost</th>\n",
       "      <th>cost</th>\n",
       "    </tr>\n",
       "  </thead>\n",
       "  <tbody>\n",
       "    <tr>\n",
       "      <th>0</th>\n",
       "      <td>Compliments Whole Chicken Grade A</td>\n",
       "      <td>1.75kgtypically</td>\n",
       "      <td>($11.00 per kilogram)</td>\n",
       "      <td>$19.25typically</td>\n",
       "    </tr>\n",
       "    <tr>\n",
       "      <th>1</th>\n",
       "      <td>Longo's Rotisserie Chicken BBQ 1 kg</td>\n",
       "      <td>1kg</td>\n",
       "      <td>($15.99 per kilogram)</td>\n",
       "      <td>$15.99</td>\n",
       "    </tr>\n",
       "    <tr>\n",
       "      <th>2</th>\n",
       "      <td>Prime Organic Whole Chicken 1.3 kg</td>\n",
       "      <td>1.5kgtypically</td>\n",
       "      <td>($13.21 per kilogram)</td>\n",
       "      <td>$19.82typically</td>\n",
       "    </tr>\n",
       "    <tr>\n",
       "      <th>3</th>\n",
       "      <td>Mina Halal Whole Chicken 1 pieces</td>\n",
       "      <td>1.7kg</td>\n",
       "      <td>($0.94 per 100g)</td>\n",
       "      <td>$16.00</td>\n",
       "    </tr>\n",
       "    <tr>\n",
       "      <th>4</th>\n",
       "      <td>Yorkshire Valley Farms Organic Whole Chicken</td>\n",
       "      <td>1.6kgtypically</td>\n",
       "      <td>($15.99 per kilogram)</td>\n",
       "      <td>$25.58typically</td>\n",
       "    </tr>\n",
       "    <tr>\n",
       "      <th>5</th>\n",
       "      <td>Longo's Rotisserie Chicken Raised Without Anti...</td>\n",
       "      <td>1kg</td>\n",
       "      <td>($17.99 per kilogram)</td>\n",
       "      <td>$17.99</td>\n",
       "    </tr>\n",
       "  </tbody>\n",
       "</table>\n",
       "</div>"
      ],
      "text/plain": [
       "                                                item           weight  \\\n",
       "0                 Compliments Whole Chicken Grade A   1.75kgtypically   \n",
       "1                Longo's Rotisserie Chicken BBQ 1 kg              1kg   \n",
       "2                Prime Organic Whole Chicken 1.3 kg    1.5kgtypically   \n",
       "3                  Mina Halal Whole Chicken 1 pieces            1.7kg   \n",
       "4      Yorkshire Valley Farms Organic Whole Chicken    1.6kgtypically   \n",
       "5  Longo's Rotisserie Chicken Raised Without Anti...              1kg   \n",
       "\n",
       "               unit_cost             cost  \n",
       "0  ($11.00 per kilogram)  $19.25typically  \n",
       "1  ($15.99 per kilogram)           $15.99  \n",
       "2  ($13.21 per kilogram)  $19.82typically  \n",
       "3       ($0.94 per 100g)           $16.00  \n",
       "4  ($15.99 per kilogram)  $25.58typically  \n",
       "5  ($17.99 per kilogram)           $17.99  "
      ]
     },
     "execution_count": 47,
     "metadata": {},
     "output_type": "execute_result"
    }
   ],
   "source": [
    "df = pd.DataFrame(price_dict)\n",
    "df"
   ]
  },
  {
   "cell_type": "code",
   "execution_count": 48,
   "id": "eee9b0f2",
   "metadata": {},
   "outputs": [],
   "source": [
    "df.to_csv(\"../11_raw_data/20231107-1621_voila_ingredient_cost\", index = False)"
   ]
  },
  {
   "cell_type": "code",
   "execution_count": 49,
   "id": "714b7ff6",
   "metadata": {},
   "outputs": [],
   "source": [
    "driver.quit()"
   ]
  },
  {
   "cell_type": "code",
   "execution_count": null,
   "id": "0a0727a8",
   "metadata": {},
   "outputs": [],
   "source": []
  }
 ],
 "metadata": {
  "kernelspec": {
   "display_name": "Python 3 (ipykernel)",
   "language": "python",
   "name": "python3"
  },
  "language_info": {
   "codemirror_mode": {
    "name": "ipython",
    "version": 3
   },
   "file_extension": ".py",
   "mimetype": "text/x-python",
   "name": "python",
   "nbconvert_exporter": "python",
   "pygments_lexer": "ipython3",
   "version": "3.10.13"
  }
 },
 "nbformat": 4,
 "nbformat_minor": 5
}
